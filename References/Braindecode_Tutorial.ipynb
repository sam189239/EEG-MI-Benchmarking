{
  "nbformat": 4,
  "nbformat_minor": 0,
  "metadata": {
    "kernelspec": {
      "display_name": "Python 3",
      "language": "python",
      "name": "python3"
    },
    "language_info": {
      "codemirror_mode": {
        "name": "ipython",
        "version": 3
      },
      "file_extension": ".py",
      "mimetype": "text/x-python",
      "name": "python",
      "nbconvert_exporter": "python",
      "pygments_lexer": "ipython3",
      "version": "3.7.5"
    },
    "colab": {
      "provenance": []
    },
    "accelerator": "GPU"
  },
  "cells": [
    {
      "cell_type": "markdown",
      "metadata": {
        "id": "99KEPjvwyChx"
      },
      "source": [
        "Follow along at https://tinyurl.com/BraindecodeBCI101"
      ]
    },
    {
      "cell_type": "code",
      "metadata": {
        "id": "-xHYW47ntt68"
      },
      "source": [
        "! pip install --upgrade braindecode\n",
        "! git clone https://github.com/NeuroTechX/moabb.git\n",
        "! pip install -r moabb/requirements.txt\n",
        "! pip install moabb/\n",
        "! rm -r moabb/"
      ],
      "execution_count": null,
      "outputs": []
    },
    {
      "cell_type": "markdown",
      "metadata": {
        "id": "aG5M-vdEtOWN"
      },
      "source": [
        "# Braindecode Tutorial"
      ]
    },
    {
      "cell_type": "markdown",
      "metadata": {
        "id": "J2rk9mU9yNQJ"
      },
      "source": [
        "Main documentation at https://braindecode.org"
      ]
    },
    {
      "cell_type": "markdown",
      "metadata": {
        "id": "9Dv4Yd7dtOWS"
      },
      "source": [
        "## Loading and preprocessing the dataset"
      ]
    },
    {
      "cell_type": "markdown",
      "metadata": {
        "id": "VZ7Y6B7ctOWa"
      },
      "source": [
        "### Loading"
      ]
    },
    {
      "cell_type": "markdown",
      "metadata": {
        "id": "ki3KN-MRtOWd"
      },
      "source": [
        "First, we load the data. In this tutorial, we use the functionality of braindecode to load datasets through [MOABB](https://github.com/NeuroTechX/moabb) to load the BCI Competition IV 2a data.\n",
        "\n",
        "\n",
        "> **Note:** To load your own datasets either via mne or from preprocessed X/y numpy arrays, see [MNE Dataset Tutorial](./https://braindecode.org/auto_examples/plot_mne_dataset_example.html) and [Numpy Dataset Tutorial](https://braindecode.org/auto_examples/plot_custom_dataset_example.html).\n",
        "    "
      ]
    },
    {
      "cell_type": "code",
      "metadata": {
        "id": "NDkpht8DtOWh",
        "colab": {
          "base_uri": "https://localhost:8080/",
          "height": 454
        },
        "outputId": "172c03ba-8f94-4cb5-b2b7-b17f534c11fe"
      },
      "source": [
        "from braindecode.datasets.moabb import MOABBDataset\n",
        "import mne\n",
        "mne.set_log_level('error')\n",
        "\n",
        "subject_id = 3 # a nice subject! :)\n",
        "dataset = MOABBDataset(dataset_name=\"BNCI2014001\", subject_ids=[subject_id])"
      ],
      "execution_count": null,
      "outputs": [
        {
          "output_type": "stream",
          "text": [
            "/usr/local/lib/python3.6/dist-packages/moabb/datasets/bnci.py:535: DeprecationWarning: Passing montage to create_info is deprecated and will be removed in 0.21, use raw.set_montage (or epochs.set_montage, etc.) instead\n",
            "  ch_names=ch_names, ch_types=ch_types, sfreq=sfreq, montage=montage)\n",
            "/usr/local/lib/python3.6/dist-packages/moabb/datasets/bnci.py:535: DeprecationWarning: Passing montage to create_info is deprecated and will be removed in 0.21, use raw.set_montage (or epochs.set_montage, etc.) instead\n",
            "  ch_names=ch_names, ch_types=ch_types, sfreq=sfreq, montage=montage)\n",
            "/usr/local/lib/python3.6/dist-packages/moabb/datasets/bnci.py:535: DeprecationWarning: Passing montage to create_info is deprecated and will be removed in 0.21, use raw.set_montage (or epochs.set_montage, etc.) instead\n",
            "  ch_names=ch_names, ch_types=ch_types, sfreq=sfreq, montage=montage)\n",
            "/usr/local/lib/python3.6/dist-packages/moabb/datasets/bnci.py:535: DeprecationWarning: Passing montage to create_info is deprecated and will be removed in 0.21, use raw.set_montage (or epochs.set_montage, etc.) instead\n",
            "  ch_names=ch_names, ch_types=ch_types, sfreq=sfreq, montage=montage)\n",
            "/usr/local/lib/python3.6/dist-packages/moabb/datasets/bnci.py:535: DeprecationWarning: Passing montage to create_info is deprecated and will be removed in 0.21, use raw.set_montage (or epochs.set_montage, etc.) instead\n",
            "  ch_names=ch_names, ch_types=ch_types, sfreq=sfreq, montage=montage)\n",
            "/usr/local/lib/python3.6/dist-packages/moabb/datasets/bnci.py:535: DeprecationWarning: Passing montage to create_info is deprecated and will be removed in 0.21, use raw.set_montage (or epochs.set_montage, etc.) instead\n",
            "  ch_names=ch_names, ch_types=ch_types, sfreq=sfreq, montage=montage)\n",
            "/usr/local/lib/python3.6/dist-packages/moabb/datasets/bnci.py:535: DeprecationWarning: Passing montage to create_info is deprecated and will be removed in 0.21, use raw.set_montage (or epochs.set_montage, etc.) instead\n",
            "  ch_names=ch_names, ch_types=ch_types, sfreq=sfreq, montage=montage)\n",
            "/usr/local/lib/python3.6/dist-packages/moabb/datasets/bnci.py:535: DeprecationWarning: Passing montage to create_info is deprecated and will be removed in 0.21, use raw.set_montage (or epochs.set_montage, etc.) instead\n",
            "  ch_names=ch_names, ch_types=ch_types, sfreq=sfreq, montage=montage)\n",
            "/usr/local/lib/python3.6/dist-packages/moabb/datasets/bnci.py:535: DeprecationWarning: Passing montage to create_info is deprecated and will be removed in 0.21, use raw.set_montage (or epochs.set_montage, etc.) instead\n",
            "  ch_names=ch_names, ch_types=ch_types, sfreq=sfreq, montage=montage)\n",
            "/usr/local/lib/python3.6/dist-packages/moabb/datasets/bnci.py:535: DeprecationWarning: Passing montage to create_info is deprecated and will be removed in 0.21, use raw.set_montage (or epochs.set_montage, etc.) instead\n",
            "  ch_names=ch_names, ch_types=ch_types, sfreq=sfreq, montage=montage)\n",
            "/usr/local/lib/python3.6/dist-packages/moabb/datasets/bnci.py:535: DeprecationWarning: Passing montage to create_info is deprecated and will be removed in 0.21, use raw.set_montage (or epochs.set_montage, etc.) instead\n",
            "  ch_names=ch_names, ch_types=ch_types, sfreq=sfreq, montage=montage)\n",
            "/usr/local/lib/python3.6/dist-packages/moabb/datasets/bnci.py:535: DeprecationWarning: Passing montage to create_info is deprecated and will be removed in 0.21, use raw.set_montage (or epochs.set_montage, etc.) instead\n",
            "  ch_names=ch_names, ch_types=ch_types, sfreq=sfreq, montage=montage)\n"
          ],
          "name": "stderr"
        }
      ]
    },
    {
      "cell_type": "code",
      "metadata": {
        "id": "ek_mLVTAGrpE",
        "colab": {
          "base_uri": "https://localhost:8080/",
          "height": 426
        },
        "outputId": "186cbc68-f0ae-4981-81b6-d8f0007a8b05"
      },
      "source": [
        "dataset.description"
      ],
      "execution_count": null,
      "outputs": [
        {
          "output_type": "execute_result",
          "data": {
            "text/html": [
              "<div>\n",
              "<style scoped>\n",
              "    .dataframe tbody tr th:only-of-type {\n",
              "        vertical-align: middle;\n",
              "    }\n",
              "\n",
              "    .dataframe tbody tr th {\n",
              "        vertical-align: top;\n",
              "    }\n",
              "\n",
              "    .dataframe thead th {\n",
              "        text-align: right;\n",
              "    }\n",
              "</style>\n",
              "<table border=\"1\" class=\"dataframe\">\n",
              "  <thead>\n",
              "    <tr style=\"text-align: right;\">\n",
              "      <th></th>\n",
              "      <th>subject</th>\n",
              "      <th>session</th>\n",
              "      <th>run</th>\n",
              "    </tr>\n",
              "  </thead>\n",
              "  <tbody>\n",
              "    <tr>\n",
              "      <th>0</th>\n",
              "      <td>3</td>\n",
              "      <td>session_T</td>\n",
              "      <td>run_0</td>\n",
              "    </tr>\n",
              "    <tr>\n",
              "      <th>1</th>\n",
              "      <td>3</td>\n",
              "      <td>session_T</td>\n",
              "      <td>run_1</td>\n",
              "    </tr>\n",
              "    <tr>\n",
              "      <th>2</th>\n",
              "      <td>3</td>\n",
              "      <td>session_T</td>\n",
              "      <td>run_2</td>\n",
              "    </tr>\n",
              "    <tr>\n",
              "      <th>3</th>\n",
              "      <td>3</td>\n",
              "      <td>session_T</td>\n",
              "      <td>run_3</td>\n",
              "    </tr>\n",
              "    <tr>\n",
              "      <th>4</th>\n",
              "      <td>3</td>\n",
              "      <td>session_T</td>\n",
              "      <td>run_4</td>\n",
              "    </tr>\n",
              "    <tr>\n",
              "      <th>5</th>\n",
              "      <td>3</td>\n",
              "      <td>session_T</td>\n",
              "      <td>run_5</td>\n",
              "    </tr>\n",
              "    <tr>\n",
              "      <th>6</th>\n",
              "      <td>3</td>\n",
              "      <td>session_E</td>\n",
              "      <td>run_0</td>\n",
              "    </tr>\n",
              "    <tr>\n",
              "      <th>7</th>\n",
              "      <td>3</td>\n",
              "      <td>session_E</td>\n",
              "      <td>run_1</td>\n",
              "    </tr>\n",
              "    <tr>\n",
              "      <th>8</th>\n",
              "      <td>3</td>\n",
              "      <td>session_E</td>\n",
              "      <td>run_2</td>\n",
              "    </tr>\n",
              "    <tr>\n",
              "      <th>9</th>\n",
              "      <td>3</td>\n",
              "      <td>session_E</td>\n",
              "      <td>run_3</td>\n",
              "    </tr>\n",
              "    <tr>\n",
              "      <th>10</th>\n",
              "      <td>3</td>\n",
              "      <td>session_E</td>\n",
              "      <td>run_4</td>\n",
              "    </tr>\n",
              "    <tr>\n",
              "      <th>11</th>\n",
              "      <td>3</td>\n",
              "      <td>session_E</td>\n",
              "      <td>run_5</td>\n",
              "    </tr>\n",
              "  </tbody>\n",
              "</table>\n",
              "</div>"
            ],
            "text/plain": [
              "    subject    session    run\n",
              "0         3  session_T  run_0\n",
              "1         3  session_T  run_1\n",
              "2         3  session_T  run_2\n",
              "3         3  session_T  run_3\n",
              "4         3  session_T  run_4\n",
              "5         3  session_T  run_5\n",
              "6         3  session_E  run_0\n",
              "7         3  session_E  run_1\n",
              "8         3  session_E  run_2\n",
              "9         3  session_E  run_3\n",
              "10        3  session_E  run_4\n",
              "11        3  session_E  run_5"
            ]
          },
          "metadata": {
            "tags": []
          },
          "execution_count": 56
        }
      ]
    },
    {
      "cell_type": "markdown",
      "metadata": {
        "id": "URkMMzc6tOW1"
      },
      "source": [
        "### Preprocessing"
      ]
    },
    {
      "cell_type": "markdown",
      "metadata": {
        "id": "xnXMrxEttOW3"
      },
      "source": [
        "Now we apply preprocessing like bandpass filtering to our dataset.\n",
        "You can either apply functions provided by [mne.Raw](https://mne.tools/stable/generated/mne.io.Raw.html) or [mne.Epochs](https://mne.tools/0.11/generated/mne.Epochs.html#mne.Epochs) or apply your own functions, either to the MNE object or the underlying numpy array.\n",
        "\n",
        "> **Note:** These prepocessings are now directly applied to the loaded data, and not on-the-fly applied as transformations in PyTorch-libraries like [torchvision](https://pytorch.org/docs/stable/torchvision/index.html).\n"
      ]
    },
    {
      "cell_type": "code",
      "metadata": {
        "id": "YmHnPWmLtOW5"
      },
      "source": [
        "from braindecode.datautil.preprocess import exponential_moving_standardize\n",
        "from braindecode.datautil.preprocess import MNEPreproc, NumpyPreproc, preprocess\n",
        "\n",
        "low_cut_hz = 4.  # low cut frequency for filtering\n",
        "high_cut_hz = 38.  # high cut frequency for filtering\n",
        "# Parameters for exponential moving standardization\n",
        "factor_new = 1e-3\n",
        "init_block_size = 1000\n",
        "\n",
        "preprocessors = [\n",
        "    # keep only EEG sensors\n",
        "    MNEPreproc(fn='pick_types', eeg=True, meg=False, stim=False),\n",
        "    # convert from volt to microvolt, directly modifying the numpy array\n",
        "    NumpyPreproc(fn=lambda x: x * 1e6),\n",
        "    # bandpass filter\n",
        "    MNEPreproc(fn='filter', l_freq=low_cut_hz, h_freq=high_cut_hz),\n",
        "    # exponential moving standardization\n",
        "    NumpyPreproc(fn=exponential_moving_standardize, factor_new=factor_new,\n",
        "        init_block_size=init_block_size)\n",
        "]\n",
        "\n",
        "# Preprocess the data\n",
        "preprocess(dataset, preprocessors)"
      ],
      "execution_count": null,
      "outputs": []
    },
    {
      "cell_type": "markdown",
      "metadata": {
        "id": "yKtUAboCtOXF"
      },
      "source": [
        "### Cut Compute Windows"
      ]
    },
    {
      "cell_type": "markdown",
      "metadata": {
        "id": "3Rb6lnXPtOXG"
      },
      "source": [
        "Now we cut out compute windows, the inputs for the deep networks during training. In the case of trialwise decoding, we just have to decide if we want to cut out some part before and/or after the trial. For this dataset, in our work, it often was beneficial to also cut out 500 ms before the trial."
      ]
    },
    {
      "cell_type": "code",
      "metadata": {
        "id": "YsmLJrSZtOXI"
      },
      "source": [
        "import numpy as np\n",
        "from braindecode.datautil.windowers import create_windows_from_events\n",
        "\n",
        "trial_start_offset_seconds = -0.5\n",
        "# Extract sampling frequency, check that they are same in all datasets\n",
        "sfreq = dataset.datasets[0].raw.info['sfreq']\n",
        "assert all([ds.raw.info['sfreq'] == sfreq for ds in dataset.datasets])\n",
        "# Calculate the trial start offset in samples.\n",
        "trial_start_offset_samples = int(trial_start_offset_seconds * sfreq)\n",
        "\n",
        "# Create windows using braindecode function for this. It needs parameters to define how\n",
        "# trials should be used.\n",
        "windows_dataset = create_windows_from_events(\n",
        "    dataset,\n",
        "    trial_start_offset_samples=trial_start_offset_samples,\n",
        "    trial_stop_offset_samples=0,\n",
        "    preload=True,\n",
        ")"
      ],
      "execution_count": null,
      "outputs": []
    },
    {
      "cell_type": "markdown",
      "metadata": {
        "id": "rN8QIL2qtOXT"
      },
      "source": [
        "### Split dataset into train and valid"
      ]
    },
    {
      "cell_type": "markdown",
      "metadata": {
        "id": "A3wvlNIitOXW"
      },
      "source": [
        "We can easily split the dataset using additional info stored in the description attribute, in this case `session` column. We select `session_T` for training and `session_E` for validation."
      ]
    },
    {
      "cell_type": "code",
      "metadata": {
        "id": "2SHcJtegtOXY"
      },
      "source": [
        "splitted = windows_dataset.split('session')\n",
        "train_set = splitted['session_T']\n",
        "valid_set = splitted['session_E']"
      ],
      "execution_count": null,
      "outputs": []
    },
    {
      "cell_type": "markdown",
      "metadata": {
        "id": "DwVAcjv_tOXi"
      },
      "source": [
        "## Create model"
      ]
    },
    {
      "cell_type": "markdown",
      "metadata": {
        "id": "UCnRAV9BtOXk"
      },
      "source": [
        "Now we create the deep learning model! Braindecode comes with some predefined convolutional neural network architectures for\n",
        "raw time-domain EEG. Here, we use the shallow ConvNet model from\n",
        "[Deep learning with convolutional neural networks for EEG decoding and visualization](https://arxiv.org/abs/1703.05051).\n",
        "These models are pure [PyTorch](https://pytorch.org) deep learning models, therefore to use your own model, it just has to be a normal PyTorch [nn.Module](https://pytorch.org/docs/stable/nn.html#torch.nn.Module)."
      ]
    },
    {
      "cell_type": "code",
      "metadata": {
        "id": "cnczDeYEtOXn"
      },
      "source": [
        "import torch\n",
        "from braindecode.util import set_random_seeds\n",
        "from braindecode.models import ShallowFBCSPNet\n",
        "\n",
        "cuda = torch.cuda.is_available()  # check if GPU is available, if True chooses to use it\n",
        "device = 'cuda' if cuda else 'cpu'\n",
        "if cuda:\n",
        "    torch.backends.cudnn.benchmark = True\n",
        "seed = 20200220  # random seed to make results reproducible\n",
        "# Set random seed to be able to reproduce results\n",
        "set_random_seeds(seed=seed, cuda=cuda)\n",
        "\n",
        "n_classes=4\n",
        "# Extract number of chans and time steps from dataset\n",
        "n_chans = train_set[0][0].shape[0]\n",
        "input_window_samples = train_set[0][0].shape[1]\n",
        "\n",
        "model = ShallowFBCSPNet(\n",
        "    n_chans,\n",
        "    n_classes,\n",
        "    input_window_samples=input_window_samples,\n",
        "    final_conv_length='auto',\n",
        ")\n",
        "\n",
        "# Send model to GPU\n",
        "if cuda:\n",
        "    model.cuda()\n",
        ""
      ],
      "execution_count": null,
      "outputs": []
    },
    {
      "cell_type": "markdown",
      "metadata": {
        "id": "WYiTkzHvtOXx"
      },
      "source": [
        "## Training"
      ]
    },
    {
      "cell_type": "markdown",
      "metadata": {
        "id": "kZ6lYsfAtOXz"
      },
      "source": [
        "Now we train the network! EEGClassifier is a Braindecode object responsible for managing the training of neural networks. It inherits from skorch.NeuralNetClassifier, so the training logic is the same as in [Skorch](https://skorch.readthedocs.io/en/stable/)."
      ]
    },
    {
      "cell_type": "markdown",
      "metadata": {
        "id": "d6NL67DttOX0"
      },
      "source": [
        "> **Note**: In this tutorial, we use some default parameters that we have found to work well for\n",
        "motor decoding, however we strongly encourage you to perform your own hyperparameter\n",
        "optimization using cross validation on your training data."
      ]
    },
    {
      "cell_type": "code",
      "metadata": {
        "id": "7sF-ACXVtOX1",
        "colab": {
          "base_uri": "https://localhost:8080/",
          "height": 732
        },
        "outputId": "51011afa-8596-493c-9622-ffdd6bb97c4b"
      },
      "source": [
        "from skorch.callbacks import LRScheduler\n",
        "from skorch.helper import predefined_split\n",
        "\n",
        "from braindecode import EEGClassifier\n",
        "\n",
        "# These values we found good for shallow network:\n",
        "lr = 0.0625 * 0.01\n",
        "weight_decay = 0\n",
        "\n",
        "# For deep4 they should be:\n",
        "# lr = 1 * 0.01\n",
        "# weight_decay = 0.5 * 0.001\n",
        "\n",
        "batch_size = 64\n",
        "n_epochs = 20\n",
        "\n",
        "clf = EEGClassifier(\n",
        "    model,\n",
        "    criterion=torch.nn.NLLLoss,\n",
        "    optimizer=torch.optim.AdamW,\n",
        "    train_split=predefined_split(valid_set),  # using valid_set for validation\n",
        "    optimizer__lr=lr,\n",
        "    optimizer__weight_decay=weight_decay,\n",
        "    batch_size=batch_size,\n",
        "    callbacks=[\n",
        "        \"accuracy\", (\"lr_scheduler\", LRScheduler('CosineAnnealingLR', T_max=n_epochs - 1)),\n",
        "    ],\n",
        "    device=device,\n",
        ")\n",
        "# Model training for a specified number of epochs. `y` is None as it is already supplied\n",
        "# in the dataset.\n",
        "clf.fit(train_set, y=None, epochs=n_epochs)"
      ],
      "execution_count": null,
      "outputs": [
        {
          "output_type": "stream",
          "text": [
            "  epoch    train_accuracy    train_loss    valid_accuracy    valid_loss     dur\n",
            "-------  ----------------  ------------  ----------------  ------------  ------\n",
            "      1            \u001b[36m0.2500\u001b[0m        \u001b[32m1.5483\u001b[0m            \u001b[35m0.2500\u001b[0m        \u001b[31m5.2601\u001b[0m  0.5866\n"
          ],
          "name": "stdout"
        },
        {
          "output_type": "stream",
          "text": [
            "/usr/local/lib/python3.6/dist-packages/torch/optim/lr_scheduler.py:143: UserWarning: The epoch parameter in `scheduler.step()` was not necessary and is being deprecated where possible. Please use `scheduler.step()` to step the scheduler. During the deprecation, if epoch is different from None, the closed form is used instead of the new chainable form, where available. Please open an issue if you are unable to replicate your use case: https://github.com/pytorch/pytorch/issues/new/choose.\n",
            "  warnings.warn(EPOCH_DEPRECATION_WARNING, UserWarning)\n"
          ],
          "name": "stderr"
        },
        {
          "output_type": "stream",
          "text": [
            "      2            \u001b[36m0.2535\u001b[0m        \u001b[32m1.2037\u001b[0m            0.2500        6.2566  0.4889\n",
            "      3            \u001b[36m0.3958\u001b[0m        \u001b[32m1.0756\u001b[0m            \u001b[35m0.3056\u001b[0m        \u001b[31m5.0062\u001b[0m  0.5002\n",
            "      4            \u001b[36m0.4410\u001b[0m        \u001b[32m0.9065\u001b[0m            0.3021        \u001b[31m3.8623\u001b[0m  0.4915\n",
            "      5            0.4340        \u001b[32m0.8236\u001b[0m            \u001b[35m0.3333\u001b[0m        \u001b[31m2.9098\u001b[0m  0.4929\n",
            "      6            \u001b[36m0.4861\u001b[0m        \u001b[32m0.7406\u001b[0m            \u001b[35m0.3611\u001b[0m        \u001b[31m2.0443\u001b[0m  0.5014\n",
            "      7            \u001b[36m0.5729\u001b[0m        \u001b[32m0.6800\u001b[0m            \u001b[35m0.4688\u001b[0m        \u001b[31m1.4845\u001b[0m  0.5046\n",
            "      8            \u001b[36m0.7361\u001b[0m        \u001b[32m0.6200\u001b[0m            \u001b[35m0.5139\u001b[0m        \u001b[31m1.1693\u001b[0m  0.5027\n",
            "      9            \u001b[36m0.7917\u001b[0m        \u001b[32m0.5438\u001b[0m            \u001b[35m0.5625\u001b[0m        \u001b[31m1.0348\u001b[0m  0.5039\n",
            "     10            \u001b[36m0.8611\u001b[0m        0.5470            \u001b[35m0.5938\u001b[0m        \u001b[31m0.9356\u001b[0m  0.4926\n",
            "     11            \u001b[36m0.8889\u001b[0m        \u001b[32m0.4819\u001b[0m            \u001b[35m0.6181\u001b[0m        \u001b[31m0.9077\u001b[0m  0.4955\n",
            "     12            \u001b[36m0.9132\u001b[0m        \u001b[32m0.4309\u001b[0m            0.6146        0.9152  0.5070\n",
            "     13            \u001b[36m0.9167\u001b[0m        \u001b[32m0.4133\u001b[0m            0.6181        \u001b[31m0.8936\u001b[0m  0.5000\n",
            "     14            \u001b[36m0.9375\u001b[0m        0.4162            0.6042        \u001b[31m0.8700\u001b[0m  0.4955\n",
            "     15            \u001b[36m0.9410\u001b[0m        \u001b[32m0.3579\u001b[0m            0.6181        \u001b[31m0.8660\u001b[0m  0.4974\n",
            "     16            \u001b[36m0.9444\u001b[0m        0.4080            0.6111        \u001b[31m0.8620\u001b[0m  0.4953\n",
            "     17            0.9444        0.3962            0.6146        \u001b[31m0.8610\u001b[0m  0.5013\n",
            "     18            \u001b[36m0.9514\u001b[0m        \u001b[32m0.3556\u001b[0m            0.6181        \u001b[31m0.8606\u001b[0m  0.4926\n",
            "     19            \u001b[36m0.9549\u001b[0m        0.3952            0.6146        \u001b[31m0.8595\u001b[0m  0.5106\n",
            "     20            0.9549        0.3654            0.6181        0.8600  0.4978\n"
          ],
          "name": "stdout"
        },
        {
          "output_type": "execute_result",
          "data": {
            "text/plain": [
              "<class 'braindecode.classifier.EEGClassifier'>[initialized](\n",
              "  module_=ShallowFBCSPNet(\n",
              "    (ensuredims): Ensure4d()\n",
              "    (dimshuffle): Expression(expression=transpose_time_to_spat) \n",
              "    (conv_time): Conv2d(1, 40, kernel_size=(25, 1), stride=(1, 1))\n",
              "    (conv_spat): Conv2d(40, 40, kernel_size=(1, 22), stride=(1, 1), bias=False)\n",
              "    (bnorm): BatchNorm2d(40, eps=1e-05, momentum=0.1, affine=True, track_running_stats=True)\n",
              "    (conv_nonlin_exp): Expression(expression=square) \n",
              "    (pool): AvgPool2d(kernel_size=(75, 1), stride=(15, 1), padding=0)\n",
              "    (pool_nonlin_exp): Expression(expression=safe_log) \n",
              "    (drop): Dropout(p=0.5, inplace=False)\n",
              "    (conv_classifier): Conv2d(40, 4, kernel_size=(69, 1), stride=(1, 1))\n",
              "    (softmax): LogSoftmax()\n",
              "    (squeeze): Expression(expression=squeeze_final_output) \n",
              "  ),\n",
              ")"
            ]
          },
          "metadata": {
            "tags": []
          },
          "execution_count": 59
        }
      ]
    },
    {
      "cell_type": "markdown",
      "metadata": {
        "id": "f0RB8R2gtOYA"
      },
      "source": [
        "## Plot Results"
      ]
    },
    {
      "cell_type": "markdown",
      "metadata": {
        "id": "1Uax9K6ZtOYB"
      },
      "source": [
        "Now we use the history stored by Skorch throughout training to plot accuracy and loss curves."
      ]
    },
    {
      "cell_type": "code",
      "metadata": {
        "id": "TLEB7jiwtOYD",
        "colab": {
          "base_uri": "https://localhost:8080/",
          "height": 227
        },
        "outputId": "918b25a3-274b-4a12-81ec-fbbc423830bd"
      },
      "source": [
        "import matplotlib.pyplot as plt\n",
        "from matplotlib.lines import Line2D\n",
        "import pandas as pd\n",
        "# Extract loss and accuracy values for plotting from history object\n",
        "results_columns = ['train_loss', 'valid_loss', 'train_accuracy', 'valid_accuracy']\n",
        "df = pd.DataFrame(clf.history[:, results_columns], columns=results_columns,\n",
        "                  index=clf.history[:, 'epoch'])\n",
        "\n",
        "# get percent of misclass for better visual comparison to loss\n",
        "df = df.assign(train_misclass=100 - 100 * df.train_accuracy,\n",
        "               valid_misclass=100 - 100 * df.valid_accuracy)\n",
        "\n",
        "plt.style.use('seaborn')\n",
        "fig, ax1 = plt.subplots(figsize=(8, 3))\n",
        "df.loc[:, ['train_loss', 'valid_loss']].plot(\n",
        "    ax=ax1, style=['-', ':'], marker='o', color='tab:blue', legend=False, fontsize=14)\n",
        "\n",
        "ax1.tick_params(axis='y', labelcolor='tab:blue', labelsize=14)\n",
        "ax1.set_ylabel(\"Loss\", color='tab:blue', fontsize=14)\n",
        "\n",
        "ax2 = ax1.twinx()  # instantiate a second axes that shares the same x-axis\n",
        "\n",
        "df.loc[:, ['train_misclass', 'valid_misclass']].plot(\n",
        "    ax=ax2, style=['-', ':'], marker='o', color='tab:red', legend=False)\n",
        "ax2.tick_params(axis='y', labelcolor='tab:red', labelsize=14)\n",
        "ax2.set_ylabel(\"Misclassification Rate [%]\", color='tab:red', fontsize=14)\n",
        "ax2.set_ylim(ax2.get_ylim()[0], 85)  # make some room for legend\n",
        "ax1.set_xlabel(\"Epoch\", fontsize=14)\n",
        "\n",
        "# where some data has already been plotted to ax\n",
        "handles = []\n",
        "handles.append(Line2D([0], [0], color='black', linewidth=1, linestyle='-', label='Train'))\n",
        "handles.append(Line2D([0], [0], color='black', linewidth=1, linestyle=':', label='Valid'))\n",
        "plt.legend(handles, [h.get_label() for h in handles], fontsize=14)\n",
        "plt.tight_layout()"
      ],
      "execution_count": null,
      "outputs": [
        {
          "output_type": "display_data",
          "data": {
            "image/png": "[encoded data removed]",
            "text/plain": [
              "<Figure size 576x216 with 2 Axes>"
            ]
          },
          "metadata": {
            "tags": []
          }
        }
      ]
    },
    {
      "cell_type": "markdown",
      "metadata": {
        "id": "AxOUHXRStOYM"
      },
      "source": [
        "## Visualization with Amplitude Gradients"
      ]
    },
    {
      "cell_type": "markdown",
      "metadata": {
        "id": "hsY46WcwtOYP"
      },
      "source": [
        "We now can try to understand the network a little bit better by computing gradients of the network class predictions on the per-frequency amplitudes of the input."
      ]
    },
    {
      "cell_type": "code",
      "metadata": {
        "id": "HQIndQWitOYS",
        "colab": {
          "base_uri": "https://localhost:8080/",
          "height": 236
        },
        "outputId": "890e2794-50ce-4780-b37a-aa4fb30e98ca"
      },
      "source": [
        "from braindecode.visualization.gradients import compute_amplitude_gradients\n",
        "\n",
        "amp_grads_per_filter = compute_amplitude_gradients(model, train_set, batch_size=64)\n",
        "\n",
        "plt.figure(figsize=(12,3))\n",
        "plt.plot(np.fft.rfftfreq(train_set[0][0].shape[1], 1/250.0), np.mean(np.abs(amp_grads_per_filter), axis=(0, 1,2)));\n",
        "plt.xlabel('Frequency [Hz]')\n",
        "plt.ylabel('Mean Absolute Gradient');"
      ],
      "execution_count": null,
      "outputs": [
        {
          "output_type": "display_data",
          "data": {
            "image/png": "[encoded data removed]",
            "text/plain": [
              "<Figure size 864x216 with 1 Axes>"
            ]
          },
          "metadata": {
            "tags": []
          }
        }
      ]
    },
    {
      "cell_type": "markdown",
      "metadata": {
        "id": "z7SHxkI5tOYc"
      },
      "source": [
        "We can investigate the alpha band a bit more deeply."
      ]
    },
    {
      "cell_type": "code",
      "metadata": {
        "id": "xFrU2RqYtOYe",
        "colab": {
          "base_uri": "https://localhost:8080/",
          "height": 205
        },
        "outputId": "05978c61-ab74-43f4-8c58-7d7c6485f30c"
      },
      "source": [
        "sfreq = train_set.datasets[0].windows.info['sfreq']\n",
        "freqs = np.fft.rfftfreq(train_set[0][0].shape[1], d=1.0/sfreq)\n",
        "start_freq = 7\n",
        "stop_freq = 14\n",
        "i_start = np.searchsorted(freqs,start_freq)\n",
        "i_stop = np.searchsorted(freqs, stop_freq) + 1\n",
        "\n",
        "\n",
        "freq_corr = np.mean(np.mean(amp_grads_per_filter, axis=1)[:,:,i_start:i_stop], axis=2)\n",
        "\n",
        "import matplotlib.pyplot as plt\n",
        "from matplotlib import cm\n",
        "%matplotlib inline\n",
        "max_abs_val = np.max(np.abs(freq_corr))\n",
        "\n",
        "class_to_id = windows_dataset.datasets[0].windows.event_id\n",
        "\n",
        "fig, axes = plt.subplots(1, len(class_to_id), figsize=(14,4))\n",
        "for class_name, i_class in class_to_id.items():\n",
        "    ax = axes[i_class]\n",
        "    mne.viz.plot_topomap(freq_corr[i_class], train_set.datasets[0].windows.info,\n",
        "             vmin=-max_abs_val, vmax=max_abs_val, contours=0,\n",
        "            cmap=cm.coolwarm, show=False, extrapolate='local',\n",
        "                        axes=ax);\n",
        "    ax.set_title(class_name.replace('_', ' '))"
      ],
      "execution_count": null,
      "outputs": [
        {
          "output_type": "display_data",
          "data": {
            "image/png": "[encoded data removed]",
            "text/plain": [
              "<Figure size 1008x288 with 4 Axes>"
            ]
          },
          "metadata": {
            "tags": []
          }
        }
      ]
    },
    {
      "cell_type": "markdown",
      "metadata": {
        "id": "_hGNH7gqtOYo"
      },
      "source": [
        "## Cropped Decoding"
      ]
    },
    {
      "cell_type": "markdown",
      "metadata": {
        "id": "Ldgq451HtOYt"
      },
      "source": [
        "Now, we do more data-efficient cropped decoding!"
      ]
    },
    {
      "cell_type": "markdown",
      "metadata": {
        "id": "ejqWTEL_tOYu"
      },
      "source": [
        "In Braindecode, there are two supported configurations created for training models: trialwise decoding and cropped\n",
        "decoding. We will explain this visually by comparing trialwise to cropped decoding.\n",
        "\n",
        "![](https://braindecode.org/_images/trialwise_explanation.png)\n",
        "![](https://braindecode.org/_images/cropped_explanation.png)\n",
        "\n",
        "\n",
        "On the left, you see trialwise decoding:\n",
        "\n",
        "1. A complete trial is pushed through the network.\n",
        "2. The network produces a prediction.\n",
        "3. The prediction is compared to the target (label) for that trial to compute the loss.\n",
        "\n",
        "On the right, you see cropped decoding:\n",
        "\n",
        "1. Instead of a complete trial, crops are pushed through the network.\n",
        "2. For computational efficiency, multiple neighbouring crops are pushed through the network simultaneously (these\n",
        "   neighbouring crops are called compute windows)\n",
        "3. Therefore, the network produces multiple predictions (one per crop in the window)\n",
        "4. The individual crop predictions are averaged before computing the loss function"
      ]
    },
    {
      "cell_type": "markdown",
      "metadata": {
        "id": "Rxdv3V-0tOYu"
      },
      "source": [
        "## Create model and compute windowing parameters"
      ]
    },
    {
      "cell_type": "markdown",
      "metadata": {
        "id": "daA_L0AvtOYw"
      },
      "source": [
        "We will use the deep4 model this time!"
      ]
    },
    {
      "cell_type": "markdown",
      "metadata": {
        "id": "06H2xx3JtOYx"
      },
      "source": [
        "In contrast to trialwise computing, we first have to create the model before we can cut the dataset into windows. This is because we need to know the receptive field of the network to know how large the window stride should be."
      ]
    },
    {
      "cell_type": "markdown",
      "metadata": {
        "id": "v1UQ_wqytOYz"
      },
      "source": [
        "We first choose the compute/input window size\n",
        "that will be fed to the network during training\n",
        "This has to be larger than the networks receptive field size\n",
        "and can otherwise be chosen for computational efficiency (see explanations in the beginning of this tutorial). Here we choose 1000 samples, which are 4 seconds."
      ]
    },
    {
      "cell_type": "code",
      "metadata": {
        "id": "Rdvn57hetOY1"
      },
      "source": [
        "input_window_samples = 1000"
      ],
      "execution_count": null,
      "outputs": []
    },
    {
      "cell_type": "markdown",
      "metadata": {
        "id": "6HupeOFRtOY-"
      },
      "source": [
        "Now we create the model. To enable it to be used in cropped decoding efficiently, we manually set the length of the final convolution layer to some length that makes the receptive field of the ConvNet smaller than `input_window_samples` (see `final_conv_length=30` in the model definition)."
      ]
    },
    {
      "cell_type": "code",
      "metadata": {
        "id": "v4cHGz1FtOZA"
      },
      "source": [
        "import torch\n",
        "from braindecode.util import set_random_seeds\n",
        "from braindecode.models import Deep4Net\n",
        "\n",
        "\n",
        "cuda = torch.cuda.is_available()  # check if GPU is available, if True chooses to use it\n",
        "device = 'cuda' if cuda else 'cpu'\n",
        "if cuda:\n",
        "    torch.backends.cudnn.benchmark = True\n",
        "seed = 20200220  # random seed to make results reproducible\n",
        "# Set random seed to be able to reproduce results\n",
        "set_random_seeds(seed=seed, cuda=cuda)\n",
        "\n",
        "n_classes=4\n",
        "# Extract number of chans from dataset\n",
        "n_chans = dataset[0][0].shape[0]\n",
        "\n",
        "model = Deep4Net(\n",
        "    n_chans,\n",
        "    n_classes,\n",
        "    input_window_samples=input_window_samples,\n",
        "    final_conv_length=2,\n",
        ")\n",
        "\n",
        "# Send model to GPU\n",
        "if cuda:\n",
        "    model.cuda()\n",
        ""
      ],
      "execution_count": null,
      "outputs": []
    },
    {
      "cell_type": "markdown",
      "metadata": {
        "id": "rxRUr2d9tOZJ"
      },
      "source": [
        "And now we transform model with strides to a model that outputs dense prediction, so we can use it to obtain properly predictions for all crops."
      ]
    },
    {
      "cell_type": "code",
      "metadata": {
        "id": "hfZHj0KFtOZK"
      },
      "source": [
        "from braindecode.models.util import to_dense_prediction_model, get_output_shape\n",
        "to_dense_prediction_model(model)"
      ],
      "execution_count": null,
      "outputs": []
    },
    {
      "cell_type": "markdown",
      "metadata": {
        "id": "8RTB6USXtOZS"
      },
      "source": [
        "To know the models' receptive field, we calculate the shape of model output for a dummy input."
      ]
    },
    {
      "cell_type": "code",
      "metadata": {
        "id": "F7_hh4EdtOZT"
      },
      "source": [
        "n_preds_per_input = get_output_shape(model, n_chans, input_window_samples)[2]"
      ],
      "execution_count": null,
      "outputs": []
    },
    {
      "cell_type": "markdown",
      "metadata": {
        "id": "taG2nOiwtOZZ"
      },
      "source": [
        "## Cut the data into windows"
      ]
    },
    {
      "cell_type": "markdown",
      "metadata": {
        "id": "XmIH-AAVtOZb"
      },
      "source": [
        "Now we have to supply an explicit window size and window stride to the `create_windows_from_events` function."
      ]
    },
    {
      "cell_type": "code",
      "metadata": {
        "id": "HuWf6X0qtOZb"
      },
      "source": [
        "import numpy as np\n",
        "from braindecode.datautil.windowers import create_windows_from_events\n",
        "\n",
        "trial_start_offset_seconds = -0.5\n",
        "# Extract sampling frequency, check that they are same in all datasets\n",
        "sfreq = dataset.datasets[0].raw.info['sfreq']\n",
        "assert all([ds.raw.info['sfreq'] == sfreq for ds in dataset.datasets])\n",
        "\n",
        "# Calculate the trial start offset in samples.\n",
        "trial_start_offset_samples = int(trial_start_offset_seconds * sfreq)\n",
        "\n",
        "# Create windows using braindecode function for this. It needs parameters to define how\n",
        "# trials should be used.\n",
        "windows_dataset = create_windows_from_events(\n",
        "    dataset,\n",
        "    trial_start_offset_samples=trial_start_offset_samples,\n",
        "    trial_stop_offset_samples=0,\n",
        "    window_size_samples=input_window_samples,\n",
        "    window_stride_samples=n_preds_per_input,\n",
        "    drop_last_window=False,\n",
        "    preload=True,\n",
        ")"
      ],
      "execution_count": null,
      "outputs": []
    },
    {
      "cell_type": "markdown",
      "metadata": {
        "id": "EGGWdfYrtOZj"
      },
      "source": [
        "## Split the dataset\n",
        "\n",
        "This code is the same as in trialwise decoding."
      ]
    },
    {
      "cell_type": "code",
      "metadata": {
        "id": "Me83sPcUtOZk"
      },
      "source": [
        "splitted = windows_dataset.split('session')\n",
        "train_set = splitted['session_T']\n",
        "valid_set = splitted['session_E']"
      ],
      "execution_count": null,
      "outputs": []
    },
    {
      "cell_type": "markdown",
      "metadata": {
        "id": "_y02Me8ZtOZp"
      },
      "source": [
        "## Training"
      ]
    },
    {
      "cell_type": "markdown",
      "metadata": {
        "id": "SOlA6zAGtOZq"
      },
      "source": [
        "In difference to trialwise decoding, we now should supply `cropped=True` to the EEGClassifier, and `CroppedLoss` as the criterion, as well as `criterion__loss_function` as the loss function applied to the meaned predictions."
      ]
    },
    {
      "cell_type": "markdown",
      "metadata": {
        "id": "C8yURxC4tOZr"
      },
      "source": [
        "> **Note**: In this tutorial, we use some default parameters that we have found to work well for\n",
        "motor decoding, however we strongly encourage you to perform your own hyperparameter\n",
        "optimization using cross validation on your training data."
      ]
    },
    {
      "cell_type": "code",
      "metadata": {
        "id": "xBsI0slKtOZt",
        "colab": {
          "base_uri": "https://localhost:8080/",
          "height": 1000
        },
        "outputId": "0b2a9815-c450-4d48-c4b5-201338ce8b95"
      },
      "source": [
        "from skorch.callbacks import LRScheduler\n",
        "from skorch.helper import predefined_split\n",
        "\n",
        "from braindecode import EEGClassifier\n",
        "from braindecode.training.losses import CroppedLoss\n",
        "\n",
        "# These values we found good for shallow network:\n",
        "\n",
        "# For deep4 they should be:\n",
        "lr = 1 * 0.01\n",
        "weight_decay = 0.5 * 0.001\n",
        "\n",
        "batch_size = 64\n",
        "n_epochs = 40\n",
        "\n",
        "clf = EEGClassifier(\n",
        "    model,\n",
        "    cropped=True,\n",
        "    criterion=CroppedLoss,\n",
        "    criterion__loss_function=torch.nn.functional.nll_loss,\n",
        "    optimizer=torch.optim.AdamW,\n",
        "    train_split=predefined_split(valid_set),\n",
        "    optimizer__lr=lr,\n",
        "    optimizer__weight_decay=weight_decay,\n",
        "    iterator_train__shuffle=True,\n",
        "    batch_size=batch_size,\n",
        "    callbacks=[\n",
        "        \"accuracy\", (\"lr_scheduler\", LRScheduler('CosineAnnealingLR', T_max=n_epochs - 1)),\n",
        "    ],\n",
        "    device=device,\n",
        ")\n",
        "# Model training for a specified number of epochs. `y` is None as it is already supplied\n",
        "# in the dataset.\n",
        "clf.fit(train_set, y=None, epochs=n_epochs)"
      ],
      "execution_count": null,
      "outputs": [
        {
          "output_type": "stream",
          "text": [
            "  epoch    train_accuracy    train_loss    valid_accuracy    valid_loss     dur\n",
            "-------  ----------------  ------------  ----------------  ------------  ------\n",
            "      1            \u001b[36m0.2500\u001b[0m        \u001b[32m2.8734\u001b[0m            \u001b[35m0.2500\u001b[0m       \u001b[31m14.9372\u001b[0m  1.7340\n"
          ],
          "name": "stdout"
        },
        {
          "output_type": "stream",
          "text": [
            "/usr/local/lib/python3.6/dist-packages/torch/optim/lr_scheduler.py:143: UserWarning: The epoch parameter in `scheduler.step()` was not necessary and is being deprecated where possible. Please use `scheduler.step()` to step the scheduler. During the deprecation, if epoch is different from None, the closed form is used instead of the new chainable form, where available. Please open an issue if you are unable to replicate your use case: https://github.com/pytorch/pytorch/issues/new/choose.\n",
            "  warnings.warn(EPOCH_DEPRECATION_WARNING, UserWarning)\n"
          ],
          "name": "stderr"
        },
        {
          "output_type": "stream",
          "text": [
            "      2            0.2500        \u001b[32m1.2863\u001b[0m            0.2500        \u001b[31m3.4283\u001b[0m  1.6868\n",
            "      3            \u001b[36m0.2604\u001b[0m        \u001b[32m1.1481\u001b[0m            \u001b[35m0.2535\u001b[0m        \u001b[31m2.9051\u001b[0m  1.6833\n",
            "      4            \u001b[36m0.3993\u001b[0m        \u001b[32m1.1220\u001b[0m            \u001b[35m0.4236\u001b[0m        \u001b[31m1.3055\u001b[0m  1.6819\n",
            "      5            \u001b[36m0.6632\u001b[0m        \u001b[32m1.1157\u001b[0m            \u001b[35m0.5625\u001b[0m        \u001b[31m1.0367\u001b[0m  1.6725\n",
            "      6            0.6250        \u001b[32m1.0892\u001b[0m            \u001b[35m0.5799\u001b[0m        1.0508  1.6776\n",
            "      7            0.5000        \u001b[32m1.0390\u001b[0m            0.4792        1.2397  1.6683\n",
            "      8            0.6042        \u001b[32m1.0328\u001b[0m            0.5556        1.0871  1.6852\n",
            "      9            0.5590        \u001b[32m1.0104\u001b[0m            0.5590        1.0910  1.6731\n",
            "     10            0.5938        \u001b[32m0.9451\u001b[0m            0.5139        1.2314  1.6849\n",
            "     11            0.6111        \u001b[32m0.8701\u001b[0m            0.5104        1.3839  1.6762\n",
            "     12            0.6285        0.8919            0.4896        1.3075  1.6745\n",
            "     13            0.6007        \u001b[32m0.8179\u001b[0m            \u001b[35m0.5868\u001b[0m        \u001b[31m0.9915\u001b[0m  1.6730\n",
            "     14            0.5799        0.8459            0.5660        1.0852  1.6816\n",
            "     15            \u001b[36m0.6806\u001b[0m        0.8309            \u001b[35m0.6875\u001b[0m        \u001b[31m0.8775\u001b[0m  1.6692\n",
            "     16            0.6354        \u001b[32m0.7683\u001b[0m            0.5486        1.1381  1.6796\n",
            "     17            \u001b[36m0.7812\u001b[0m        \u001b[32m0.7300\u001b[0m            \u001b[35m0.6910\u001b[0m        \u001b[31m0.8452\u001b[0m  1.6720\n",
            "     18            0.6493        \u001b[32m0.7024\u001b[0m            0.6076        1.1177  1.6717\n",
            "     19            0.7257        \u001b[32m0.6818\u001b[0m            0.6667        0.9440  1.6833\n",
            "     20            \u001b[36m0.7917\u001b[0m        \u001b[32m0.6812\u001b[0m            \u001b[35m0.7083\u001b[0m        \u001b[31m0.8433\u001b[0m  1.6740\n",
            "     21            0.6701        \u001b[32m0.6308\u001b[0m            0.5799        1.1945  1.6826\n",
            "     22            0.7569        \u001b[32m0.6124\u001b[0m            0.6771        0.9605  1.6827\n",
            "     23            \u001b[36m0.8333\u001b[0m        0.6184            \u001b[35m0.7500\u001b[0m        \u001b[31m0.8120\u001b[0m  1.6649\n",
            "     24            \u001b[36m0.8542\u001b[0m        \u001b[32m0.5572\u001b[0m            0.7292        0.8504  1.6756\n",
            "     25            0.8368        \u001b[32m0.5418\u001b[0m            \u001b[35m0.7743\u001b[0m        \u001b[31m0.7538\u001b[0m  1.6851\n",
            "     26            0.8299        \u001b[32m0.5144\u001b[0m            0.6667        1.0404  1.6766\n",
            "     27            \u001b[36m0.9028\u001b[0m        0.5185            \u001b[35m0.7917\u001b[0m        0.7548  1.6894\n",
            "     28            \u001b[36m0.9132\u001b[0m        \u001b[32m0.4827\u001b[0m            0.7674        \u001b[31m0.7310\u001b[0m  1.6787\n",
            "     29            0.9132        \u001b[32m0.4483\u001b[0m            0.7917        \u001b[31m0.7002\u001b[0m  1.6626\n",
            "     30            \u001b[36m0.9167\u001b[0m        0.4646            0.7535        0.7696  1.6770\n",
            "     31            \u001b[36m0.9340\u001b[0m        \u001b[32m0.4343\u001b[0m            0.7639        0.7521  1.6722\n",
            "     32            0.9306        \u001b[32m0.4310\u001b[0m            0.7847        0.7277  1.6801\n",
            "     33            \u001b[36m0.9479\u001b[0m        \u001b[32m0.4043\u001b[0m            \u001b[35m0.8021\u001b[0m        \u001b[31m0.6733\u001b[0m  1.6680\n",
            "     34            0.9375        0.4044            0.7708        0.7303  1.6735\n",
            "     35            0.9444        \u001b[32m0.3911\u001b[0m            0.7708        0.7319  1.6793\n",
            "     36            \u001b[36m0.9618\u001b[0m        \u001b[32m0.3792\u001b[0m            \u001b[35m0.8056\u001b[0m        \u001b[31m0.6661\u001b[0m  1.6741\n",
            "     37            0.9583        0.3873            \u001b[35m0.8125\u001b[0m        0.6727  1.6703\n",
            "     38            0.9618        \u001b[32m0.3774\u001b[0m            0.8056        0.6814  1.6714\n",
            "     39            \u001b[36m0.9653\u001b[0m        0.3799            0.8056        0.6800  1.6787\n",
            "     40            0.9653        0.3798            0.8056        0.6782  1.6652\n"
          ],
          "name": "stdout"
        },
        {
          "output_type": "execute_result",
          "data": {
            "text/plain": [
              "<class 'braindecode.classifier.EEGClassifier'>[initialized](\n",
              "  module_=Deep4Net(\n",
              "    (ensuredims): Ensure4d()\n",
              "    (dimshuffle): Expression(expression=transpose_time_to_spat) \n",
              "    (conv_time): Conv2d(1, 25, kernel_size=(10, 1), stride=(1, 1))\n",
              "    (conv_spat): Conv2d(25, 25, kernel_size=(1, 22), stride=(1, 1), bias=False)\n",
              "    (bnorm): BatchNorm2d(25, eps=1e-05, momentum=0.1, affine=True, track_running_stats=True)\n",
              "    (conv_nonlin): Expression(expression=elu) \n",
              "    (pool): MaxPool2d(kernel_size=(3, 1), stride=(1, 1), padding=0, dilation=(1, 1), ceil_mode=False)\n",
              "    (pool_nonlin): Expression(expression=identity) \n",
              "    (drop_2): Dropout(p=0.5, inplace=False)\n",
              "    (conv_2): Conv2d(25, 50, kernel_size=(10, 1), stride=(1, 1), dilation=(3, 1), bias=False)\n",
              "    (bnorm_2): BatchNorm2d(50, eps=1e-05, momentum=0.1, affine=True, track_running_stats=True)\n",
              "    (nonlin_2): Expression(expression=elu) \n",
              "    (pool_2): MaxPool2d(kernel_size=(3, 1), stride=(1, 1), padding=0, dilation=(3, 1), ceil_mode=False)\n",
              "    (pool_nonlin_2): Expression(expression=identity) \n",
              "    (drop_3): Dropout(p=0.5, inplace=False)\n",
              "    (conv_3): Conv2d(50, 100, kernel_size=(10, 1), stride=(1, 1), dilation=(9, 1), bias=False)\n",
              "    (bnorm_3): BatchNorm2d(100, eps=1e-05, momentum=0.1, affine=True, track_running_stats=True)\n",
              "    (nonlin_3): Expression(expression=elu) \n",
              "    (pool_3): MaxPool2d(kernel_size=(3, 1), stride=(1, 1), padding=0, dilation=(9, 1), ceil_mode=False)\n",
              "    (pool_nonlin_3): Expression(expression=identity) \n",
              "    (drop_4): Dropout(p=0.5, inplace=False)\n",
              "    (conv_4): Conv2d(100, 200, kernel_size=(10, 1), stride=(1, 1), dilation=(27, 1), bias=False)\n",
              "    (bnorm_4): BatchNorm2d(200, eps=1e-05, momentum=0.1, affine=True, track_running_stats=True)\n",
              "    (nonlin_4): Expression(expression=elu) \n",
              "    (pool_4): MaxPool2d(kernel_size=(3, 1), stride=(1, 1), padding=0, dilation=(27, 1), ceil_mode=False)\n",
              "    (pool_nonlin_4): Expression(expression=identity) \n",
              "    (conv_classifier): Conv2d(200, 4, kernel_size=(2, 1), stride=(1, 1), dilation=(81, 1))\n",
              "    (softmax): LogSoftmax()\n",
              "    (squeeze): Expression(expression=squeeze_final_output) \n",
              "  ),\n",
              ")"
            ]
          },
          "metadata": {
            "tags": []
          },
          "execution_count": 69
        }
      ]
    },
    {
      "cell_type": "code",
      "metadata": {
        "id": "sUwVs9rStOZ1"
      },
      "source": [
        "from braindecode.visualization.gradients import compute_amplitude_gradients\n",
        "\n",
        "amp_grads_per_filter = compute_amplitude_gradients(model, train_set, batch_size=64)"
      ],
      "execution_count": null,
      "outputs": []
    },
    {
      "cell_type": "code",
      "metadata": {
        "id": "vS8ix2JstOZ6",
        "colab": {
          "base_uri": "https://localhost:8080/",
          "height": 236
        },
        "outputId": "764884db-e30d-4373-f018-e0b8c4239304"
      },
      "source": [
        "plt.figure(figsize=(12,3))\n",
        "plt.plot(np.fft.rfftfreq(train_set[0][0].shape[1], 1/250.0), np.mean(np.abs(amp_grads_per_filter), axis=(0, 1,2)));\n",
        "plt.xlabel('Frequency [Hz]')\n",
        "plt.ylabel('Mean Absolute Gradient');"
      ],
      "execution_count": null,
      "outputs": [
        {
          "output_type": "display_data",
          "data": {
            "image/png": "[encoded data removed]",
            "text/plain": [
              "<Figure size 864x216 with 1 Axes>"
            ]
          },
          "metadata": {
            "tags": [],
            "needs_background": "light"
          }
        }
      ]
    },
    {
      "cell_type": "code",
      "metadata": {
        "id": "yDkaqLzwtOaA",
        "colab": {
          "base_uri": "https://localhost:8080/",
          "height": 205
        },
        "outputId": "e95570d9-29c5-4899-da65-9dae64ebbac7"
      },
      "source": [
        "sfreq = train_set.datasets[0].windows.info['sfreq']\n",
        "freqs = np.fft.rfftfreq(train_set[0][0].shape[1], d=1.0/sfreq)\n",
        "start_freq = 7\n",
        "stop_freq = 14\n",
        "i_start = np.searchsorted(freqs,start_freq)\n",
        "i_stop = np.searchsorted(freqs, stop_freq) + 1\n",
        "\n",
        "\n",
        "freq_corr = np.mean(np.mean(amp_grads_per_filter, axis=1)[:,:,i_start:i_stop], axis=2)\n",
        "\n",
        "import matplotlib.pyplot as plt\n",
        "from matplotlib import cm\n",
        "%matplotlib inline\n",
        "max_abs_val = np.max(np.abs(freq_corr))\n",
        "\n",
        "class_to_id = windows_dataset.datasets[0].windows.event_id\n",
        "\n",
        "fig, axes = plt.subplots(1, len(class_to_id), figsize=(14,4))\n",
        "for class_name, i_class in class_to_id.items():\n",
        "    ax = axes[i_class]\n",
        "    mne.viz.plot_topomap(freq_corr[i_class], train_set.datasets[0].windows.info,\n",
        "             vmin=-max_abs_val, vmax=max_abs_val, contours=0,\n",
        "            cmap=cm.coolwarm, show=False, extrapolate='local',\n",
        "                        axes=ax);\n",
        "    ax.set_title(class_name.replace('_', ' '))"
      ],
      "execution_count": null,
      "outputs": [
        {
          "output_type": "display_data",
          "data": {
            "image/png": "[encoded data removed]",
            "text/plain": [
              "<Figure size 1008x288 with 4 Axes>"
            ]
          },
          "metadata": {
            "tags": []
          }
        }
      ]
    },
    {
      "cell_type": "markdown",
      "metadata": {
        "id": "qyohIEvjtOaH"
      },
      "source": [
        "## Redo without -500ms before trial"
      ]
    },
    {
      "cell_type": "code",
      "metadata": {
        "id": "ST_Xdt62tOaI"
      },
      "source": [
        "import torch\n",
        "from braindecode.util import set_random_seeds\n",
        "from braindecode.models import Deep4Net\n",
        "\n",
        "\n",
        "cuda = torch.cuda.is_available()  # check if GPU is available, if True chooses to use it\n",
        "device = 'cuda' if cuda else 'cpu'\n",
        "if cuda:\n",
        "    torch.backends.cudnn.benchmark = True\n",
        "seed = 20200220  # random seed to make results reproducible\n",
        "# Set random seed to be able to reproduce results\n",
        "set_random_seeds(seed=seed, cuda=cuda)\n",
        "\n",
        "n_classes=4\n",
        "# Extract number of chans from dataset\n",
        "n_chans = dataset[0][0].shape[0]\n",
        "\n",
        "model = Deep4Net(\n",
        "    n_chans,\n",
        "    n_classes,\n",
        "    input_window_samples=input_window_samples,\n",
        "    final_conv_length=2,\n",
        ")\n",
        "\n",
        "# Send model to GPU\n",
        "if cuda:\n",
        "    model.cuda()\n",
        "\n",
        "\n",
        "from braindecode.models.util import to_dense_prediction_model, get_output_shape\n",
        "\n",
        "n_preds_per_input = get_output_shape(model, n_chans, input_window_samples)[2]\n",
        "to_dense_prediction_model(model)"
      ],
      "execution_count": null,
      "outputs": []
    },
    {
      "cell_type": "code",
      "metadata": {
        "id": "sKqghwZUtOaO"
      },
      "source": [
        "import numpy as np\n",
        "from braindecode.datautil.windowers import create_windows_from_events\n",
        "\n",
        "trial_start_offset_seconds = -0\n",
        "# Extract sampling frequency, check that they are same in all datasets\n",
        "sfreq = dataset.datasets[0].raw.info['sfreq']\n",
        "assert all([ds.raw.info['sfreq'] == sfreq for ds in dataset.datasets])\n",
        "\n",
        "# Calculate the trial start offset in samples.\n",
        "trial_start_offset_samples = int(trial_start_offset_seconds * sfreq)\n",
        "\n",
        "# Create windows using braindecode function for this. It needs parameters to define how\n",
        "# trials should be used.\n",
        "windows_dataset = create_windows_from_events(\n",
        "    dataset,\n",
        "    trial_start_offset_samples=trial_start_offset_samples,\n",
        "    trial_stop_offset_samples=0,\n",
        "    window_size_samples=input_window_samples,\n",
        "    window_stride_samples=n_preds_per_input,\n",
        "    drop_last_window=False,\n",
        "    preload=True,\n",
        ")"
      ],
      "execution_count": null,
      "outputs": []
    },
    {
      "cell_type": "code",
      "metadata": {
        "id": "9KWwnwNbtOaW"
      },
      "source": [
        "splitted = windows_dataset.split('session')\n",
        "train_set = splitted['session_T']\n",
        "valid_set = splitted['session_E']"
      ],
      "execution_count": null,
      "outputs": []
    },
    {
      "cell_type": "code",
      "metadata": {
        "id": "l5f17ZLptOab",
        "colab": {
          "base_uri": "https://localhost:8080/",
          "height": 1000
        },
        "outputId": "dbafa5be-da1f-461c-cbae-b7fe3b46de49"
      },
      "source": [
        "from skorch.callbacks import LRScheduler\n",
        "from skorch.helper import predefined_split\n",
        "\n",
        "from braindecode import EEGClassifier\n",
        "from braindecode.training.losses import CroppedLoss\n",
        "\n",
        "# These values we found good for shallow network:\n",
        "\n",
        "# For deep4 they should be:\n",
        "lr = 1 * 0.01\n",
        "weight_decay = 0.5 * 0.001\n",
        "\n",
        "batch_size = 64\n",
        "n_epochs = 50\n",
        "\n",
        "clf = EEGClassifier(\n",
        "    model,\n",
        "    cropped=True,\n",
        "    criterion=CroppedLoss,\n",
        "    criterion__loss_function=torch.nn.functional.nll_loss,\n",
        "    optimizer=torch.optim.AdamW,\n",
        "    train_split=predefined_split(valid_set),\n",
        "    optimizer__lr=lr,\n",
        "    optimizer__weight_decay=weight_decay,\n",
        "    iterator_train__shuffle=True,\n",
        "    batch_size=batch_size,\n",
        "    callbacks=[\n",
        "        \"accuracy\", (\"lr_scheduler\", LRScheduler('CosineAnnealingLR', T_max=n_epochs - 1)),\n",
        "    ],\n",
        "    device=device,\n",
        ")\n",
        "# Model training for a specified number of epochs. `y` is None as it is already supplied\n",
        "# in the dataset.\n",
        "clf.fit(train_set, y=None, epochs=n_epochs)"
      ],
      "execution_count": null,
      "outputs": [
        {
          "output_type": "stream",
          "text": [
            "  epoch    train_accuracy    train_loss    valid_accuracy    valid_loss     dur\n",
            "-------  ----------------  ------------  ----------------  ------------  ------\n",
            "      1            \u001b[36m0.2500\u001b[0m        \u001b[32m4.3938\u001b[0m            \u001b[35m0.2500\u001b[0m       \u001b[31m87.0039\u001b[0m  1.7246\n"
          ],
          "name": "stdout"
        },
        {
          "output_type": "stream",
          "text": [
            "/usr/local/lib/python3.6/dist-packages/torch/optim/lr_scheduler.py:143: UserWarning: The epoch parameter in `scheduler.step()` was not necessary and is being deprecated where possible. Please use `scheduler.step()` to step the scheduler. During the deprecation, if epoch is different from None, the closed form is used instead of the new chainable form, where available. Please open an issue if you are unable to replicate your use case: https://github.com/pytorch/pytorch/issues/new/choose.\n",
            "  warnings.warn(EPOCH_DEPRECATION_WARNING, UserWarning)\n"
          ],
          "name": "stderr"
        },
        {
          "output_type": "stream",
          "text": [
            "      2            0.2500        \u001b[32m2.0783\u001b[0m            0.2500       \u001b[31m13.9299\u001b[0m  0.8539\n",
            "      3            \u001b[36m0.2569\u001b[0m        \u001b[32m1.5082\u001b[0m            \u001b[35m0.2535\u001b[0m       17.5981  0.8514\n",
            "      4            0.2500        \u001b[32m1.3458\u001b[0m            0.2500        \u001b[31m6.8067\u001b[0m  0.8526\n",
            "      5            0.2500        \u001b[32m1.3003\u001b[0m            0.2500        \u001b[31m4.8182\u001b[0m  0.8528\n",
            "      6            \u001b[36m0.3785\u001b[0m        \u001b[32m1.2004\u001b[0m            \u001b[35m0.3576\u001b[0m        \u001b[31m1.7005\u001b[0m  0.8489\n",
            "      7            \u001b[36m0.5312\u001b[0m        \u001b[32m1.1349\u001b[0m            \u001b[35m0.4826\u001b[0m        \u001b[31m1.1624\u001b[0m  0.8413\n",
            "      8            0.5243        1.1525            \u001b[35m0.5174\u001b[0m        \u001b[31m1.1153\u001b[0m  0.8581\n",
            "      9            0.4931        \u001b[32m1.0868\u001b[0m            0.5000        1.2906  0.8520\n",
            "     10            \u001b[36m0.5590\u001b[0m        1.1051            \u001b[35m0.5486\u001b[0m        \u001b[31m1.0689\u001b[0m  0.8533\n",
            "     11            \u001b[36m0.5625\u001b[0m        \u001b[32m1.0772\u001b[0m            0.5312        1.0864  0.8485\n",
            "     12            0.5278        1.0826            0.5278        1.1055  0.8552\n",
            "     13            0.4861        1.0827            0.5069        1.1337  0.8461\n",
            "     14            0.5486        \u001b[32m1.0421\u001b[0m            0.5278        1.0771  0.8464\n",
            "     15            0.5417        1.0817            0.5000        1.0865  0.8606\n",
            "     16            0.4375        1.0528            0.4618        1.2827  0.8504\n",
            "     17            0.5278        1.0785            0.5069        1.1416  0.8478\n",
            "     18            0.5486        \u001b[32m1.0324\u001b[0m            0.5312        1.1114  0.8588\n",
            "     19            0.4965        \u001b[32m1.0216\u001b[0m            0.5208        1.1607  0.8517\n",
            "     20            0.5278        \u001b[32m1.0026\u001b[0m            0.5382        1.1026  0.8522\n",
            "     21            0.5486        \u001b[32m0.9647\u001b[0m            \u001b[35m0.5521\u001b[0m        1.1066  0.8511\n",
            "     22            0.5417        \u001b[32m0.9390\u001b[0m            0.5174        1.1298  0.8570\n",
            "     23            \u001b[36m0.5764\u001b[0m        \u001b[32m0.9109\u001b[0m            \u001b[35m0.6111\u001b[0m        \u001b[31m1.0413\u001b[0m  0.8606\n",
            "     24            0.5625        \u001b[32m0.8608\u001b[0m            0.5729        1.0984  0.8511\n",
            "     25            \u001b[36m0.6111\u001b[0m        \u001b[32m0.8267\u001b[0m            0.5868        1.0873  0.8505\n",
            "     26            \u001b[36m0.6146\u001b[0m        0.8295            0.5799        1.0482  0.8541\n",
            "     27            \u001b[36m0.6250\u001b[0m        \u001b[32m0.8165\u001b[0m            \u001b[35m0.6146\u001b[0m        \u001b[31m1.0382\u001b[0m  0.8550\n",
            "     28            0.6215        \u001b[32m0.7975\u001b[0m            0.6111        \u001b[31m1.0330\u001b[0m  0.8453\n",
            "     29            \u001b[36m0.6458\u001b[0m        \u001b[32m0.7773\u001b[0m            0.6111        \u001b[31m0.9697\u001b[0m  0.8534\n",
            "     30            0.6424        0.7930            0.6111        0.9738  0.8499\n",
            "     31            \u001b[36m0.6632\u001b[0m        0.7775            \u001b[35m0.6667\u001b[0m        \u001b[31m0.9658\u001b[0m  0.8458\n",
            "     32            0.5903        \u001b[32m0.7341\u001b[0m            0.5694        1.0492  0.8579\n",
            "     33            \u001b[36m0.6667\u001b[0m        0.7556            0.6562        \u001b[31m0.9374\u001b[0m  0.8499\n",
            "     34            0.6493        0.7373            0.6354        0.9484  0.8513\n",
            "     35            0.6389        \u001b[32m0.7308\u001b[0m            0.6076        0.9609  0.8519\n",
            "     36            \u001b[36m0.6701\u001b[0m        0.7340            0.6354        0.9536  0.8495\n",
            "     37            \u001b[36m0.6771\u001b[0m        \u001b[32m0.7061\u001b[0m            0.6424        \u001b[31m0.9219\u001b[0m  0.8501\n",
            "     38            \u001b[36m0.7014\u001b[0m        \u001b[32m0.6962\u001b[0m            0.6562        \u001b[31m0.8733\u001b[0m  0.8581\n",
            "     39            0.6979        0.6968            0.6493        0.8848  0.8399\n",
            "     40            \u001b[36m0.7049\u001b[0m        0.7012            0.6632        0.8912  0.8593\n",
            "     41            \u001b[36m0.7118\u001b[0m        0.7226            \u001b[35m0.6771\u001b[0m        \u001b[31m0.8571\u001b[0m  0.8502\n",
            "     42            \u001b[36m0.7153\u001b[0m        \u001b[32m0.6792\u001b[0m            0.6667        \u001b[31m0.8396\u001b[0m  0.8501\n",
            "     43            0.7083        0.6996            0.6597        0.8523  0.8662\n",
            "     44            \u001b[36m0.7222\u001b[0m        0.6895            0.6632        0.8672  0.8553\n",
            "     45            \u001b[36m0.7431\u001b[0m        0.6912            0.6771        0.8627  0.8602\n",
            "     46            \u001b[36m0.7500\u001b[0m        0.6887            \u001b[35m0.6875\u001b[0m        0.8425  0.8478\n",
            "     47            \u001b[36m0.7604\u001b[0m        0.6877            0.6840        \u001b[31m0.8386\u001b[0m  0.8509\n",
            "     48            0.7535        0.6862            0.6806        0.8475  0.8609\n",
            "     49            0.7535        \u001b[32m0.6738\u001b[0m            0.6771        0.8503  0.8451\n",
            "     50            0.7535        0.7027            0.6840        0.8417  0.8548\n"
          ],
          "name": "stdout"
        },
        {
          "output_type": "execute_result",
          "data": {
            "text/plain": [
              "<class 'braindecode.classifier.EEGClassifier'>[initialized](\n",
              "  module_=Deep4Net(\n",
              "    (ensuredims): Ensure4d()\n",
              "    (dimshuffle): Expression(expression=transpose_time_to_spat) \n",
              "    (conv_time): Conv2d(1, 25, kernel_size=(10, 1), stride=(1, 1))\n",
              "    (conv_spat): Conv2d(25, 25, kernel_size=(1, 22), stride=(1, 1), bias=False)\n",
              "    (bnorm): BatchNorm2d(25, eps=1e-05, momentum=0.1, affine=True, track_running_stats=True)\n",
              "    (conv_nonlin): Expression(expression=elu) \n",
              "    (pool): MaxPool2d(kernel_size=(3, 1), stride=(1, 1), padding=0, dilation=(1, 1), ceil_mode=False)\n",
              "    (pool_nonlin): Expression(expression=identity) \n",
              "    (drop_2): Dropout(p=0.5, inplace=False)\n",
              "    (conv_2): Conv2d(25, 50, kernel_size=(10, 1), stride=(1, 1), dilation=(3, 1), bias=False)\n",
              "    (bnorm_2): BatchNorm2d(50, eps=1e-05, momentum=0.1, affine=True, track_running_stats=True)\n",
              "    (nonlin_2): Expression(expression=elu) \n",
              "    (pool_2): MaxPool2d(kernel_size=(3, 1), stride=(1, 1), padding=0, dilation=(3, 1), ceil_mode=False)\n",
              "    (pool_nonlin_2): Expression(expression=identity) \n",
              "    (drop_3): Dropout(p=0.5, inplace=False)\n",
              "    (conv_3): Conv2d(50, 100, kernel_size=(10, 1), stride=(1, 1), dilation=(9, 1), bias=False)\n",
              "    (bnorm_3): BatchNorm2d(100, eps=1e-05, momentum=0.1, affine=True, track_running_stats=True)\n",
              "    (nonlin_3): Expression(expression=elu) \n",
              "    (pool_3): MaxPool2d(kernel_size=(3, 1), stride=(1, 1), padding=0, dilation=(9, 1), ceil_mode=False)\n",
              "    (pool_nonlin_3): Expression(expression=identity) \n",
              "    (drop_4): Dropout(p=0.5, inplace=False)\n",
              "    (conv_4): Conv2d(100, 200, kernel_size=(10, 1), stride=(1, 1), dilation=(27, 1), bias=False)\n",
              "    (bnorm_4): BatchNorm2d(200, eps=1e-05, momentum=0.1, affine=True, track_running_stats=True)\n",
              "    (nonlin_4): Expression(expression=elu) \n",
              "    (pool_4): MaxPool2d(kernel_size=(3, 1), stride=(1, 1), padding=0, dilation=(27, 1), ceil_mode=False)\n",
              "    (pool_nonlin_4): Expression(expression=identity) \n",
              "    (conv_classifier): Conv2d(200, 4, kernel_size=(2, 1), stride=(1, 1), dilation=(81, 1))\n",
              "    (softmax): LogSoftmax()\n",
              "    (squeeze): Expression(expression=squeeze_final_output) \n",
              "  ),\n",
              ")"
            ]
          },
          "metadata": {
            "tags": []
          },
          "execution_count": 24
        }
      ]
    },
    {
      "cell_type": "code",
      "metadata": {
        "id": "2Y6C8tumtOa6"
      },
      "source": [
        "from braindecode.visualization.gradients import compute_amplitude_gradients\n",
        "\n",
        "amp_grads_per_filter = compute_amplitude_gradients(model, train_set, batch_size=64)"
      ],
      "execution_count": null,
      "outputs": []
    },
    {
      "cell_type": "code",
      "metadata": {
        "id": "-HGRcKD8tOa_",
        "colab": {
          "base_uri": "https://localhost:8080/",
          "height": 236
        },
        "outputId": "6cc57894-c68e-4b3d-9525-b666152c27d5"
      },
      "source": [
        "plt.figure(figsize=(12,3))\n",
        "plt.plot(np.fft.rfftfreq(train_set[0][0].shape[1], 1/250.0), np.mean(np.abs(amp_grads_per_filter), axis=(0, 1,2)));\n",
        "plt.xlabel('Frequency [Hz]')\n",
        "plt.ylabel('Mean Absolute Gradient');"
      ],
      "execution_count": null,
      "outputs": [
        {
          "output_type": "display_data",
          "data": {
            "image/png": "[encoded data removed]",
            "text/plain": [
              "<Figure size 864x216 with 1 Axes>"
            ]
          },
          "metadata": {
            "tags": [],
            "needs_background": "light"
          }
        }
      ]
    },
    {
      "cell_type": "code",
      "metadata": {
        "id": "8bozYyWstObI",
        "colab": {
          "base_uri": "https://localhost:8080/",
          "height": 205
        },
        "outputId": "13903470-9385-4128-eb4d-911467474443"
      },
      "source": [
        "sfreq = train_set.datasets[0].windows.info['sfreq']\n",
        "freqs = np.fft.rfftfreq(train_set[0][0].shape[1], d=1.0/sfreq)\n",
        "start_freq = 7\n",
        "stop_freq = 14\n",
        "i_start = np.searchsorted(freqs,start_freq)\n",
        "i_stop = np.searchsorted(freqs, stop_freq) + 1\n",
        "\n",
        "\n",
        "freq_corr = np.mean(np.mean(amp_grads_per_filter, axis=1)[:,:,i_start:i_stop], axis=2)\n",
        "\n",
        "import matplotlib.pyplot as plt\n",
        "from matplotlib import cm\n",
        "%matplotlib inline\n",
        "max_abs_val = np.max(np.abs(freq_corr))\n",
        "\n",
        "class_to_id = windows_dataset.datasets[0].windows.event_id\n",
        "\n",
        "fig, axes = plt.subplots(1, len(class_to_id), figsize=(14,4))\n",
        "for class_name, i_class in class_to_id.items():\n",
        "    ax = axes[i_class]\n",
        "    mne.viz.plot_topomap(freq_corr[i_class], train_set.datasets[0].windows.info,\n",
        "             vmin=-max_abs_val, vmax=max_abs_val, contours=0,\n",
        "            cmap=cm.coolwarm, show=False, extrapolate='local',\n",
        "                        axes=ax);\n",
        "    ax.set_title(class_name.replace('_', ' '))"
      ],
      "execution_count": null,
      "outputs": [
        {
          "output_type": "display_data",
          "data": {
            "image/png": "[encoded data removed]",
            "text/plain": [
              "<Figure size 1008x288 with 4 Axes>"
            ]
          },
          "metadata": {
            "tags": []
          }
        }
      ]
    },
    {
      "cell_type": "markdown",
      "metadata": {
        "id": "5rD6dip_Fv_t"
      },
      "source": [
        "See more on https://braindecode.org"
      ]
    }
  ]
}