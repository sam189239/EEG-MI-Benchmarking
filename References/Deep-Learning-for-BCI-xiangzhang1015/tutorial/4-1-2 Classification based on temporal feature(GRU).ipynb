{
 "cells": [
  {
   "cell_type": "markdown",
   "metadata": {},
   "source": [
    "<br/><font size=6>4-1-2 GRU</font><br/>"
   ]
  },
  {
   "cell_type": "code",
   "execution_count": 1,
   "metadata": {},
   "outputs": [
    {
     "name": "stdout",
     "output_type": "stream",
     "text": [
      "importing Jupyter notebook from BCI_functions.ipynb\n"
     ]
    }
   ],
   "source": [
    "import time\n",
    "import numpy as np\n",
    "from sklearn.model_selection import train_test_split\n",
    "from sklearn.preprocessing import StandardScaler\n",
    "import torch\n",
    "import torch.nn as nn\n",
    "import torch.utils.data as Data\n",
    "import torch.nn.functional as F\n",
    "from sklearn.metrics import roc_auc_score,accuracy_score,precision_score,recall_score,f1_score,classification_report\n",
    "\n",
    "import myimporter\n",
    "from BCI_functions import *  # BCI_functions.ipynb contains some functions we might use multiple times in this tutorial\n",
    "import warnings\n",
    "warnings.filterwarnings('ignore')"
   ]
  },
  {
   "cell_type": "code",
   "execution_count": 2,
   "metadata": {},
   "outputs": [
    {
     "name": "stdout",
     "output_type": "stream",
     "text": [
      "dataset_1 shape: (259520, 65)\n",
      "We are using cpu now.\n"
     ]
    }
   ],
   "source": [
    "dataset_1 = np.load('1.npy')\n",
    "print('dataset_1 shape:', dataset_1.shape)\n",
    "\n",
    "# check if a GPU is available\n",
    "with_gpu = torch.cuda.is_available()\n",
    "if with_gpu:\n",
    "    device = torch.device(\"cuda\")\n",
    "else:\n",
    "    device = torch.device(\"cpu\")\n",
    "print('We are using %s now.' %device)\n",
    "\n",
    "# remove instance with label==10 (rest)\n",
    "removed_label = [2,3,4,5,6,7,8,9,10]  #2,3,4,5,\n",
    "for ll in removed_label:\n",
    "    id = dataset_1[:, -1]!=ll\n",
    "    dataset_1 = dataset_1[id]"
   ]
  },
  {
   "cell_type": "code",
   "execution_count": 3,
   "metadata": {},
   "outputs": [
    {
     "name": "stdout",
     "output_type": "stream",
     "text": [
      "After segmentation, the shape of the data: (2440, 1025)\n",
      "After normalization, the shape of training feature: (29280, 64) \n",
      "After normalization, the shape of test feature: (9760, 64)\n",
      "After reshape, the shape of training feature: (1830, 16, 64) \n",
      "After reshape, the shape of test feature: (610, 16, 64)\n"
     ]
    }
   ],
   "source": [
    "# data segmentation\n",
    "n_class = int(11-len(removed_label))  # 0~9 classes ('10:rest' is not considered)\n",
    "no_feature = 64  # the number of the features\n",
    "segment_length = 16  # selected time window; 16=160*0.1\n",
    "LR = 0.001  # learning rate\n",
    "EPOCH = 101\n",
    "n_hidden = 64  # number of neurons in hidden layer\n",
    "l2 = 0.005  # the coefficient of l2-norm regularization\n",
    "\n",
    "data_seg = extract(dataset_1, n_classes=n_class, n_fea=no_feature, time_window=segment_length, moving=(segment_length/2))  # 50% overlapping\n",
    "print('After segmentation, the shape of the data:', data_seg.shape)\n",
    "\n",
    "# split training and test data\n",
    "no_longfeature = no_feature*segment_length\n",
    "data_seg_feature = data_seg[:, :no_longfeature]\n",
    "data_seg_label = data_seg[:, no_longfeature:no_longfeature+1]\n",
    "train_feature, test_feature, train_label, test_label = train_test_split(data_seg_feature, data_seg_label, shuffle=True)\n",
    "\n",
    "# normalization\n",
    "# before normalize reshape data back to raw data shape\n",
    "train_feature_2d = train_feature.reshape([-1, no_feature])\n",
    "test_feature_2d = test_feature.reshape([-1, no_feature])\n",
    "\n",
    "scaler1 = StandardScaler().fit(train_feature_2d)\n",
    "train_fea_norm1 = scaler1.transform(train_feature_2d) # normalize the training data\n",
    "test_fea_norm1 = scaler1.transform(test_feature_2d) # normalize the test data\n",
    "print('After normalization, the shape of training feature:', train_fea_norm1.shape,\n",
    "      '\\nAfter normalization, the shape of test feature:', test_fea_norm1.shape)\n",
    "\n",
    "# after normalization, reshape data to 3d\n",
    "train_fea_norm1 = train_fea_norm1.reshape([-1, segment_length, no_feature])\n",
    "test_fea_norm1 = test_fea_norm1.reshape([-1, segment_length, no_feature])\n",
    "print('After reshape, the shape of training feature:', train_fea_norm1.shape,\n",
    "      '\\nAfter reshape, the shape of test feature:', test_fea_norm1.shape)\n",
    "\n",
    "BATCH_size = test_fea_norm1.shape[0] # use test_data as batch size"
   ]
  },
  {
   "cell_type": "code",
   "execution_count": 4,
   "metadata": {},
   "outputs": [],
   "source": [
    "# feed data into dataloader\n",
    "train_fea_norm1 = torch.tensor(train_fea_norm1).to(device)\n",
    "train_label = torch.tensor(train_label.flatten()).to(device)\n",
    "train_data = Data.TensorDataset(train_fea_norm1, train_label)\n",
    "train_loader = Data.DataLoader(dataset=train_data, batch_size=BATCH_size, shuffle=False)\n",
    "\n",
    "test_fea_norm1 = torch.tensor(test_fea_norm1).to(device)\n",
    "test_label = torch.tensor(test_label.flatten()).to(device)"
   ]
  },
  {
   "cell_type": "code",
   "execution_count": 5,
   "metadata": {},
   "outputs": [
    {
     "name": "stdout",
     "output_type": "stream",
     "text": [
      "GRU(\n",
      "  (gru_layer): GRU(64, 64, num_layers=2, batch_first=True)\n",
      "  (out): Linear(in_features=64, out_features=2, bias=True)\n",
      ")\n"
     ]
    }
   ],
   "source": [
    "# classifier\n",
    "class GRU(nn.Module):\n",
    "    def __init__(self):\n",
    "        super(GRU, self).__init__()\n",
    "\n",
    "        self.gru_layer = nn.GRU(\n",
    "            input_size=no_feature,\n",
    "            hidden_size=n_hidden,\n",
    "            num_layers=2,\n",
    "            bias=True,\n",
    "            batch_first=True,       # input & output will has batch size as 1s dimension. e.g. (batch, segment_length, no_feature)\n",
    "        )\n",
    "\n",
    "        self.out = nn.Linear(n_hidden, n_class)\n",
    "\n",
    "    def forward(self, x):\n",
    "        r_out, (h_n, h_c) = self.gru_layer(x.float(), None)\n",
    "        r_out = F.dropout(r_out, 0.3)\n",
    "        test_output = self.out(r_out[:, -1, :]) # choose r_out at the last time step\n",
    "        return test_output\n",
    "\n",
    "gru = GRU()\n",
    "gru.to(device)\n",
    "print(gru)\n",
    "\n",
    "optimizer = torch.optim.Adam(gru.parameters(), lr=LR, weight_decay=l2)   # optimize all parameters\n",
    "loss_func = nn.CrossEntropyLoss()"
   ]
  },
  {
   "cell_type": "code",
   "execution_count": 6,
   "metadata": {},
   "outputs": [
    {
     "name": "stdout",
     "output_type": "stream",
     "text": [
      "Epoch:  0 |train loss: 0.7043  train ACC: 0.4508 | test loss: 0.6971 test ACC: 0.4770 | AUC: 0.5269\n",
      "Epoch:  10 |train loss: 0.6290  train ACC: 0.6770 | test loss: 0.6410 test ACC: 0.6279 | AUC: 0.7039\n",
      "Epoch:  20 |train loss: 0.3093  train ACC: 0.8852 | test loss: 0.3304 test ACC: 0.8508 | AUC: 0.9324\n",
      "Epoch:  30 |train loss: 0.1876  train ACC: 0.9426 | test loss: 0.2213 test ACC: 0.9180 | AUC: 0.9657\n",
      "Epoch:  40 |train loss: 0.1070  train ACC: 0.9705 | test loss: 0.1747 test ACC: 0.9344 | AUC: 0.9757\n",
      "Epoch:  50 |train loss: 0.0779  train ACC: 0.9836 | test loss: 0.1590 test ACC: 0.9410 | AUC: 0.9794\n",
      "Epoch:  60 |train loss: 0.0576  train ACC: 0.9885 | test loss: 0.1461 test ACC: 0.9541 | AUC: 0.9815\n",
      "Epoch:  70 |train loss: 0.0672  train ACC: 0.9869 | test loss: 0.2736 test ACC: 0.8852 | AUC: 0.9594\n",
      "Epoch:  80 |train loss: 0.0477  train ACC: 0.9918 | test loss: 0.1457 test ACC: 0.9492 | AUC: 0.9834\n",
      "Epoch:  90 |train loss: 0.0384  train ACC: 0.9934 | test loss: 0.1388 test ACC: 0.9475 | AUC: 0.9868\n",
      "Epoch:  100 |train loss: 0.0452  train ACC: 0.9885 | test loss: 0.1536 test ACC: 0.9410 | AUC: 0.9859\n",
      "              precision    recall  f1-score   support\n",
      "\n",
      "         0.0       0.93      0.96      0.94       318\n",
      "         1.0       0.96      0.92      0.94       292\n",
      "\n",
      "    accuracy                           0.94       610\n",
      "   macro avg       0.94      0.94      0.94       610\n",
      "weighted avg       0.94      0.94      0.94       610\n",
      "\n",
      "BEST TEST ACC: 0.9540983606557377, AUC: 0.9868075299388299\n",
      "Total Running Time: 78.28 seconds\n"
     ]
    }
   ],
   "source": [
    "best_acc = []\n",
    "best_auc = []\n",
    "\n",
    "# training and testing\n",
    "start_time = time.perf_counter()\n",
    "for epoch in range(EPOCH):\n",
    "    for step, (train_x, train_y) in enumerate(train_loader):\n",
    "\n",
    "        output = gru(train_x)  # GRU output of training data\n",
    "        loss = loss_func(output, train_y.long())  # cross entropy loss\n",
    "        optimizer.zero_grad()  # clear gradients for this training step\n",
    "        loss.backward()  # backpropagation, compute gradients\n",
    "        optimizer.step()  # apply gradients\n",
    "\n",
    "    if epoch % 10 == 0:\n",
    "        test_output = gru(test_fea_norm1)  # GRU output of test data\n",
    "        test_loss = loss_func(test_output, test_label.long())\n",
    "\n",
    "        test_y_score = one_hot(test_label.data.cpu().numpy())\n",
    "        pred_score = F.softmax(test_output, dim=1).data.cpu().numpy()  # normalize the output\n",
    "        auc_score = roc_auc_score(test_y_score, pred_score)\n",
    "\n",
    "        pred_y = torch.max(test_output, 1)[1].data.cpu().numpy()\n",
    "        pred_train = torch.max(output, 1)[1].data.cpu().numpy()\n",
    "\n",
    "        test_acc = accuracy_score(test_label.data.cpu().numpy(), pred_y)\n",
    "        train_acc = accuracy_score(train_y.data.cpu().numpy(), pred_train)\n",
    "\n",
    "        print('Epoch: ', epoch, '|train loss: %.4f' % loss.data.item(),\n",
    "              ' train ACC: %.4f' % train_acc, '| test loss: %.4f' % test_loss.item(),\n",
    "              'test ACC: %.4f' % test_acc, '| AUC: %.4f' % auc_score)\n",
    "        best_acc.append(test_acc)\n",
    "        best_auc.append(auc_score)\n",
    "current_time = time.perf_counter()\n",
    "running_time = current_time - start_time\n",
    "\n",
    "print(classification_report(test_label.data.numpy(), pred_y))\n",
    "print('BEST TEST ACC: {}, AUC: {}'.format(max(best_acc), max(best_auc)))\n",
    "print(\"Total Running Time: {} seconds\".format(round(running_time, 2)))"
   ]
  },
  {
   "cell_type": "code",
   "execution_count": null,
   "metadata": {},
   "outputs": [],
   "source": []
  }
 ],
 "metadata": {
  "kernelspec": {
   "display_name": "Python 3",
   "language": "python",
   "name": "python3"
  },
  "language_info": {
   "codemirror_mode": {
    "name": "ipython",
    "version": 3
   },
   "file_extension": ".py",
   "mimetype": "text/x-python",
   "name": "python",
   "nbconvert_exporter": "python",
   "pygments_lexer": "ipython3",
   "version": "3.8.5"
  },
  "toc": {
   "base_numbering": 1,
   "nav_menu": {},
   "number_sections": true,
   "sideBar": true,
   "skip_h1_title": false,
   "title_cell": "Table of Contents",
   "title_sidebar": "Contents",
   "toc_cell": false,
   "toc_position": {},
   "toc_section_display": true,
   "toc_window_display": false
  }
 },
 "nbformat": 4,
 "nbformat_minor": 4
}
