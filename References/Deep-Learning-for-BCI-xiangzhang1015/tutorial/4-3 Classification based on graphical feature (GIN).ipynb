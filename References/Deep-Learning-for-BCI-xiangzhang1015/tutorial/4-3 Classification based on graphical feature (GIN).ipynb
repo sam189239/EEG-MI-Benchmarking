{
 "cells": [
  {
   "cell_type": "markdown",
   "metadata": {},
   "source": [
    "<br/><font size=6>4-3 GIN</font><br/>"
   ]
  },
  {
   "cell_type": "code",
   "execution_count": 1,
   "metadata": {},
   "outputs": [
    {
     "name": "stdout",
     "output_type": "stream",
     "text": [
      "importing Jupyter notebook from BCI_functions.ipynb\n"
     ]
    }
   ],
   "source": [
    "import time\n",
    "import numpy as np\n",
    "from scipy.sparse import coo_matrix\n",
    "import torch\n",
    "from torch.nn import Sequential, Linear, ReLU\n",
    "from torch_geometric.nn import GINConv, global_add_pool\n",
    "import torch.utils.data as Data\n",
    "import torch.nn as nn\n",
    "import torch.nn.functional as F\n",
    "from sklearn.model_selection import train_test_split\n",
    "from sklearn.metrics import roc_auc_score,accuracy_score,precision_score,recall_score,f1_score,classification_report\n",
    "from sklearn.preprocessing import StandardScaler\n",
    "\n",
    "import myimporter\n",
    "from BCI_functions import *  # BCI_functions.ipynb contains some functions we might use multiple times in this tutorial\n",
    "import warnings\n",
    "warnings.filterwarnings('ignore')"
   ]
  },
  {
   "cell_type": "code",
   "execution_count": 2,
   "metadata": {},
   "outputs": [
    {
     "name": "stdout",
     "output_type": "stream",
     "text": [
      "dataset_1 shape: (259520, 65)\n"
     ]
    }
   ],
   "source": [
    "# np.random.seed(0)\n",
    "\n",
    "dataset_1 = np.load('1.npy')\n",
    "print('dataset_1 shape:', dataset_1.shape)\n",
    "\n",
    "# check if a GPU is available\n",
    "with_gpu = torch.cuda.is_available()\n",
    "if with_gpu:\n",
    "    device = torch.device(\"cuda\")\n",
    "else:\n",
    "    device = torch.device(\"cpu\")\n",
    "\n",
    "# remove instance with label==10 (rest)\n",
    "removed_label = [2,3,4,5,6,7,8,9,10]  #2,3,4,5,\n",
    "for ll in removed_label:\n",
    "    id = dataset_1[:, -1]!=ll\n",
    "    dataset_1 = dataset_1[id]"
   ]
  },
  {
   "cell_type": "code",
   "execution_count": 3,
   "metadata": {},
   "outputs": [
    {
     "name": "stdout",
     "output_type": "stream",
     "text": [
      "After segmentation, the shape of the data: (2440, 1025)\n",
      "After normalization, the shape of training feature: (29280, 64) \n",
      "After normalization, the shape of test feature: (9760, 64)\n",
      "After reshape, the shape of training feature: (1830, 16, 64) \n",
      "After reshape, the shape of test feature: (610, 16, 64)\n"
     ]
    }
   ],
   "source": [
    "# data segmentation\n",
    "n_class = int(11-len(removed_label))  # 0~9 classes ('10:rest' is not considered)\n",
    "no_feature = 64  # the number of the features\n",
    "segment_length = 16  # selected time window; 16=160*0.1\n",
    "LR = 0.001  # learning rate\n",
    "EPOCH = 101\n",
    "\n",
    "data_seg = extract(dataset_1, n_classes=n_class, n_fea=no_feature, time_window=segment_length, moving=(segment_length/2))  # 50% overlapping\n",
    "print('After segmentation, the shape of the data:', data_seg.shape)\n",
    "\n",
    "# split training and test data\n",
    "data_seg_feature = data_seg[:, :1024]\n",
    "data_seg_label = data_seg[:, 1024:1025]\n",
    "train_feature, test_feature, train_label, test_label = train_test_split(data_seg_feature, data_seg_label, shuffle=True)\n",
    "\n",
    "# normalization\n",
    "# before normalize reshape data back to raw data shape\n",
    "train_feature_2d = train_feature.reshape([-1, no_feature])\n",
    "test_feature_2d = test_feature.reshape([-1, no_feature])\n",
    "\n",
    "scaler1 = StandardScaler().fit(train_feature_2d)\n",
    "train_fea_norm1 = scaler1.transform(train_feature_2d) # normalize the training data\n",
    "test_fea_norm1 = scaler1.transform(test_feature_2d) # normalize the test data\n",
    "print('After normalization, the shape of training feature:', train_fea_norm1.shape,\n",
    "      '\\nAfter normalization, the shape of test feature:', test_fea_norm1.shape)\n",
    "\n",
    "# after normalization, reshape data to 3d in order to feed in to LSTM\n",
    "train_fea_norm1 = train_fea_norm1.reshape([-1, segment_length, no_feature])\n",
    "test_fea_norm1 = test_fea_norm1.reshape([-1, segment_length, no_feature])\n",
    "print('After reshape, the shape of training feature:', train_fea_norm1.shape,\n",
    "      '\\nAfter reshape, the shape of test feature:', test_fea_norm1.shape)\n",
    "\n",
    "BATCH_size = test_fea_norm1.shape[0] # use test_data as batch size"
   ]
  },
  {
   "cell_type": "code",
   "execution_count": 4,
   "metadata": {},
   "outputs": [],
   "source": [
    "# feed data into dataloader\n",
    "train_fea_norm1 = torch.tensor(train_fea_norm1).to(device)\n",
    "train_label = torch.tensor(train_label.flatten()).to(device)\n",
    "train_data = Data.TensorDataset(train_fea_norm1, train_label)\n",
    "train_loader = Data.DataLoader(dataset=train_data, batch_size=BATCH_size, shuffle=False)\n",
    "\n",
    "test_fea_norm1 = torch.tensor(test_fea_norm1).to(device)\n",
    "test_label = torch.tensor(test_label.flatten()).to(device)\n",
    "\n",
    "# Create adjacency matrix (edge index). Here we take complete graph as an example (all nodes are connected to each other)\n",
    "# You may design your own edge index in your research topic.\n",
    "edge_data = torch.ones([64, 64])  # initialize edge index\n",
    "edge_index = coo_matrix(edge_data)\n",
    "edge_index = np.vstack((edge_index.row, edge_index.col))\n",
    "edge_index = torch.from_numpy(edge_index).to(torch.int64).to(device)"
   ]
  },
  {
   "cell_type": "code",
   "execution_count": 5,
   "metadata": {},
   "outputs": [],
   "source": [
    "class GIN(torch.nn.Module):\n",
    "    def __init__(self):\n",
    "        super(GIN, self).__init__()\n",
    "\n",
    "        num_features = 16  # dimension of features for each node. In our case, it's the time-steps\n",
    "        dim = 32  # dimension of hidden representations\n",
    "        self.dim = dim\n",
    "\n",
    "        nn1 = Sequential(Linear(num_features, dim), ReLU(), Linear(dim, dim))\n",
    "        self.conv1 = GINConv(nn1)\n",
    "        self.bn1 = torch.nn.BatchNorm1d(dim)\n",
    "\n",
    "        nn2 = Sequential(Linear(dim, dim), ReLU(), Linear(dim, dim))\n",
    "        self.conv2 = GINConv(nn2)\n",
    "        self.bn2 = torch.nn.BatchNorm1d(dim)\n",
    "\n",
    "        nn3 = Sequential(Linear(dim, dim), ReLU(), Linear(dim, dim))\n",
    "        self.conv3 = GINConv(nn3)\n",
    "        self.bn3 = torch.nn.BatchNorm1d(dim)\n",
    "\n",
    "        self.fc1 = Linear(dim, dim)\n",
    "        self.fc2 = Linear(dim, 2)\n",
    "\n",
    "    def forward(self, x, batch, edge_index=None):\n",
    "\n",
    "        x = x.reshape([-1, 16])\n",
    "\n",
    "        x = F.relu(self.conv1(x.float(), edge_index))\n",
    "        x = self.bn1(x)\n",
    "        x = F.relu(self.conv2(x, edge_index))\n",
    "        x = self.bn2(x)\n",
    "        x = F.relu(self.conv3(x, edge_index))\n",
    "        x = self.bn3(x)\n",
    "\n",
    "        x = x.view(batch, 64, self.dim)\n",
    "        x = x.sum(dim=1)\n",
    "\n",
    "        x = F.dropout(x, p=0.3, training=self.training)\n",
    "        x = self.fc2(x)\n",
    "        return F.log_softmax(x, dim=-1)\n",
    "\n",
    "model = GIN().to(device)\n",
    "optimizer = torch.optim.Adam(model.parameters(), lr=0.01)\n",
    "loss_func = nn.CrossEntropyLoss()"
   ]
  },
  {
   "cell_type": "code",
   "execution_count": 6,
   "metadata": {},
   "outputs": [
    {
     "name": "stdout",
     "output_type": "stream",
     "text": [
      "Epoch:  0 |train loss: 5.6759  train ACC: 0.5492 | test loss: 8.4109 test ACC: 0.4656 | AUC: 0.4544\n",
      "Epoch:  10 |train loss: 0.6644  train ACC: 0.5656 | test loss: 0.6863 test ACC: 0.6049 | AUC: 0.6387\n",
      "Epoch:  20 |train loss: 0.5958  train ACC: 0.6705 | test loss: 0.6269 test ACC: 0.6656 | AUC: 0.7123\n",
      "Epoch:  30 |train loss: 0.5770  train ACC: 0.6656 | test loss: 0.5820 test ACC: 0.6721 | AUC: 0.7575\n",
      "Epoch:  40 |train loss: 0.5079  train ACC: 0.7279 | test loss: 0.5016 test ACC: 0.7246 | AUC: 0.8272\n",
      "Epoch:  50 |train loss: 0.4735  train ACC: 0.7410 | test loss: 0.4919 test ACC: 0.7557 | AUC: 0.8414\n",
      "Epoch:  60 |train loss: 0.3942  train ACC: 0.8197 | test loss: 0.4063 test ACC: 0.8230 | AUC: 0.8886\n",
      "Epoch:  70 |train loss: 0.3929  train ACC: 0.8246 | test loss: 0.3904 test ACC: 0.8230 | AUC: 0.9096\n",
      "Epoch:  80 |train loss: 0.2726  train ACC: 0.8754 | test loss: 0.3282 test ACC: 0.8574 | AUC: 0.9369\n",
      "Epoch:  90 |train loss: 0.2753  train ACC: 0.8721 | test loss: 0.2696 test ACC: 0.8869 | AUC: 0.9565\n",
      "Epoch:  100 |train loss: 0.1579  train ACC: 0.9295 | test loss: 0.2943 test ACC: 0.8869 | AUC: 0.9594\n",
      "              precision    recall  f1-score   support\n",
      "\n",
      "         0.0       0.93      0.84      0.89       322\n",
      "         1.0       0.84      0.93      0.89       288\n",
      "\n",
      "    accuracy                           0.89       610\n",
      "   macro avg       0.89      0.89      0.89       610\n",
      "weighted avg       0.89      0.89      0.89       610\n",
      "\n",
      "BEST TEST ACC: 0.8868852459016393, AUC: 0.9594008799171843\n",
      "Total Running Time: 135.09 seconds\n"
     ]
    }
   ],
   "source": [
    "best_acc = []\n",
    "best_auc = []\n",
    "\n",
    "# training and testing\n",
    "start_time = time.perf_counter()\n",
    "for epoch in range(EPOCH):\n",
    "    for step, (train_x, train_y) in enumerate(train_loader):\n",
    "        output = model(train_x,  BATCH_size, edge_index)\n",
    "        loss = loss_func(output, train_y.long())  # cross entropy loss\n",
    "        optimizer.zero_grad()  # clear gradients for this training step\n",
    "        loss.backward()  # backpropagation, compute gradients\n",
    "        optimizer.step()  # apply gradients\n",
    "\n",
    "    if epoch % 10 == 0:\n",
    "        test_output = model(test_fea_norm1,  BATCH_size, edge_index)\n",
    "        test_loss = loss_func(test_output, test_label.long())\n",
    "\n",
    "        test_y_score = one_hot(test_label.data.cpu().numpy())  # .cup() can be removed if your device is cpu.\n",
    "        pred_score = F.softmax(test_output, dim=1).data.cpu().numpy()  # normalize the output\n",
    "        auc_score = roc_auc_score(test_y_score, pred_score)\n",
    "\n",
    "        pred_y = torch.max(test_output, 1)[1].data.cpu().numpy()\n",
    "        pred_train = torch.max(output, 1)[1].data.cpu().numpy()\n",
    "\n",
    "        test_acc = accuracy_score(test_label.data.cpu().numpy(), pred_y)\n",
    "        train_acc = accuracy_score(train_y.data.cpu().numpy(), pred_train)\n",
    "\n",
    "\n",
    "        print('Epoch: ', epoch, '|train loss: %.4f' % loss.item(),\n",
    "              ' train ACC: %.4f' % train_acc, '| test loss: %.4f' % test_loss.item(),\n",
    "              'test ACC: %.4f' % test_acc, '| AUC: %.4f' % auc_score)\n",
    "        best_acc.append(test_acc)\n",
    "        best_auc.append(auc_score)\n",
    "\n",
    "current_time = time.perf_counter()\n",
    "running_time = current_time - start_time\n",
    "print(classification_report(test_label.data.cpu().numpy(), pred_y))\n",
    "print('BEST TEST ACC: {}, AUC: {}'.format(max(best_acc), max(best_auc)))\n",
    "print(\"Total Running Time: {} seconds\".format(round(running_time, 2)))"
   ]
  },
  {
   "cell_type": "code",
   "execution_count": null,
   "metadata": {},
   "outputs": [],
   "source": []
  }
 ],
 "metadata": {
  "kernelspec": {
   "display_name": "Python 3",
   "language": "python",
   "name": "python3"
  },
  "language_info": {
   "codemirror_mode": {
    "name": "ipython",
    "version": 3
   },
   "file_extension": ".py",
   "mimetype": "text/x-python",
   "name": "python",
   "nbconvert_exporter": "python",
   "pygments_lexer": "ipython3",
   "version": "3.8.5"
  },
  "toc": {
   "base_numbering": 1,
   "nav_menu": {},
   "number_sections": true,
   "sideBar": true,
   "skip_h1_title": false,
   "title_cell": "Table of Contents",
   "title_sidebar": "Contents",
   "toc_cell": false,
   "toc_position": {},
   "toc_section_display": true,
   "toc_window_display": false
  }
 },
 "nbformat": 4,
 "nbformat_minor": 4
}
