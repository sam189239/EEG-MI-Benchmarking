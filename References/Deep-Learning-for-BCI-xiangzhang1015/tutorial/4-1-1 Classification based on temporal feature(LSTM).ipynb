{
 "cells": [
  {
   "cell_type": "markdown",
   "metadata": {},
   "source": [
    "<br/><font size=6>4-1-1 LSTM</font><br/>"
   ]
  },
  {
   "cell_type": "code",
   "execution_count": 1,
   "metadata": {},
   "outputs": [
    {
     "name": "stdout",
     "output_type": "stream",
     "text": [
      "importing Jupyter notebook from BCI_functions.ipynb\n"
     ]
    }
   ],
   "source": [
    "# import packages\n",
    "import numpy as np\n",
    "from sklearn.model_selection import train_test_split\n",
    "from sklearn.preprocessing import StandardScaler\n",
    "import time\n",
    "import torch\n",
    "import torch.nn as nn\n",
    "import torch.utils.data as Data\n",
    "import torch.nn.functional as F\n",
    "from sklearn.metrics import roc_auc_score,accuracy_score,classification_report\n",
    "\n",
    "import myimporter\n",
    "from BCI_functions import *  # BCI_functions.ipynb contains some functions we might use multiple times in this tutorial\n",
    "import warnings\n",
    "warnings.filterwarnings('ignore')"
   ]
  },
  {
   "cell_type": "code",
   "execution_count": 10,
   "metadata": {},
   "outputs": [
    {
     "name": "stdout",
     "output_type": "stream",
     "text": [
      "dataset_1 shape: (259520, 65)\n",
      "We are using cpu now.\n"
     ]
    }
   ],
   "source": [
    "# load data\n",
    "dataset_1 = np.load('1.npy')\n",
    "print('dataset_1 shape:', dataset_1.shape)\n",
    "\n",
    "# check if a GPU is available\n",
    "with_gpu = torch.cuda.is_available()\n",
    "if with_gpu:\n",
    "    device = torch.device(\"cuda\")\n",
    "else:\n",
    "    device = torch.device(\"cpu\")\n",
    "print('We are using %s now.' %device)\n",
    "\n",
    "# remove instance with label==10 (rest)\n",
    "removed_label = [2,3,4,5,6,7,8,9,10]  # remove sample with label 2-10 for binary classification\n",
    "for ll in removed_label:\n",
    "    id = dataset_1[:, -1]!=ll\n",
    "    dataset_1 = dataset_1[id]"
   ]
  },
  {
   "cell_type": "code",
   "execution_count": 11,
   "metadata": {},
   "outputs": [
    {
     "name": "stdout",
     "output_type": "stream",
     "text": [
      "After segmentation, the shape of the data: (2440, 1025)\n",
      "After normalization, the shape of training feature: (31232, 64) \n",
      "After normalization, the shape of test feature: (7808, 64)\n",
      "After reshape, the shape of training feature: (1952, 16, 64) \n",
      "After reshape, the shape of test feature: (488, 16, 64)\n"
     ]
    }
   ],
   "source": [
    "# data segmentation\n",
    "n_class = int(11-len(removed_label))  # 0~9 classes ('10:rest' is not considered)\n",
    "no_feature = 64  # the number of the features\n",
    "segment_length = 16  # selected time window; 16=160*0.1\n",
    "LR = 0.005  # learning rate\n",
    "EPOCH = 101\n",
    "n_hidden = 128  # number of neurons in hidden layer\n",
    "l2 = 0.001  # the coefficient of l2-norm regularization\n",
    "\n",
    "data_seg = extract(dataset_1, n_classes=n_class, n_fea=no_feature, time_window=segment_length, moving=(segment_length/2))  # 50% overlapping\n",
    "print('After segmentation, the shape of the data:', data_seg.shape)\n",
    "\n",
    "# split training and test data\n",
    "no_longfeature = no_feature*segment_length\n",
    "data_seg_feature = data_seg[:, :no_longfeature]\n",
    "data_seg_label = data_seg[:, no_longfeature:no_longfeature+1]\n",
    "train_feature, test_feature, train_label, test_label = train_test_split(data_seg_feature, data_seg_label,test_size=0.2, shuffle=True)\n",
    "\n",
    "# normalization\n",
    "# before normalize reshape data back to raw data shape\n",
    "train_feature_2d = train_feature.reshape([-1, no_feature])\n",
    "test_feature_2d = test_feature.reshape([-1, no_feature])\n",
    "\n",
    "scaler1 = StandardScaler().fit(train_feature_2d)\n",
    "train_fea_norm1 = scaler1.transform(train_feature_2d) # normalize the training data\n",
    "test_fea_norm1 = scaler1.transform(test_feature_2d) # normalize the test data\n",
    "print('After normalization, the shape of training feature:', train_fea_norm1.shape,\n",
    "      '\\nAfter normalization, the shape of test feature:', test_fea_norm1.shape)\n",
    "\n",
    "# after normalization, reshape data to 3d in order to feed in to LSTM\n",
    "train_fea_norm1 = train_fea_norm1.reshape([-1, segment_length, no_feature])\n",
    "test_fea_norm1 = test_fea_norm1.reshape([-1, segment_length, no_feature])\n",
    "print('After reshape, the shape of training feature:', train_fea_norm1.shape,\n",
    "      '\\nAfter reshape, the shape of test feature:', test_fea_norm1.shape)\n",
    "\n",
    "BATCH_size = test_fea_norm1.shape[0] # use test_data as batch size"
   ]
  },
  {
   "cell_type": "code",
   "execution_count": 12,
   "metadata": {},
   "outputs": [],
   "source": [
    "# feed data into dataloader\n",
    "train_fea_norm1 = torch.tensor(train_fea_norm1).to(device)\n",
    "train_label = torch.tensor(train_label.flatten()).to(device)\n",
    "train_data = Data.TensorDataset(train_fea_norm1, train_label)\n",
    "train_loader = Data.DataLoader(dataset=train_data, batch_size=BATCH_size, shuffle=False)\n",
    "\n",
    "test_fea_norm1 = torch.tensor(test_fea_norm1).to(device)\n",
    "test_label = torch.tensor(test_label.flatten()).to(device)"
   ]
  },
  {
   "cell_type": "code",
   "execution_count": 13,
   "metadata": {},
   "outputs": [
    {
     "name": "stdout",
     "output_type": "stream",
     "text": [
      "LSTM(\n",
      "  (lstm_layer): LSTM(64, 128, num_layers=2, batch_first=True)\n",
      "  (out): Linear(in_features=128, out_features=2, bias=True)\n",
      ")\n"
     ]
    }
   ],
   "source": [
    "# classifier\n",
    "class LSTM(nn.Module):\n",
    "    def __init__(self):\n",
    "        super(LSTM, self).__init__()\n",
    "\n",
    "        self.lstm_layer = nn.LSTM(\n",
    "            input_size=no_feature,\n",
    "            hidden_size=n_hidden,         # LSTM hidden unit\n",
    "            num_layers=2,           # number of LSTM layer\n",
    "            bias=True,\n",
    "            batch_first=True,       # input & output will has batch size as 1s dimension. e.g. (batch, segment_length, no_feature)\n",
    "        )\n",
    "\n",
    "        self.out = nn.Linear(n_hidden, n_class)\n",
    "\n",
    "    def forward(self, x):\n",
    "        r_out, (h_n, h_c) = self.lstm_layer(x.float(), None)\n",
    "        r_out = F.dropout(r_out, 0.3)\n",
    "\n",
    "        test_output = self.out(r_out[:, -1, :]) # choose r_out at the last time step\n",
    "        return test_output\n",
    "\n",
    "lstm = LSTM()\n",
    "lstm.to(device)\n",
    "print(lstm)\n",
    "\n",
    "optimizer = torch.optim.Adam(lstm.parameters(), lr=LR, weight_decay=l2)   # optimize all parameters\n",
    "loss_func = nn.CrossEntropyLoss()"
   ]
  },
  {
   "cell_type": "code",
   "execution_count": 14,
   "metadata": {},
   "outputs": [
    {
     "name": "stdout",
     "output_type": "stream",
     "text": [
      "Epoch:  0 |train loss: 0.6855  train ACC: 0.5533 | test loss: 0.6702 test ACC: 0.6086 | AUC: 0.6283\n",
      "Epoch:  10 |train loss: 0.0994  train ACC: 0.9672 | test loss: 0.1615 test ACC: 0.9447 | AUC: 0.9795\n",
      "Epoch:  20 |train loss: 0.0421  train ACC: 0.9898 | test loss: 0.1431 test ACC: 0.9508 | AUC: 0.9891\n",
      "Epoch:  30 |train loss: 0.0260  train ACC: 0.9918 | test loss: 0.1070 test ACC: 0.9529 | AUC: 0.9939\n",
      "Epoch:  40 |train loss: 0.0075  train ACC: 0.9959 | test loss: 0.1082 test ACC: 0.9672 | AUC: 0.9943\n",
      "Epoch:  50 |train loss: 0.0091  train ACC: 0.9959 | test loss: 0.0786 test ACC: 0.9672 | AUC: 0.9961\n",
      "Epoch:  60 |train loss: 0.0075  train ACC: 0.9959 | test loss: 0.0752 test ACC: 0.9672 | AUC: 0.9976\n",
      "Epoch:  70 |train loss: 0.0089  train ACC: 0.9959 | test loss: 0.0697 test ACC: 0.9693 | AUC: 0.9977\n",
      "Epoch:  80 |train loss: 0.3862  train ACC: 0.8586 | test loss: 0.3577 test ACC: 0.8484 | AUC: 0.9120\n",
      "Epoch:  90 |train loss: 0.0811  train ACC: 0.9693 | test loss: 0.2126 test ACC: 0.9201 | AUC: 0.9794\n",
      "Epoch:  100 |train loss: 0.0449  train ACC: 0.9836 | test loss: 0.1559 test ACC: 0.9365 | AUC: 0.9857\n",
      "              precision    recall  f1-score   support\n",
      "\n",
      "         0.0       0.91      0.96      0.94       234\n",
      "         1.0       0.96      0.91      0.94       254\n",
      "\n",
      "    accuracy                           0.94       488\n",
      "   macro avg       0.94      0.94      0.94       488\n",
      "weighted avg       0.94      0.94      0.94       488\n",
      "\n",
      "BEST TEST ACC: 0.9692622950819673, AUC: 0.9976781748435293\n",
      "Total Running Time: 200.31 seconds\n"
     ]
    }
   ],
   "source": [
    "best_acc = []\n",
    "best_auc = []\n",
    "\n",
    "# training and testing\n",
    "start_time = time.perf_counter()\n",
    "for epoch in range(EPOCH):\n",
    "    for step, (train_x, train_y) in enumerate(train_loader):\n",
    "\n",
    "        output = lstm(train_x)  # LSTM output of training data\n",
    "        loss = loss_func(output, train_y.long())  # cross entropy loss\n",
    "        optimizer.zero_grad()  # clear gradients for this training step\n",
    "        loss.backward()  # backpropagation, compute gradients\n",
    "        optimizer.step()  # apply gradients\n",
    "\n",
    "        if epoch % 10 == 0 and step==2:\n",
    "            test_output = lstm(test_fea_norm1)  # LSTM output of test data\n",
    "            test_loss = loss_func(test_output, test_label.long())\n",
    "\n",
    "            test_y_score = one_hot(test_label.data.cpu().numpy())  # .cpu() can be removed if your device is cpu.\n",
    "            pred_score = F.softmax(test_output, dim=1).data.cpu().numpy()  # normalize the output\n",
    "            auc_score = roc_auc_score(test_y_score, pred_score)\n",
    "\n",
    "            pred_y = torch.max(test_output, 1)[1].data.cpu().numpy()\n",
    "            pred_train = torch.max(output, 1)[1].data.cpu().numpy()\n",
    "\n",
    "            test_acc = accuracy_score(test_label.data.cpu().numpy(), pred_y)\n",
    "            train_acc = accuracy_score(train_y.data.cpu().numpy(), pred_train)\n",
    "\n",
    "\n",
    "            print('Epoch: ', epoch, '|train loss: %.4f' % loss.item(),\n",
    "                  ' train ACC: %.4f' % train_acc, '| test loss: %.4f' % test_loss.item(),\n",
    "                  'test ACC: %.4f' % test_acc, '| AUC: %.4f' % auc_score)\n",
    "            best_acc.append(test_acc)\n",
    "            best_auc.append(auc_score)\n",
    "\n",
    "current_time = time.perf_counter()\n",
    "running_time = current_time - start_time\n",
    "print(classification_report(test_label.data.cpu().numpy(), pred_y))\n",
    "print('BEST TEST ACC: {}, AUC: {}'.format(max(best_acc), max(best_auc)))\n",
    "print(\"Total Running Time: {} seconds\".format(round(running_time, 2)))"
   ]
  },
  {
   "cell_type": "code",
   "execution_count": null,
   "metadata": {},
   "outputs": [],
   "source": []
  }
 ],
 "metadata": {
  "kernelspec": {
   "display_name": "Python 3",
   "language": "python",
   "name": "python3"
  },
  "language_info": {
   "codemirror_mode": {
    "name": "ipython",
    "version": 3
   },
   "file_extension": ".py",
   "mimetype": "text/x-python",
   "name": "python",
   "nbconvert_exporter": "python",
   "pygments_lexer": "ipython3",
   "version": "3.8.5"
  },
  "toc": {
   "base_numbering": 1,
   "nav_menu": {},
   "number_sections": true,
   "sideBar": true,
   "skip_h1_title": false,
   "title_cell": "Table of Contents",
   "title_sidebar": "Contents",
   "toc_cell": false,
   "toc_position": {},
   "toc_section_display": true,
   "toc_window_display": false
  }
 },
 "nbformat": 4,
 "nbformat_minor": 4
}
