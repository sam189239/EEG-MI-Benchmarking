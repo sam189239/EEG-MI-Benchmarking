{
 "cells": [
  {
   "cell_type": "code",
   "execution_count": 1,
   "metadata": {},
   "outputs": [],
   "source": [
    "import numpy as np\n",
    "from sklearn.model_selection import train_test_split\n",
    "from sklearn.preprocessing import StandardScaler\n",
    "import time\n",
    "import torch\n",
    "import torch.nn as nn\n",
    "import torch.utils.data as Data\n",
    "import torch.nn.functional as F\n",
    "from sklearn.metrics import roc_auc_score,accuracy_score,classification_report\n"
   ]
  },
  {
   "cell_type": "code",
   "execution_count": 2,
   "metadata": {},
   "outputs": [
    {
     "name": "stdout",
     "output_type": "stream",
     "text": [
      "dataset_1 shape: (259520, 65)\n"
     ]
    }
   ],
   "source": [
    "\n",
    "# dataset_1 = np.load('1.npy')\n",
    "dataset_1 = np.load('../../Data/Physionet_processed/1.npy')\n",
    "\n",
    "print('dataset_1 shape:', dataset_1.shape)"
   ]
  },
  {
   "cell_type": "code",
   "execution_count": 3,
   "metadata": {},
   "outputs": [
    {
     "name": "stdout",
     "output_type": "stream",
     "text": [
      "We are using cuda now.\n"
     ]
    }
   ],
   "source": [
    "# check if a GPU is available\n",
    "with_gpu = torch.cuda.is_available()\n",
    "if with_gpu:\n",
    "    device = torch.device(\"cuda\")\n",
    "else:\n",
    "    device = torch.device(\"cpu\")\n",
    "print('We are using %s now.' %device)"
   ]
  },
  {
   "cell_type": "code",
   "execution_count": 4,
   "metadata": {},
   "outputs": [
    {
     "name": "stdout",
     "output_type": "stream",
     "text": [
      "After segmentation, the shape of the data: (3720, 1025)\n",
      "After normalization, the shape of training feature: (47616, 64) \n",
      "After normalization, the shape of test feature: (11904, 64)\n",
      "After reshape, the shape of training feature: (2976, 16, 64) \n",
      "After reshape, the shape of test feature: (744, 16, 64)\n"
     ]
    }
   ],
   "source": [
    "\n",
    "\n",
    "# remove instance with label==10 (rest)\n",
    "# removed_label = [2,3,4,5,6,7,8,9,10]  #2,3,4,5,\n",
    "removed_label = [0,1,6,8,10,4,5,7,9]  #2,3,4,5,\n",
    "\n",
    "for ll in removed_label:\n",
    "    id = dataset_1[:, -1]!=ll\n",
    "    dataset_1 = dataset_1[id]\n",
    "\n",
    "# data segmentation\n",
    "n_class = int(11-len(removed_label))  # 0~9 classes ('10:rest' is not considered)\n",
    "no_feature = 64  # the number of the features\n",
    "segment_length = 16  # selected time window; 16=160*0.1\n",
    "LR = 0.005  # learning rate\n",
    "EPOCH = 101\n",
    "n_hidden = 128  # number of neurons in hidden layer\n",
    "l2 = 0.001  # the coefficient of l2-norm regularization\n",
    "\n",
    "def one_hot(y_):\n",
    "    # Function to encode output labels from number indexes\n",
    "    # e.g.: [[5], [0], [3]] --> [[0, 0, 0, 0, 0, 1], [1, 0, 0, 0, 0, 0], [0, 0, 0, 1, 0, 0]]\n",
    "    y_ = y_.reshape(len(y_))\n",
    "    y_ = [int(xx) for xx in y_]\n",
    "    n_values = np.max(y_) + 1\n",
    "    return np.eye(n_values)[np.array(y_, dtype=np.int32)]\n",
    "\n",
    "def extract(input, n_classes, n_fea, time_window, moving):\n",
    "    xx = input[:, :n_fea]\n",
    "    yy = input[:, n_fea:n_fea + 1]\n",
    "    new_x = []\n",
    "    new_y = []\n",
    "    number = int((xx.shape[0] / moving) - 1)\n",
    "    for i in range(number):\n",
    "        ave_y = np.average(yy[int(i * moving):int(i * moving + time_window)])\n",
    "        if ave_y in range(n_classes + 1):\n",
    "            new_x.append(xx[int(i * moving):int(i * moving + time_window), :])\n",
    "            new_y.append(ave_y)\n",
    "        else:\n",
    "            new_x.append(xx[int(i * moving):int(i * moving + time_window), :])\n",
    "            new_y.append(0)\n",
    "\n",
    "    new_x = np.array(new_x)\n",
    "    new_x = new_x.reshape([-1, n_fea * time_window])\n",
    "    new_y = np.array(new_y)\n",
    "    new_y.shape = [new_y.shape[0], 1]\n",
    "    data = np.hstack((new_x, new_y))\n",
    "    data = np.vstack((data, data[-1]))  # add the last sample again, to make the sample number round\n",
    "    return data\n",
    "\n",
    "data_seg = extract(dataset_1, n_classes=n_class, n_fea=no_feature, time_window=segment_length, moving=(segment_length/2))  # 50% overlapping\n",
    "print('After segmentation, the shape of the data:', data_seg.shape)\n",
    "\n",
    "# split training and test data\n",
    "no_longfeature = no_feature*segment_length\n",
    "data_seg_feature = data_seg[:, :no_longfeature]\n",
    "data_seg_label = data_seg[:, no_longfeature:no_longfeature+1]\n",
    "train_feature, test_feature, train_label, test_label = train_test_split(data_seg_feature, data_seg_label,test_size=0.2, shuffle=True)\n",
    "\n",
    "# normalization\n",
    "# before normalize reshape data back to raw data shape\n",
    "train_feature_2d = train_feature.reshape([-1, no_feature])\n",
    "test_feature_2d = test_feature.reshape([-1, no_feature])\n",
    "\n",
    "scaler1 = StandardScaler().fit(train_feature_2d)\n",
    "train_fea_norm1 = scaler1.transform(train_feature_2d) # normalize the training data\n",
    "test_fea_norm1 = scaler1.transform(test_feature_2d) # normalize the test data\n",
    "print('After normalization, the shape of training feature:', train_fea_norm1.shape,\n",
    "      '\\nAfter normalization, the shape of test feature:', test_fea_norm1.shape)\n",
    "\n",
    "# after normalization, reshape data to 3d in order to feed in to LSTM\n",
    "train_fea_norm1 = train_fea_norm1.reshape([-1, segment_length, no_feature])\n",
    "test_fea_norm1 = test_fea_norm1.reshape([-1, segment_length, no_feature])\n",
    "print('After reshape, the shape of training feature:', train_fea_norm1.shape,\n",
    "      '\\nAfter reshape, the shape of test feature:', test_fea_norm1.shape)\n",
    "\n",
    "BATCH_size = test_fea_norm1.shape[0] # use test_data as batch size"
   ]
  },
  {
   "cell_type": "code",
   "execution_count": 5,
   "metadata": {},
   "outputs": [
    {
     "data": {
      "text/plain": [
       "2"
      ]
     },
     "execution_count": 5,
     "metadata": {},
     "output_type": "execute_result"
    }
   ],
   "source": [
    "n_class"
   ]
  },
  {
   "cell_type": "code",
   "execution_count": 6,
   "metadata": {},
   "outputs": [],
   "source": [
    "import os\n",
    "os.environ['CUDA_LAUNCH_BLOCKING'] = '1'"
   ]
  },
  {
   "cell_type": "code",
   "execution_count": 7,
   "metadata": {},
   "outputs": [
    {
     "name": "stdout",
     "output_type": "stream",
     "text": [
      "LSTM(\n",
      "  (lstm_layer): LSTM(64, 128, num_layers=2, batch_first=True)\n",
      "  (out): Linear(in_features=128, out_features=2, bias=True)\n",
      ")\n"
     ]
    },
    {
     "ename": "RuntimeError",
     "evalue": "CUDA error: device-side assert triggered\nCompile with `TORCH_USE_CUDA_DSA` to enable device-side assertions.\n",
     "output_type": "error",
     "traceback": [
      "\u001b[1;31m---------------------------------------------------------------------------\u001b[0m",
      "\u001b[1;31mRuntimeError\u001b[0m                              Traceback (most recent call last)",
      "Cell \u001b[1;32mIn[7], line 48\u001b[0m\n\u001b[0;32m     45\u001b[0m \u001b[38;5;28;01mfor\u001b[39;00m step, (train_x, train_y) \u001b[38;5;129;01min\u001b[39;00m \u001b[38;5;28menumerate\u001b[39m(train_loader):\n\u001b[0;32m     47\u001b[0m     output \u001b[38;5;241m=\u001b[39m lstm(train_x)  \u001b[38;5;66;03m# LSTM output of training data\u001b[39;00m\n\u001b[1;32m---> 48\u001b[0m     loss \u001b[38;5;241m=\u001b[39m \u001b[43mloss_func\u001b[49m\u001b[43m(\u001b[49m\u001b[43moutput\u001b[49m\u001b[43m,\u001b[49m\u001b[43m \u001b[49m\u001b[43mtrain_y\u001b[49m\u001b[38;5;241;43m.\u001b[39;49m\u001b[43mlong\u001b[49m\u001b[43m(\u001b[49m\u001b[43m)\u001b[49m\u001b[43m)\u001b[49m  \u001b[38;5;66;03m# cross entropy loss\u001b[39;00m\n\u001b[0;32m     49\u001b[0m     optimizer\u001b[38;5;241m.\u001b[39mzero_grad()  \u001b[38;5;66;03m# clear gradients for this training step\u001b[39;00m\n\u001b[0;32m     50\u001b[0m     loss\u001b[38;5;241m.\u001b[39mbackward()  \u001b[38;5;66;03m# backpropagation, compute gradients\u001b[39;00m\n",
      "File \u001b[1;32mc:\\Users\\Sam\\miniconda3\\envs\\pytgpu\\lib\\site-packages\\torch\\nn\\modules\\module.py:1511\u001b[0m, in \u001b[0;36mModule._wrapped_call_impl\u001b[1;34m(self, *args, **kwargs)\u001b[0m\n\u001b[0;32m   1509\u001b[0m     \u001b[38;5;28;01mreturn\u001b[39;00m \u001b[38;5;28mself\u001b[39m\u001b[38;5;241m.\u001b[39m_compiled_call_impl(\u001b[38;5;241m*\u001b[39margs, \u001b[38;5;241m*\u001b[39m\u001b[38;5;241m*\u001b[39mkwargs)  \u001b[38;5;66;03m# type: ignore[misc]\u001b[39;00m\n\u001b[0;32m   1510\u001b[0m \u001b[38;5;28;01melse\u001b[39;00m:\n\u001b[1;32m-> 1511\u001b[0m     \u001b[38;5;28;01mreturn\u001b[39;00m \u001b[38;5;28;43mself\u001b[39;49m\u001b[38;5;241;43m.\u001b[39;49m\u001b[43m_call_impl\u001b[49m\u001b[43m(\u001b[49m\u001b[38;5;241;43m*\u001b[39;49m\u001b[43margs\u001b[49m\u001b[43m,\u001b[49m\u001b[43m \u001b[49m\u001b[38;5;241;43m*\u001b[39;49m\u001b[38;5;241;43m*\u001b[39;49m\u001b[43mkwargs\u001b[49m\u001b[43m)\u001b[49m\n",
      "File \u001b[1;32mc:\\Users\\Sam\\miniconda3\\envs\\pytgpu\\lib\\site-packages\\torch\\nn\\modules\\module.py:1520\u001b[0m, in \u001b[0;36mModule._call_impl\u001b[1;34m(self, *args, **kwargs)\u001b[0m\n\u001b[0;32m   1515\u001b[0m \u001b[38;5;66;03m# If we don't have any hooks, we want to skip the rest of the logic in\u001b[39;00m\n\u001b[0;32m   1516\u001b[0m \u001b[38;5;66;03m# this function, and just call forward.\u001b[39;00m\n\u001b[0;32m   1517\u001b[0m \u001b[38;5;28;01mif\u001b[39;00m \u001b[38;5;129;01mnot\u001b[39;00m (\u001b[38;5;28mself\u001b[39m\u001b[38;5;241m.\u001b[39m_backward_hooks \u001b[38;5;129;01mor\u001b[39;00m \u001b[38;5;28mself\u001b[39m\u001b[38;5;241m.\u001b[39m_backward_pre_hooks \u001b[38;5;129;01mor\u001b[39;00m \u001b[38;5;28mself\u001b[39m\u001b[38;5;241m.\u001b[39m_forward_hooks \u001b[38;5;129;01mor\u001b[39;00m \u001b[38;5;28mself\u001b[39m\u001b[38;5;241m.\u001b[39m_forward_pre_hooks\n\u001b[0;32m   1518\u001b[0m         \u001b[38;5;129;01mor\u001b[39;00m _global_backward_pre_hooks \u001b[38;5;129;01mor\u001b[39;00m _global_backward_hooks\n\u001b[0;32m   1519\u001b[0m         \u001b[38;5;129;01mor\u001b[39;00m _global_forward_hooks \u001b[38;5;129;01mor\u001b[39;00m _global_forward_pre_hooks):\n\u001b[1;32m-> 1520\u001b[0m     \u001b[38;5;28;01mreturn\u001b[39;00m \u001b[43mforward_call\u001b[49m\u001b[43m(\u001b[49m\u001b[38;5;241;43m*\u001b[39;49m\u001b[43margs\u001b[49m\u001b[43m,\u001b[49m\u001b[43m \u001b[49m\u001b[38;5;241;43m*\u001b[39;49m\u001b[38;5;241;43m*\u001b[39;49m\u001b[43mkwargs\u001b[49m\u001b[43m)\u001b[49m\n\u001b[0;32m   1522\u001b[0m \u001b[38;5;28;01mtry\u001b[39;00m:\n\u001b[0;32m   1523\u001b[0m     result \u001b[38;5;241m=\u001b[39m \u001b[38;5;28;01mNone\u001b[39;00m\n",
      "File \u001b[1;32mc:\\Users\\Sam\\miniconda3\\envs\\pytgpu\\lib\\site-packages\\torch\\nn\\modules\\loss.py:1179\u001b[0m, in \u001b[0;36mCrossEntropyLoss.forward\u001b[1;34m(self, input, target)\u001b[0m\n\u001b[0;32m   1178\u001b[0m \u001b[38;5;28;01mdef\u001b[39;00m \u001b[38;5;21mforward\u001b[39m(\u001b[38;5;28mself\u001b[39m, \u001b[38;5;28minput\u001b[39m: Tensor, target: Tensor) \u001b[38;5;241m-\u001b[39m\u001b[38;5;241m>\u001b[39m Tensor:\n\u001b[1;32m-> 1179\u001b[0m     \u001b[38;5;28;01mreturn\u001b[39;00m \u001b[43mF\u001b[49m\u001b[38;5;241;43m.\u001b[39;49m\u001b[43mcross_entropy\u001b[49m\u001b[43m(\u001b[49m\u001b[38;5;28;43minput\u001b[39;49m\u001b[43m,\u001b[49m\u001b[43m \u001b[49m\u001b[43mtarget\u001b[49m\u001b[43m,\u001b[49m\u001b[43m \u001b[49m\u001b[43mweight\u001b[49m\u001b[38;5;241;43m=\u001b[39;49m\u001b[38;5;28;43mself\u001b[39;49m\u001b[38;5;241;43m.\u001b[39;49m\u001b[43mweight\u001b[49m\u001b[43m,\u001b[49m\n\u001b[0;32m   1180\u001b[0m \u001b[43m                           \u001b[49m\u001b[43mignore_index\u001b[49m\u001b[38;5;241;43m=\u001b[39;49m\u001b[38;5;28;43mself\u001b[39;49m\u001b[38;5;241;43m.\u001b[39;49m\u001b[43mignore_index\u001b[49m\u001b[43m,\u001b[49m\u001b[43m \u001b[49m\u001b[43mreduction\u001b[49m\u001b[38;5;241;43m=\u001b[39;49m\u001b[38;5;28;43mself\u001b[39;49m\u001b[38;5;241;43m.\u001b[39;49m\u001b[43mreduction\u001b[49m\u001b[43m,\u001b[49m\n\u001b[0;32m   1181\u001b[0m \u001b[43m                           \u001b[49m\u001b[43mlabel_smoothing\u001b[49m\u001b[38;5;241;43m=\u001b[39;49m\u001b[38;5;28;43mself\u001b[39;49m\u001b[38;5;241;43m.\u001b[39;49m\u001b[43mlabel_smoothing\u001b[49m\u001b[43m)\u001b[49m\n",
      "File \u001b[1;32mc:\\Users\\Sam\\miniconda3\\envs\\pytgpu\\lib\\site-packages\\torch\\nn\\functional.py:3059\u001b[0m, in \u001b[0;36mcross_entropy\u001b[1;34m(input, target, weight, size_average, ignore_index, reduce, reduction, label_smoothing)\u001b[0m\n\u001b[0;32m   3057\u001b[0m \u001b[38;5;28;01mif\u001b[39;00m size_average \u001b[38;5;129;01mis\u001b[39;00m \u001b[38;5;129;01mnot\u001b[39;00m \u001b[38;5;28;01mNone\u001b[39;00m \u001b[38;5;129;01mor\u001b[39;00m reduce \u001b[38;5;129;01mis\u001b[39;00m \u001b[38;5;129;01mnot\u001b[39;00m \u001b[38;5;28;01mNone\u001b[39;00m:\n\u001b[0;32m   3058\u001b[0m     reduction \u001b[38;5;241m=\u001b[39m _Reduction\u001b[38;5;241m.\u001b[39mlegacy_get_string(size_average, reduce)\n\u001b[1;32m-> 3059\u001b[0m \u001b[38;5;28;01mreturn\u001b[39;00m \u001b[43mtorch\u001b[49m\u001b[38;5;241;43m.\u001b[39;49m\u001b[43m_C\u001b[49m\u001b[38;5;241;43m.\u001b[39;49m\u001b[43m_nn\u001b[49m\u001b[38;5;241;43m.\u001b[39;49m\u001b[43mcross_entropy_loss\u001b[49m\u001b[43m(\u001b[49m\u001b[38;5;28;43minput\u001b[39;49m\u001b[43m,\u001b[49m\u001b[43m \u001b[49m\u001b[43mtarget\u001b[49m\u001b[43m,\u001b[49m\u001b[43m \u001b[49m\u001b[43mweight\u001b[49m\u001b[43m,\u001b[49m\u001b[43m \u001b[49m\u001b[43m_Reduction\u001b[49m\u001b[38;5;241;43m.\u001b[39;49m\u001b[43mget_enum\u001b[49m\u001b[43m(\u001b[49m\u001b[43mreduction\u001b[49m\u001b[43m)\u001b[49m\u001b[43m,\u001b[49m\u001b[43m \u001b[49m\u001b[43mignore_index\u001b[49m\u001b[43m,\u001b[49m\u001b[43m \u001b[49m\u001b[43mlabel_smoothing\u001b[49m\u001b[43m)\u001b[49m\n",
      "\u001b[1;31mRuntimeError\u001b[0m: CUDA error: device-side assert triggered\nCompile with `TORCH_USE_CUDA_DSA` to enable device-side assertions.\n"
     ]
    }
   ],
   "source": [
    "\n",
    "# feed data into dataloader\n",
    "train_fea_norm1 = torch.tensor(train_fea_norm1).to(device)\n",
    "train_label = torch.tensor(train_label.flatten()).to(device)\n",
    "train_data = Data.TensorDataset(train_fea_norm1, train_label)\n",
    "train_loader = Data.DataLoader(dataset=train_data, batch_size=BATCH_size, shuffle=False)\n",
    "\n",
    "test_fea_norm1 = torch.tensor(test_fea_norm1).to(device)\n",
    "test_label = torch.tensor(test_label.flatten()).to(device)\n",
    "\n",
    "# classifier\n",
    "class LSTM(nn.Module):\n",
    "    def __init__(self):\n",
    "        super(LSTM, self).__init__()\n",
    "\n",
    "        self.lstm_layer = nn.LSTM(\n",
    "            input_size=no_feature,\n",
    "            hidden_size=n_hidden,         # LSTM hidden unit\n",
    "            num_layers=2,           # number of LSTM layer\n",
    "            bias=True,\n",
    "            batch_first=True,       # input & output will has batch size as 1s dimension. e.g. (batch, segment_length, no_feature)\n",
    "        )\n",
    "\n",
    "        self.out = nn.Linear(n_hidden, n_class)\n",
    "\n",
    "    def forward(self, x):\n",
    "        r_out, (h_n, h_c) = self.lstm_layer(x.float(), None)\n",
    "        r_out = F.dropout(r_out, 0.3)\n",
    "\n",
    "        test_output = self.out(r_out[:, -1, :]) # choose r_out at the last time step\n",
    "        return test_output\n",
    "\n",
    "lstm = LSTM()\n",
    "lstm.to(device)\n",
    "print(lstm)\n",
    "\n",
    "optimizer = torch.optim.Adam(lstm.parameters(), lr=LR, weight_decay=l2)   # optimize all parameters\n",
    "loss_func = nn.CrossEntropyLoss()\n",
    "\n",
    "best_acc = []\n",
    "best_auc = []\n",
    "\n",
    "# training and testing\n",
    "start_time = time.perf_counter()\n",
    "for epoch in range(EPOCH):\n",
    "    for step, (train_x, train_y) in enumerate(train_loader):\n",
    "\n",
    "        output = lstm(train_x)  # LSTM output of training data\n",
    "        loss = loss_func(output, train_y.long())  # cross entropy loss\n",
    "        optimizer.zero_grad()  # clear gradients for this training step\n",
    "        loss.backward()  # backpropagation, compute gradients\n",
    "        optimizer.step()  # apply gradients\n",
    "\n",
    "    if epoch % 10 == 0:\n",
    "        test_output = lstm(test_fea_norm1)  # LSTM output of test data\n",
    "        test_loss = loss_func(test_output, test_label.long())\n",
    "\n",
    "        test_y_score = one_hot(test_label.data.cpu().numpy())  # .cpu() can be removed if your device is cpu.\n",
    "        pred_score = F.softmax(test_output, dim=1).data.cpu().numpy()  # normalize the output\n",
    "        auc_score = roc_auc_score(test_y_score, pred_score)\n",
    "\n",
    "        pred_y = torch.max(test_output, 1)[1].data.cpu().numpy()\n",
    "        pred_train = torch.max(output, 1)[1].data.cpu().numpy()\n",
    "\n",
    "        test_acc = accuracy_score(test_label.data.cpu().numpy(), pred_y)\n",
    "        train_acc = accuracy_score(train_y.data.cpu().numpy(), pred_train)\n",
    "\n",
    "\n",
    "        print('Epoch: ', epoch, '|train loss: %.4f' % loss.item(),\n",
    "              ' train ACC: %.4f' % train_acc, '| test loss: %.4f' % test_loss.item(),\n",
    "              'test ACC: %.4f' % test_acc, '| AUC: %.4f' % auc_score)\n",
    "        best_acc.append(test_acc)\n",
    "        best_auc.append(auc_score)\n",
    "\n",
    "current_time = time.perf_counter()\n",
    "running_time = current_time - start_time\n",
    "print(classification_report(test_label.data.cpu().numpy(), pred_y))\n",
    "print('BEST TEST ACC: {}, AUC: {}'.format(max(best_acc), max(best_auc)))\n",
    "print(\"Total Running Time: {} seconds\".format(round(running_time, 2)))"
   ]
  },
  {
   "cell_type": "code",
   "execution_count": 8,
   "metadata": {},
   "outputs": [
    {
     "data": {
      "text/plain": [
       "torch.Size([744])"
      ]
     },
     "execution_count": 8,
     "metadata": {},
     "output_type": "execute_result"
    }
   ],
   "source": [
    "train_y.shape"
   ]
  },
  {
   "cell_type": "code",
   "execution_count": null,
   "metadata": {},
   "outputs": [],
   "source": []
  }
 ],
 "metadata": {
  "kernelspec": {
   "display_name": "pytgpu",
   "language": "python",
   "name": "python3"
  },
  "language_info": {
   "codemirror_mode": {
    "name": "ipython",
    "version": 3
   },
   "file_extension": ".py",
   "mimetype": "text/x-python",
   "name": "python",
   "nbconvert_exporter": "python",
   "pygments_lexer": "ipython3",
   "version": "3.8.18"
  }
 },
 "nbformat": 4,
 "nbformat_minor": 2
}
