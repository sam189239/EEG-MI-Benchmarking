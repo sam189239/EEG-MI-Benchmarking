{
  "cells": [
    {
      "cell_type": "code",
      "execution_count": null,
      "metadata": {
        "collapsed": false
      },
      "outputs": [],
      "source": [
        "%matplotlib inline"
      ]
    },
    {
      "cell_type": "markdown",
      "metadata": {},
      "source": [
        "\n",
        "# Benchmarking on MOABB with Braindecode (PyTorch) deep net architectures\n",
        "This example shows how to use MOABB to benchmark a set of Braindecode pipelines (deep learning\n",
        "architectures) on all available datasets.\n",
        "For this example, we will use only 2 datasets to keep the computation time low, but this benchmark is designed\n",
        "to easily scale to many datasets.\n"
      ]
    },
    {
      "cell_type": "code",
      "execution_count": null,
      "metadata": {
        "collapsed": false
      },
      "outputs": [],
      "source": [
        "# Authors: Igor Carrara <igor.carrara@inria.fr>\n",
        "#          Bruno Aristimunha <b.aristimunha@gmail.com>\n",
        "#          Sylvain Chevallier <sylvain.chevallier@universite-paris-saclay.fr>\n",
        "#\n",
        "# License: BSD (3-clause)\n",
        "\n",
        "import os\n",
        "\n",
        "import matplotlib.pyplot as plt\n",
        "import torch\n",
        "from absl.logging import ERROR, set_verbosity\n",
        "\n",
        "from moabb import benchmark, set_log_level\n",
        "from moabb.analysis.plotting import score_plot\n",
        "from moabb.datasets import BNCI2014_001, BNCI2014_004\n",
        "from moabb.utils import setup_seed\n",
        "\n",
        "\n",
        "set_log_level(\"info\")\n",
        "# Avoid output Warning\n",
        "set_verbosity(ERROR)\n",
        "os.environ[\"TF_CPP_MIN_LOG_LEVEL\"] = \"3\"\n",
        "\n",
        "# Print Information PyTorch\n",
        "print(f\"Torch Version: {torch.__version__}\")\n",
        "\n",
        "# Set up GPU if it is there\n",
        "cuda = torch.cuda.is_available()\n",
        "device = \"cuda\" if cuda else \"cpu\"\n",
        "print(\"GPU is\", \"AVAILABLE\" if cuda else \"NOT AVAILABLE\")"
      ]
    },
    {
      "cell_type": "markdown",
      "metadata": {},
      "source": [
        "In this example, we will use only 2 subjects from the dataset ``BNCI2014_001`` and ``BNCI2014_004``.\n",
        "\n",
        "## Running the benchmark\n",
        "\n",
        "The benchmark is run using the ``benchmark`` function. You need to specify the\n",
        "folder containing the pipelines, the kind of evaluation, and the paradigm\n",
        "to use. By default, the benchmark will use all available datasets for all\n",
        "paradigms listed in the pipelines. You could restrict to specific evaluation and\n",
        "paradigm using the ``evaluations`` and ``paradigms`` arguments.\n",
        "\n",
        "To save computation time, the results are cached. If you want to re-run the\n",
        "benchmark, you can set the ``overwrite`` argument to ``True``.\n",
        "\n",
        "It is possible to indicate the folder to cache the results and the one to save\n",
        "the analysis & figures. By default, the results are saved in the ``results``\n",
        "folder, and the analysis & figures are saved in the ``benchmark`` folder.\n",
        "\n",
        "This code is implemented to run on CPU. If you're using a GPU, do not use multithreading\n",
        "(i.e. set n_jobs=1)\n",
        "\n",
        "In order to allow the benchmark function to work with return_epoch=True (Required to use Braindecode(\n",
        "we need to call each pipeline as \"braindecode_xxx...\", with xxx the name of the model to be\n",
        "handled correctly by the benchmark function.\n",
        "\n"
      ]
    },
    {
      "cell_type": "code",
      "execution_count": null,
      "metadata": {
        "collapsed": false
      },
      "outputs": [],
      "source": [
        "# Set up reproducibility of Tensorflow\n",
        "setup_seed(42)\n",
        "\n",
        "# Restrict this example only to the first two subjects of BNCI2014_001\n",
        "dataset = BNCI2014_001()\n",
        "dataset2 = BNCI2014_004()\n",
        "dataset.subject_list = dataset.subject_list[:2]\n",
        "dataset2.subject_list = dataset2.subject_list[:2]\n",
        "datasets = [dataset, dataset2]\n",
        "\n",
        "results = benchmark(\n",
        "    pipelines=\"./pipelines_braindecode\",\n",
        "    evaluations=[\"CrossSession\"],\n",
        "    paradigms=[\"LeftRightImagery\"],\n",
        "    include_datasets=datasets,\n",
        "    results=\"./results/\",\n",
        "    overwrite=False,\n",
        "    plot=False,\n",
        "    output=\"./benchmark/\",\n",
        "    n_jobs=-1,\n",
        ")"
      ]
    },
    {
      "cell_type": "markdown",
      "metadata": {},
      "source": [
        "The deep learning architectures implemented in MOABB using Braindecode are:\n",
        "\n",
        "- Shallow Convolutional Network [1]_\n",
        "- Deep Convolutional Network [1]_\n",
        "- EEGNetv4 [2]_\n",
        "- EEGInception [3]_\n",
        "\n",
        "Benchmark prints a summary of the results. Detailed results are saved in a\n",
        "pandas dataframe, and can be used to generate figures. The analysis & figures\n",
        "are saved in the ``benchmark`` folder.\n",
        "\n"
      ]
    },
    {
      "cell_type": "code",
      "execution_count": null,
      "metadata": {
        "collapsed": false
      },
      "outputs": [],
      "source": [
        "score_plot(results)\n",
        "plt.show()"
      ]
    },
    {
      "cell_type": "markdown",
      "metadata": {},
      "source": [
        "## References\n",
        ".. [1] Schirrmeister, R. T., Springenberg, J. T., Fiederer, L. D. J.,\n",
        "   Glasstetter, M., Eggensperger, K., Tangermann, M., ... & Ball, T. (2017).\n",
        "   [Deep learning with convolutional neural networks for EEG decoding and\n",
        "   visualization](https://doi.org/10.1002/hbm.23730).\n",
        "   Human brain mapping, 38(11), 5391-5420.\n",
        ".. [2] Lawhern, V. J., Solon, A. J., Waytowich, N. R., Gordon, S. M.,\n",
        "   Hung, C. P., & Lance, B. J. (2018). [EEGNet: a compact convolutional neural\n",
        "   network for EEG-based brain-computer interfaces.](https://doi.org/10.1088/1741-2552/aace8c)\n",
        "   Journal of neural engineering, 15(5), 056013.\n",
        ".. [3] Santamaria-Vazquez, E., Martinez-Cagigal, V., Vaquerizo-Villar,\n",
        "   F., & Hornero, R. (2020). [EEG-inception: A novel deep convolutional neural network\n",
        "   for assistive ERP-based brain-computer interfaces.](https://doi.org/10.1109/TNSRE.2020.3048106)\n",
        "   IEEE Transactions on Neural Systems and Rehabilitation Engineering\n",
        "\n"
      ]
    }
  ],
  "metadata": {
    "kernelspec": {
      "display_name": "Python 3",
      "language": "python",
      "name": "python3"
    },
    "language_info": {
      "codemirror_mode": {
        "name": "ipython",
        "version": 3
      },
      "file_extension": ".py",
      "mimetype": "text/x-python",
      "name": "python",
      "nbconvert_exporter": "python",
      "pygments_lexer": "ipython3",
      "version": "3.8.18"
    }
  },
  "nbformat": 4,
  "nbformat_minor": 0
}
