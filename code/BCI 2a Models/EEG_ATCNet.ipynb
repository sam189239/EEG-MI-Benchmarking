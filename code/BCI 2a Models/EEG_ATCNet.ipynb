{
 "cells": [
  {
   "cell_type": "markdown",
   "metadata": {},
   "source": [
    "## Requirement Installation"
   ]
  },
  {
   "cell_type": "code",
   "execution_count": 1,
   "metadata": {},
   "outputs": [
    {
     "name": "stdout",
     "output_type": "stream",
     "text": [
      "Requirement already satisfied: braindecode in c:\\users\\jjaya\\miniconda3\\envs\\dsml\\lib\\site-packages (0.8.1)\n",
      "Requirement already satisfied: mne in c:\\users\\jjaya\\miniconda3\\envs\\dsml\\lib\\site-packages (from braindecode) (1.6.1)\n",
      "Requirement already satisfied: numpy in c:\\users\\jjaya\\miniconda3\\envs\\dsml\\lib\\site-packages (from braindecode) (1.25.2)\n",
      "Requirement already satisfied: pandas in c:\\users\\jjaya\\miniconda3\\envs\\dsml\\lib\\site-packages (from braindecode) (1.5.3)\n",
      "Requirement already satisfied: scipy in c:\\users\\jjaya\\miniconda3\\envs\\dsml\\lib\\site-packages (from braindecode) (1.11.2)\n",
      "Requirement already satisfied: matplotlib in c:\\users\\jjaya\\miniconda3\\envs\\dsml\\lib\\site-packages (from braindecode) (3.7.2)\n",
      "Requirement already satisfied: h5py in c:\\users\\jjaya\\miniconda3\\envs\\dsml\\lib\\site-packages (from braindecode) (3.8.0)\n",
      "Requirement already satisfied: skorch in c:\\users\\jjaya\\miniconda3\\envs\\dsml\\lib\\site-packages (from braindecode) (0.15.0)\n",
      "Requirement already satisfied: torch in c:\\users\\jjaya\\miniconda3\\envs\\dsml\\lib\\site-packages (from braindecode) (2.2.1)\n",
      "Requirement already satisfied: einops in c:\\users\\jjaya\\miniconda3\\envs\\dsml\\lib\\site-packages (from braindecode) (0.7.0)\n",
      "Requirement already satisfied: joblib in c:\\users\\jjaya\\miniconda3\\envs\\dsml\\lib\\site-packages (from braindecode) (1.3.2)\n",
      "Requirement already satisfied: torchinfo in c:\\users\\jjaya\\miniconda3\\envs\\dsml\\lib\\site-packages (from braindecode) (1.8.0)\n",
      "Requirement already satisfied: docstring-inheritance in c:\\users\\jjaya\\miniconda3\\envs\\dsml\\lib\\site-packages (from braindecode) (2.2.0)\n",
      "Requirement already satisfied: contourpy>=1.0.1 in c:\\users\\jjaya\\miniconda3\\envs\\dsml\\lib\\site-packages (from matplotlib->braindecode) (1.1.0)\n",
      "Requirement already satisfied: cycler>=0.10 in c:\\users\\jjaya\\miniconda3\\envs\\dsml\\lib\\site-packages (from matplotlib->braindecode) (0.11.0)\n",
      "Requirement already satisfied: fonttools>=4.22.0 in c:\\users\\jjaya\\miniconda3\\envs\\dsml\\lib\\site-packages (from matplotlib->braindecode) (4.42.1)\n",
      "Requirement already satisfied: kiwisolver>=1.0.1 in c:\\users\\jjaya\\miniconda3\\envs\\dsml\\lib\\site-packages (from matplotlib->braindecode) (1.4.5)\n",
      "Requirement already satisfied: packaging>=20.0 in c:\\users\\jjaya\\miniconda3\\envs\\dsml\\lib\\site-packages (from matplotlib->braindecode) (23.1)\n",
      "Requirement already satisfied: pillow>=6.2.0 in c:\\users\\jjaya\\miniconda3\\envs\\dsml\\lib\\site-packages (from matplotlib->braindecode) (10.0.0)\n",
      "Requirement already satisfied: pyparsing<3.1,>=2.3.1 in c:\\users\\jjaya\\miniconda3\\envs\\dsml\\lib\\site-packages (from matplotlib->braindecode) (3.0.9)\n",
      "Requirement already satisfied: python-dateutil>=2.7 in c:\\users\\jjaya\\miniconda3\\envs\\dsml\\lib\\site-packages (from matplotlib->braindecode) (2.8.2)\n",
      "Requirement already satisfied: tqdm in c:\\users\\jjaya\\miniconda3\\envs\\dsml\\lib\\site-packages (from mne->braindecode) (4.66.1)\n",
      "Requirement already satisfied: pooch>=1.5 in c:\\users\\jjaya\\miniconda3\\envs\\dsml\\lib\\site-packages (from mne->braindecode) (1.8.1)\n",
      "Requirement already satisfied: decorator in c:\\users\\jjaya\\miniconda3\\envs\\dsml\\lib\\site-packages (from mne->braindecode) (4.4.2)\n",
      "Requirement already satisfied: jinja2 in c:\\users\\jjaya\\miniconda3\\envs\\dsml\\lib\\site-packages (from mne->braindecode) (3.1.2)\n",
      "Requirement already satisfied: lazy-loader>=0.3 in c:\\users\\jjaya\\miniconda3\\envs\\dsml\\lib\\site-packages (from mne->braindecode) (0.3)\n",
      "Requirement already satisfied: pytz>=2020.1 in c:\\users\\jjaya\\miniconda3\\envs\\dsml\\lib\\site-packages (from pandas->braindecode) (2023.3.post1)\n",
      "Requirement already satisfied: scikit-learn>=0.22.0 in c:\\users\\jjaya\\miniconda3\\envs\\dsml\\lib\\site-packages (from skorch->braindecode) (1.3.0)\n",
      "Requirement already satisfied: tabulate>=0.7.7 in c:\\users\\jjaya\\miniconda3\\envs\\dsml\\lib\\site-packages (from skorch->braindecode) (0.9.0)\n",
      "Requirement already satisfied: filelock in c:\\users\\jjaya\\miniconda3\\envs\\dsml\\lib\\site-packages (from torch->braindecode) (3.13.1)\n",
      "Requirement already satisfied: typing-extensions>=4.8.0 in c:\\users\\jjaya\\miniconda3\\envs\\dsml\\lib\\site-packages (from torch->braindecode) (4.8.0)\n",
      "Requirement already satisfied: sympy in c:\\users\\jjaya\\miniconda3\\envs\\dsml\\lib\\site-packages (from torch->braindecode) (1.12)\n",
      "Requirement already satisfied: networkx in c:\\users\\jjaya\\miniconda3\\envs\\dsml\\lib\\site-packages (from torch->braindecode) (3.2.1)\n",
      "Requirement already satisfied: fsspec in c:\\users\\jjaya\\miniconda3\\envs\\dsml\\lib\\site-packages (from torch->braindecode) (2024.2.0)\n",
      "Requirement already satisfied: platformdirs>=2.5.0 in c:\\users\\jjaya\\miniconda3\\envs\\dsml\\lib\\site-packages (from pooch>=1.5->mne->braindecode) (3.10.0)\n",
      "Requirement already satisfied: requests>=2.19.0 in c:\\users\\jjaya\\miniconda3\\envs\\dsml\\lib\\site-packages (from pooch>=1.5->mne->braindecode) (2.31.0)\n",
      "Requirement already satisfied: six>=1.5 in c:\\users\\jjaya\\miniconda3\\envs\\dsml\\lib\\site-packages (from python-dateutil>=2.7->matplotlib->braindecode) (1.16.0)\n",
      "Requirement already satisfied: threadpoolctl>=2.0.0 in c:\\users\\jjaya\\miniconda3\\envs\\dsml\\lib\\site-packages (from scikit-learn>=0.22.0->skorch->braindecode) (3.2.0)\n",
      "Requirement already satisfied: colorama in c:\\users\\jjaya\\miniconda3\\envs\\dsml\\lib\\site-packages (from tqdm->mne->braindecode) (0.4.6)\n",
      "Requirement already satisfied: MarkupSafe>=2.0 in c:\\users\\jjaya\\miniconda3\\envs\\dsml\\lib\\site-packages (from jinja2->mne->braindecode) (2.1.3)\n",
      "Requirement already satisfied: mpmath>=0.19 in c:\\users\\jjaya\\miniconda3\\envs\\dsml\\lib\\site-packages (from sympy->torch->braindecode) (1.3.0)\n",
      "Requirement already satisfied: charset-normalizer<4,>=2 in c:\\users\\jjaya\\miniconda3\\envs\\dsml\\lib\\site-packages (from requests>=2.19.0->pooch>=1.5->mne->braindecode) (3.2.0)\n",
      "Requirement already satisfied: idna<4,>=2.5 in c:\\users\\jjaya\\miniconda3\\envs\\dsml\\lib\\site-packages (from requests>=2.19.0->pooch>=1.5->mne->braindecode) (3.4)\n",
      "Requirement already satisfied: urllib3<3,>=1.21.1 in c:\\users\\jjaya\\miniconda3\\envs\\dsml\\lib\\site-packages (from requests>=2.19.0->pooch>=1.5->mne->braindecode) (1.26.18)\n",
      "Requirement already satisfied: certifi>=2017.4.17 in c:\\users\\jjaya\\miniconda3\\envs\\dsml\\lib\\site-packages (from requests>=2.19.0->pooch>=1.5->mne->braindecode) (2023.7.22)\n"
     ]
    },
    {
     "name": "stderr",
     "output_type": "stream",
     "text": [
      "\n",
      "[notice] A new release of pip is available: 23.3.2 -> 24.0\n",
      "[notice] To update, run: python.exe -m pip install --upgrade pip\n"
     ]
    },
    {
     "name": "stdout",
     "output_type": "stream",
     "text": [
      "Requirement already satisfied: moabb in c:\\users\\jjaya\\miniconda3\\envs\\dsml\\lib\\site-packages (1.0.0)\n",
      "Requirement already satisfied: PyYAML<7.0,>=6.0 in c:\\users\\jjaya\\miniconda3\\envs\\dsml\\lib\\site-packages (from moabb) (6.0.1)\n",
      "Requirement already satisfied: coverage<8.0.0,>=7.0.1 in c:\\users\\jjaya\\miniconda3\\envs\\dsml\\lib\\site-packages (from moabb) (7.4.4)\n",
      "Requirement already satisfied: edflib-python<2.0.0,>=1.0.6 in c:\\users\\jjaya\\miniconda3\\envs\\dsml\\lib\\site-packages (from moabb) (1.0.8)\n",
      "Requirement already satisfied: h5py<=3.8.0 in c:\\users\\jjaya\\miniconda3\\envs\\dsml\\lib\\site-packages (from moabb) (3.8.0)\n",
      "Requirement already satisfied: matplotlib<4.0.0,>=3.6.2 in c:\\users\\jjaya\\miniconda3\\envs\\dsml\\lib\\site-packages (from moabb) (3.7.2)\n",
      "Requirement already satisfied: memory-profiler<0.62.0,>=0.61.0 in c:\\users\\jjaya\\miniconda3\\envs\\dsml\\lib\\site-packages (from moabb) (0.61.0)\n",
      "Requirement already satisfied: mne<2.0,>=1.4 in c:\\users\\jjaya\\miniconda3\\envs\\dsml\\lib\\site-packages (from moabb) (1.6.1)\n",
      "Requirement already satisfied: mne-bids<0.14,>=0.13 in c:\\users\\jjaya\\miniconda3\\envs\\dsml\\lib\\site-packages (from moabb) (0.13)\n",
      "Requirement already satisfied: numpy<2.0,>=1.22 in c:\\users\\jjaya\\miniconda3\\envs\\dsml\\lib\\site-packages (from moabb) (1.25.2)\n",
      "Requirement already satisfied: pandas<2.0.0,>=1.5.2 in c:\\users\\jjaya\\miniconda3\\envs\\dsml\\lib\\site-packages (from moabb) (1.5.3)\n",
      "Requirement already satisfied: pooch<2.0.0,>=1.6.0 in c:\\users\\jjaya\\miniconda3\\envs\\dsml\\lib\\site-packages (from moabb) (1.8.1)\n",
      "Requirement already satisfied: pyriemann<0.6,>=0.5 in c:\\users\\jjaya\\miniconda3\\envs\\dsml\\lib\\site-packages (from moabb) (0.5)\n",
      "Requirement already satisfied: pytest<8.0.0,>=7.4.0 in c:\\users\\jjaya\\miniconda3\\envs\\dsml\\lib\\site-packages (from moabb) (7.4.4)\n",
      "Requirement already satisfied: requests<3.0.0,>=2.28.1 in c:\\users\\jjaya\\miniconda3\\envs\\dsml\\lib\\site-packages (from moabb) (2.31.0)\n",
      "Requirement already satisfied: scikit-learn<2.0.0,>=1.2.0 in c:\\users\\jjaya\\miniconda3\\envs\\dsml\\lib\\site-packages (from moabb) (1.3.0)\n",
      "Requirement already satisfied: scipy<2.0.0,>=1.9.3 in c:\\users\\jjaya\\miniconda3\\envs\\dsml\\lib\\site-packages (from moabb) (1.11.2)\n",
      "Requirement already satisfied: seaborn<0.13.0,>=0.12.1 in c:\\users\\jjaya\\miniconda3\\envs\\dsml\\lib\\site-packages (from moabb) (0.12.2)\n",
      "Requirement already satisfied: tqdm<5.0.0,>=4.64.1 in c:\\users\\jjaya\\miniconda3\\envs\\dsml\\lib\\site-packages (from moabb) (4.66.1)\n",
      "Requirement already satisfied: urllib3<2.0.0,>=1.26.15 in c:\\users\\jjaya\\miniconda3\\envs\\dsml\\lib\\site-packages (from moabb) (1.26.18)\n",
      "Requirement already satisfied: contourpy>=1.0.1 in c:\\users\\jjaya\\miniconda3\\envs\\dsml\\lib\\site-packages (from matplotlib<4.0.0,>=3.6.2->moabb) (1.1.0)\n",
      "Requirement already satisfied: cycler>=0.10 in c:\\users\\jjaya\\miniconda3\\envs\\dsml\\lib\\site-packages (from matplotlib<4.0.0,>=3.6.2->moabb) (0.11.0)\n",
      "Requirement already satisfied: fonttools>=4.22.0 in c:\\users\\jjaya\\miniconda3\\envs\\dsml\\lib\\site-packages (from matplotlib<4.0.0,>=3.6.2->moabb) (4.42.1)\n",
      "Requirement already satisfied: kiwisolver>=1.0.1 in c:\\users\\jjaya\\miniconda3\\envs\\dsml\\lib\\site-packages (from matplotlib<4.0.0,>=3.6.2->moabb) (1.4.5)\n",
      "Requirement already satisfied: packaging>=20.0 in c:\\users\\jjaya\\miniconda3\\envs\\dsml\\lib\\site-packages (from matplotlib<4.0.0,>=3.6.2->moabb) (23.1)\n",
      "Requirement already satisfied: pillow>=6.2.0 in c:\\users\\jjaya\\miniconda3\\envs\\dsml\\lib\\site-packages (from matplotlib<4.0.0,>=3.6.2->moabb) (10.0.0)\n",
      "Requirement already satisfied: pyparsing<3.1,>=2.3.1 in c:\\users\\jjaya\\miniconda3\\envs\\dsml\\lib\\site-packages (from matplotlib<4.0.0,>=3.6.2->moabb) (3.0.9)\n",
      "Requirement already satisfied: python-dateutil>=2.7 in c:\\users\\jjaya\\miniconda3\\envs\\dsml\\lib\\site-packages (from matplotlib<4.0.0,>=3.6.2->moabb) (2.8.2)\n",
      "Requirement already satisfied: psutil in c:\\users\\jjaya\\miniconda3\\envs\\dsml\\lib\\site-packages (from memory-profiler<0.62.0,>=0.61.0->moabb) (5.9.5)\n",
      "Requirement already satisfied: decorator in c:\\users\\jjaya\\miniconda3\\envs\\dsml\\lib\\site-packages (from mne<2.0,>=1.4->moabb) (4.4.2)\n",
      "Requirement already satisfied: jinja2 in c:\\users\\jjaya\\miniconda3\\envs\\dsml\\lib\\site-packages (from mne<2.0,>=1.4->moabb) (3.1.2)\n",
      "Requirement already satisfied: lazy-loader>=0.3 in c:\\users\\jjaya\\miniconda3\\envs\\dsml\\lib\\site-packages (from mne<2.0,>=1.4->moabb) (0.3)\n",
      "Requirement already satisfied: pytz>=2020.1 in c:\\users\\jjaya\\miniconda3\\envs\\dsml\\lib\\site-packages (from pandas<2.0.0,>=1.5.2->moabb) (2023.3.post1)\n",
      "Requirement already satisfied: platformdirs>=2.5.0 in c:\\users\\jjaya\\miniconda3\\envs\\dsml\\lib\\site-packages (from pooch<2.0.0,>=1.6.0->moabb) (3.10.0)\n",
      "Requirement already satisfied: joblib in c:\\users\\jjaya\\miniconda3\\envs\\dsml\\lib\\site-packages (from pyriemann<0.6,>=0.5->moabb) (1.3.2)\n",
      "Requirement already satisfied: iniconfig in c:\\users\\jjaya\\miniconda3\\envs\\dsml\\lib\\site-packages (from pytest<8.0.0,>=7.4.0->moabb) (2.0.0)\n",
      "Requirement already satisfied: pluggy<2.0,>=0.12 in c:\\users\\jjaya\\miniconda3\\envs\\dsml\\lib\\site-packages (from pytest<8.0.0,>=7.4.0->moabb) (1.4.0)\n",
      "Requirement already satisfied: colorama in c:\\users\\jjaya\\miniconda3\\envs\\dsml\\lib\\site-packages (from pytest<8.0.0,>=7.4.0->moabb) (0.4.6)\n",
      "Requirement already satisfied: charset-normalizer<4,>=2 in c:\\users\\jjaya\\miniconda3\\envs\\dsml\\lib\\site-packages (from requests<3.0.0,>=2.28.1->moabb) (3.2.0)\n",
      "Requirement already satisfied: idna<4,>=2.5 in c:\\users\\jjaya\\miniconda3\\envs\\dsml\\lib\\site-packages (from requests<3.0.0,>=2.28.1->moabb) (3.4)\n",
      "Requirement already satisfied: certifi>=2017.4.17 in c:\\users\\jjaya\\miniconda3\\envs\\dsml\\lib\\site-packages (from requests<3.0.0,>=2.28.1->moabb) (2023.7.22)\n",
      "Requirement already satisfied: threadpoolctl>=2.0.0 in c:\\users\\jjaya\\miniconda3\\envs\\dsml\\lib\\site-packages (from scikit-learn<2.0.0,>=1.2.0->moabb) (3.2.0)\n",
      "Requirement already satisfied: six>=1.5 in c:\\users\\jjaya\\miniconda3\\envs\\dsml\\lib\\site-packages (from python-dateutil>=2.7->matplotlib<4.0.0,>=3.6.2->moabb) (1.16.0)\n",
      "Requirement already satisfied: MarkupSafe>=2.0 in c:\\users\\jjaya\\miniconda3\\envs\\dsml\\lib\\site-packages (from jinja2->mne<2.0,>=1.4->moabb) (2.1.3)\n"
     ]
    },
    {
     "name": "stderr",
     "output_type": "stream",
     "text": [
      "\n",
      "[notice] A new release of pip is available: 23.3.2 -> 24.0\n",
      "[notice] To update, run: python.exe -m pip install --upgrade pip\n"
     ]
    }
   ],
   "source": [
    "!pip install braindecode\n",
    "!pip install moabb"
   ]
  },
  {
   "cell_type": "code",
   "execution_count": 2,
   "metadata": {},
   "outputs": [
    {
     "name": "stderr",
     "output_type": "stream",
     "text": [
      "<frozen importlib._bootstrap>:241: FutureWarning: mne.io.pick.pick_types is deprecated will be removed in 1.6, use documented public API instead. If no appropriate public API exists, please open an issue on GitHub.\n",
      "<frozen importlib._bootstrap>:241: FutureWarning: mne.io.pick.pick_channels_regexp is deprecated will be removed in 1.6, use documented public API instead. If no appropriate public API exists, please open an issue on GitHub.\n",
      "<frozen importlib._bootstrap>:241: FutureWarning: mne.io.pick.channel_type is deprecated will be removed in 1.6, use documented public API instead. If no appropriate public API exists, please open an issue on GitHub.\n"
     ]
    },
    {
     "name": "stdout",
     "output_type": "stream",
     "text": [
      "WARNING:tensorflow:From c:\\Users\\jjaya\\miniconda3\\envs\\dsml\\Lib\\site-packages\\keras\\src\\losses.py:2976: The name tf.losses.sparse_softmax_cross_entropy is deprecated. Please use tf.compat.v1.losses.sparse_softmax_cross_entropy instead.\n",
      "\n"
     ]
    },
    {
     "name": "stderr",
     "output_type": "stream",
     "text": [
      "c:\\Users\\jjaya\\miniconda3\\envs\\dsml\\Lib\\site-packages\\moabb\\pipelines\\__init__.py:26: ModuleNotFoundError: Tensorflow is not installed. You won't be able to use these MOABB pipelines if you attempt to do so.\n",
      "  warn(\n"
     ]
    }
   ],
   "source": [
    "import braindecode\n",
    "import torch\n",
    "from braindecode.models import EEGNetv4, EEGConformer, ATCNet, EEGITNet, EEGInception\n",
    "from braindecode.datasets import MOABBDataset"
   ]
  },
  {
   "cell_type": "markdown",
   "metadata": {},
   "source": [
    "## Dataset loading"
   ]
  },
  {
   "cell_type": "code",
   "execution_count": 3,
   "metadata": {},
   "outputs": [],
   "source": [
    "raw_dataset = MOABBDataset(dataset_name=\"BNCI2014_001\", subject_ids=None)"
   ]
  },
  {
   "cell_type": "markdown",
   "metadata": {},
   "source": [
    "## Preprocess dataset using braindecode API"
   ]
  },
  {
   "cell_type": "code",
   "execution_count": 4,
   "metadata": {},
   "outputs": [],
   "source": [
    "from braindecode.preprocessing import create_windows_from_events\n",
    "from braindecode.preprocessing import exponential_moving_standardize, preprocess, Preprocessor"
   ]
  },
  {
   "cell_type": "code",
   "execution_count": 5,
   "metadata": {},
   "outputs": [
    {
     "name": "stdout",
     "output_type": "stream",
     "text": [
      "Filtering raw data in 1 contiguous segment\n",
      "Setting up band-pass filter from 0.5 - 90 Hz\n",
      "\n",
      "FIR filter parameters\n",
      "---------------------\n",
      "Designing a one-pass, zero-phase, non-causal bandpass filter:\n",
      "- Windowed time-domain design (firwin) method\n",
      "- Hamming window with 0.0194 passband ripple and 53 dB stopband attenuation\n",
      "- Lower passband edge: 0.50\n",
      "- Lower transition bandwidth: 0.50 Hz (-6 dB cutoff frequency: 0.25 Hz)\n",
      "- Upper passband edge: 90.00 Hz\n",
      "- Upper transition bandwidth: 22.50 Hz (-6 dB cutoff frequency: 101.25 Hz)\n",
      "- Filter length: 1651 samples (6.604 s)\n",
      "\n",
      "Sampling frequency of the instance is already 250.0, returning unmodified.\n",
      "Filtering raw data in 1 contiguous segment\n",
      "Setting up band-pass filter from 0.5 - 90 Hz\n",
      "\n",
      "FIR filter parameters\n",
      "---------------------\n",
      "Designing a one-pass, zero-phase, non-causal bandpass filter:\n",
      "- Windowed time-domain design (firwin) method\n",
      "- Hamming window with 0.0194 passband ripple and 53 dB stopband attenuation\n",
      "- Lower passband edge: 0.50\n",
      "- Lower transition bandwidth: 0.50 Hz (-6 dB cutoff frequency: 0.25 Hz)\n",
      "- Upper passband edge: 90.00 Hz\n",
      "- Upper transition bandwidth: 22.50 Hz (-6 dB cutoff frequency: 101.25 Hz)\n",
      "- Filter length: 1651 samples (6.604 s)\n",
      "\n"
     ]
    },
    {
     "name": "stderr",
     "output_type": "stream",
     "text": [
      "[Parallel(n_jobs=1)]: Done  17 tasks      | elapsed:    0.0s\n"
     ]
    },
    {
     "name": "stdout",
     "output_type": "stream",
     "text": [
      "Sampling frequency of the instance is already 250.0, returning unmodified.\n",
      "Filtering raw data in 1 contiguous segment\n",
      "Setting up band-pass filter from 0.5 - 90 Hz\n",
      "\n",
      "FIR filter parameters\n",
      "---------------------\n",
      "Designing a one-pass, zero-phase, non-causal bandpass filter:\n",
      "- Windowed time-domain design (firwin) method\n"
     ]
    },
    {
     "name": "stderr",
     "output_type": "stream",
     "text": [
      "[Parallel(n_jobs=1)]: Done  17 tasks      | elapsed:    0.0s\n"
     ]
    },
    {
     "name": "stdout",
     "output_type": "stream",
     "text": [
      "- Hamming window with 0.0194 passband ripple and 53 dB stopband attenuation\n",
      "- Lower passband edge: 0.50\n",
      "- Lower transition bandwidth: 0.50 Hz (-6 dB cutoff frequency: 0.25 Hz)\n",
      "- Upper passband edge: 90.00 Hz\n",
      "- Upper transition bandwidth: 22.50 Hz (-6 dB cutoff frequency: 101.25 Hz)\n",
      "- Filter length: 1651 samples (6.604 s)\n",
      "\n",
      "Sampling frequency of the instance is already 250.0, returning unmodified.\n"
     ]
    },
    {
     "name": "stderr",
     "output_type": "stream",
     "text": [
      "[Parallel(n_jobs=1)]: Done  17 tasks      | elapsed:    0.0s\n"
     ]
    },
    {
     "name": "stdout",
     "output_type": "stream",
     "text": [
      "Filtering raw data in 1 contiguous segment\n",
      "Setting up band-pass filter from 0.5 - 90 Hz\n",
      "\n",
      "FIR filter parameters\n",
      "---------------------\n",
      "Designing a one-pass, zero-phase, non-causal bandpass filter:\n",
      "- Windowed time-domain design (firwin) method\n",
      "- Hamming window with 0.0194 passband ripple and 53 dB stopband attenuation\n",
      "- Lower passband edge: 0.50\n",
      "- Lower transition bandwidth: 0.50 Hz (-6 dB cutoff frequency: 0.25 Hz)\n",
      "- Upper passband edge: 90.00 Hz\n",
      "- Upper transition bandwidth: 22.50 Hz (-6 dB cutoff frequency: 101.25 Hz)\n",
      "- Filter length: 1651 samples (6.604 s)\n",
      "\n",
      "Sampling frequency of the instance is already 250.0, returning unmodified.\n",
      "Filtering raw data in 1 contiguous segment\n",
      "Setting up band-pass filter from 0.5 - 90 Hz\n",
      "\n",
      "FIR filter parameters\n",
      "---------------------\n",
      "Designing a one-pass, zero-phase, non-causal bandpass filter:\n",
      "- Windowed time-domain design (firwin) method\n",
      "- Hamming window with 0.0194 passband ripple and 53 dB stopband attenuation\n",
      "- Lower passband edge: 0.50\n"
     ]
    },
    {
     "name": "stderr",
     "output_type": "stream",
     "text": [
      "[Parallel(n_jobs=1)]: Done  17 tasks      | elapsed:    0.0s\n"
     ]
    },
    {
     "name": "stdout",
     "output_type": "stream",
     "text": [
      "- Lower transition bandwidth: 0.50 Hz (-6 dB cutoff frequency: 0.25 Hz)\n",
      "- Upper passband edge: 90.00 Hz\n",
      "- Upper transition bandwidth: 22.50 Hz (-6 dB cutoff frequency: 101.25 Hz)\n",
      "- Filter length: 1651 samples (6.604 s)\n",
      "\n",
      "Sampling frequency of the instance is already 250.0, returning unmodified.\n",
      "Filtering raw data in 1 contiguous segment\n",
      "Setting up band-pass filter from 0.5 - 90 Hz\n",
      "\n",
      "FIR filter parameters\n",
      "---------------------\n",
      "Designing a one-pass, zero-phase, non-causal bandpass filter:\n",
      "- Windowed time-domain design (firwin) method\n",
      "- Hamming window with 0.0194 passband ripple and 53 dB stopband attenuation\n"
     ]
    },
    {
     "name": "stderr",
     "output_type": "stream",
     "text": [
      "[Parallel(n_jobs=1)]: Done  17 tasks      | elapsed:    0.0s\n"
     ]
    },
    {
     "name": "stdout",
     "output_type": "stream",
     "text": [
      "- Lower passband edge: 0.50\n",
      "- Lower transition bandwidth: 0.50 Hz (-6 dB cutoff frequency: 0.25 Hz)\n",
      "- Upper passband edge: 90.00 Hz\n",
      "- Upper transition bandwidth: 22.50 Hz (-6 dB cutoff frequency: 101.25 Hz)\n",
      "- Filter length: 1651 samples (6.604 s)\n",
      "\n",
      "Sampling frequency of the instance is already 250.0, returning unmodified.\n",
      "Filtering raw data in 1 contiguous segment\n"
     ]
    },
    {
     "name": "stderr",
     "output_type": "stream",
     "text": [
      "[Parallel(n_jobs=1)]: Done  17 tasks      | elapsed:    0.0s\n"
     ]
    },
    {
     "name": "stdout",
     "output_type": "stream",
     "text": [
      "Setting up band-pass filter from 0.5 - 90 Hz\n",
      "\n",
      "FIR filter parameters\n",
      "---------------------\n",
      "Designing a one-pass, zero-phase, non-causal bandpass filter:\n",
      "- Windowed time-domain design (firwin) method\n",
      "- Hamming window with 0.0194 passband ripple and 53 dB stopband attenuation\n",
      "- Lower passband edge: 0.50\n",
      "- Lower transition bandwidth: 0.50 Hz (-6 dB cutoff frequency: 0.25 Hz)\n",
      "- Upper passband edge: 90.00 Hz\n",
      "- Upper transition bandwidth: 22.50 Hz (-6 dB cutoff frequency: 101.25 Hz)\n",
      "- Filter length: 1651 samples (6.604 s)\n",
      "\n",
      "Sampling frequency of the instance is already 250.0, returning unmodified.\n",
      "Filtering raw data in 1 contiguous segment\n"
     ]
    },
    {
     "name": "stderr",
     "output_type": "stream",
     "text": [
      "[Parallel(n_jobs=1)]: Done  17 tasks      | elapsed:    0.0s\n"
     ]
    },
    {
     "name": "stdout",
     "output_type": "stream",
     "text": [
      "Setting up band-pass filter from 0.5 - 90 Hz\n",
      "\n",
      "FIR filter parameters\n",
      "---------------------\n",
      "Designing a one-pass, zero-phase, non-causal bandpass filter:\n",
      "- Windowed time-domain design (firwin) method\n",
      "- Hamming window with 0.0194 passband ripple and 53 dB stopband attenuation\n",
      "- Lower passband edge: 0.50\n",
      "- Lower transition bandwidth: 0.50 Hz (-6 dB cutoff frequency: 0.25 Hz)\n",
      "- Upper passband edge: 90.00 Hz\n",
      "- Upper transition bandwidth: 22.50 Hz (-6 dB cutoff frequency: 101.25 Hz)\n",
      "- Filter length: 1651 samples (6.604 s)\n",
      "\n",
      "Sampling frequency of the instance is already 250.0, returning unmodified.\n",
      "Filtering raw data in 1 contiguous segment\n",
      "Setting up band-pass filter from 0.5 - 90 Hz\n",
      "\n",
      "FIR filter parameters\n",
      "---------------------\n",
      "Designing a one-pass, zero-phase, non-causal bandpass filter:\n",
      "- Windowed time-domain design (firwin) method\n",
      "- Hamming window with 0.0194 passband ripple and 53 dB stopband attenuation\n",
      "- Lower passband edge: 0.50\n",
      "- Lower transition bandwidth: 0.50 Hz (-6 dB cutoff frequency: 0.25 Hz)\n",
      "- Upper passband edge: 90.00 Hz\n",
      "- Upper transition bandwidth: 22.50 Hz (-6 dB cutoff frequency: 101.25 Hz)\n",
      "- Filter length: 1651 samples (6.604 s)\n",
      "\n"
     ]
    },
    {
     "name": "stderr",
     "output_type": "stream",
     "text": [
      "[Parallel(n_jobs=1)]: Done  17 tasks      | elapsed:    0.0s\n"
     ]
    },
    {
     "name": "stdout",
     "output_type": "stream",
     "text": [
      "Sampling frequency of the instance is already 250.0, returning unmodified.\n"
     ]
    },
    {
     "name": "stderr",
     "output_type": "stream",
     "text": [
      "[Parallel(n_jobs=1)]: Done  17 tasks      | elapsed:    0.0s\n"
     ]
    },
    {
     "name": "stdout",
     "output_type": "stream",
     "text": [
      "Filtering raw data in 1 contiguous segment\n",
      "Setting up band-pass filter from 0.5 - 90 Hz\n",
      "\n",
      "FIR filter parameters\n",
      "---------------------\n",
      "Designing a one-pass, zero-phase, non-causal bandpass filter:\n",
      "- Windowed time-domain design (firwin) method\n",
      "- Hamming window with 0.0194 passband ripple and 53 dB stopband attenuation\n",
      "- Lower passband edge: 0.50\n",
      "- Lower transition bandwidth: 0.50 Hz (-6 dB cutoff frequency: 0.25 Hz)\n",
      "- Upper passband edge: 90.00 Hz\n",
      "- Upper transition bandwidth: 22.50 Hz (-6 dB cutoff frequency: 101.25 Hz)\n",
      "- Filter length: 1651 samples (6.604 s)\n",
      "\n",
      "Sampling frequency of the instance is already 250.0, returning unmodified.\n",
      "Filtering raw data in 1 contiguous segment\n",
      "Setting up band-pass filter from 0.5 - 90 Hz\n",
      "\n",
      "FIR filter parameters\n",
      "---------------------\n",
      "Designing a one-pass, zero-phase, non-causal bandpass filter:\n",
      "- Windowed time-domain design (firwin) method\n",
      "- Hamming window with 0.0194 passband ripple and 53 dB stopband attenuation\n",
      "- Lower passband edge: 0.50\n"
     ]
    },
    {
     "name": "stderr",
     "output_type": "stream",
     "text": [
      "[Parallel(n_jobs=1)]: Done  17 tasks      | elapsed:    0.0s\n"
     ]
    },
    {
     "name": "stdout",
     "output_type": "stream",
     "text": [
      "- Lower transition bandwidth: 0.50 Hz (-6 dB cutoff frequency: 0.25 Hz)\n",
      "- Upper passband edge: 90.00 Hz\n",
      "- Upper transition bandwidth: 22.50 Hz (-6 dB cutoff frequency: 101.25 Hz)\n",
      "- Filter length: 1651 samples (6.604 s)\n",
      "\n",
      "Sampling frequency of the instance is already 250.0, returning unmodified.\n",
      "Filtering raw data in 1 contiguous segment\n",
      "Setting up band-pass filter from 0.5 - 90 Hz\n",
      "\n",
      "FIR filter parameters\n",
      "---------------------\n",
      "Designing a one-pass, zero-phase, non-causal bandpass filter:\n",
      "- Windowed time-domain design (firwin) method\n",
      "- Hamming window with 0.0194 passband ripple and 53 dB stopband attenuation\n",
      "- Lower passband edge: 0.50\n",
      "- Lower transition bandwidth: 0.50 Hz (-6 dB cutoff frequency: 0.25 Hz)\n",
      "- Upper passband edge: 90.00 Hz\n",
      "- Upper transition bandwidth: 22.50 Hz (-6 dB cutoff frequency: 101.25 Hz)\n"
     ]
    },
    {
     "name": "stderr",
     "output_type": "stream",
     "text": [
      "[Parallel(n_jobs=1)]: Done  17 tasks      | elapsed:    0.0s\n"
     ]
    },
    {
     "name": "stdout",
     "output_type": "stream",
     "text": [
      "- Filter length: 1651 samples (6.604 s)\n",
      "\n",
      "Sampling frequency of the instance is already 250.0, returning unmodified.\n",
      "Filtering raw data in 1 contiguous segment\n"
     ]
    },
    {
     "name": "stderr",
     "output_type": "stream",
     "text": [
      "[Parallel(n_jobs=1)]: Done  17 tasks      | elapsed:    0.0s\n"
     ]
    },
    {
     "name": "stdout",
     "output_type": "stream",
     "text": [
      "Setting up band-pass filter from 0.5 - 90 Hz\n",
      "\n",
      "FIR filter parameters\n",
      "---------------------\n",
      "Designing a one-pass, zero-phase, non-causal bandpass filter:\n",
      "- Windowed time-domain design (firwin) method\n",
      "- Hamming window with 0.0194 passband ripple and 53 dB stopband attenuation\n",
      "- Lower passband edge: 0.50\n",
      "- Lower transition bandwidth: 0.50 Hz (-6 dB cutoff frequency: 0.25 Hz)\n",
      "- Upper passband edge: 90.00 Hz\n",
      "- Upper transition bandwidth: 22.50 Hz (-6 dB cutoff frequency: 101.25 Hz)\n",
      "- Filter length: 1651 samples (6.604 s)\n",
      "\n",
      "Sampling frequency of the instance is already 250.0, returning unmodified.\n",
      "Filtering raw data in 1 contiguous segment\n",
      "Setting up band-pass filter from 0.5 - 90 Hz\n"
     ]
    },
    {
     "name": "stderr",
     "output_type": "stream",
     "text": [
      "[Parallel(n_jobs=1)]: Done  17 tasks      | elapsed:    0.0s\n"
     ]
    },
    {
     "name": "stdout",
     "output_type": "stream",
     "text": [
      "\n",
      "FIR filter parameters\n",
      "---------------------\n",
      "Designing a one-pass, zero-phase, non-causal bandpass filter:\n",
      "- Windowed time-domain design (firwin) method\n",
      "- Hamming window with 0.0194 passband ripple and 53 dB stopband attenuation\n",
      "- Lower passband edge: 0.50\n",
      "- Lower transition bandwidth: 0.50 Hz (-6 dB cutoff frequency: 0.25 Hz)\n",
      "- Upper passband edge: 90.00 Hz\n",
      "- Upper transition bandwidth: 22.50 Hz (-6 dB cutoff frequency: 101.25 Hz)\n",
      "- Filter length: 1651 samples (6.604 s)\n",
      "\n",
      "Sampling frequency of the instance is already 250.0, returning unmodified.\n",
      "Filtering raw data in 1 contiguous segment\n",
      "Setting up band-pass filter from 0.5 - 90 Hz\n",
      "\n",
      "FIR filter parameters\n",
      "---------------------\n",
      "Designing a one-pass, zero-phase, non-causal bandpass filter:\n",
      "- Windowed time-domain design (firwin) method\n",
      "- Hamming window with 0.0194 passband ripple and 53 dB stopband attenuation\n",
      "- Lower passband edge: 0.50\n",
      "- Lower transition bandwidth: 0.50 Hz (-6 dB cutoff frequency: 0.25 Hz)\n",
      "- Upper passband edge: 90.00 Hz\n"
     ]
    },
    {
     "name": "stderr",
     "output_type": "stream",
     "text": [
      "[Parallel(n_jobs=1)]: Done  17 tasks      | elapsed:    0.0s\n"
     ]
    },
    {
     "name": "stdout",
     "output_type": "stream",
     "text": [
      "- Upper transition bandwidth: 22.50 Hz (-6 dB cutoff frequency: 101.25 Hz)\n",
      "- Filter length: 1651 samples (6.604 s)\n",
      "\n",
      "Sampling frequency of the instance is already 250.0, returning unmodified.\n"
     ]
    },
    {
     "name": "stderr",
     "output_type": "stream",
     "text": [
      "[Parallel(n_jobs=1)]: Done  17 tasks      | elapsed:    0.0s\n"
     ]
    },
    {
     "name": "stdout",
     "output_type": "stream",
     "text": [
      "Filtering raw data in 1 contiguous segment\n",
      "Setting up band-pass filter from 0.5 - 90 Hz\n",
      "\n",
      "FIR filter parameters\n",
      "---------------------\n",
      "Designing a one-pass, zero-phase, non-causal bandpass filter:\n",
      "- Windowed time-domain design (firwin) method\n",
      "- Hamming window with 0.0194 passband ripple and 53 dB stopband attenuation\n",
      "- Lower passband edge: 0.50\n",
      "- Lower transition bandwidth: 0.50 Hz (-6 dB cutoff frequency: 0.25 Hz)\n",
      "- Upper passband edge: 90.00 Hz\n",
      "- Upper transition bandwidth: 22.50 Hz (-6 dB cutoff frequency: 101.25 Hz)\n",
      "- Filter length: 1651 samples (6.604 s)\n",
      "\n",
      "Sampling frequency of the instance is already 250.0, returning unmodified.\n",
      "Filtering raw data in 1 contiguous segment\n",
      "Setting up band-pass filter from 0.5 - 90 Hz\n",
      "\n",
      "FIR filter parameters\n",
      "---------------------\n",
      "Designing a one-pass, zero-phase, non-causal bandpass filter:\n",
      "- Windowed time-domain design (firwin) method\n",
      "- Hamming window with 0.0194 passband ripple and 53 dB stopband attenuation\n",
      "- Lower passband edge: 0.50\n",
      "- Lower transition bandwidth: 0.50 Hz (-6 dB cutoff frequency: 0.25 Hz)\n"
     ]
    },
    {
     "name": "stderr",
     "output_type": "stream",
     "text": [
      "[Parallel(n_jobs=1)]: Done  17 tasks      | elapsed:    0.0s\n"
     ]
    },
    {
     "name": "stdout",
     "output_type": "stream",
     "text": [
      "- Upper passband edge: 90.00 Hz\n",
      "- Upper transition bandwidth: 22.50 Hz (-6 dB cutoff frequency: 101.25 Hz)\n",
      "- Filter length: 1651 samples (6.604 s)\n",
      "\n",
      "Sampling frequency of the instance is already 250.0, returning unmodified.\n"
     ]
    },
    {
     "name": "stderr",
     "output_type": "stream",
     "text": [
      "[Parallel(n_jobs=1)]: Done  17 tasks      | elapsed:    0.0s\n"
     ]
    },
    {
     "name": "stdout",
     "output_type": "stream",
     "text": [
      "Filtering raw data in 1 contiguous segment\n",
      "Setting up band-pass filter from 0.5 - 90 Hz\n",
      "\n",
      "FIR filter parameters\n",
      "---------------------\n",
      "Designing a one-pass, zero-phase, non-causal bandpass filter:\n",
      "- Windowed time-domain design (firwin) method\n",
      "- Hamming window with 0.0194 passband ripple and 53 dB stopband attenuation\n",
      "- Lower passband edge: 0.50\n",
      "- Lower transition bandwidth: 0.50 Hz (-6 dB cutoff frequency: 0.25 Hz)\n",
      "- Upper passband edge: 90.00 Hz\n",
      "- Upper transition bandwidth: 22.50 Hz (-6 dB cutoff frequency: 101.25 Hz)\n",
      "- Filter length: 1651 samples (6.604 s)\n",
      "\n",
      "Sampling frequency of the instance is already 250.0, returning unmodified.\n",
      "Filtering raw data in 1 contiguous segment\n",
      "Setting up band-pass filter from 0.5 - 90 Hz\n",
      "\n",
      "FIR filter parameters\n",
      "---------------------\n",
      "Designing a one-pass, zero-phase, non-causal bandpass filter:\n",
      "- Windowed time-domain design (firwin) method\n",
      "- Hamming window with 0.0194 passband ripple and 53 dB stopband attenuation\n",
      "- Lower passband edge: 0.50\n",
      "- Lower transition bandwidth: 0.50 Hz (-6 dB cutoff frequency: 0.25 Hz)\n",
      "- Upper passband edge: 90.00 Hz\n"
     ]
    },
    {
     "name": "stderr",
     "output_type": "stream",
     "text": [
      "[Parallel(n_jobs=1)]: Done  17 tasks      | elapsed:    0.0s\n"
     ]
    },
    {
     "name": "stdout",
     "output_type": "stream",
     "text": [
      "- Upper transition bandwidth: 22.50 Hz (-6 dB cutoff frequency: 101.25 Hz)\n",
      "- Filter length: 1651 samples (6.604 s)\n",
      "\n",
      "Sampling frequency of the instance is already 250.0, returning unmodified.\n",
      "Filtering raw data in 1 contiguous segment\n",
      "Setting up band-pass filter from 0.5 - 90 Hz\n",
      "\n",
      "FIR filter parameters\n",
      "---------------------\n",
      "Designing a one-pass, zero-phase, non-causal bandpass filter:\n",
      "- Windowed time-domain design (firwin) method\n",
      "- Hamming window with 0.0194 passband ripple and 53 dB stopband attenuation\n",
      "- Lower passband edge: 0.50\n",
      "- Lower transition bandwidth: 0.50 Hz (-6 dB cutoff frequency: 0.25 Hz)\n"
     ]
    },
    {
     "name": "stderr",
     "output_type": "stream",
     "text": [
      "[Parallel(n_jobs=1)]: Done  17 tasks      | elapsed:    0.0s\n"
     ]
    },
    {
     "name": "stdout",
     "output_type": "stream",
     "text": [
      "- Upper passband edge: 90.00 Hz\n",
      "- Upper transition bandwidth: 22.50 Hz (-6 dB cutoff frequency: 101.25 Hz)\n",
      "- Filter length: 1651 samples (6.604 s)\n",
      "\n",
      "Sampling frequency of the instance is already 250.0, returning unmodified.\n",
      "Filtering raw data in 1 contiguous segment\n",
      "Setting up band-pass filter from 0.5 - 90 Hz\n",
      "\n",
      "FIR filter parameters\n",
      "---------------------\n",
      "Designing a one-pass, zero-phase, non-causal bandpass filter:\n",
      "- Windowed time-domain design (firwin) method\n",
      "- Hamming window with 0.0194 passband ripple and 53 dB stopband attenuation\n"
     ]
    },
    {
     "name": "stderr",
     "output_type": "stream",
     "text": [
      "[Parallel(n_jobs=1)]: Done  17 tasks      | elapsed:    0.0s\n"
     ]
    },
    {
     "name": "stdout",
     "output_type": "stream",
     "text": [
      "- Lower passband edge: 0.50\n",
      "- Lower transition bandwidth: 0.50 Hz (-6 dB cutoff frequency: 0.25 Hz)\n",
      "- Upper passband edge: 90.00 Hz\n",
      "- Upper transition bandwidth: 22.50 Hz (-6 dB cutoff frequency: 101.25 Hz)\n",
      "- Filter length: 1651 samples (6.604 s)\n",
      "\n",
      "Sampling frequency of the instance is already 250.0, returning unmodified.\n",
      "Filtering raw data in 1 contiguous segment\n",
      "Setting up band-pass filter from 0.5 - 90 Hz\n",
      "\n",
      "FIR filter parameters\n",
      "---------------------\n",
      "Designing a one-pass, zero-phase, non-causal bandpass filter:\n"
     ]
    },
    {
     "name": "stderr",
     "output_type": "stream",
     "text": [
      "[Parallel(n_jobs=1)]: Done  17 tasks      | elapsed:    0.0s\n"
     ]
    },
    {
     "name": "stdout",
     "output_type": "stream",
     "text": [
      "- Windowed time-domain design (firwin) method\n",
      "- Hamming window with 0.0194 passband ripple and 53 dB stopband attenuation\n",
      "- Lower passband edge: 0.50\n",
      "- Lower transition bandwidth: 0.50 Hz (-6 dB cutoff frequency: 0.25 Hz)\n",
      "- Upper passband edge: 90.00 Hz\n",
      "- Upper transition bandwidth: 22.50 Hz (-6 dB cutoff frequency: 101.25 Hz)\n",
      "- Filter length: 1651 samples (6.604 s)\n",
      "\n",
      "Sampling frequency of the instance is already 250.0, returning unmodified.\n",
      "Filtering raw data in 1 contiguous segment\n"
     ]
    },
    {
     "name": "stderr",
     "output_type": "stream",
     "text": [
      "[Parallel(n_jobs=1)]: Done  17 tasks      | elapsed:    0.0s\n"
     ]
    },
    {
     "name": "stdout",
     "output_type": "stream",
     "text": [
      "Setting up band-pass filter from 0.5 - 90 Hz\n",
      "\n",
      "FIR filter parameters\n",
      "---------------------\n",
      "Designing a one-pass, zero-phase, non-causal bandpass filter:\n",
      "- Windowed time-domain design (firwin) method\n",
      "- Hamming window with 0.0194 passband ripple and 53 dB stopband attenuation\n",
      "- Lower passband edge: 0.50\n",
      "- Lower transition bandwidth: 0.50 Hz (-6 dB cutoff frequency: 0.25 Hz)\n",
      "- Upper passband edge: 90.00 Hz\n",
      "- Upper transition bandwidth: 22.50 Hz (-6 dB cutoff frequency: 101.25 Hz)\n",
      "- Filter length: 1651 samples (6.604 s)\n",
      "\n",
      "Sampling frequency of the instance is already 250.0, returning unmodified.\n",
      "Filtering raw data in 1 contiguous segment\n"
     ]
    },
    {
     "name": "stderr",
     "output_type": "stream",
     "text": [
      "[Parallel(n_jobs=1)]: Done  17 tasks      | elapsed:    0.0s\n"
     ]
    },
    {
     "name": "stdout",
     "output_type": "stream",
     "text": [
      "Setting up band-pass filter from 0.5 - 90 Hz\n",
      "\n",
      "FIR filter parameters\n",
      "---------------------\n",
      "Designing a one-pass, zero-phase, non-causal bandpass filter:\n",
      "- Windowed time-domain design (firwin) method\n",
      "- Hamming window with 0.0194 passband ripple and 53 dB stopband attenuation\n",
      "- Lower passband edge: 0.50\n",
      "- Lower transition bandwidth: 0.50 Hz (-6 dB cutoff frequency: 0.25 Hz)\n",
      "- Upper passband edge: 90.00 Hz\n",
      "- Upper transition bandwidth: 22.50 Hz (-6 dB cutoff frequency: 101.25 Hz)\n",
      "- Filter length: 1651 samples (6.604 s)\n",
      "\n",
      "Sampling frequency of the instance is already 250.0, returning unmodified.\n",
      "Filtering raw data in 1 contiguous segment\n",
      "Setting up band-pass filter from 0.5 - 90 Hz\n",
      "\n",
      "FIR filter parameters\n",
      "---------------------\n",
      "Designing a one-pass, zero-phase, non-causal bandpass filter:\n",
      "- Windowed time-domain design (firwin) method\n",
      "- Hamming window with 0.0194 passband ripple and 53 dB stopband attenuation\n",
      "- Lower passband edge: 0.50\n",
      "- Lower transition bandwidth: 0.50 Hz (-6 dB cutoff frequency: 0.25 Hz)\n",
      "- Upper passband edge: 90.00 Hz\n",
      "- Upper transition bandwidth: 22.50 Hz (-6 dB cutoff frequency: 101.25 Hz)\n",
      "- Filter length: 1651 samples (6.604 s)\n",
      "\n"
     ]
    },
    {
     "name": "stderr",
     "output_type": "stream",
     "text": [
      "[Parallel(n_jobs=1)]: Done  17 tasks      | elapsed:    0.0s\n"
     ]
    },
    {
     "name": "stdout",
     "output_type": "stream",
     "text": [
      "Sampling frequency of the instance is already 250.0, returning unmodified.\n",
      "Filtering raw data in 1 contiguous segment\n",
      "Setting up band-pass filter from 0.5 - 90 Hz\n",
      "\n",
      "FIR filter parameters\n",
      "---------------------\n",
      "Designing a one-pass, zero-phase, non-causal bandpass filter:\n",
      "- Windowed time-domain design (firwin) method\n",
      "- Hamming window with 0.0194 passband ripple and 53 dB stopband attenuation\n",
      "- Lower passband edge: 0.50\n",
      "- Lower transition bandwidth: 0.50 Hz (-6 dB cutoff frequency: 0.25 Hz)\n",
      "- Upper passband edge: 90.00 Hz\n",
      "- Upper transition bandwidth: 22.50 Hz (-6 dB cutoff frequency: 101.25 Hz)\n",
      "- Filter length: 1651 samples (6.604 s)\n",
      "\n"
     ]
    },
    {
     "name": "stderr",
     "output_type": "stream",
     "text": [
      "[Parallel(n_jobs=1)]: Done  17 tasks      | elapsed:    0.0s\n"
     ]
    },
    {
     "name": "stdout",
     "output_type": "stream",
     "text": [
      "Sampling frequency of the instance is already 250.0, returning unmodified.\n",
      "Filtering raw data in 1 contiguous segment\n",
      "Setting up band-pass filter from 0.5 - 90 Hz\n",
      "\n",
      "FIR filter parameters\n",
      "---------------------\n",
      "Designing a one-pass, zero-phase, non-causal bandpass filter:\n",
      "- Windowed time-domain design (firwin) method\n",
      "- Hamming window with 0.0194 passband ripple and 53 dB stopband attenuation\n",
      "- Lower passband edge: 0.50\n",
      "- Lower transition bandwidth: 0.50 Hz (-6 dB cutoff frequency: 0.25 Hz)\n",
      "- Upper passband edge: 90.00 Hz\n",
      "- Upper transition bandwidth: 22.50 Hz (-6 dB cutoff frequency: 101.25 Hz)\n"
     ]
    },
    {
     "name": "stderr",
     "output_type": "stream",
     "text": [
      "[Parallel(n_jobs=1)]: Done  17 tasks      | elapsed:    0.0s\n"
     ]
    },
    {
     "name": "stdout",
     "output_type": "stream",
     "text": [
      "- Filter length: 1651 samples (6.604 s)\n",
      "\n",
      "Sampling frequency of the instance is already 250.0, returning unmodified.\n",
      "Filtering raw data in 1 contiguous segment\n"
     ]
    },
    {
     "name": "stderr",
     "output_type": "stream",
     "text": [
      "[Parallel(n_jobs=1)]: Done  17 tasks      | elapsed:    0.0s\n"
     ]
    },
    {
     "name": "stdout",
     "output_type": "stream",
     "text": [
      "Setting up band-pass filter from 0.5 - 90 Hz\n",
      "\n",
      "FIR filter parameters\n",
      "---------------------\n",
      "Designing a one-pass, zero-phase, non-causal bandpass filter:\n",
      "- Windowed time-domain design (firwin) method\n",
      "- Hamming window with 0.0194 passband ripple and 53 dB stopband attenuation\n",
      "- Lower passband edge: 0.50\n",
      "- Lower transition bandwidth: 0.50 Hz (-6 dB cutoff frequency: 0.25 Hz)\n",
      "- Upper passband edge: 90.00 Hz\n",
      "- Upper transition bandwidth: 22.50 Hz (-6 dB cutoff frequency: 101.25 Hz)\n",
      "- Filter length: 1651 samples (6.604 s)\n",
      "\n",
      "Sampling frequency of the instance is already 250.0, returning unmodified.\n",
      "Filtering raw data in 1 contiguous segment\n"
     ]
    },
    {
     "name": "stderr",
     "output_type": "stream",
     "text": [
      "[Parallel(n_jobs=1)]: Done  17 tasks      | elapsed:    0.0s\n"
     ]
    },
    {
     "name": "stdout",
     "output_type": "stream",
     "text": [
      "Setting up band-pass filter from 0.5 - 90 Hz\n",
      "\n",
      "FIR filter parameters\n",
      "---------------------\n",
      "Designing a one-pass, zero-phase, non-causal bandpass filter:\n",
      "- Windowed time-domain design (firwin) method\n",
      "- Hamming window with 0.0194 passband ripple and 53 dB stopband attenuation\n",
      "- Lower passband edge: 0.50\n",
      "- Lower transition bandwidth: 0.50 Hz (-6 dB cutoff frequency: 0.25 Hz)\n",
      "- Upper passband edge: 90.00 Hz\n",
      "- Upper transition bandwidth: 22.50 Hz (-6 dB cutoff frequency: 101.25 Hz)\n",
      "- Filter length: 1651 samples (6.604 s)\n",
      "\n",
      "Sampling frequency of the instance is already 250.0, returning unmodified.\n",
      "Filtering raw data in 1 contiguous segment\n"
     ]
    },
    {
     "name": "stderr",
     "output_type": "stream",
     "text": [
      "[Parallel(n_jobs=1)]: Done  17 tasks      | elapsed:    0.0s\n"
     ]
    },
    {
     "name": "stdout",
     "output_type": "stream",
     "text": [
      "Setting up band-pass filter from 0.5 - 90 Hz\n",
      "\n",
      "FIR filter parameters\n",
      "---------------------\n",
      "Designing a one-pass, zero-phase, non-causal bandpass filter:\n",
      "- Windowed time-domain design (firwin) method\n",
      "- Hamming window with 0.0194 passband ripple and 53 dB stopband attenuation\n",
      "- Lower passband edge: 0.50\n",
      "- Lower transition bandwidth: 0.50 Hz (-6 dB cutoff frequency: 0.25 Hz)\n",
      "- Upper passband edge: 90.00 Hz\n",
      "- Upper transition bandwidth: 22.50 Hz (-6 dB cutoff frequency: 101.25 Hz)\n",
      "- Filter length: 1651 samples (6.604 s)\n",
      "\n",
      "Sampling frequency of the instance is already 250.0, returning unmodified.\n",
      "Filtering raw data in 1 contiguous segment\n",
      "Setting up band-pass filter from 0.5 - 90 Hz\n"
     ]
    },
    {
     "name": "stderr",
     "output_type": "stream",
     "text": [
      "[Parallel(n_jobs=1)]: Done  17 tasks      | elapsed:    0.0s\n"
     ]
    },
    {
     "name": "stdout",
     "output_type": "stream",
     "text": [
      "\n",
      "FIR filter parameters\n",
      "---------------------\n",
      "Designing a one-pass, zero-phase, non-causal bandpass filter:\n",
      "- Windowed time-domain design (firwin) method\n",
      "- Hamming window with 0.0194 passband ripple and 53 dB stopband attenuation\n",
      "- Lower passband edge: 0.50\n",
      "- Lower transition bandwidth: 0.50 Hz (-6 dB cutoff frequency: 0.25 Hz)\n",
      "- Upper passband edge: 90.00 Hz\n",
      "- Upper transition bandwidth: 22.50 Hz (-6 dB cutoff frequency: 101.25 Hz)\n",
      "- Filter length: 1651 samples (6.604 s)\n",
      "\n",
      "Sampling frequency of the instance is already 250.0, returning unmodified.\n",
      "Filtering raw data in 1 contiguous segment\n",
      "Setting up band-pass filter from 0.5 - 90 Hz\n",
      "\n",
      "FIR filter parameters\n",
      "---------------------\n",
      "Designing a one-pass, zero-phase, non-causal bandpass filter:\n",
      "- Windowed time-domain design (firwin) method\n",
      "- Hamming window with 0.0194 passband ripple and 53 dB stopband attenuation\n",
      "- Lower passband edge: 0.50\n",
      "- Lower transition bandwidth: 0.50 Hz (-6 dB cutoff frequency: 0.25 Hz)\n",
      "- Upper passband edge: 90.00 Hz\n",
      "- Upper transition bandwidth: 22.50 Hz (-6 dB cutoff frequency: 101.25 Hz)\n"
     ]
    },
    {
     "name": "stderr",
     "output_type": "stream",
     "text": [
      "[Parallel(n_jobs=1)]: Done  17 tasks      | elapsed:    0.0s\n"
     ]
    },
    {
     "name": "stdout",
     "output_type": "stream",
     "text": [
      "- Filter length: 1651 samples (6.604 s)\n",
      "\n",
      "Sampling frequency of the instance is already 250.0, returning unmodified.\n",
      "Filtering raw data in 1 contiguous segment\n",
      "Setting up band-pass filter from 0.5 - 90 Hz\n",
      "\n",
      "FIR filter parameters\n",
      "---------------------\n",
      "Designing a one-pass, zero-phase, non-causal bandpass filter:\n",
      "- Windowed time-domain design (firwin) method\n",
      "- Hamming window with 0.0194 passband ripple and 53 dB stopband attenuation\n",
      "- Lower passband edge: 0.50\n",
      "- Lower transition bandwidth: 0.50 Hz (-6 dB cutoff frequency: 0.25 Hz)\n",
      "- Upper passband edge: 90.00 Hz\n"
     ]
    },
    {
     "name": "stderr",
     "output_type": "stream",
     "text": [
      "[Parallel(n_jobs=1)]: Done  17 tasks      | elapsed:    0.0s\n"
     ]
    },
    {
     "name": "stdout",
     "output_type": "stream",
     "text": [
      "- Upper transition bandwidth: 22.50 Hz (-6 dB cutoff frequency: 101.25 Hz)\n",
      "- Filter length: 1651 samples (6.604 s)\n",
      "\n",
      "Sampling frequency of the instance is already 250.0, returning unmodified.\n",
      "Filtering raw data in 1 contiguous segment\n"
     ]
    },
    {
     "name": "stderr",
     "output_type": "stream",
     "text": [
      "[Parallel(n_jobs=1)]: Done  17 tasks      | elapsed:    0.0s\n"
     ]
    },
    {
     "name": "stdout",
     "output_type": "stream",
     "text": [
      "Setting up band-pass filter from 0.5 - 90 Hz\n",
      "\n",
      "FIR filter parameters\n",
      "---------------------\n",
      "Designing a one-pass, zero-phase, non-causal bandpass filter:\n",
      "- Windowed time-domain design (firwin) method\n",
      "- Hamming window with 0.0194 passband ripple and 53 dB stopband attenuation\n",
      "- Lower passband edge: 0.50\n",
      "- Lower transition bandwidth: 0.50 Hz (-6 dB cutoff frequency: 0.25 Hz)\n",
      "- Upper passband edge: 90.00 Hz\n",
      "- Upper transition bandwidth: 22.50 Hz (-6 dB cutoff frequency: 101.25 Hz)\n",
      "- Filter length: 1651 samples (6.604 s)\n",
      "\n",
      "Sampling frequency of the instance is already 250.0, returning unmodified.\n"
     ]
    },
    {
     "name": "stderr",
     "output_type": "stream",
     "text": [
      "[Parallel(n_jobs=1)]: Done  17 tasks      | elapsed:    0.0s\n"
     ]
    },
    {
     "name": "stdout",
     "output_type": "stream",
     "text": [
      "Filtering raw data in 1 contiguous segment\n",
      "Setting up band-pass filter from 0.5 - 90 Hz\n",
      "\n",
      "FIR filter parameters\n",
      "---------------------\n",
      "Designing a one-pass, zero-phase, non-causal bandpass filter:\n",
      "- Windowed time-domain design (firwin) method\n",
      "- Hamming window with 0.0194 passband ripple and 53 dB stopband attenuation\n",
      "- Lower passband edge: 0.50\n",
      "- Lower transition bandwidth: 0.50 Hz (-6 dB cutoff frequency: 0.25 Hz)\n",
      "- Upper passband edge: 90.00 Hz\n",
      "- Upper transition bandwidth: 22.50 Hz (-6 dB cutoff frequency: 101.25 Hz)\n",
      "- Filter length: 1651 samples (6.604 s)\n",
      "\n",
      "Sampling frequency of the instance is already 250.0, returning unmodified.\n"
     ]
    },
    {
     "name": "stderr",
     "output_type": "stream",
     "text": [
      "[Parallel(n_jobs=1)]: Done  17 tasks      | elapsed:    0.0s\n"
     ]
    },
    {
     "name": "stdout",
     "output_type": "stream",
     "text": [
      "Filtering raw data in 1 contiguous segment\n",
      "Setting up band-pass filter from 0.5 - 90 Hz\n",
      "\n",
      "FIR filter parameters\n",
      "---------------------\n",
      "Designing a one-pass, zero-phase, non-causal bandpass filter:\n",
      "- Windowed time-domain design (firwin) method\n",
      "- Hamming window with 0.0194 passband ripple and 53 dB stopband attenuation\n",
      "- Lower passband edge: 0.50\n",
      "- Lower transition bandwidth: 0.50 Hz (-6 dB cutoff frequency: 0.25 Hz)\n",
      "- Upper passband edge: 90.00 Hz\n",
      "- Upper transition bandwidth: 22.50 Hz (-6 dB cutoff frequency: 101.25 Hz)\n",
      "- Filter length: 1651 samples (6.604 s)\n",
      "\n",
      "Sampling frequency of the instance is already 250.0, returning unmodified.\n"
     ]
    },
    {
     "name": "stderr",
     "output_type": "stream",
     "text": [
      "[Parallel(n_jobs=1)]: Done  17 tasks      | elapsed:    0.0s\n"
     ]
    },
    {
     "name": "stdout",
     "output_type": "stream",
     "text": [
      "Filtering raw data in 1 contiguous segment\n",
      "Setting up band-pass filter from 0.5 - 90 Hz\n",
      "\n",
      "FIR filter parameters\n",
      "---------------------\n",
      "Designing a one-pass, zero-phase, non-causal bandpass filter:\n",
      "- Windowed time-domain design (firwin) method\n",
      "- Hamming window with 0.0194 passband ripple and 53 dB stopband attenuation\n",
      "- Lower passband edge: 0.50\n",
      "- Lower transition bandwidth: 0.50 Hz (-6 dB cutoff frequency: 0.25 Hz)\n",
      "- Upper passband edge: 90.00 Hz\n",
      "- Upper transition bandwidth: 22.50 Hz (-6 dB cutoff frequency: 101.25 Hz)\n",
      "- Filter length: 1651 samples (6.604 s)\n",
      "\n",
      "Sampling frequency of the instance is already 250.0, returning unmodified.\n"
     ]
    },
    {
     "name": "stderr",
     "output_type": "stream",
     "text": [
      "[Parallel(n_jobs=1)]: Done  17 tasks      | elapsed:    0.0s\n"
     ]
    },
    {
     "name": "stdout",
     "output_type": "stream",
     "text": [
      "Filtering raw data in 1 contiguous segment\n",
      "Setting up band-pass filter from 0.5 - 90 Hz\n",
      "\n",
      "FIR filter parameters\n",
      "---------------------\n",
      "Designing a one-pass, zero-phase, non-causal bandpass filter:\n",
      "- Windowed time-domain design (firwin) method\n",
      "- Hamming window with 0.0194 passband ripple and 53 dB stopband attenuation\n",
      "- Lower passband edge: 0.50\n",
      "- Lower transition bandwidth: 0.50 Hz (-6 dB cutoff frequency: 0.25 Hz)\n",
      "- Upper passband edge: 90.00 Hz\n",
      "- Upper transition bandwidth: 22.50 Hz (-6 dB cutoff frequency: 101.25 Hz)\n",
      "- Filter length: 1651 samples (6.604 s)\n",
      "\n",
      "Sampling frequency of the instance is already 250.0, returning unmodified.\n"
     ]
    },
    {
     "name": "stderr",
     "output_type": "stream",
     "text": [
      "[Parallel(n_jobs=1)]: Done  17 tasks      | elapsed:    0.0s\n"
     ]
    },
    {
     "name": "stdout",
     "output_type": "stream",
     "text": [
      "Filtering raw data in 1 contiguous segment\n",
      "Setting up band-pass filter from 0.5 - 90 Hz\n",
      "\n",
      "FIR filter parameters\n",
      "---------------------\n",
      "Designing a one-pass, zero-phase, non-causal bandpass filter:\n",
      "- Windowed time-domain design (firwin) method\n",
      "- Hamming window with 0.0194 passband ripple and 53 dB stopband attenuation\n",
      "- Lower passband edge: 0.50\n",
      "- Lower transition bandwidth: 0.50 Hz (-6 dB cutoff frequency: 0.25 Hz)\n",
      "- Upper passband edge: 90.00 Hz\n",
      "- Upper transition bandwidth: 22.50 Hz (-6 dB cutoff frequency: 101.25 Hz)\n",
      "- Filter length: 1651 samples (6.604 s)\n",
      "\n",
      "Sampling frequency of the instance is already 250.0, returning unmodified.\n"
     ]
    },
    {
     "name": "stderr",
     "output_type": "stream",
     "text": [
      "[Parallel(n_jobs=1)]: Done  17 tasks      | elapsed:    0.0s\n"
     ]
    },
    {
     "name": "stdout",
     "output_type": "stream",
     "text": [
      "Filtering raw data in 1 contiguous segment\n",
      "Setting up band-pass filter from 0.5 - 90 Hz\n",
      "\n",
      "FIR filter parameters\n",
      "---------------------\n",
      "Designing a one-pass, zero-phase, non-causal bandpass filter:\n",
      "- Windowed time-domain design (firwin) method\n",
      "- Hamming window with 0.0194 passband ripple and 53 dB stopband attenuation\n",
      "- Lower passband edge: 0.50\n",
      "- Lower transition bandwidth: 0.50 Hz (-6 dB cutoff frequency: 0.25 Hz)\n",
      "- Upper passband edge: 90.00 Hz\n",
      "- Upper transition bandwidth: 22.50 Hz (-6 dB cutoff frequency: 101.25 Hz)\n",
      "- Filter length: 1651 samples (6.604 s)\n",
      "\n",
      "Sampling frequency of the instance is already 250.0, returning unmodified.\n"
     ]
    },
    {
     "name": "stderr",
     "output_type": "stream",
     "text": [
      "[Parallel(n_jobs=1)]: Done  17 tasks      | elapsed:    0.1s\n"
     ]
    },
    {
     "name": "stdout",
     "output_type": "stream",
     "text": [
      "Filtering raw data in 1 contiguous segment\n",
      "Setting up band-pass filter from 0.5 - 90 Hz\n",
      "\n",
      "FIR filter parameters\n",
      "---------------------\n",
      "Designing a one-pass, zero-phase, non-causal bandpass filter:\n",
      "- Windowed time-domain design (firwin) method\n",
      "- Hamming window with 0.0194 passband ripple and 53 dB stopband attenuation\n",
      "- Lower passband edge: 0.50\n",
      "- Lower transition bandwidth: 0.50 Hz (-6 dB cutoff frequency: 0.25 Hz)\n",
      "- Upper passband edge: 90.00 Hz\n",
      "- Upper transition bandwidth: 22.50 Hz (-6 dB cutoff frequency: 101.25 Hz)\n",
      "- Filter length: 1651 samples (6.604 s)\n",
      "\n",
      "Sampling frequency of the instance is already 250.0, returning unmodified.\n"
     ]
    },
    {
     "name": "stderr",
     "output_type": "stream",
     "text": [
      "[Parallel(n_jobs=1)]: Done  17 tasks      | elapsed:    0.0s\n"
     ]
    },
    {
     "name": "stdout",
     "output_type": "stream",
     "text": [
      "Filtering raw data in 1 contiguous segment\n",
      "Setting up band-pass filter from 0.5 - 90 Hz\n",
      "\n",
      "FIR filter parameters\n",
      "---------------------\n",
      "Designing a one-pass, zero-phase, non-causal bandpass filter:\n",
      "- Windowed time-domain design (firwin) method\n",
      "- Hamming window with 0.0194 passband ripple and 53 dB stopband attenuation\n",
      "- Lower passband edge: 0.50\n",
      "- Lower transition bandwidth: 0.50 Hz (-6 dB cutoff frequency: 0.25 Hz)\n",
      "- Upper passband edge: 90.00 Hz\n",
      "- Upper transition bandwidth: 22.50 Hz (-6 dB cutoff frequency: 101.25 Hz)\n",
      "- Filter length: 1651 samples (6.604 s)\n",
      "\n",
      "Sampling frequency of the instance is already 250.0, returning unmodified.\n"
     ]
    },
    {
     "name": "stderr",
     "output_type": "stream",
     "text": [
      "[Parallel(n_jobs=1)]: Done  17 tasks      | elapsed:    0.0s\n"
     ]
    },
    {
     "name": "stdout",
     "output_type": "stream",
     "text": [
      "Filtering raw data in 1 contiguous segment\n",
      "Setting up band-pass filter from 0.5 - 90 Hz\n",
      "\n",
      "FIR filter parameters\n",
      "---------------------\n",
      "Designing a one-pass, zero-phase, non-causal bandpass filter:\n",
      "- Windowed time-domain design (firwin) method\n",
      "- Hamming window with 0.0194 passband ripple and 53 dB stopband attenuation\n",
      "- Lower passband edge: 0.50\n",
      "- Lower transition bandwidth: 0.50 Hz (-6 dB cutoff frequency: 0.25 Hz)\n",
      "- Upper passband edge: 90.00 Hz\n",
      "- Upper transition bandwidth: 22.50 Hz (-6 dB cutoff frequency: 101.25 Hz)\n",
      "- Filter length: 1651 samples (6.604 s)\n",
      "\n",
      "Sampling frequency of the instance is already 250.0, returning unmodified.\n",
      "Filtering raw data in 1 contiguous segment\n"
     ]
    },
    {
     "name": "stderr",
     "output_type": "stream",
     "text": [
      "[Parallel(n_jobs=1)]: Done  17 tasks      | elapsed:    0.0s\n"
     ]
    },
    {
     "name": "stdout",
     "output_type": "stream",
     "text": [
      "Setting up band-pass filter from 0.5 - 90 Hz\n",
      "\n",
      "FIR filter parameters\n",
      "---------------------\n",
      "Designing a one-pass, zero-phase, non-causal bandpass filter:\n",
      "- Windowed time-domain design (firwin) method\n",
      "- Hamming window with 0.0194 passband ripple and 53 dB stopband attenuation\n",
      "- Lower passband edge: 0.50\n",
      "- Lower transition bandwidth: 0.50 Hz (-6 dB cutoff frequency: 0.25 Hz)\n",
      "- Upper passband edge: 90.00 Hz\n",
      "- Upper transition bandwidth: 22.50 Hz (-6 dB cutoff frequency: 101.25 Hz)\n",
      "- Filter length: 1651 samples (6.604 s)\n",
      "\n",
      "Sampling frequency of the instance is already 250.0, returning unmodified.\n"
     ]
    },
    {
     "name": "stderr",
     "output_type": "stream",
     "text": [
      "[Parallel(n_jobs=1)]: Done  17 tasks      | elapsed:    0.0s\n"
     ]
    },
    {
     "name": "stdout",
     "output_type": "stream",
     "text": [
      "Filtering raw data in 1 contiguous segment\n",
      "Setting up band-pass filter from 0.5 - 90 Hz\n",
      "\n",
      "FIR filter parameters\n",
      "---------------------\n",
      "Designing a one-pass, zero-phase, non-causal bandpass filter:\n",
      "- Windowed time-domain design (firwin) method\n",
      "- Hamming window with 0.0194 passband ripple and 53 dB stopband attenuation\n",
      "- Lower passband edge: 0.50\n",
      "- Lower transition bandwidth: 0.50 Hz (-6 dB cutoff frequency: 0.25 Hz)\n",
      "- Upper passband edge: 90.00 Hz\n",
      "- Upper transition bandwidth: 22.50 Hz (-6 dB cutoff frequency: 101.25 Hz)\n",
      "- Filter length: 1651 samples (6.604 s)\n",
      "\n",
      "Sampling frequency of the instance is already 250.0, returning unmodified.\n",
      "Filtering raw data in 1 contiguous segment\n"
     ]
    },
    {
     "name": "stderr",
     "output_type": "stream",
     "text": [
      "[Parallel(n_jobs=1)]: Done  17 tasks      | elapsed:    0.0s\n"
     ]
    },
    {
     "name": "stdout",
     "output_type": "stream",
     "text": [
      "Setting up band-pass filter from 0.5 - 90 Hz\n",
      "\n",
      "FIR filter parameters\n",
      "---------------------\n",
      "Designing a one-pass, zero-phase, non-causal bandpass filter:\n",
      "- Windowed time-domain design (firwin) method\n",
      "- Hamming window with 0.0194 passband ripple and 53 dB stopband attenuation\n",
      "- Lower passband edge: 0.50\n",
      "- Lower transition bandwidth: 0.50 Hz (-6 dB cutoff frequency: 0.25 Hz)\n",
      "- Upper passband edge: 90.00 Hz\n",
      "- Upper transition bandwidth: 22.50 Hz (-6 dB cutoff frequency: 101.25 Hz)\n",
      "- Filter length: 1651 samples (6.604 s)\n",
      "\n",
      "Sampling frequency of the instance is already 250.0, returning unmodified.\n",
      "Filtering raw data in 1 contiguous segment\n"
     ]
    },
    {
     "name": "stderr",
     "output_type": "stream",
     "text": [
      "[Parallel(n_jobs=1)]: Done  17 tasks      | elapsed:    0.0s\n"
     ]
    },
    {
     "name": "stdout",
     "output_type": "stream",
     "text": [
      "Setting up band-pass filter from 0.5 - 90 Hz\n",
      "\n",
      "FIR filter parameters\n",
      "---------------------\n",
      "Designing a one-pass, zero-phase, non-causal bandpass filter:\n",
      "- Windowed time-domain design (firwin) method\n",
      "- Hamming window with 0.0194 passband ripple and 53 dB stopband attenuation\n",
      "- Lower passband edge: 0.50\n",
      "- Lower transition bandwidth: 0.50 Hz (-6 dB cutoff frequency: 0.25 Hz)\n",
      "- Upper passband edge: 90.00 Hz\n",
      "- Upper transition bandwidth: 22.50 Hz (-6 dB cutoff frequency: 101.25 Hz)\n",
      "- Filter length: 1651 samples (6.604 s)\n",
      "\n",
      "Sampling frequency of the instance is already 250.0, returning unmodified.\n",
      "Filtering raw data in 1 contiguous segment\n",
      "Setting up band-pass filter from 0.5 - 90 Hz\n",
      "\n",
      "FIR filter parameters\n"
     ]
    },
    {
     "name": "stderr",
     "output_type": "stream",
     "text": [
      "[Parallel(n_jobs=1)]: Done  17 tasks      | elapsed:    0.0s\n"
     ]
    },
    {
     "name": "stdout",
     "output_type": "stream",
     "text": [
      "---------------------\n",
      "Designing a one-pass, zero-phase, non-causal bandpass filter:\n",
      "- Windowed time-domain design (firwin) method\n",
      "- Hamming window with 0.0194 passband ripple and 53 dB stopband attenuation\n",
      "- Lower passband edge: 0.50\n",
      "- Lower transition bandwidth: 0.50 Hz (-6 dB cutoff frequency: 0.25 Hz)\n",
      "- Upper passband edge: 90.00 Hz\n",
      "- Upper transition bandwidth: 22.50 Hz (-6 dB cutoff frequency: 101.25 Hz)\n",
      "- Filter length: 1651 samples (6.604 s)\n",
      "\n",
      "Sampling frequency of the instance is already 250.0, returning unmodified.\n",
      "Filtering raw data in 1 contiguous segment\n",
      "Setting up band-pass filter from 0.5 - 90 Hz\n",
      "\n",
      "FIR filter parameters\n",
      "---------------------\n"
     ]
    },
    {
     "name": "stderr",
     "output_type": "stream",
     "text": [
      "[Parallel(n_jobs=1)]: Done  17 tasks      | elapsed:    0.0s\n"
     ]
    },
    {
     "name": "stdout",
     "output_type": "stream",
     "text": [
      "Designing a one-pass, zero-phase, non-causal bandpass filter:\n",
      "- Windowed time-domain design (firwin) method\n",
      "- Hamming window with 0.0194 passband ripple and 53 dB stopband attenuation\n",
      "- Lower passband edge: 0.50\n",
      "- Lower transition bandwidth: 0.50 Hz (-6 dB cutoff frequency: 0.25 Hz)\n",
      "- Upper passband edge: 90.00 Hz\n",
      "- Upper transition bandwidth: 22.50 Hz (-6 dB cutoff frequency: 101.25 Hz)\n",
      "- Filter length: 1651 samples (6.604 s)\n",
      "\n",
      "Sampling frequency of the instance is already 250.0, returning unmodified.\n",
      "Filtering raw data in 1 contiguous segment\n"
     ]
    },
    {
     "name": "stderr",
     "output_type": "stream",
     "text": [
      "[Parallel(n_jobs=1)]: Done  17 tasks      | elapsed:    0.0s\n"
     ]
    },
    {
     "name": "stdout",
     "output_type": "stream",
     "text": [
      "Setting up band-pass filter from 0.5 - 90 Hz\n",
      "\n",
      "FIR filter parameters\n",
      "---------------------\n",
      "Designing a one-pass, zero-phase, non-causal bandpass filter:\n",
      "- Windowed time-domain design (firwin) method\n",
      "- Hamming window with 0.0194 passband ripple and 53 dB stopband attenuation\n",
      "- Lower passband edge: 0.50\n",
      "- Lower transition bandwidth: 0.50 Hz (-6 dB cutoff frequency: 0.25 Hz)\n",
      "- Upper passband edge: 90.00 Hz\n",
      "- Upper transition bandwidth: 22.50 Hz (-6 dB cutoff frequency: 101.25 Hz)\n",
      "- Filter length: 1651 samples (6.604 s)\n",
      "\n",
      "Sampling frequency of the instance is already 250.0, returning unmodified.\n",
      "Filtering raw data in 1 contiguous segment\n"
     ]
    },
    {
     "name": "stderr",
     "output_type": "stream",
     "text": [
      "[Parallel(n_jobs=1)]: Done  17 tasks      | elapsed:    0.0s\n"
     ]
    },
    {
     "name": "stdout",
     "output_type": "stream",
     "text": [
      "Setting up band-pass filter from 0.5 - 90 Hz\n",
      "\n",
      "FIR filter parameters\n",
      "---------------------\n",
      "Designing a one-pass, zero-phase, non-causal bandpass filter:\n",
      "- Windowed time-domain design (firwin) method\n",
      "- Hamming window with 0.0194 passband ripple and 53 dB stopband attenuation\n",
      "- Lower passband edge: 0.50\n",
      "- Lower transition bandwidth: 0.50 Hz (-6 dB cutoff frequency: 0.25 Hz)\n",
      "- Upper passband edge: 90.00 Hz\n",
      "- Upper transition bandwidth: 22.50 Hz (-6 dB cutoff frequency: 101.25 Hz)\n",
      "- Filter length: 1651 samples (6.604 s)\n",
      "\n",
      "Sampling frequency of the instance is already 250.0, returning unmodified.\n"
     ]
    },
    {
     "name": "stderr",
     "output_type": "stream",
     "text": [
      "[Parallel(n_jobs=1)]: Done  17 tasks      | elapsed:    0.0s\n"
     ]
    },
    {
     "name": "stdout",
     "output_type": "stream",
     "text": [
      "Filtering raw data in 1 contiguous segment\n",
      "Setting up band-pass filter from 0.5 - 90 Hz\n",
      "\n",
      "FIR filter parameters\n",
      "---------------------\n",
      "Designing a one-pass, zero-phase, non-causal bandpass filter:\n",
      "- Windowed time-domain design (firwin) method\n",
      "- Hamming window with 0.0194 passband ripple and 53 dB stopband attenuation\n",
      "- Lower passband edge: 0.50\n",
      "- Lower transition bandwidth: 0.50 Hz (-6 dB cutoff frequency: 0.25 Hz)\n",
      "- Upper passband edge: 90.00 Hz\n",
      "- Upper transition bandwidth: 22.50 Hz (-6 dB cutoff frequency: 101.25 Hz)\n",
      "- Filter length: 1651 samples (6.604 s)\n",
      "\n",
      "Sampling frequency of the instance is already 250.0, returning unmodified.\n"
     ]
    },
    {
     "name": "stderr",
     "output_type": "stream",
     "text": [
      "[Parallel(n_jobs=1)]: Done  17 tasks      | elapsed:    0.0s\n"
     ]
    },
    {
     "name": "stdout",
     "output_type": "stream",
     "text": [
      "Filtering raw data in 1 contiguous segment\n",
      "Setting up band-pass filter from 0.5 - 90 Hz\n",
      "\n",
      "FIR filter parameters\n",
      "---------------------\n",
      "Designing a one-pass, zero-phase, non-causal bandpass filter:\n",
      "- Windowed time-domain design (firwin) method\n",
      "- Hamming window with 0.0194 passband ripple and 53 dB stopband attenuation\n",
      "- Lower passband edge: 0.50\n",
      "- Lower transition bandwidth: 0.50 Hz (-6 dB cutoff frequency: 0.25 Hz)\n",
      "- Upper passband edge: 90.00 Hz\n",
      "- Upper transition bandwidth: 22.50 Hz (-6 dB cutoff frequency: 101.25 Hz)\n",
      "- Filter length: 1651 samples (6.604 s)\n",
      "\n",
      "Sampling frequency of the instance is already 250.0, returning unmodified.\n"
     ]
    },
    {
     "name": "stderr",
     "output_type": "stream",
     "text": [
      "[Parallel(n_jobs=1)]: Done  17 tasks      | elapsed:    0.0s\n"
     ]
    },
    {
     "name": "stdout",
     "output_type": "stream",
     "text": [
      "Filtering raw data in 1 contiguous segment\n",
      "Setting up band-pass filter from 0.5 - 90 Hz\n",
      "\n",
      "FIR filter parameters\n",
      "---------------------\n",
      "Designing a one-pass, zero-phase, non-causal bandpass filter:\n",
      "- Windowed time-domain design (firwin) method\n",
      "- Hamming window with 0.0194 passband ripple and 53 dB stopband attenuation\n",
      "- Lower passband edge: 0.50\n",
      "- Lower transition bandwidth: 0.50 Hz (-6 dB cutoff frequency: 0.25 Hz)\n",
      "- Upper passband edge: 90.00 Hz\n",
      "- Upper transition bandwidth: 22.50 Hz (-6 dB cutoff frequency: 101.25 Hz)\n",
      "- Filter length: 1651 samples (6.604 s)\n",
      "\n",
      "Sampling frequency of the instance is already 250.0, returning unmodified.\n"
     ]
    },
    {
     "name": "stderr",
     "output_type": "stream",
     "text": [
      "[Parallel(n_jobs=1)]: Done  17 tasks      | elapsed:    0.0s\n"
     ]
    },
    {
     "name": "stdout",
     "output_type": "stream",
     "text": [
      "Filtering raw data in 1 contiguous segment\n",
      "Setting up band-pass filter from 0.5 - 90 Hz\n",
      "\n",
      "FIR filter parameters\n",
      "---------------------\n",
      "Designing a one-pass, zero-phase, non-causal bandpass filter:\n",
      "- Windowed time-domain design (firwin) method\n",
      "- Hamming window with 0.0194 passband ripple and 53 dB stopband attenuation\n",
      "- Lower passband edge: 0.50\n",
      "- Lower transition bandwidth: 0.50 Hz (-6 dB cutoff frequency: 0.25 Hz)\n",
      "- Upper passband edge: 90.00 Hz\n",
      "- Upper transition bandwidth: 22.50 Hz (-6 dB cutoff frequency: 101.25 Hz)\n",
      "- Filter length: 1651 samples (6.604 s)\n",
      "\n",
      "Sampling frequency of the instance is already 250.0, returning unmodified.\n"
     ]
    },
    {
     "name": "stderr",
     "output_type": "stream",
     "text": [
      "[Parallel(n_jobs=1)]: Done  17 tasks      | elapsed:    0.0s\n"
     ]
    },
    {
     "name": "stdout",
     "output_type": "stream",
     "text": [
      "Filtering raw data in 1 contiguous segment\n",
      "Setting up band-pass filter from 0.5 - 90 Hz\n",
      "\n",
      "FIR filter parameters\n",
      "---------------------\n",
      "Designing a one-pass, zero-phase, non-causal bandpass filter:\n",
      "- Windowed time-domain design (firwin) method\n",
      "- Hamming window with 0.0194 passband ripple and 53 dB stopband attenuation\n",
      "- Lower passband edge: 0.50\n",
      "- Lower transition bandwidth: 0.50 Hz (-6 dB cutoff frequency: 0.25 Hz)\n",
      "- Upper passband edge: 90.00 Hz\n",
      "- Upper transition bandwidth: 22.50 Hz (-6 dB cutoff frequency: 101.25 Hz)\n",
      "- Filter length: 1651 samples (6.604 s)\n",
      "\n",
      "Sampling frequency of the instance is already 250.0, returning unmodified.\n"
     ]
    },
    {
     "name": "stderr",
     "output_type": "stream",
     "text": [
      "[Parallel(n_jobs=1)]: Done  17 tasks      | elapsed:    0.0s\n"
     ]
    },
    {
     "name": "stdout",
     "output_type": "stream",
     "text": [
      "Filtering raw data in 1 contiguous segment\n",
      "Setting up band-pass filter from 0.5 - 90 Hz\n",
      "\n",
      "FIR filter parameters\n",
      "---------------------\n",
      "Designing a one-pass, zero-phase, non-causal bandpass filter:\n",
      "- Windowed time-domain design (firwin) method\n",
      "- Hamming window with 0.0194 passband ripple and 53 dB stopband attenuation\n",
      "- Lower passband edge: 0.50\n",
      "- Lower transition bandwidth: 0.50 Hz (-6 dB cutoff frequency: 0.25 Hz)\n",
      "- Upper passband edge: 90.00 Hz\n",
      "- Upper transition bandwidth: 22.50 Hz (-6 dB cutoff frequency: 101.25 Hz)\n",
      "- Filter length: 1651 samples (6.604 s)\n",
      "\n",
      "Sampling frequency of the instance is already 250.0, returning unmodified.\n"
     ]
    },
    {
     "name": "stderr",
     "output_type": "stream",
     "text": [
      "[Parallel(n_jobs=1)]: Done  17 tasks      | elapsed:    0.0s\n"
     ]
    },
    {
     "name": "stdout",
     "output_type": "stream",
     "text": [
      "Filtering raw data in 1 contiguous segment\n",
      "Setting up band-pass filter from 0.5 - 90 Hz\n",
      "\n",
      "FIR filter parameters\n",
      "---------------------\n",
      "Designing a one-pass, zero-phase, non-causal bandpass filter:\n",
      "- Windowed time-domain design (firwin) method\n",
      "- Hamming window with 0.0194 passband ripple and 53 dB stopband attenuation\n",
      "- Lower passband edge: 0.50\n",
      "- Lower transition bandwidth: 0.50 Hz (-6 dB cutoff frequency: 0.25 Hz)\n",
      "- Upper passband edge: 90.00 Hz\n",
      "- Upper transition bandwidth: 22.50 Hz (-6 dB cutoff frequency: 101.25 Hz)\n",
      "- Filter length: 1651 samples (6.604 s)\n",
      "\n",
      "Sampling frequency of the instance is already 250.0, returning unmodified.\n"
     ]
    },
    {
     "name": "stderr",
     "output_type": "stream",
     "text": [
      "[Parallel(n_jobs=1)]: Done  17 tasks      | elapsed:    0.0s\n"
     ]
    },
    {
     "name": "stdout",
     "output_type": "stream",
     "text": [
      "Filtering raw data in 1 contiguous segment\n",
      "Setting up band-pass filter from 0.5 - 90 Hz\n",
      "\n",
      "FIR filter parameters\n",
      "---------------------\n",
      "Designing a one-pass, zero-phase, non-causal bandpass filter:\n",
      "- Windowed time-domain design (firwin) method\n",
      "- Hamming window with 0.0194 passband ripple and 53 dB stopband attenuation\n",
      "- Lower passband edge: 0.50\n",
      "- Lower transition bandwidth: 0.50 Hz (-6 dB cutoff frequency: 0.25 Hz)\n",
      "- Upper passband edge: 90.00 Hz\n",
      "- Upper transition bandwidth: 22.50 Hz (-6 dB cutoff frequency: 101.25 Hz)\n",
      "- Filter length: 1651 samples (6.604 s)\n",
      "\n",
      "Sampling frequency of the instance is already 250.0, returning unmodified.\n"
     ]
    },
    {
     "name": "stderr",
     "output_type": "stream",
     "text": [
      "[Parallel(n_jobs=1)]: Done  17 tasks      | elapsed:    0.0s\n"
     ]
    },
    {
     "name": "stdout",
     "output_type": "stream",
     "text": [
      "Filtering raw data in 1 contiguous segment\n",
      "Setting up band-pass filter from 0.5 - 90 Hz\n",
      "\n",
      "FIR filter parameters\n",
      "---------------------\n",
      "Designing a one-pass, zero-phase, non-causal bandpass filter:\n",
      "- Windowed time-domain design (firwin) method\n",
      "- Hamming window with 0.0194 passband ripple and 53 dB stopband attenuation\n",
      "- Lower passband edge: 0.50\n",
      "- Lower transition bandwidth: 0.50 Hz (-6 dB cutoff frequency: 0.25 Hz)\n",
      "- Upper passband edge: 90.00 Hz\n",
      "- Upper transition bandwidth: 22.50 Hz (-6 dB cutoff frequency: 101.25 Hz)\n",
      "- Filter length: 1651 samples (6.604 s)\n",
      "\n",
      "Sampling frequency of the instance is already 250.0, returning unmodified.\n"
     ]
    },
    {
     "name": "stderr",
     "output_type": "stream",
     "text": [
      "[Parallel(n_jobs=1)]: Done  17 tasks      | elapsed:    0.1s\n"
     ]
    },
    {
     "name": "stdout",
     "output_type": "stream",
     "text": [
      "Filtering raw data in 1 contiguous segment\n",
      "Setting up band-pass filter from 0.5 - 90 Hz\n",
      "\n",
      "FIR filter parameters\n",
      "---------------------\n",
      "Designing a one-pass, zero-phase, non-causal bandpass filter:\n",
      "- Windowed time-domain design (firwin) method\n",
      "- Hamming window with 0.0194 passband ripple and 53 dB stopband attenuation\n",
      "- Lower passband edge: 0.50\n",
      "- Lower transition bandwidth: 0.50 Hz (-6 dB cutoff frequency: 0.25 Hz)\n",
      "- Upper passband edge: 90.00 Hz\n",
      "- Upper transition bandwidth: 22.50 Hz (-6 dB cutoff frequency: 101.25 Hz)\n",
      "- Filter length: 1651 samples (6.604 s)\n",
      "\n",
      "Sampling frequency of the instance is already 250.0, returning unmodified.\n"
     ]
    },
    {
     "name": "stderr",
     "output_type": "stream",
     "text": [
      "[Parallel(n_jobs=1)]: Done  17 tasks      | elapsed:    0.0s\n"
     ]
    },
    {
     "name": "stdout",
     "output_type": "stream",
     "text": [
      "Filtering raw data in 1 contiguous segment\n",
      "Setting up band-pass filter from 0.5 - 90 Hz\n",
      "\n",
      "FIR filter parameters\n",
      "---------------------\n",
      "Designing a one-pass, zero-phase, non-causal bandpass filter:\n",
      "- Windowed time-domain design (firwin) method\n",
      "- Hamming window with 0.0194 passband ripple and 53 dB stopband attenuation\n",
      "- Lower passband edge: 0.50\n",
      "- Lower transition bandwidth: 0.50 Hz (-6 dB cutoff frequency: 0.25 Hz)\n",
      "- Upper passband edge: 90.00 Hz\n",
      "- Upper transition bandwidth: 22.50 Hz (-6 dB cutoff frequency: 101.25 Hz)\n",
      "- Filter length: 1651 samples (6.604 s)\n",
      "\n",
      "Sampling frequency of the instance is already 250.0, returning unmodified.\n"
     ]
    },
    {
     "name": "stderr",
     "output_type": "stream",
     "text": [
      "[Parallel(n_jobs=1)]: Done  17 tasks      | elapsed:    0.0s\n"
     ]
    },
    {
     "name": "stdout",
     "output_type": "stream",
     "text": [
      "Filtering raw data in 1 contiguous segment\n",
      "Setting up band-pass filter from 0.5 - 90 Hz\n",
      "\n",
      "FIR filter parameters\n",
      "---------------------\n",
      "Designing a one-pass, zero-phase, non-causal bandpass filter:\n",
      "- Windowed time-domain design (firwin) method\n",
      "- Hamming window with 0.0194 passband ripple and 53 dB stopband attenuation\n",
      "- Lower passband edge: 0.50\n",
      "- Lower transition bandwidth: 0.50 Hz (-6 dB cutoff frequency: 0.25 Hz)\n",
      "- Upper passband edge: 90.00 Hz\n",
      "- Upper transition bandwidth: 22.50 Hz (-6 dB cutoff frequency: 101.25 Hz)\n",
      "- Filter length: 1651 samples (6.604 s)\n",
      "\n",
      "Sampling frequency of the instance is already 250.0, returning unmodified.\n"
     ]
    },
    {
     "name": "stderr",
     "output_type": "stream",
     "text": [
      "[Parallel(n_jobs=1)]: Done  17 tasks      | elapsed:    0.0s\n"
     ]
    },
    {
     "name": "stdout",
     "output_type": "stream",
     "text": [
      "Filtering raw data in 1 contiguous segment\n",
      "Setting up band-pass filter from 0.5 - 90 Hz\n",
      "\n",
      "FIR filter parameters\n",
      "---------------------\n",
      "Designing a one-pass, zero-phase, non-causal bandpass filter:\n",
      "- Windowed time-domain design (firwin) method\n",
      "- Hamming window with 0.0194 passband ripple and 53 dB stopband attenuation\n",
      "- Lower passband edge: 0.50\n",
      "- Lower transition bandwidth: 0.50 Hz (-6 dB cutoff frequency: 0.25 Hz)\n",
      "- Upper passband edge: 90.00 Hz\n",
      "- Upper transition bandwidth: 22.50 Hz (-6 dB cutoff frequency: 101.25 Hz)\n",
      "- Filter length: 1651 samples (6.604 s)\n",
      "\n",
      "Sampling frequency of the instance is already 250.0, returning unmodified.\n",
      "Filtering raw data in 1 contiguous segment\n"
     ]
    },
    {
     "name": "stderr",
     "output_type": "stream",
     "text": [
      "[Parallel(n_jobs=1)]: Done  17 tasks      | elapsed:    0.0s\n"
     ]
    },
    {
     "name": "stdout",
     "output_type": "stream",
     "text": [
      "Setting up band-pass filter from 0.5 - 90 Hz\n",
      "\n",
      "FIR filter parameters\n",
      "---------------------\n",
      "Designing a one-pass, zero-phase, non-causal bandpass filter:\n",
      "- Windowed time-domain design (firwin) method\n",
      "- Hamming window with 0.0194 passband ripple and 53 dB stopband attenuation\n",
      "- Lower passband edge: 0.50\n",
      "- Lower transition bandwidth: 0.50 Hz (-6 dB cutoff frequency: 0.25 Hz)\n",
      "- Upper passband edge: 90.00 Hz\n",
      "- Upper transition bandwidth: 22.50 Hz (-6 dB cutoff frequency: 101.25 Hz)\n",
      "- Filter length: 1651 samples (6.604 s)\n",
      "\n",
      "Sampling frequency of the instance is already 250.0, returning unmodified.\n",
      "Filtering raw data in 1 contiguous segment\n"
     ]
    },
    {
     "name": "stderr",
     "output_type": "stream",
     "text": [
      "[Parallel(n_jobs=1)]: Done  17 tasks      | elapsed:    0.0s\n"
     ]
    },
    {
     "name": "stdout",
     "output_type": "stream",
     "text": [
      "Setting up band-pass filter from 0.5 - 90 Hz\n",
      "\n",
      "FIR filter parameters\n",
      "---------------------\n",
      "Designing a one-pass, zero-phase, non-causal bandpass filter:\n",
      "- Windowed time-domain design (firwin) method\n",
      "- Hamming window with 0.0194 passband ripple and 53 dB stopband attenuation\n",
      "- Lower passband edge: 0.50\n",
      "- Lower transition bandwidth: 0.50 Hz (-6 dB cutoff frequency: 0.25 Hz)\n",
      "- Upper passband edge: 90.00 Hz\n",
      "- Upper transition bandwidth: 22.50 Hz (-6 dB cutoff frequency: 101.25 Hz)\n",
      "- Filter length: 1651 samples (6.604 s)\n",
      "\n",
      "Sampling frequency of the instance is already 250.0, returning unmodified.\n",
      "Filtering raw data in 1 contiguous segment\n"
     ]
    },
    {
     "name": "stderr",
     "output_type": "stream",
     "text": [
      "[Parallel(n_jobs=1)]: Done  17 tasks      | elapsed:    0.0s\n"
     ]
    },
    {
     "name": "stdout",
     "output_type": "stream",
     "text": [
      "Setting up band-pass filter from 0.5 - 90 Hz\n",
      "\n",
      "FIR filter parameters\n",
      "---------------------\n",
      "Designing a one-pass, zero-phase, non-causal bandpass filter:\n",
      "- Windowed time-domain design (firwin) method\n",
      "- Hamming window with 0.0194 passband ripple and 53 dB stopband attenuation\n",
      "- Lower passband edge: 0.50\n",
      "- Lower transition bandwidth: 0.50 Hz (-6 dB cutoff frequency: 0.25 Hz)\n",
      "- Upper passband edge: 90.00 Hz\n",
      "- Upper transition bandwidth: 22.50 Hz (-6 dB cutoff frequency: 101.25 Hz)\n",
      "- Filter length: 1651 samples (6.604 s)\n",
      "\n",
      "Sampling frequency of the instance is already 250.0, returning unmodified.\n"
     ]
    },
    {
     "name": "stderr",
     "output_type": "stream",
     "text": [
      "[Parallel(n_jobs=1)]: Done  17 tasks      | elapsed:    0.0s\n"
     ]
    },
    {
     "name": "stdout",
     "output_type": "stream",
     "text": [
      "Filtering raw data in 1 contiguous segment\n",
      "Setting up band-pass filter from 0.5 - 90 Hz\n",
      "\n",
      "FIR filter parameters\n",
      "---------------------\n",
      "Designing a one-pass, zero-phase, non-causal bandpass filter:\n",
      "- Windowed time-domain design (firwin) method\n",
      "- Hamming window with 0.0194 passband ripple and 53 dB stopband attenuation\n",
      "- Lower passband edge: 0.50\n",
      "- Lower transition bandwidth: 0.50 Hz (-6 dB cutoff frequency: 0.25 Hz)\n",
      "- Upper passband edge: 90.00 Hz\n",
      "- Upper transition bandwidth: 22.50 Hz (-6 dB cutoff frequency: 101.25 Hz)\n",
      "- Filter length: 1651 samples (6.604 s)\n",
      "\n",
      "Sampling frequency of the instance is already 250.0, returning unmodified.\n",
      "Filtering raw data in 1 contiguous segment\n"
     ]
    },
    {
     "name": "stderr",
     "output_type": "stream",
     "text": [
      "[Parallel(n_jobs=1)]: Done  17 tasks      | elapsed:    0.0s\n"
     ]
    },
    {
     "name": "stdout",
     "output_type": "stream",
     "text": [
      "Setting up band-pass filter from 0.5 - 90 Hz\n",
      "\n",
      "FIR filter parameters\n",
      "---------------------\n",
      "Designing a one-pass, zero-phase, non-causal bandpass filter:\n",
      "- Windowed time-domain design (firwin) method\n",
      "- Hamming window with 0.0194 passband ripple and 53 dB stopband attenuation\n",
      "- Lower passband edge: 0.50\n",
      "- Lower transition bandwidth: 0.50 Hz (-6 dB cutoff frequency: 0.25 Hz)\n",
      "- Upper passband edge: 90.00 Hz\n",
      "- Upper transition bandwidth: 22.50 Hz (-6 dB cutoff frequency: 101.25 Hz)\n",
      "- Filter length: 1651 samples (6.604 s)\n",
      "\n",
      "Sampling frequency of the instance is already 250.0, returning unmodified.\n"
     ]
    },
    {
     "name": "stderr",
     "output_type": "stream",
     "text": [
      "[Parallel(n_jobs=1)]: Done  17 tasks      | elapsed:    0.0s\n"
     ]
    },
    {
     "name": "stdout",
     "output_type": "stream",
     "text": [
      "Filtering raw data in 1 contiguous segment\n",
      "Setting up band-pass filter from 0.5 - 90 Hz\n",
      "\n",
      "FIR filter parameters\n",
      "---------------------\n",
      "Designing a one-pass, zero-phase, non-causal bandpass filter:\n",
      "- Windowed time-domain design (firwin) method\n",
      "- Hamming window with 0.0194 passband ripple and 53 dB stopband attenuation\n",
      "- Lower passband edge: 0.50\n",
      "- Lower transition bandwidth: 0.50 Hz (-6 dB cutoff frequency: 0.25 Hz)\n",
      "- Upper passband edge: 90.00 Hz\n",
      "- Upper transition bandwidth: 22.50 Hz (-6 dB cutoff frequency: 101.25 Hz)\n",
      "- Filter length: 1651 samples (6.604 s)\n",
      "\n",
      "Sampling frequency of the instance is already 250.0, returning unmodified.\n"
     ]
    },
    {
     "name": "stderr",
     "output_type": "stream",
     "text": [
      "[Parallel(n_jobs=1)]: Done  17 tasks      | elapsed:    0.0s\n"
     ]
    },
    {
     "name": "stdout",
     "output_type": "stream",
     "text": [
      "Filtering raw data in 1 contiguous segment\n",
      "Setting up band-pass filter from 0.5 - 90 Hz\n",
      "\n",
      "FIR filter parameters\n",
      "---------------------\n",
      "Designing a one-pass, zero-phase, non-causal bandpass filter:\n",
      "- Windowed time-domain design (firwin) method\n",
      "- Hamming window with 0.0194 passband ripple and 53 dB stopband attenuation\n",
      "- Lower passband edge: 0.50\n",
      "- Lower transition bandwidth: 0.50 Hz (-6 dB cutoff frequency: 0.25 Hz)\n",
      "- Upper passband edge: 90.00 Hz\n",
      "- Upper transition bandwidth: 22.50 Hz (-6 dB cutoff frequency: 101.25 Hz)\n",
      "- Filter length: 1651 samples (6.604 s)\n",
      "\n",
      "Sampling frequency of the instance is already 250.0, returning unmodified.\n"
     ]
    },
    {
     "name": "stderr",
     "output_type": "stream",
     "text": [
      "[Parallel(n_jobs=1)]: Done  17 tasks      | elapsed:    0.0s\n"
     ]
    },
    {
     "name": "stdout",
     "output_type": "stream",
     "text": [
      "Filtering raw data in 1 contiguous segment\n",
      "Setting up band-pass filter from 0.5 - 90 Hz\n",
      "\n",
      "FIR filter parameters\n",
      "---------------------\n",
      "Designing a one-pass, zero-phase, non-causal bandpass filter:\n",
      "- Windowed time-domain design (firwin) method\n",
      "- Hamming window with 0.0194 passband ripple and 53 dB stopband attenuation\n",
      "- Lower passband edge: 0.50\n",
      "- Lower transition bandwidth: 0.50 Hz (-6 dB cutoff frequency: 0.25 Hz)\n",
      "- Upper passband edge: 90.00 Hz\n",
      "- Upper transition bandwidth: 22.50 Hz (-6 dB cutoff frequency: 101.25 Hz)\n",
      "- Filter length: 1651 samples (6.604 s)\n",
      "\n",
      "Sampling frequency of the instance is already 250.0, returning unmodified.\n"
     ]
    },
    {
     "name": "stderr",
     "output_type": "stream",
     "text": [
      "[Parallel(n_jobs=1)]: Done  17 tasks      | elapsed:    0.0s\n"
     ]
    },
    {
     "name": "stdout",
     "output_type": "stream",
     "text": [
      "Filtering raw data in 1 contiguous segment\n",
      "Setting up band-pass filter from 0.5 - 90 Hz\n",
      "\n",
      "FIR filter parameters\n",
      "---------------------\n",
      "Designing a one-pass, zero-phase, non-causal bandpass filter:\n",
      "- Windowed time-domain design (firwin) method\n",
      "- Hamming window with 0.0194 passband ripple and 53 dB stopband attenuation\n",
      "- Lower passband edge: 0.50\n",
      "- Lower transition bandwidth: 0.50 Hz (-6 dB cutoff frequency: 0.25 Hz)\n",
      "- Upper passband edge: 90.00 Hz\n",
      "- Upper transition bandwidth: 22.50 Hz (-6 dB cutoff frequency: 101.25 Hz)\n",
      "- Filter length: 1651 samples (6.604 s)\n",
      "\n",
      "Sampling frequency of the instance is already 250.0, returning unmodified.\n"
     ]
    },
    {
     "name": "stderr",
     "output_type": "stream",
     "text": [
      "[Parallel(n_jobs=1)]: Done  17 tasks      | elapsed:    0.1s\n"
     ]
    },
    {
     "name": "stdout",
     "output_type": "stream",
     "text": [
      "Filtering raw data in 1 contiguous segment\n",
      "Setting up band-pass filter from 0.5 - 90 Hz\n",
      "\n",
      "FIR filter parameters\n",
      "---------------------\n",
      "Designing a one-pass, zero-phase, non-causal bandpass filter:\n",
      "- Windowed time-domain design (firwin) method\n",
      "- Hamming window with 0.0194 passband ripple and 53 dB stopband attenuation\n",
      "- Lower passband edge: 0.50\n",
      "- Lower transition bandwidth: 0.50 Hz (-6 dB cutoff frequency: 0.25 Hz)\n",
      "- Upper passband edge: 90.00 Hz\n",
      "- Upper transition bandwidth: 22.50 Hz (-6 dB cutoff frequency: 101.25 Hz)\n",
      "- Filter length: 1651 samples (6.604 s)\n",
      "\n",
      "Sampling frequency of the instance is already 250.0, returning unmodified.\n"
     ]
    },
    {
     "name": "stderr",
     "output_type": "stream",
     "text": [
      "[Parallel(n_jobs=1)]: Done  17 tasks      | elapsed:    0.1s\n"
     ]
    },
    {
     "name": "stdout",
     "output_type": "stream",
     "text": [
      "Filtering raw data in 1 contiguous segment\n",
      "Setting up band-pass filter from 0.5 - 90 Hz\n",
      "\n",
      "FIR filter parameters\n",
      "---------------------\n",
      "Designing a one-pass, zero-phase, non-causal bandpass filter:\n",
      "- Windowed time-domain design (firwin) method\n",
      "- Hamming window with 0.0194 passband ripple and 53 dB stopband attenuation\n",
      "- Lower passband edge: 0.50\n",
      "- Lower transition bandwidth: 0.50 Hz (-6 dB cutoff frequency: 0.25 Hz)\n",
      "- Upper passband edge: 90.00 Hz\n",
      "- Upper transition bandwidth: 22.50 Hz (-6 dB cutoff frequency: 101.25 Hz)\n",
      "- Filter length: 1651 samples (6.604 s)\n",
      "\n",
      "Sampling frequency of the instance is already 250.0, returning unmodified.\n"
     ]
    },
    {
     "name": "stderr",
     "output_type": "stream",
     "text": [
      "[Parallel(n_jobs=1)]: Done  17 tasks      | elapsed:    0.1s\n"
     ]
    },
    {
     "name": "stdout",
     "output_type": "stream",
     "text": [
      "Filtering raw data in 1 contiguous segment\n",
      "Setting up band-pass filter from 0.5 - 90 Hz\n",
      "\n",
      "FIR filter parameters\n",
      "---------------------\n",
      "Designing a one-pass, zero-phase, non-causal bandpass filter:\n",
      "- Windowed time-domain design (firwin) method\n",
      "- Hamming window with 0.0194 passband ripple and 53 dB stopband attenuation\n",
      "- Lower passband edge: 0.50\n",
      "- Lower transition bandwidth: 0.50 Hz (-6 dB cutoff frequency: 0.25 Hz)\n",
      "- Upper passband edge: 90.00 Hz\n",
      "- Upper transition bandwidth: 22.50 Hz (-6 dB cutoff frequency: 101.25 Hz)\n",
      "- Filter length: 1651 samples (6.604 s)\n",
      "\n",
      "Sampling frequency of the instance is already 250.0, returning unmodified.\n"
     ]
    },
    {
     "name": "stderr",
     "output_type": "stream",
     "text": [
      "[Parallel(n_jobs=1)]: Done  17 tasks      | elapsed:    0.0s\n"
     ]
    },
    {
     "name": "stdout",
     "output_type": "stream",
     "text": [
      "Filtering raw data in 1 contiguous segment\n",
      "Setting up band-pass filter from 0.5 - 90 Hz\n",
      "\n",
      "FIR filter parameters\n",
      "---------------------\n",
      "Designing a one-pass, zero-phase, non-causal bandpass filter:\n",
      "- Windowed time-domain design (firwin) method\n",
      "- Hamming window with 0.0194 passband ripple and 53 dB stopband attenuation\n",
      "- Lower passband edge: 0.50\n",
      "- Lower transition bandwidth: 0.50 Hz (-6 dB cutoff frequency: 0.25 Hz)\n",
      "- Upper passband edge: 90.00 Hz\n",
      "- Upper transition bandwidth: 22.50 Hz (-6 dB cutoff frequency: 101.25 Hz)\n",
      "- Filter length: 1651 samples (6.604 s)\n",
      "\n",
      "Sampling frequency of the instance is already 250.0, returning unmodified.\n"
     ]
    },
    {
     "name": "stderr",
     "output_type": "stream",
     "text": [
      "[Parallel(n_jobs=1)]: Done  17 tasks      | elapsed:    0.1s\n"
     ]
    },
    {
     "name": "stdout",
     "output_type": "stream",
     "text": [
      "Filtering raw data in 1 contiguous segment\n",
      "Setting up band-pass filter from 0.5 - 90 Hz\n",
      "\n",
      "FIR filter parameters\n",
      "---------------------\n",
      "Designing a one-pass, zero-phase, non-causal bandpass filter:\n",
      "- Windowed time-domain design (firwin) method\n",
      "- Hamming window with 0.0194 passband ripple and 53 dB stopband attenuation\n",
      "- Lower passband edge: 0.50\n",
      "- Lower transition bandwidth: 0.50 Hz (-6 dB cutoff frequency: 0.25 Hz)\n",
      "- Upper passband edge: 90.00 Hz\n",
      "- Upper transition bandwidth: 22.50 Hz (-6 dB cutoff frequency: 101.25 Hz)\n",
      "- Filter length: 1651 samples (6.604 s)\n",
      "\n",
      "Sampling frequency of the instance is already 250.0, returning unmodified.\n"
     ]
    },
    {
     "name": "stderr",
     "output_type": "stream",
     "text": [
      "[Parallel(n_jobs=1)]: Done  17 tasks      | elapsed:    0.1s\n"
     ]
    },
    {
     "name": "stdout",
     "output_type": "stream",
     "text": [
      "Filtering raw data in 1 contiguous segment\n",
      "Setting up band-pass filter from 0.5 - 90 Hz\n",
      "\n",
      "FIR filter parameters\n",
      "---------------------\n",
      "Designing a one-pass, zero-phase, non-causal bandpass filter:\n",
      "- Windowed time-domain design (firwin) method\n",
      "- Hamming window with 0.0194 passband ripple and 53 dB stopband attenuation\n",
      "- Lower passband edge: 0.50\n",
      "- Lower transition bandwidth: 0.50 Hz (-6 dB cutoff frequency: 0.25 Hz)\n",
      "- Upper passband edge: 90.00 Hz\n",
      "- Upper transition bandwidth: 22.50 Hz (-6 dB cutoff frequency: 101.25 Hz)\n",
      "- Filter length: 1651 samples (6.604 s)\n",
      "\n",
      "Sampling frequency of the instance is already 250.0, returning unmodified.\n"
     ]
    },
    {
     "name": "stderr",
     "output_type": "stream",
     "text": [
      "[Parallel(n_jobs=1)]: Done  17 tasks      | elapsed:    0.1s\n"
     ]
    },
    {
     "name": "stdout",
     "output_type": "stream",
     "text": [
      "Filtering raw data in 1 contiguous segment\n",
      "Setting up band-pass filter from 0.5 - 90 Hz\n",
      "\n",
      "FIR filter parameters\n",
      "---------------------\n",
      "Designing a one-pass, zero-phase, non-causal bandpass filter:\n",
      "- Windowed time-domain design (firwin) method\n",
      "- Hamming window with 0.0194 passband ripple and 53 dB stopband attenuation\n",
      "- Lower passband edge: 0.50\n",
      "- Lower transition bandwidth: 0.50 Hz (-6 dB cutoff frequency: 0.25 Hz)\n",
      "- Upper passband edge: 90.00 Hz\n",
      "- Upper transition bandwidth: 22.50 Hz (-6 dB cutoff frequency: 101.25 Hz)\n",
      "- Filter length: 1651 samples (6.604 s)\n",
      "\n",
      "Sampling frequency of the instance is already 250.0, returning unmodified.\n"
     ]
    },
    {
     "name": "stderr",
     "output_type": "stream",
     "text": [
      "[Parallel(n_jobs=1)]: Done  17 tasks      | elapsed:    0.0s\n"
     ]
    },
    {
     "name": "stdout",
     "output_type": "stream",
     "text": [
      "Filtering raw data in 1 contiguous segment\n",
      "Setting up band-pass filter from 0.5 - 90 Hz\n",
      "\n",
      "FIR filter parameters\n",
      "---------------------\n",
      "Designing a one-pass, zero-phase, non-causal bandpass filter:\n",
      "- Windowed time-domain design (firwin) method\n",
      "- Hamming window with 0.0194 passband ripple and 53 dB stopband attenuation\n",
      "- Lower passband edge: 0.50\n",
      "- Lower transition bandwidth: 0.50 Hz (-6 dB cutoff frequency: 0.25 Hz)\n",
      "- Upper passband edge: 90.00 Hz\n",
      "- Upper transition bandwidth: 22.50 Hz (-6 dB cutoff frequency: 101.25 Hz)\n",
      "- Filter length: 1651 samples (6.604 s)\n",
      "\n",
      "Sampling frequency of the instance is already 250.0, returning unmodified.\n"
     ]
    },
    {
     "name": "stderr",
     "output_type": "stream",
     "text": [
      "[Parallel(n_jobs=1)]: Done  17 tasks      | elapsed:    0.0s\n"
     ]
    },
    {
     "name": "stdout",
     "output_type": "stream",
     "text": [
      "Filtering raw data in 1 contiguous segment\n",
      "Setting up band-pass filter from 0.5 - 90 Hz\n",
      "\n",
      "FIR filter parameters\n",
      "---------------------\n",
      "Designing a one-pass, zero-phase, non-causal bandpass filter:\n",
      "- Windowed time-domain design (firwin) method\n",
      "- Hamming window with 0.0194 passband ripple and 53 dB stopband attenuation\n",
      "- Lower passband edge: 0.50\n",
      "- Lower transition bandwidth: 0.50 Hz (-6 dB cutoff frequency: 0.25 Hz)\n",
      "- Upper passband edge: 90.00 Hz\n",
      "- Upper transition bandwidth: 22.50 Hz (-6 dB cutoff frequency: 101.25 Hz)\n",
      "- Filter length: 1651 samples (6.604 s)\n",
      "\n",
      "Sampling frequency of the instance is already 250.0, returning unmodified.\n"
     ]
    },
    {
     "name": "stderr",
     "output_type": "stream",
     "text": [
      "[Parallel(n_jobs=1)]: Done  17 tasks      | elapsed:    0.0s\n"
     ]
    },
    {
     "name": "stdout",
     "output_type": "stream",
     "text": [
      "Filtering raw data in 1 contiguous segment\n",
      "Setting up band-pass filter from 0.5 - 90 Hz\n",
      "\n",
      "FIR filter parameters\n",
      "---------------------\n",
      "Designing a one-pass, zero-phase, non-causal bandpass filter:\n",
      "- Windowed time-domain design (firwin) method\n",
      "- Hamming window with 0.0194 passband ripple and 53 dB stopband attenuation\n",
      "- Lower passband edge: 0.50\n",
      "- Lower transition bandwidth: 0.50 Hz (-6 dB cutoff frequency: 0.25 Hz)\n",
      "- Upper passband edge: 90.00 Hz\n",
      "- Upper transition bandwidth: 22.50 Hz (-6 dB cutoff frequency: 101.25 Hz)\n",
      "- Filter length: 1651 samples (6.604 s)\n",
      "\n",
      "Sampling frequency of the instance is already 250.0, returning unmodified.\n"
     ]
    },
    {
     "name": "stderr",
     "output_type": "stream",
     "text": [
      "[Parallel(n_jobs=1)]: Done  17 tasks      | elapsed:    0.0s\n"
     ]
    },
    {
     "name": "stdout",
     "output_type": "stream",
     "text": [
      "Filtering raw data in 1 contiguous segment\n",
      "Setting up band-pass filter from 0.5 - 90 Hz\n",
      "\n",
      "FIR filter parameters\n",
      "---------------------\n",
      "Designing a one-pass, zero-phase, non-causal bandpass filter:\n",
      "- Windowed time-domain design (firwin) method\n",
      "- Hamming window with 0.0194 passband ripple and 53 dB stopband attenuation\n",
      "- Lower passband edge: 0.50\n",
      "- Lower transition bandwidth: 0.50 Hz (-6 dB cutoff frequency: 0.25 Hz)\n",
      "- Upper passband edge: 90.00 Hz\n",
      "- Upper transition bandwidth: 22.50 Hz (-6 dB cutoff frequency: 101.25 Hz)\n",
      "- Filter length: 1651 samples (6.604 s)\n",
      "\n",
      "Sampling frequency of the instance is already 250.0, returning unmodified.\n",
      "Filtering raw data in 1 contiguous segment\n"
     ]
    },
    {
     "name": "stderr",
     "output_type": "stream",
     "text": [
      "[Parallel(n_jobs=1)]: Done  17 tasks      | elapsed:    0.0s\n"
     ]
    },
    {
     "name": "stdout",
     "output_type": "stream",
     "text": [
      "Setting up band-pass filter from 0.5 - 90 Hz\n",
      "\n",
      "FIR filter parameters\n",
      "---------------------\n",
      "Designing a one-pass, zero-phase, non-causal bandpass filter:\n",
      "- Windowed time-domain design (firwin) method\n",
      "- Hamming window with 0.0194 passband ripple and 53 dB stopband attenuation\n",
      "- Lower passband edge: 0.50\n",
      "- Lower transition bandwidth: 0.50 Hz (-6 dB cutoff frequency: 0.25 Hz)\n",
      "- Upper passband edge: 90.00 Hz\n",
      "- Upper transition bandwidth: 22.50 Hz (-6 dB cutoff frequency: 101.25 Hz)\n",
      "- Filter length: 1651 samples (6.604 s)\n",
      "\n",
      "Sampling frequency of the instance is already 250.0, returning unmodified.\n"
     ]
    },
    {
     "name": "stderr",
     "output_type": "stream",
     "text": [
      "[Parallel(n_jobs=1)]: Done  17 tasks      | elapsed:    0.1s\n"
     ]
    },
    {
     "name": "stdout",
     "output_type": "stream",
     "text": [
      "Filtering raw data in 1 contiguous segment\n",
      "Setting up band-pass filter from 0.5 - 90 Hz\n",
      "\n",
      "FIR filter parameters\n",
      "---------------------\n",
      "Designing a one-pass, zero-phase, non-causal bandpass filter:\n",
      "- Windowed time-domain design (firwin) method\n",
      "- Hamming window with 0.0194 passband ripple and 53 dB stopband attenuation\n",
      "- Lower passband edge: 0.50\n",
      "- Lower transition bandwidth: 0.50 Hz (-6 dB cutoff frequency: 0.25 Hz)\n",
      "- Upper passband edge: 90.00 Hz\n",
      "- Upper transition bandwidth: 22.50 Hz (-6 dB cutoff frequency: 101.25 Hz)\n",
      "- Filter length: 1651 samples (6.604 s)\n",
      "\n",
      "Sampling frequency of the instance is already 250.0, returning unmodified.\n"
     ]
    },
    {
     "name": "stderr",
     "output_type": "stream",
     "text": [
      "[Parallel(n_jobs=1)]: Done  17 tasks      | elapsed:    0.0s\n"
     ]
    },
    {
     "name": "stdout",
     "output_type": "stream",
     "text": [
      "Filtering raw data in 1 contiguous segment\n",
      "Setting up band-pass filter from 0.5 - 90 Hz\n",
      "\n",
      "FIR filter parameters\n",
      "---------------------\n",
      "Designing a one-pass, zero-phase, non-causal bandpass filter:\n",
      "- Windowed time-domain design (firwin) method\n",
      "- Hamming window with 0.0194 passband ripple and 53 dB stopband attenuation\n",
      "- Lower passband edge: 0.50\n",
      "- Lower transition bandwidth: 0.50 Hz (-6 dB cutoff frequency: 0.25 Hz)\n",
      "- Upper passband edge: 90.00 Hz\n",
      "- Upper transition bandwidth: 22.50 Hz (-6 dB cutoff frequency: 101.25 Hz)\n",
      "- Filter length: 1651 samples (6.604 s)\n",
      "\n",
      "Sampling frequency of the instance is already 250.0, returning unmodified.\n",
      "Filtering raw data in 1 contiguous segment\n"
     ]
    },
    {
     "name": "stderr",
     "output_type": "stream",
     "text": [
      "[Parallel(n_jobs=1)]: Done  17 tasks      | elapsed:    0.0s\n"
     ]
    },
    {
     "name": "stdout",
     "output_type": "stream",
     "text": [
      "Setting up band-pass filter from 0.5 - 90 Hz\n",
      "\n",
      "FIR filter parameters\n",
      "---------------------\n",
      "Designing a one-pass, zero-phase, non-causal bandpass filter:\n",
      "- Windowed time-domain design (firwin) method\n",
      "- Hamming window with 0.0194 passband ripple and 53 dB stopband attenuation\n",
      "- Lower passband edge: 0.50\n",
      "- Lower transition bandwidth: 0.50 Hz (-6 dB cutoff frequency: 0.25 Hz)\n",
      "- Upper passband edge: 90.00 Hz\n",
      "- Upper transition bandwidth: 22.50 Hz (-6 dB cutoff frequency: 101.25 Hz)\n",
      "- Filter length: 1651 samples (6.604 s)\n",
      "\n",
      "Sampling frequency of the instance is already 250.0, returning unmodified.\n",
      "Filtering raw data in 1 contiguous segment\n"
     ]
    },
    {
     "name": "stderr",
     "output_type": "stream",
     "text": [
      "[Parallel(n_jobs=1)]: Done  17 tasks      | elapsed:    0.0s\n"
     ]
    },
    {
     "name": "stdout",
     "output_type": "stream",
     "text": [
      "Setting up band-pass filter from 0.5 - 90 Hz\n",
      "\n",
      "FIR filter parameters\n",
      "---------------------\n",
      "Designing a one-pass, zero-phase, non-causal bandpass filter:\n",
      "- Windowed time-domain design (firwin) method\n",
      "- Hamming window with 0.0194 passband ripple and 53 dB stopband attenuation\n",
      "- Lower passband edge: 0.50\n",
      "- Lower transition bandwidth: 0.50 Hz (-6 dB cutoff frequency: 0.25 Hz)\n",
      "- Upper passband edge: 90.00 Hz\n",
      "- Upper transition bandwidth: 22.50 Hz (-6 dB cutoff frequency: 101.25 Hz)\n",
      "- Filter length: 1651 samples (6.604 s)\n",
      "\n",
      "Sampling frequency of the instance is already 250.0, returning unmodified.\n"
     ]
    },
    {
     "name": "stderr",
     "output_type": "stream",
     "text": [
      "[Parallel(n_jobs=1)]: Done  17 tasks      | elapsed:    0.0s\n"
     ]
    },
    {
     "name": "stdout",
     "output_type": "stream",
     "text": [
      "Filtering raw data in 1 contiguous segment\n",
      "Setting up band-pass filter from 0.5 - 90 Hz\n",
      "\n",
      "FIR filter parameters\n",
      "---------------------\n",
      "Designing a one-pass, zero-phase, non-causal bandpass filter:\n",
      "- Windowed time-domain design (firwin) method\n",
      "- Hamming window with 0.0194 passband ripple and 53 dB stopband attenuation\n",
      "- Lower passband edge: 0.50\n",
      "- Lower transition bandwidth: 0.50 Hz (-6 dB cutoff frequency: 0.25 Hz)\n",
      "- Upper passband edge: 90.00 Hz\n",
      "- Upper transition bandwidth: 22.50 Hz (-6 dB cutoff frequency: 101.25 Hz)\n",
      "- Filter length: 1651 samples (6.604 s)\n",
      "\n",
      "Sampling frequency of the instance is already 250.0, returning unmodified.\n"
     ]
    },
    {
     "name": "stderr",
     "output_type": "stream",
     "text": [
      "[Parallel(n_jobs=1)]: Done  17 tasks      | elapsed:    0.0s\n"
     ]
    },
    {
     "name": "stdout",
     "output_type": "stream",
     "text": [
      "Filtering raw data in 1 contiguous segment\n",
      "Setting up band-pass filter from 0.5 - 90 Hz\n",
      "\n",
      "FIR filter parameters\n",
      "---------------------\n",
      "Designing a one-pass, zero-phase, non-causal bandpass filter:\n",
      "- Windowed time-domain design (firwin) method\n",
      "- Hamming window with 0.0194 passband ripple and 53 dB stopband attenuation\n",
      "- Lower passband edge: 0.50\n",
      "- Lower transition bandwidth: 0.50 Hz (-6 dB cutoff frequency: 0.25 Hz)\n",
      "- Upper passband edge: 90.00 Hz\n",
      "- Upper transition bandwidth: 22.50 Hz (-6 dB cutoff frequency: 101.25 Hz)\n",
      "- Filter length: 1651 samples (6.604 s)\n",
      "\n",
      "Sampling frequency of the instance is already 250.0, returning unmodified.\n"
     ]
    },
    {
     "name": "stderr",
     "output_type": "stream",
     "text": [
      "[Parallel(n_jobs=1)]: Done  17 tasks      | elapsed:    0.0s\n"
     ]
    },
    {
     "name": "stdout",
     "output_type": "stream",
     "text": [
      "Filtering raw data in 1 contiguous segment\n",
      "Setting up band-pass filter from 0.5 - 90 Hz\n",
      "\n",
      "FIR filter parameters\n",
      "---------------------\n",
      "Designing a one-pass, zero-phase, non-causal bandpass filter:\n",
      "- Windowed time-domain design (firwin) method\n",
      "- Hamming window with 0.0194 passband ripple and 53 dB stopband attenuation\n",
      "- Lower passband edge: 0.50\n",
      "- Lower transition bandwidth: 0.50 Hz (-6 dB cutoff frequency: 0.25 Hz)\n",
      "- Upper passband edge: 90.00 Hz\n",
      "- Upper transition bandwidth: 22.50 Hz (-6 dB cutoff frequency: 101.25 Hz)\n",
      "- Filter length: 1651 samples (6.604 s)\n",
      "\n",
      "Sampling frequency of the instance is already 250.0, returning unmodified.\n"
     ]
    },
    {
     "name": "stderr",
     "output_type": "stream",
     "text": [
      "[Parallel(n_jobs=1)]: Done  17 tasks      | elapsed:    0.0s\n"
     ]
    },
    {
     "name": "stdout",
     "output_type": "stream",
     "text": [
      "Filtering raw data in 1 contiguous segment\n",
      "Setting up band-pass filter from 0.5 - 90 Hz\n",
      "\n",
      "FIR filter parameters\n",
      "---------------------\n",
      "Designing a one-pass, zero-phase, non-causal bandpass filter:\n",
      "- Windowed time-domain design (firwin) method\n",
      "- Hamming window with 0.0194 passband ripple and 53 dB stopband attenuation\n",
      "- Lower passband edge: 0.50\n",
      "- Lower transition bandwidth: 0.50 Hz (-6 dB cutoff frequency: 0.25 Hz)\n",
      "- Upper passband edge: 90.00 Hz\n",
      "- Upper transition bandwidth: 22.50 Hz (-6 dB cutoff frequency: 101.25 Hz)\n",
      "- Filter length: 1651 samples (6.604 s)\n",
      "\n",
      "Sampling frequency of the instance is already 250.0, returning unmodified.\n"
     ]
    },
    {
     "name": "stderr",
     "output_type": "stream",
     "text": [
      "[Parallel(n_jobs=1)]: Done  17 tasks      | elapsed:    0.0s\n"
     ]
    },
    {
     "name": "stdout",
     "output_type": "stream",
     "text": [
      "Filtering raw data in 1 contiguous segment\n",
      "Setting up band-pass filter from 0.5 - 90 Hz\n",
      "\n",
      "FIR filter parameters\n",
      "---------------------\n",
      "Designing a one-pass, zero-phase, non-causal bandpass filter:\n",
      "- Windowed time-domain design (firwin) method\n",
      "- Hamming window with 0.0194 passband ripple and 53 dB stopband attenuation\n",
      "- Lower passband edge: 0.50\n",
      "- Lower transition bandwidth: 0.50 Hz (-6 dB cutoff frequency: 0.25 Hz)\n",
      "- Upper passband edge: 90.00 Hz\n",
      "- Upper transition bandwidth: 22.50 Hz (-6 dB cutoff frequency: 101.25 Hz)\n",
      "- Filter length: 1651 samples (6.604 s)\n",
      "\n",
      "Sampling frequency of the instance is already 250.0, returning unmodified.\n"
     ]
    },
    {
     "name": "stderr",
     "output_type": "stream",
     "text": [
      "[Parallel(n_jobs=1)]: Done  17 tasks      | elapsed:    0.0s\n"
     ]
    },
    {
     "name": "stdout",
     "output_type": "stream",
     "text": [
      "Filtering raw data in 1 contiguous segment\n",
      "Setting up band-pass filter from 0.5 - 90 Hz\n",
      "\n",
      "FIR filter parameters\n",
      "---------------------\n",
      "Designing a one-pass, zero-phase, non-causal bandpass filter:\n",
      "- Windowed time-domain design (firwin) method\n",
      "- Hamming window with 0.0194 passband ripple and 53 dB stopband attenuation\n",
      "- Lower passband edge: 0.50\n",
      "- Lower transition bandwidth: 0.50 Hz (-6 dB cutoff frequency: 0.25 Hz)\n",
      "- Upper passband edge: 90.00 Hz\n",
      "- Upper transition bandwidth: 22.50 Hz (-6 dB cutoff frequency: 101.25 Hz)\n",
      "- Filter length: 1651 samples (6.604 s)\n",
      "\n",
      "Sampling frequency of the instance is already 250.0, returning unmodified.\n"
     ]
    },
    {
     "name": "stderr",
     "output_type": "stream",
     "text": [
      "[Parallel(n_jobs=1)]: Done  17 tasks      | elapsed:    0.0s\n"
     ]
    },
    {
     "name": "stdout",
     "output_type": "stream",
     "text": [
      "Filtering raw data in 1 contiguous segment\n",
      "Setting up band-pass filter from 0.5 - 90 Hz\n",
      "\n",
      "FIR filter parameters\n",
      "---------------------\n",
      "Designing a one-pass, zero-phase, non-causal bandpass filter:\n",
      "- Windowed time-domain design (firwin) method\n",
      "- Hamming window with 0.0194 passband ripple and 53 dB stopband attenuation\n",
      "- Lower passband edge: 0.50\n",
      "- Lower transition bandwidth: 0.50 Hz (-6 dB cutoff frequency: 0.25 Hz)\n",
      "- Upper passband edge: 90.00 Hz\n",
      "- Upper transition bandwidth: 22.50 Hz (-6 dB cutoff frequency: 101.25 Hz)\n",
      "- Filter length: 1651 samples (6.604 s)\n",
      "\n",
      "Sampling frequency of the instance is already 250.0, returning unmodified.\n"
     ]
    },
    {
     "name": "stderr",
     "output_type": "stream",
     "text": [
      "[Parallel(n_jobs=1)]: Done  17 tasks      | elapsed:    0.0s\n"
     ]
    },
    {
     "name": "stdout",
     "output_type": "stream",
     "text": [
      "Filtering raw data in 1 contiguous segment\n",
      "Setting up band-pass filter from 0.5 - 90 Hz\n",
      "\n",
      "FIR filter parameters\n",
      "---------------------\n",
      "Designing a one-pass, zero-phase, non-causal bandpass filter:\n",
      "- Windowed time-domain design (firwin) method\n",
      "- Hamming window with 0.0194 passband ripple and 53 dB stopband attenuation\n",
      "- Lower passband edge: 0.50\n",
      "- Lower transition bandwidth: 0.50 Hz (-6 dB cutoff frequency: 0.25 Hz)\n",
      "- Upper passband edge: 90.00 Hz\n",
      "- Upper transition bandwidth: 22.50 Hz (-6 dB cutoff frequency: 101.25 Hz)\n",
      "- Filter length: 1651 samples (6.604 s)\n",
      "\n",
      "Sampling frequency of the instance is already 250.0, returning unmodified.\n"
     ]
    },
    {
     "name": "stderr",
     "output_type": "stream",
     "text": [
      "[Parallel(n_jobs=1)]: Done  17 tasks      | elapsed:    0.0s\n"
     ]
    },
    {
     "name": "stdout",
     "output_type": "stream",
     "text": [
      "Filtering raw data in 1 contiguous segment\n",
      "Setting up band-pass filter from 0.5 - 90 Hz\n",
      "\n",
      "FIR filter parameters\n",
      "---------------------\n",
      "Designing a one-pass, zero-phase, non-causal bandpass filter:\n",
      "- Windowed time-domain design (firwin) method\n",
      "- Hamming window with 0.0194 passband ripple and 53 dB stopband attenuation\n",
      "- Lower passband edge: 0.50\n",
      "- Lower transition bandwidth: 0.50 Hz (-6 dB cutoff frequency: 0.25 Hz)\n",
      "- Upper passband edge: 90.00 Hz\n",
      "- Upper transition bandwidth: 22.50 Hz (-6 dB cutoff frequency: 101.25 Hz)\n",
      "- Filter length: 1651 samples (6.604 s)\n",
      "\n",
      "Sampling frequency of the instance is already 250.0, returning unmodified.\n"
     ]
    },
    {
     "name": "stderr",
     "output_type": "stream",
     "text": [
      "[Parallel(n_jobs=1)]: Done  17 tasks      | elapsed:    0.0s\n"
     ]
    },
    {
     "name": "stdout",
     "output_type": "stream",
     "text": [
      "Filtering raw data in 1 contiguous segment\n",
      "Setting up band-pass filter from 0.5 - 90 Hz\n",
      "\n",
      "FIR filter parameters\n",
      "---------------------\n",
      "Designing a one-pass, zero-phase, non-causal bandpass filter:\n",
      "- Windowed time-domain design (firwin) method\n",
      "- Hamming window with 0.0194 passband ripple and 53 dB stopband attenuation\n",
      "- Lower passband edge: 0.50\n",
      "- Lower transition bandwidth: 0.50 Hz (-6 dB cutoff frequency: 0.25 Hz)\n",
      "- Upper passband edge: 90.00 Hz\n",
      "- Upper transition bandwidth: 22.50 Hz (-6 dB cutoff frequency: 101.25 Hz)\n",
      "- Filter length: 1651 samples (6.604 s)\n",
      "\n",
      "Sampling frequency of the instance is already 250.0, returning unmodified.\n"
     ]
    },
    {
     "name": "stderr",
     "output_type": "stream",
     "text": [
      "[Parallel(n_jobs=1)]: Done  17 tasks      | elapsed:    0.0s\n"
     ]
    },
    {
     "name": "stdout",
     "output_type": "stream",
     "text": [
      "Filtering raw data in 1 contiguous segment\n",
      "Setting up band-pass filter from 0.5 - 90 Hz\n",
      "\n",
      "FIR filter parameters\n",
      "---------------------\n",
      "Designing a one-pass, zero-phase, non-causal bandpass filter:\n",
      "- Windowed time-domain design (firwin) method\n",
      "- Hamming window with 0.0194 passband ripple and 53 dB stopband attenuation\n",
      "- Lower passband edge: 0.50\n",
      "- Lower transition bandwidth: 0.50 Hz (-6 dB cutoff frequency: 0.25 Hz)\n",
      "- Upper passband edge: 90.00 Hz\n",
      "- Upper transition bandwidth: 22.50 Hz (-6 dB cutoff frequency: 101.25 Hz)\n",
      "- Filter length: 1651 samples (6.604 s)\n",
      "\n",
      "Sampling frequency of the instance is already 250.0, returning unmodified.\n"
     ]
    },
    {
     "name": "stderr",
     "output_type": "stream",
     "text": [
      "[Parallel(n_jobs=1)]: Done  17 tasks      | elapsed:    0.0s\n"
     ]
    },
    {
     "name": "stdout",
     "output_type": "stream",
     "text": [
      "Filtering raw data in 1 contiguous segment\n",
      "Setting up band-pass filter from 0.5 - 90 Hz\n",
      "\n",
      "FIR filter parameters\n",
      "---------------------\n",
      "Designing a one-pass, zero-phase, non-causal bandpass filter:\n",
      "- Windowed time-domain design (firwin) method\n",
      "- Hamming window with 0.0194 passband ripple and 53 dB stopband attenuation\n",
      "- Lower passband edge: 0.50\n",
      "- Lower transition bandwidth: 0.50 Hz (-6 dB cutoff frequency: 0.25 Hz)\n",
      "- Upper passband edge: 90.00 Hz\n",
      "- Upper transition bandwidth: 22.50 Hz (-6 dB cutoff frequency: 101.25 Hz)\n",
      "- Filter length: 1651 samples (6.604 s)\n",
      "\n",
      "Sampling frequency of the instance is already 250.0, returning unmodified.\n"
     ]
    },
    {
     "name": "stderr",
     "output_type": "stream",
     "text": [
      "[Parallel(n_jobs=1)]: Done  17 tasks      | elapsed:    0.0s\n"
     ]
    },
    {
     "name": "stdout",
     "output_type": "stream",
     "text": [
      "Filtering raw data in 1 contiguous segment\n",
      "Setting up band-pass filter from 0.5 - 90 Hz\n",
      "\n",
      "FIR filter parameters\n",
      "---------------------\n",
      "Designing a one-pass, zero-phase, non-causal bandpass filter:\n",
      "- Windowed time-domain design (firwin) method\n",
      "- Hamming window with 0.0194 passband ripple and 53 dB stopband attenuation\n",
      "- Lower passband edge: 0.50\n",
      "- Lower transition bandwidth: 0.50 Hz (-6 dB cutoff frequency: 0.25 Hz)\n",
      "- Upper passband edge: 90.00 Hz\n",
      "- Upper transition bandwidth: 22.50 Hz (-6 dB cutoff frequency: 101.25 Hz)\n",
      "- Filter length: 1651 samples (6.604 s)\n",
      "\n",
      "Sampling frequency of the instance is already 250.0, returning unmodified.\n"
     ]
    },
    {
     "name": "stderr",
     "output_type": "stream",
     "text": [
      "[Parallel(n_jobs=1)]: Done  17 tasks      | elapsed:    0.0s\n"
     ]
    },
    {
     "name": "stdout",
     "output_type": "stream",
     "text": [
      "Filtering raw data in 1 contiguous segment\n",
      "Setting up band-pass filter from 0.5 - 90 Hz\n",
      "\n",
      "FIR filter parameters\n",
      "---------------------\n",
      "Designing a one-pass, zero-phase, non-causal bandpass filter:\n",
      "- Windowed time-domain design (firwin) method\n",
      "- Hamming window with 0.0194 passband ripple and 53 dB stopband attenuation\n",
      "- Lower passband edge: 0.50\n",
      "- Lower transition bandwidth: 0.50 Hz (-6 dB cutoff frequency: 0.25 Hz)\n",
      "- Upper passband edge: 90.00 Hz\n",
      "- Upper transition bandwidth: 22.50 Hz (-6 dB cutoff frequency: 101.25 Hz)\n",
      "- Filter length: 1651 samples (6.604 s)\n",
      "\n",
      "Sampling frequency of the instance is already 250.0, returning unmodified.\n"
     ]
    },
    {
     "name": "stderr",
     "output_type": "stream",
     "text": [
      "[Parallel(n_jobs=1)]: Done  17 tasks      | elapsed:    0.0s\n"
     ]
    },
    {
     "name": "stdout",
     "output_type": "stream",
     "text": [
      "Filtering raw data in 1 contiguous segment\n",
      "Setting up band-pass filter from 0.5 - 90 Hz\n",
      "\n",
      "FIR filter parameters\n",
      "---------------------\n",
      "Designing a one-pass, zero-phase, non-causal bandpass filter:\n",
      "- Windowed time-domain design (firwin) method\n",
      "- Hamming window with 0.0194 passband ripple and 53 dB stopband attenuation\n",
      "- Lower passband edge: 0.50\n",
      "- Lower transition bandwidth: 0.50 Hz (-6 dB cutoff frequency: 0.25 Hz)\n",
      "- Upper passband edge: 90.00 Hz\n",
      "- Upper transition bandwidth: 22.50 Hz (-6 dB cutoff frequency: 101.25 Hz)\n",
      "- Filter length: 1651 samples (6.604 s)\n",
      "\n",
      "Sampling frequency of the instance is already 250.0, returning unmodified.\n"
     ]
    },
    {
     "name": "stderr",
     "output_type": "stream",
     "text": [
      "[Parallel(n_jobs=1)]: Done  17 tasks      | elapsed:    0.0s\n"
     ]
    },
    {
     "name": "stdout",
     "output_type": "stream",
     "text": [
      "Filtering raw data in 1 contiguous segment\n",
      "Setting up band-pass filter from 0.5 - 90 Hz\n",
      "\n",
      "FIR filter parameters\n",
      "---------------------\n",
      "Designing a one-pass, zero-phase, non-causal bandpass filter:\n",
      "- Windowed time-domain design (firwin) method\n",
      "- Hamming window with 0.0194 passband ripple and 53 dB stopband attenuation\n",
      "- Lower passband edge: 0.50\n",
      "- Lower transition bandwidth: 0.50 Hz (-6 dB cutoff frequency: 0.25 Hz)\n",
      "- Upper passband edge: 90.00 Hz\n",
      "- Upper transition bandwidth: 22.50 Hz (-6 dB cutoff frequency: 101.25 Hz)\n",
      "- Filter length: 1651 samples (6.604 s)\n",
      "\n",
      "Sampling frequency of the instance is already 250.0, returning unmodified.\n",
      "Filtering raw data in 1 contiguous segment\n"
     ]
    },
    {
     "name": "stderr",
     "output_type": "stream",
     "text": [
      "[Parallel(n_jobs=1)]: Done  17 tasks      | elapsed:    0.0s\n"
     ]
    },
    {
     "name": "stdout",
     "output_type": "stream",
     "text": [
      "Setting up band-pass filter from 0.5 - 90 Hz\n",
      "\n",
      "FIR filter parameters\n",
      "---------------------\n",
      "Designing a one-pass, zero-phase, non-causal bandpass filter:\n",
      "- Windowed time-domain design (firwin) method\n",
      "- Hamming window with 0.0194 passband ripple and 53 dB stopband attenuation\n",
      "- Lower passband edge: 0.50\n",
      "- Lower transition bandwidth: 0.50 Hz (-6 dB cutoff frequency: 0.25 Hz)\n",
      "- Upper passband edge: 90.00 Hz\n",
      "- Upper transition bandwidth: 22.50 Hz (-6 dB cutoff frequency: 101.25 Hz)\n",
      "- Filter length: 1651 samples (6.604 s)\n",
      "\n",
      "Sampling frequency of the instance is already 250.0, returning unmodified.\n"
     ]
    },
    {
     "name": "stderr",
     "output_type": "stream",
     "text": [
      "[Parallel(n_jobs=1)]: Done  17 tasks      | elapsed:    0.0s\n"
     ]
    },
    {
     "name": "stdout",
     "output_type": "stream",
     "text": [
      "Filtering raw data in 1 contiguous segment\n",
      "Setting up band-pass filter from 0.5 - 90 Hz\n",
      "\n",
      "FIR filter parameters\n",
      "---------------------\n",
      "Designing a one-pass, zero-phase, non-causal bandpass filter:\n",
      "- Windowed time-domain design (firwin) method\n",
      "- Hamming window with 0.0194 passband ripple and 53 dB stopband attenuation\n",
      "- Lower passband edge: 0.50\n",
      "- Lower transition bandwidth: 0.50 Hz (-6 dB cutoff frequency: 0.25 Hz)\n",
      "- Upper passband edge: 90.00 Hz\n",
      "- Upper transition bandwidth: 22.50 Hz (-6 dB cutoff frequency: 101.25 Hz)\n",
      "- Filter length: 1651 samples (6.604 s)\n",
      "\n",
      "Sampling frequency of the instance is already 250.0, returning unmodified.\n"
     ]
    },
    {
     "name": "stderr",
     "output_type": "stream",
     "text": [
      "[Parallel(n_jobs=1)]: Done  17 tasks      | elapsed:    0.0s\n"
     ]
    },
    {
     "name": "stdout",
     "output_type": "stream",
     "text": [
      "Filtering raw data in 1 contiguous segment\n",
      "Setting up band-pass filter from 0.5 - 90 Hz\n",
      "\n",
      "FIR filter parameters\n",
      "---------------------\n",
      "Designing a one-pass, zero-phase, non-causal bandpass filter:\n",
      "- Windowed time-domain design (firwin) method\n",
      "- Hamming window with 0.0194 passband ripple and 53 dB stopband attenuation\n",
      "- Lower passband edge: 0.50\n",
      "- Lower transition bandwidth: 0.50 Hz (-6 dB cutoff frequency: 0.25 Hz)\n",
      "- Upper passband edge: 90.00 Hz\n",
      "- Upper transition bandwidth: 22.50 Hz (-6 dB cutoff frequency: 101.25 Hz)\n",
      "- Filter length: 1651 samples (6.604 s)\n",
      "\n",
      "Sampling frequency of the instance is already 250.0, returning unmodified.\n"
     ]
    },
    {
     "name": "stderr",
     "output_type": "stream",
     "text": [
      "[Parallel(n_jobs=1)]: Done  17 tasks      | elapsed:    0.0s\n"
     ]
    },
    {
     "data": {
      "text/plain": [
       "<braindecode.datasets.moabb.MOABBDataset at 0x1fd237157d0>"
      ]
     },
     "execution_count": 5,
     "metadata": {},
     "output_type": "execute_result"
    }
   ],
   "source": [
    "low_freq = 0.5\n",
    "high_freq = 90\n",
    "resample_freq = 250\n",
    "\n",
    "# preprocess data using \"braindecode.preprocessor\"\n",
    "# only use eeg(stim channels must be removed)\n",
    "preprocessors = [Preprocessor('pick', picks=['eeg'])]\n",
    "\n",
    "# if pick_channels:\n",
    "#     preprocessors.append(Preprocessor('pick', picks=pick_channels))\n",
    "# preprocessors.append(Preprocessor(lambda data: multiply(data, 1e6)))\n",
    "if low_freq or high_freq:\n",
    "    preprocessors.append(Preprocessor('filter', l_freq=low_freq, h_freq=high_freq))\n",
    "if resample_freq:\n",
    "    preprocessors.append(Preprocessor('resample', sfreq=resample_freq))\n",
    "preprocessors.append(Preprocessor(exponential_moving_standardize, factor_new=1e-3))\n",
    "preprocess(raw_dataset, preprocessors)"
   ]
  },
  {
   "cell_type": "markdown",
   "metadata": {},
   "source": [
    "## Window Split (for each trail start and end)"
   ]
  },
  {
   "cell_type": "code",
   "execution_count": 6,
   "metadata": {},
   "outputs": [
    {
     "name": "stdout",
     "output_type": "stream",
     "text": [
      "Used Annotations descriptions: ['feet', 'left_hand', 'right_hand', 'tongue']\n",
      "Used Annotations descriptions: ['feet', 'left_hand', 'right_hand', 'tongue']\n",
      "Used Annotations descriptions: ['feet', 'left_hand', 'right_hand', 'tongue']\n",
      "Used Annotations descriptions: ['feet', 'left_hand', 'right_hand', 'tongue']\n",
      "Used Annotations descriptions: ['feet', 'left_hand', 'right_hand', 'tongue']\n",
      "Used Annotations descriptions: ['feet', 'left_hand', 'right_hand', 'tongue']\n",
      "Used Annotations descriptions: ['feet', 'left_hand', 'right_hand', 'tongue']\n",
      "Used Annotations descriptions: ['feet', 'left_hand', 'right_hand', 'tongue']\n",
      "Used Annotations descriptions: ['feet', 'left_hand', 'right_hand', 'tongue']\n",
      "Used Annotations descriptions: ['feet', 'left_hand', 'right_hand', 'tongue']\n",
      "Used Annotations descriptions: ['feet', 'left_hand', 'right_hand', 'tongue']\n",
      "Used Annotations descriptions: ['feet', 'left_hand', 'right_hand', 'tongue']\n",
      "Used Annotations descriptions: ['feet', 'left_hand', 'right_hand', 'tongue']\n",
      "Used Annotations descriptions: ['feet', 'left_hand', 'right_hand', 'tongue']\n",
      "Used Annotations descriptions: ['feet', 'left_hand', 'right_hand', 'tongue']\n",
      "Used Annotations descriptions: ['feet', 'left_hand', 'right_hand', 'tongue']\n",
      "Used Annotations descriptions: ['feet', 'left_hand', 'right_hand', 'tongue']\n",
      "Used Annotations descriptions: ['feet', 'left_hand', 'right_hand', 'tongue']\n",
      "Used Annotations descriptions: ['feet', 'left_hand', 'right_hand', 'tongue']\n",
      "Used Annotations descriptions: ['feet', 'left_hand', 'right_hand', 'tongue']\n",
      "Used Annotations descriptions: ['feet', 'left_hand', 'right_hand', 'tongue']\n",
      "Used Annotations descriptions: ['feet', 'left_hand', 'right_hand', 'tongue']\n",
      "Used Annotations descriptions: ['feet', 'left_hand', 'right_hand', 'tongue']\n",
      "Used Annotations descriptions: ['feet', 'left_hand', 'right_hand', 'tongue']\n",
      "Used Annotations descriptions: ['feet', 'left_hand', 'right_hand', 'tongue']\n",
      "Used Annotations descriptions: ['feet', 'left_hand', 'right_hand', 'tongue']\n",
      "Used Annotations descriptions: ['feet', 'left_hand', 'right_hand', 'tongue']\n",
      "Used Annotations descriptions: ['feet', 'left_hand', 'right_hand', 'tongue']\n",
      "Used Annotations descriptions: ['feet', 'left_hand', 'right_hand', 'tongue']\n",
      "Used Annotations descriptions: ['feet', 'left_hand', 'right_hand', 'tongue']\n",
      "Used Annotations descriptions: ['feet', 'left_hand', 'right_hand', 'tongue']\n",
      "Used Annotations descriptions: ['feet', 'left_hand', 'right_hand', 'tongue']\n",
      "Used Annotations descriptions: ['feet', 'left_hand', 'right_hand', 'tongue']\n",
      "Used Annotations descriptions: ['feet', 'left_hand', 'right_hand', 'tongue']\n",
      "Used Annotations descriptions: ['feet', 'left_hand', 'right_hand', 'tongue']\n",
      "Used Annotations descriptions: ['feet', 'left_hand', 'right_hand', 'tongue']\n",
      "Used Annotations descriptions: ['feet', 'left_hand', 'right_hand', 'tongue']\n",
      "Used Annotations descriptions: ['feet', 'left_hand', 'right_hand', 'tongue']\n",
      "Used Annotations descriptions: ['feet', 'left_hand', 'right_hand', 'tongue']\n",
      "Used Annotations descriptions: ['feet', 'left_hand', 'right_hand', 'tongue']\n",
      "Used Annotations descriptions: ['feet', 'left_hand', 'right_hand', 'tongue']\n",
      "Used Annotations descriptions: ['feet', 'left_hand', 'right_hand', 'tongue']\n",
      "Used Annotations descriptions: ['feet', 'left_hand', 'right_hand', 'tongue']\n",
      "Used Annotations descriptions: ['feet', 'left_hand', 'right_hand', 'tongue']\n",
      "Used Annotations descriptions: ['feet', 'left_hand', 'right_hand', 'tongue']\n",
      "Used Annotations descriptions: ['feet', 'left_hand', 'right_hand', 'tongue']\n",
      "Used Annotations descriptions: ['feet', 'left_hand', 'right_hand', 'tongue']\n",
      "Used Annotations descriptions: ['feet', 'left_hand', 'right_hand', 'tongue']\n",
      "Used Annotations descriptions: ['feet', 'left_hand', 'right_hand', 'tongue']\n",
      "Used Annotations descriptions: ['feet', 'left_hand', 'right_hand', 'tongue']\n",
      "Used Annotations descriptions: ['feet', 'left_hand', 'right_hand', 'tongue']\n",
      "Used Annotations descriptions: ['feet', 'left_hand', 'right_hand', 'tongue']\n",
      "Used Annotations descriptions: ['feet', 'left_hand', 'right_hand', 'tongue']\n",
      "Used Annotations descriptions: ['feet', 'left_hand', 'right_hand', 'tongue']\n",
      "Used Annotations descriptions: ['feet', 'left_hand', 'right_hand', 'tongue']\n",
      "Used Annotations descriptions: ['feet', 'left_hand', 'right_hand', 'tongue']\n",
      "Used Annotations descriptions: ['feet', 'left_hand', 'right_hand', 'tongue']\n",
      "Used Annotations descriptions: ['feet', 'left_hand', 'right_hand', 'tongue']\n",
      "Used Annotations descriptions: ['feet', 'left_hand', 'right_hand', 'tongue']\n",
      "Used Annotations descriptions: ['feet', 'left_hand', 'right_hand', 'tongue']\n",
      "Used Annotations descriptions: ['feet', 'left_hand', 'right_hand', 'tongue']\n",
      "Used Annotations descriptions: ['feet', 'left_hand', 'right_hand', 'tongue']\n",
      "Used Annotations descriptions: ['feet', 'left_hand', 'right_hand', 'tongue']\n",
      "Used Annotations descriptions: ['feet', 'left_hand', 'right_hand', 'tongue']\n",
      "Used Annotations descriptions: ['feet', 'left_hand', 'right_hand', 'tongue']\n",
      "Used Annotations descriptions: ['feet', 'left_hand', 'right_hand', 'tongue']\n",
      "Used Annotations descriptions: ['feet', 'left_hand', 'right_hand', 'tongue']\n",
      "Used Annotations descriptions: ['feet', 'left_hand', 'right_hand', 'tongue']\n",
      "Used Annotations descriptions: ['feet', 'left_hand', 'right_hand', 'tongue']\n",
      "Used Annotations descriptions: ['feet', 'left_hand', 'right_hand', 'tongue']\n",
      "Used Annotations descriptions: ['feet', 'left_hand', 'right_hand', 'tongue']\n",
      "Used Annotations descriptions: ['feet', 'left_hand', 'right_hand', 'tongue']\n",
      "Used Annotations descriptions: ['feet', 'left_hand', 'right_hand', 'tongue']\n",
      "Used Annotations descriptions: ['feet', 'left_hand', 'right_hand', 'tongue']\n",
      "Used Annotations descriptions: ['feet', 'left_hand', 'right_hand', 'tongue']\n",
      "Used Annotations descriptions: ['feet', 'left_hand', 'right_hand', 'tongue']\n",
      "Used Annotations descriptions: ['feet', 'left_hand', 'right_hand', 'tongue']\n",
      "Used Annotations descriptions: ['feet', 'left_hand', 'right_hand', 'tongue']\n",
      "Used Annotations descriptions: ['feet', 'left_hand', 'right_hand', 'tongue']\n",
      "Used Annotations descriptions: ['feet', 'left_hand', 'right_hand', 'tongue']\n",
      "Used Annotations descriptions: ['feet', 'left_hand', 'right_hand', 'tongue']\n",
      "Used Annotations descriptions: ['feet', 'left_hand', 'right_hand', 'tongue']\n",
      "Used Annotations descriptions: ['feet', 'left_hand', 'right_hand', 'tongue']\n",
      "Used Annotations descriptions: ['feet', 'left_hand', 'right_hand', 'tongue']\n",
      "Used Annotations descriptions: ['feet', 'left_hand', 'right_hand', 'tongue']\n",
      "Used Annotations descriptions: ['feet', 'left_hand', 'right_hand', 'tongue']\n",
      "Used Annotations descriptions: ['feet', 'left_hand', 'right_hand', 'tongue']\n",
      "Used Annotations descriptions: ['feet', 'left_hand', 'right_hand', 'tongue']\n",
      "Used Annotations descriptions: ['feet', 'left_hand', 'right_hand', 'tongue']\n",
      "Used Annotations descriptions: ['feet', 'left_hand', 'right_hand', 'tongue']\n",
      "Used Annotations descriptions: ['feet', 'left_hand', 'right_hand', 'tongue']\n",
      "Used Annotations descriptions: ['feet', 'left_hand', 'right_hand', 'tongue']\n",
      "Used Annotations descriptions: ['feet', 'left_hand', 'right_hand', 'tongue']\n",
      "Used Annotations descriptions: ['feet', 'left_hand', 'right_hand', 'tongue']\n",
      "Used Annotations descriptions: ['feet', 'left_hand', 'right_hand', 'tongue']\n",
      "Used Annotations descriptions: ['feet', 'left_hand', 'right_hand', 'tongue']\n",
      "Used Annotations descriptions: ['feet', 'left_hand', 'right_hand', 'tongue']\n",
      "Used Annotations descriptions: ['feet', 'left_hand', 'right_hand', 'tongue']\n",
      "Used Annotations descriptions: ['feet', 'left_hand', 'right_hand', 'tongue']\n",
      "Used Annotations descriptions: ['feet', 'left_hand', 'right_hand', 'tongue']\n",
      "Used Annotations descriptions: ['feet', 'left_hand', 'right_hand', 'tongue']\n",
      "Used Annotations descriptions: ['feet', 'left_hand', 'right_hand', 'tongue']\n",
      "Used Annotations descriptions: ['feet', 'left_hand', 'right_hand', 'tongue']\n",
      "Used Annotations descriptions: ['feet', 'left_hand', 'right_hand', 'tongue']\n",
      "Used Annotations descriptions: ['feet', 'left_hand', 'right_hand', 'tongue']\n",
      "Used Annotations descriptions: ['feet', 'left_hand', 'right_hand', 'tongue']\n",
      "Used Annotations descriptions: ['feet', 'left_hand', 'right_hand', 'tongue']\n",
      "Used Annotations descriptions: ['feet', 'left_hand', 'right_hand', 'tongue']\n"
     ]
    }
   ],
   "source": [
    "start_offset = -0.5\n",
    "stop_offset = 0\n",
    "\n",
    "sfreq = raw_dataset.datasets[0].raw.info['sfreq']\n",
    "#assert all([ds.raw.info['sfreq'] == sfreq for ds in raw_dataset.datasets])\n",
    "trial_start_offset_samples = int(start_offset * sfreq)\n",
    "trial_stop_offset_samples = int(stop_offset * sfreq)\n",
    "\n",
    "windows_dataset = create_windows_from_events(\n",
    "    raw_dataset,\n",
    "    trial_start_offset_samples,\n",
    "    trial_stop_offset_samples,\n",
    "    preload=True,\n",
    ")"
   ]
  },
  {
   "cell_type": "markdown",
   "metadata": {},
   "source": [
    "## Visualize the window split of time series EEG data"
   ]
  },
  {
   "cell_type": "code",
   "execution_count": 7,
   "metadata": {},
   "outputs": [
    {
     "data": {
      "text/html": [
       "<div>\n",
       "<style scoped>\n",
       "    .dataframe tbody tr th:only-of-type {\n",
       "        vertical-align: middle;\n",
       "    }\n",
       "\n",
       "    .dataframe tbody tr th {\n",
       "        vertical-align: top;\n",
       "    }\n",
       "\n",
       "    .dataframe thead th {\n",
       "        text-align: right;\n",
       "    }\n",
       "</style>\n",
       "<table border=\"1\" class=\"dataframe\">\n",
       "  <thead>\n",
       "    <tr style=\"text-align: right;\">\n",
       "      <th></th>\n",
       "      <th>i_window_in_trial</th>\n",
       "      <th>i_start_in_trial</th>\n",
       "      <th>i_stop_in_trial</th>\n",
       "      <th>target</th>\n",
       "      <th>subject</th>\n",
       "      <th>session</th>\n",
       "      <th>run</th>\n",
       "    </tr>\n",
       "  </thead>\n",
       "  <tbody>\n",
       "    <tr>\n",
       "      <th>0</th>\n",
       "      <td>0</td>\n",
       "      <td>125</td>\n",
       "      <td>1250</td>\n",
       "      <td>3</td>\n",
       "      <td>1</td>\n",
       "      <td>0train</td>\n",
       "      <td>0</td>\n",
       "    </tr>\n",
       "    <tr>\n",
       "      <th>1</th>\n",
       "      <td>0</td>\n",
       "      <td>2128</td>\n",
       "      <td>3253</td>\n",
       "      <td>0</td>\n",
       "      <td>1</td>\n",
       "      <td>0train</td>\n",
       "      <td>0</td>\n",
       "    </tr>\n",
       "    <tr>\n",
       "      <th>2</th>\n",
       "      <td>0</td>\n",
       "      <td>4046</td>\n",
       "      <td>5171</td>\n",
       "      <td>2</td>\n",
       "      <td>1</td>\n",
       "      <td>0train</td>\n",
       "      <td>0</td>\n",
       "    </tr>\n",
       "    <tr>\n",
       "      <th>3</th>\n",
       "      <td>0</td>\n",
       "      <td>5998</td>\n",
       "      <td>7123</td>\n",
       "      <td>1</td>\n",
       "      <td>1</td>\n",
       "      <td>0train</td>\n",
       "      <td>0</td>\n",
       "    </tr>\n",
       "    <tr>\n",
       "      <th>4</th>\n",
       "      <td>0</td>\n",
       "      <td>8006</td>\n",
       "      <td>9131</td>\n",
       "      <td>1</td>\n",
       "      <td>1</td>\n",
       "      <td>0train</td>\n",
       "      <td>0</td>\n",
       "    </tr>\n",
       "    <tr>\n",
       "      <th>...</th>\n",
       "      <td>...</td>\n",
       "      <td>...</td>\n",
       "      <td>...</td>\n",
       "      <td>...</td>\n",
       "      <td>...</td>\n",
       "      <td>...</td>\n",
       "      <td>...</td>\n",
       "    </tr>\n",
       "    <tr>\n",
       "      <th>43</th>\n",
       "      <td>0</td>\n",
       "      <td>86625</td>\n",
       "      <td>87750</td>\n",
       "      <td>0</td>\n",
       "      <td>9</td>\n",
       "      <td>1test</td>\n",
       "      <td>5</td>\n",
       "    </tr>\n",
       "    <tr>\n",
       "      <th>44</th>\n",
       "      <td>0</td>\n",
       "      <td>88531</td>\n",
       "      <td>89656</td>\n",
       "      <td>3</td>\n",
       "      <td>9</td>\n",
       "      <td>1test</td>\n",
       "      <td>5</td>\n",
       "    </tr>\n",
       "    <tr>\n",
       "      <th>45</th>\n",
       "      <td>0</td>\n",
       "      <td>90459</td>\n",
       "      <td>91584</td>\n",
       "      <td>0</td>\n",
       "      <td>9</td>\n",
       "      <td>1test</td>\n",
       "      <td>5</td>\n",
       "    </tr>\n",
       "    <tr>\n",
       "      <th>46</th>\n",
       "      <td>0</td>\n",
       "      <td>92573</td>\n",
       "      <td>93698</td>\n",
       "      <td>1</td>\n",
       "      <td>9</td>\n",
       "      <td>1test</td>\n",
       "      <td>5</td>\n",
       "    </tr>\n",
       "    <tr>\n",
       "      <th>47</th>\n",
       "      <td>0</td>\n",
       "      <td>94632</td>\n",
       "      <td>95757</td>\n",
       "      <td>0</td>\n",
       "      <td>9</td>\n",
       "      <td>1test</td>\n",
       "      <td>5</td>\n",
       "    </tr>\n",
       "  </tbody>\n",
       "</table>\n",
       "<p>5184 rows × 7 columns</p>\n",
       "</div>"
      ],
      "text/plain": [
       "    i_window_in_trial  i_start_in_trial  i_stop_in_trial  target  subject  \\\n",
       "0                   0               125             1250       3        1   \n",
       "1                   0              2128             3253       0        1   \n",
       "2                   0              4046             5171       2        1   \n",
       "3                   0              5998             7123       1        1   \n",
       "4                   0              8006             9131       1        1   \n",
       "..                ...               ...              ...     ...      ...   \n",
       "43                  0             86625            87750       0        9   \n",
       "44                  0             88531            89656       3        9   \n",
       "45                  0             90459            91584       0        9   \n",
       "46                  0             92573            93698       1        9   \n",
       "47                  0             94632            95757       0        9   \n",
       "\n",
       "   session run  \n",
       "0   0train   0  \n",
       "1   0train   0  \n",
       "2   0train   0  \n",
       "3   0train   0  \n",
       "4   0train   0  \n",
       "..     ...  ..  \n",
       "43   1test   5  \n",
       "44   1test   5  \n",
       "45   1test   5  \n",
       "46   1test   5  \n",
       "47   1test   5  \n",
       "\n",
       "[5184 rows x 7 columns]"
      ]
     },
     "execution_count": 7,
     "metadata": {},
     "output_type": "execute_result"
    }
   ],
   "source": [
    "import pandas as pd\n",
    "df = pd.DataFrame(windows_dataset.get_metadata())\n",
    "df.to_csv('windows_dataset.csv')\n",
    "windows_dataset.get_metadata()"
   ]
  },
  {
   "cell_type": "markdown",
   "metadata": {},
   "source": [
    "## Get additional dataset details and set model configuration"
   ]
  },
  {
   "cell_type": "code",
   "execution_count": 8,
   "metadata": {},
   "outputs": [],
   "source": [
    "n_channels = raw_dataset[0][0].shape[0]\n",
    "n_times = windows_dataset[0][0].shape[1]\n",
    "n_classes = 4 # number of classes in the dataset used\n",
    "\n",
    "n_epochs = 600\n",
    "lr = 0.001\n",
    "batch_size = 64\n",
    "\n",
    "# variables to save the model\n",
    "save = 'store_true'\n",
    "save_dir = '../Project/models/'\n",
    "strategy = 'within-subject' # 'within-subject' or 'cross-subject'\n",
    "model_name = 'EEGNet' # 'EEGNet', 'EEGConformer', 'ATCNet', 'EEGITNet', 'EEGInception'\n",
    "verbose = 2"
   ]
  },
  {
   "cell_type": "markdown",
   "metadata": {},
   "source": [
    "## Split data  into test and train based on window subset"
   ]
  },
  {
   "cell_type": "code",
   "execution_count": 9,
   "metadata": {},
   "outputs": [
    {
     "name": "stdout",
     "output_type": "stream",
     "text": [
      "Requirement already satisfied: skorch in c:\\users\\jjaya\\miniconda3\\envs\\dsml\\lib\\site-packages (0.15.0)\n",
      "Requirement already satisfied: numpy>=1.13.3 in c:\\users\\jjaya\\miniconda3\\envs\\dsml\\lib\\site-packages (from skorch) (1.25.2)\n",
      "Requirement already satisfied: scikit-learn>=0.22.0 in c:\\users\\jjaya\\miniconda3\\envs\\dsml\\lib\\site-packages (from skorch) (1.3.0)\n",
      "Requirement already satisfied: scipy>=1.1.0 in c:\\users\\jjaya\\miniconda3\\envs\\dsml\\lib\\site-packages (from skorch) (1.11.2)\n",
      "Requirement already satisfied: tabulate>=0.7.7 in c:\\users\\jjaya\\miniconda3\\envs\\dsml\\lib\\site-packages (from skorch) (0.9.0)\n",
      "Requirement already satisfied: tqdm>=4.14.0 in c:\\users\\jjaya\\miniconda3\\envs\\dsml\\lib\\site-packages (from skorch) (4.66.1)\n",
      "Requirement already satisfied: joblib>=1.1.1 in c:\\users\\jjaya\\miniconda3\\envs\\dsml\\lib\\site-packages (from scikit-learn>=0.22.0->skorch) (1.3.2)\n",
      "Requirement already satisfied: threadpoolctl>=2.0.0 in c:\\users\\jjaya\\miniconda3\\envs\\dsml\\lib\\site-packages (from scikit-learn>=0.22.0->skorch) (3.2.0)\n",
      "Requirement already satisfied: colorama in c:\\users\\jjaya\\miniconda3\\envs\\dsml\\lib\\site-packages (from tqdm>=4.14.0->skorch) (0.4.6)\n"
     ]
    },
    {
     "name": "stderr",
     "output_type": "stream",
     "text": [
      "\n",
      "[notice] A new release of pip is available: 23.3.2 -> 24.0\n",
      "[notice] To update, run: python.exe -m pip install --upgrade pip\n"
     ]
    }
   ],
   "source": [
    "!pip install skorch"
   ]
  },
  {
   "cell_type": "code",
   "execution_count": 10,
   "metadata": {},
   "outputs": [],
   "source": [
    "from skorch.helper import SliceDataset\n",
    "from skorch.callbacks import LRScheduler, TrainEndCheckpoint\n",
    "from skorch import NeuralNetClassifier\n",
    "\n",
    "cuda = torch.cuda.is_available()"
   ]
  },
  {
   "cell_type": "markdown",
   "metadata": {},
   "source": [
    "## EEG Conformer Model (CNN + Transformer [attention mechanism])"
   ]
  },
  {
   "cell_type": "code",
   "execution_count": 11,
   "metadata": {},
   "outputs": [
    {
     "name": "stderr",
     "output_type": "stream",
     "text": [
      "c:\\Users\\jjaya\\miniconda3\\envs\\dsml\\Lib\\site-packages\\torch\\nn\\modules\\conv.py:456: UserWarning: Using padding='same' with even kernel lengths and odd dilation may require a zero-padded copy of the input be created (Triggered internally at ..\\aten\\src\\ATen\\native\\Convolution.cpp:1041.)\n",
      "  return F.conv2d(input, weight, bias, self.stride,\n"
     ]
    },
    {
     "name": "stdout",
     "output_type": "stream",
     "text": [
      "  epoch    train_loss      lr      dur\n",
      "-------  ------------  ------  -------\n",
      "      1        \u001b[36m1.3935\u001b[0m  0.0010  78.2671\n"
     ]
    }
   ],
   "source": [
    "subjects_windows_dataset = windows_dataset.split('subject')\n",
    "n_subjects = len(subjects_windows_dataset.items())\n",
    "avg_accuracy = 0\n",
    "\n",
    "# iterate over each subject (9 subjects)\n",
    "for subject, window_dataset in subjects_windows_dataset.items():\n",
    "        # evaluate the model by test accuracy for \"Hold-Out\" strategy\n",
    "        train_dataset = windows_dataset.split('session')['0train']\n",
    "        test_dataset = windows_dataset.split('session')['1test']\n",
    "\n",
    "        train_X = SliceDataset(train_dataset, idx=0)\n",
    "        train_y = SliceDataset(train_dataset, idx=1)\n",
    "        test_X = SliceDataset(test_dataset, idx=0)\n",
    "        test_y = SliceDataset(test_dataset, idx=1)\n",
    "\n",
    "        # create the classifier\n",
    "        callbacks = [(\"lr_scheduler\", LRScheduler('CosineAnnealingLR', T_max=n_epochs - 1))]\n",
    "        clf = NeuralNetClassifier(module=ATCNet,\n",
    "                                module__n_chans=n_channels,\n",
    "                                module__n_outputs=n_classes,\n",
    "                                module__n_times=n_times,\n",
    "                                module__add_log_softmax=False,\n",
    "                                criterion=torch.nn.CrossEntropyLoss,\n",
    "                                optimizer=torch.optim.Adam,\n",
    "                                optimizer__lr=lr,\n",
    "                                train_split=None,\n",
    "                                iterator_train__shuffle=True,\n",
    "                                batch_size=batch_size,\n",
    "                                callbacks=callbacks,\n",
    "                                device='cuda' if cuda else 'cpu',\n",
    "                                verbose=verbose\n",
    "                                )\n",
    "        clf.callbacks.append(TrainEndCheckpoint(dirname=save_dir + f'\\\\S{subject}'))\n",
    "        clf.fit(train_X, y=train_y, epochs=n_epochs)\n",
    "        \n",
    "        # calculate test accuracy for subject\n",
    "        test_accuracy = clf.score(test_X, y=test_y)\n",
    "        avg_accuracy += test_accuracy\n",
    "\n",
    "        print(f\"Subject{subject} test accuracy: {(test_accuracy * 100):.4f}%\")\n",
    "print(f\"Average test accuracy: {(avg_accuracy / n_subjects * 100):.4f}%\")"
   ]
  }
 ],
 "metadata": {
  "kernelspec": {
   "display_name": "Python 3",
   "language": "python",
   "name": "python3"
  },
  "language_info": {
   "codemirror_mode": {
    "name": "ipython",
    "version": 3
   },
   "file_extension": ".py",
   "mimetype": "text/x-python",
   "name": "python",
   "nbconvert_exporter": "python",
   "pygments_lexer": "ipython3",
   "version": "3.11.5"
  }
 },
 "nbformat": 4,
 "nbformat_minor": 2
}
