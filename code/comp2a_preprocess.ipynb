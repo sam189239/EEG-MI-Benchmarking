{
 "cells": [
  {
   "cell_type": "code",
   "execution_count": 1,
   "metadata": {},
   "outputs": [
    {
     "ename": "ModuleNotFoundError",
     "evalue": "No module named 'mne'",
     "output_type": "error",
     "traceback": [
      "\u001b[1;31m---------------------------------------------------------------------------\u001b[0m",
      "\u001b[1;31mModuleNotFoundError\u001b[0m                       Traceback (most recent call last)",
      "Cell \u001b[1;32mIn[1], line 1\u001b[0m\n\u001b[1;32m----> 1\u001b[0m \u001b[38;5;28;01mimport\u001b[39;00m \u001b[38;5;21;01mmne\u001b[39;00m\n\u001b[0;32m      2\u001b[0m \u001b[38;5;28;01mimport\u001b[39;00m \u001b[38;5;21;01mnumpy\u001b[39;00m \u001b[38;5;28;01mas\u001b[39;00m \u001b[38;5;21;01mnp\u001b[39;00m\n\u001b[0;32m      4\u001b[0m \u001b[38;5;66;03m# Define function to load BCI Competition 2a data\u001b[39;00m\n",
      "\u001b[1;31mModuleNotFoundError\u001b[0m: No module named 'mne'"
     ]
    }
   ],
   "source": [
    "import mne\n",
    "import numpy as np\n",
    "\n",
    "# Define function to load BCI Competition 2a data\n",
    "def load_bci_data(subject, path='data/BCICIV_2a_gdf'):\n",
    "    # Construct file paths\n",
    "    train_file = f'{path}/A{subject}T.gdf'\n",
    "    test_file = f'{path}/A{subject}E.gdf'\n",
    "\n",
    "    # Load training data\n",
    "    raw_train = mne.io.read_raw_gdf(train_file, preload=True)\n",
    "    events_train, _ = mne.events_from_annotations(raw_train)\n",
    "\n",
    "    # Load testing data\n",
    "    raw_test = mne.io.read_raw_gdf(test_file, preload=True)\n",
    "    events_test, _ = mne.events_from_annotations(raw_test)\n",
    "\n",
    "\n",
    "    return raw_train, events_train, raw_test, events_test\n",
    "\n",
    "# Define function for preprocessing\n",
    "def preprocess(raw_data):\n",
    "    # Filter data\n",
    "    raw_data.filter(7., 30., fir_design='firwin')\n",
    "    \n",
    "    # Resample data to 100Hz\n",
    "    raw_data.resample(100, npad='auto')\n",
    "    \n",
    "    # Apply ICA (Independent Component Analysis) for artifact removal\n",
    "    ica = mne.preprocessing.ICA(n_components=20, random_state=97)\n",
    "    ica.fit(raw_data)\n",
    "    raw_data = ica.apply(raw_data)\n",
    "    \n",
    "    return raw_data\n",
    "\n",
    "# Example usage\n",
    "subject = \"A01\"\n",
    "raw_train, events_train, raw_test, events_test = load_bci_data(subject)\n",
    "# raw_train = preprocess(raw_train)\n",
    "# raw_test = preprocess(raw_test)\n"
   ]
  },
  {
   "cell_type": "code",
   "execution_count": null,
   "metadata": {},
   "outputs": [],
   "source": []
  }
 ],
 "metadata": {
  "kernelspec": {
   "display_name": "pytgpu",
   "language": "python",
   "name": "python3"
  },
  "language_info": {
   "codemirror_mode": {
    "name": "ipython",
    "version": 3
   },
   "file_extension": ".py",
   "mimetype": "text/x-python",
   "name": "python",
   "nbconvert_exporter": "python",
   "pygments_lexer": "ipython3",
   "version": "3.8.18"
  }
 },
 "nbformat": 4,
 "nbformat_minor": 2
}
