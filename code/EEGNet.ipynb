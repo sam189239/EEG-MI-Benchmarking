{
 "cells": [
  {
   "cell_type": "markdown",
   "metadata": {},
   "source": [
    "## Dataset loading using braindecode"
   ]
  },
  {
   "cell_type": "code",
   "execution_count": 1,
   "metadata": {},
   "outputs": [
    {
     "name": "stderr",
     "output_type": "stream",
     "text": [
      "<frozen importlib._bootstrap>:219: FutureWarning: mne.io.pick.pick_types is deprecated will be removed in 1.6, use documented public API instead. If no appropriate public API exists, please open an issue on GitHub.\n",
      "<frozen importlib._bootstrap>:219: FutureWarning: mne.io.pick.pick_channels_regexp is deprecated will be removed in 1.6, use documented public API instead. If no appropriate public API exists, please open an issue on GitHub.\n",
      "<frozen importlib._bootstrap>:219: FutureWarning: mne.io.pick.channel_type is deprecated will be removed in 1.6, use documented public API instead. If no appropriate public API exists, please open an issue on GitHub.\n",
      "c:\\Users\\Sam\\miniconda3\\envs\\pytgpu\\lib\\site-packages\\moabb\\pipelines\\__init__.py:26: ModuleNotFoundError: Tensorflow is not installed. You won't be able to use these MOABB pipelines if you attempt to do so.\n",
      "  warn(\n"
     ]
    }
   ],
   "source": [
    "import braindecode"
   ]
  },
  {
   "cell_type": "code",
   "execution_count": 2,
   "metadata": {},
   "outputs": [],
   "source": [
    "import torch\n",
    "from braindecode.models import EEGNetv4, EEGConformer, ATCNet, EEGITNet, EEGInception\n",
    "from braindecode.datasets import MOABBDataset"
   ]
  },
  {
   "cell_type": "code",
   "execution_count": 3,
   "metadata": {},
   "outputs": [],
   "source": [
    "raw_dataset = MOABBDataset(dataset_name=\"BNCI2014_001\", subject_ids=None)"
   ]
  },
  {
   "cell_type": "markdown",
   "metadata": {},
   "source": [
    "Preprocess dataset using braindecode API"
   ]
  },
  {
   "cell_type": "code",
   "execution_count": 4,
   "metadata": {},
   "outputs": [],
   "source": [
    "from braindecode.preprocessing import create_windows_from_events\n",
    "from braindecode.preprocessing import exponential_moving_standardize, preprocess, Preprocessor"
   ]
  },
  {
   "cell_type": "code",
   "execution_count": null,
   "metadata": {},
   "outputs": [],
   "source": [
    "# low_freq = 4\n",
    "# high_freq = 38\n",
    "# resample_freq = 250\n",
    "\n",
    "# # preprocess data using \"braindecode.preprocessor\"\n",
    "# # only use eeg(stim channels must be removed)\n",
    "# preprocessors = [Preprocessor('pick', picks=['eeg'])]\n",
    "\n",
    "# # if pick_channels:\n",
    "# #     preprocessors.append(Preprocessor('pick', picks=pick_channels))\n",
    "# # preprocessors.append(Preprocessor(lambda data: multiply(data, 1e6)))\n",
    "\n",
    "\n",
    "# # if low_freq or high_freq:\n",
    "#     # preprocessors.append(Preprocessor('filter', l_freq=low_freq, h_freq=high_freq))\n",
    "# if resample_freq:\n",
    "#     preprocessors.append(Preprocessor('resample', sfreq=resample_freq))\n",
    "# preprocessors.append(Preprocessor(exponential_moving_standardize, factor_new=1e-3))\n",
    "# preprocess(raw_dataset, preprocessors)\n",
    "\n",
    "# from braindecode.preprocessing import MNEPreproc, NumpyPreproc, preprocess\n",
    "\n",
    "low_cut_hz = 4.  # low cut frequency for filtering\n",
    "high_cut_hz = 38.  # high cut frequency for filtering\n",
    "# Parameters for exponential moving standardization\n",
    "factor_new = 1e-3\n",
    "init_block_size = 1000\n",
    "\n",
    "preprocessors = [\n",
    "    # keep only EEG sensors\n",
    "    Preprocessor(fn='pick_types', eeg=True, meg=False, stim=False),\n",
    "    # convert from volt to microvolt, directly modifying the numpy array\n",
    "    Preprocessor(fn=lambda x: x * 1e6),\n",
    "    # bandpass filter\n",
    "    Preprocessor(fn='filter', l_freq=low_cut_hz, h_freq=high_cut_hz),\n",
    "    # exponential moving standardization\n",
    "    Preprocessor(fn=exponential_moving_standardize, factor_new=factor_new,\n",
    "        init_block_size=init_block_size)\n",
    "]\n",
    "\n",
    "# Preprocess the data\n",
    "preprocess(raw_dataset, preprocessors)"
   ]
  },
  {
   "cell_type": "markdown",
   "metadata": {},
   "source": [
    "Window Split (for each trail start and end)"
   ]
  },
  {
   "cell_type": "code",
   "execution_count": 9,
   "metadata": {},
   "outputs": [
    {
     "name": "stdout",
     "output_type": "stream",
     "text": [
      "Used Annotations descriptions: ['feet', 'left_hand', 'right_hand', 'tongue']\n",
      "Used Annotations descriptions: ['feet', 'left_hand', 'right_hand', 'tongue']\n",
      "Used Annotations descriptions: ['feet', 'left_hand', 'right_hand', 'tongue']\n",
      "Used Annotations descriptions: ['feet', 'left_hand', 'right_hand', 'tongue']\n",
      "Used Annotations descriptions: ['feet', 'left_hand', 'right_hand', 'tongue']\n",
      "Used Annotations descriptions: ['feet', 'left_hand', 'right_hand', 'tongue']\n",
      "Used Annotations descriptions: ['feet', 'left_hand', 'right_hand', 'tongue']\n",
      "Used Annotations descriptions: ['feet', 'left_hand', 'right_hand', 'tongue']\n",
      "Used Annotations descriptions: ['feet', 'left_hand', 'right_hand', 'tongue']\n",
      "Used Annotations descriptions: ['feet', 'left_hand', 'right_hand', 'tongue']\n",
      "Used Annotations descriptions: ['feet', 'left_hand', 'right_hand', 'tongue']\n",
      "Used Annotations descriptions: ['feet', 'left_hand', 'right_hand', 'tongue']\n",
      "Used Annotations descriptions: ['feet', 'left_hand', 'right_hand', 'tongue']\n",
      "Used Annotations descriptions: ['feet', 'left_hand', 'right_hand', 'tongue']\n",
      "Used Annotations descriptions: ['feet', 'left_hand', 'right_hand', 'tongue']\n",
      "Used Annotations descriptions: ['feet', 'left_hand', 'right_hand', 'tongue']\n",
      "Used Annotations descriptions: ['feet', 'left_hand', 'right_hand', 'tongue']\n",
      "Used Annotations descriptions: ['feet', 'left_hand', 'right_hand', 'tongue']\n",
      "Used Annotations descriptions: ['feet', 'left_hand', 'right_hand', 'tongue']\n",
      "Used Annotations descriptions: ['feet', 'left_hand', 'right_hand', 'tongue']\n",
      "Used Annotations descriptions: ['feet', 'left_hand', 'right_hand', 'tongue']\n",
      "Used Annotations descriptions: ['feet', 'left_hand', 'right_hand', 'tongue']\n",
      "Used Annotations descriptions: ['feet', 'left_hand', 'right_hand', 'tongue']\n",
      "Used Annotations descriptions: ['feet', 'left_hand', 'right_hand', 'tongue']\n",
      "Used Annotations descriptions: ['feet', 'left_hand', 'right_hand', 'tongue']\n",
      "Used Annotations descriptions: ['feet', 'left_hand', 'right_hand', 'tongue']\n",
      "Used Annotations descriptions: ['feet', 'left_hand', 'right_hand', 'tongue']\n",
      "Used Annotations descriptions: ['feet', 'left_hand', 'right_hand', 'tongue']\n",
      "Used Annotations descriptions: ['feet', 'left_hand', 'right_hand', 'tongue']\n",
      "Used Annotations descriptions: ['feet', 'left_hand', 'right_hand', 'tongue']\n",
      "Used Annotations descriptions: ['feet', 'left_hand', 'right_hand', 'tongue']\n",
      "Used Annotations descriptions: ['feet', 'left_hand', 'right_hand', 'tongue']\n",
      "Used Annotations descriptions: ['feet', 'left_hand', 'right_hand', 'tongue']\n",
      "Used Annotations descriptions: ['feet', 'left_hand', 'right_hand', 'tongue']\n",
      "Used Annotations descriptions: ['feet', 'left_hand', 'right_hand', 'tongue']\n",
      "Used Annotations descriptions: ['feet', 'left_hand', 'right_hand', 'tongue']\n",
      "Used Annotations descriptions: ['feet', 'left_hand', 'right_hand', 'tongue']\n",
      "Used Annotations descriptions: ['feet', 'left_hand', 'right_hand', 'tongue']\n",
      "Used Annotations descriptions: ['feet', 'left_hand', 'right_hand', 'tongue']\n",
      "Used Annotations descriptions: ['feet', 'left_hand', 'right_hand', 'tongue']\n",
      "Used Annotations descriptions: ['feet', 'left_hand', 'right_hand', 'tongue']\n",
      "Used Annotations descriptions: ['feet', 'left_hand', 'right_hand', 'tongue']\n",
      "Used Annotations descriptions: ['feet', 'left_hand', 'right_hand', 'tongue']\n",
      "Used Annotations descriptions: ['feet', 'left_hand', 'right_hand', 'tongue']\n",
      "Used Annotations descriptions: ['feet', 'left_hand', 'right_hand', 'tongue']\n",
      "Used Annotations descriptions: ['feet', 'left_hand', 'right_hand', 'tongue']\n",
      "Used Annotations descriptions: ['feet', 'left_hand', 'right_hand', 'tongue']\n",
      "Used Annotations descriptions: ['feet', 'left_hand', 'right_hand', 'tongue']\n",
      "Used Annotations descriptions: ['feet', 'left_hand', 'right_hand', 'tongue']\n",
      "Used Annotations descriptions: ['feet', 'left_hand', 'right_hand', 'tongue']\n",
      "Used Annotations descriptions: ['feet', 'left_hand', 'right_hand', 'tongue']\n",
      "Used Annotations descriptions: ['feet', 'left_hand', 'right_hand', 'tongue']\n",
      "Used Annotations descriptions: ['feet', 'left_hand', 'right_hand', 'tongue']\n",
      "Used Annotations descriptions: ['feet', 'left_hand', 'right_hand', 'tongue']\n",
      "Used Annotations descriptions: ['feet', 'left_hand', 'right_hand', 'tongue']\n",
      "Used Annotations descriptions: ['feet', 'left_hand', 'right_hand', 'tongue']\n",
      "Used Annotations descriptions: ['feet', 'left_hand', 'right_hand', 'tongue']\n",
      "Used Annotations descriptions: ['feet', 'left_hand', 'right_hand', 'tongue']\n",
      "Used Annotations descriptions: ['feet', 'left_hand', 'right_hand', 'tongue']\n",
      "Used Annotations descriptions: ['feet', 'left_hand', 'right_hand', 'tongue']\n",
      "Used Annotations descriptions: ['feet', 'left_hand', 'right_hand', 'tongue']\n",
      "Used Annotations descriptions: ['feet', 'left_hand', 'right_hand', 'tongue']\n",
      "Used Annotations descriptions: ['feet', 'left_hand', 'right_hand', 'tongue']\n",
      "Used Annotations descriptions: ['feet', 'left_hand', 'right_hand', 'tongue']\n",
      "Used Annotations descriptions: ['feet', 'left_hand', 'right_hand', 'tongue']\n",
      "Used Annotations descriptions: ['feet', 'left_hand', 'right_hand', 'tongue']\n",
      "Used Annotations descriptions: ['feet', 'left_hand', 'right_hand', 'tongue']\n",
      "Used Annotations descriptions: ['feet', 'left_hand', 'right_hand', 'tongue']\n",
      "Used Annotations descriptions: ['feet', 'left_hand', 'right_hand', 'tongue']\n",
      "Used Annotations descriptions: ['feet', 'left_hand', 'right_hand', 'tongue']\n",
      "Used Annotations descriptions: ['feet', 'left_hand', 'right_hand', 'tongue']\n",
      "Used Annotations descriptions: ['feet', 'left_hand', 'right_hand', 'tongue']\n",
      "Used Annotations descriptions: ['feet', 'left_hand', 'right_hand', 'tongue']\n",
      "Used Annotations descriptions: ['feet', 'left_hand', 'right_hand', 'tongue']\n",
      "Used Annotations descriptions: ['feet', 'left_hand', 'right_hand', 'tongue']\n",
      "Used Annotations descriptions: ['feet', 'left_hand', 'right_hand', 'tongue']\n",
      "Used Annotations descriptions: ['feet', 'left_hand', 'right_hand', 'tongue']\n",
      "Used Annotations descriptions: ['feet', 'left_hand', 'right_hand', 'tongue']\n",
      "Used Annotations descriptions: ['feet', 'left_hand', 'right_hand', 'tongue']\n",
      "Used Annotations descriptions: ['feet', 'left_hand', 'right_hand', 'tongue']\n",
      "Used Annotations descriptions: ['feet', 'left_hand', 'right_hand', 'tongue']\n",
      "Used Annotations descriptions: ['feet', 'left_hand', 'right_hand', 'tongue']\n",
      "Used Annotations descriptions: ['feet', 'left_hand', 'right_hand', 'tongue']\n",
      "Used Annotations descriptions: ['feet', 'left_hand', 'right_hand', 'tongue']\n",
      "Used Annotations descriptions: ['feet', 'left_hand', 'right_hand', 'tongue']\n",
      "Used Annotations descriptions: ['feet', 'left_hand', 'right_hand', 'tongue']\n",
      "Used Annotations descriptions: ['feet', 'left_hand', 'right_hand', 'tongue']\n",
      "Used Annotations descriptions: ['feet', 'left_hand', 'right_hand', 'tongue']\n",
      "Used Annotations descriptions: ['feet', 'left_hand', 'right_hand', 'tongue']\n",
      "Used Annotations descriptions: ['feet', 'left_hand', 'right_hand', 'tongue']\n",
      "Used Annotations descriptions: ['feet', 'left_hand', 'right_hand', 'tongue']\n",
      "Used Annotations descriptions: ['feet', 'left_hand', 'right_hand', 'tongue']\n",
      "Used Annotations descriptions: ['feet', 'left_hand', 'right_hand', 'tongue']\n",
      "Used Annotations descriptions: ['feet', 'left_hand', 'right_hand', 'tongue']\n",
      "Used Annotations descriptions: ['feet', 'left_hand', 'right_hand', 'tongue']\n",
      "Used Annotations descriptions: ['feet', 'left_hand', 'right_hand', 'tongue']\n",
      "Used Annotations descriptions: ['feet', 'left_hand', 'right_hand', 'tongue']\n",
      "Used Annotations descriptions: ['feet', 'left_hand', 'right_hand', 'tongue']\n",
      "Used Annotations descriptions: ['feet', 'left_hand', 'right_hand', 'tongue']\n",
      "Used Annotations descriptions: ['feet', 'left_hand', 'right_hand', 'tongue']\n",
      "Used Annotations descriptions: ['feet', 'left_hand', 'right_hand', 'tongue']\n",
      "Used Annotations descriptions: ['feet', 'left_hand', 'right_hand', 'tongue']\n",
      "Used Annotations descriptions: ['feet', 'left_hand', 'right_hand', 'tongue']\n",
      "Used Annotations descriptions: ['feet', 'left_hand', 'right_hand', 'tongue']\n",
      "Used Annotations descriptions: ['feet', 'left_hand', 'right_hand', 'tongue']\n",
      "Used Annotations descriptions: ['feet', 'left_hand', 'right_hand', 'tongue']\n",
      "Used Annotations descriptions: ['feet', 'left_hand', 'right_hand', 'tongue']\n",
      "Used Annotations descriptions: ['feet', 'left_hand', 'right_hand', 'tongue']\n"
     ]
    }
   ],
   "source": [
    "start_offset = -0.5\n",
    "stop_offset = 0\n",
    "\n",
    "sfreq = raw_dataset.datasets[0].raw.info['sfreq']\n",
    "#assert all([ds.raw.info['sfreq'] == sfreq for ds in raw_dataset.datasets])\n",
    "trial_start_offset_samples = int(start_offset * sfreq)\n",
    "trial_stop_offset_samples = int(stop_offset * sfreq)\n",
    "\n",
    "windows_dataset = create_windows_from_events(\n",
    "    raw_dataset,\n",
    "    trial_start_offset_samples,\n",
    "    trial_stop_offset_samples,\n",
    "    preload=True,\n",
    ")"
   ]
  },
  {
   "cell_type": "code",
   "execution_count": 10,
   "metadata": {},
   "outputs": [
    {
     "data": {
      "text/html": [
       "<div>\n",
       "<style scoped>\n",
       "    .dataframe tbody tr th:only-of-type {\n",
       "        vertical-align: middle;\n",
       "    }\n",
       "\n",
       "    .dataframe tbody tr th {\n",
       "        vertical-align: top;\n",
       "    }\n",
       "\n",
       "    .dataframe thead th {\n",
       "        text-align: right;\n",
       "    }\n",
       "</style>\n",
       "<table border=\"1\" class=\"dataframe\">\n",
       "  <thead>\n",
       "    <tr style=\"text-align: right;\">\n",
       "      <th></th>\n",
       "      <th>i_window_in_trial</th>\n",
       "      <th>i_start_in_trial</th>\n",
       "      <th>i_stop_in_trial</th>\n",
       "      <th>target</th>\n",
       "      <th>subject</th>\n",
       "      <th>session</th>\n",
       "      <th>run</th>\n",
       "    </tr>\n",
       "  </thead>\n",
       "  <tbody>\n",
       "    <tr>\n",
       "      <th>0</th>\n",
       "      <td>0</td>\n",
       "      <td>125</td>\n",
       "      <td>1250</td>\n",
       "      <td>3</td>\n",
       "      <td>1</td>\n",
       "      <td>0train</td>\n",
       "      <td>0</td>\n",
       "    </tr>\n",
       "    <tr>\n",
       "      <th>1</th>\n",
       "      <td>0</td>\n",
       "      <td>2128</td>\n",
       "      <td>3253</td>\n",
       "      <td>0</td>\n",
       "      <td>1</td>\n",
       "      <td>0train</td>\n",
       "      <td>0</td>\n",
       "    </tr>\n",
       "    <tr>\n",
       "      <th>2</th>\n",
       "      <td>0</td>\n",
       "      <td>4046</td>\n",
       "      <td>5171</td>\n",
       "      <td>2</td>\n",
       "      <td>1</td>\n",
       "      <td>0train</td>\n",
       "      <td>0</td>\n",
       "    </tr>\n",
       "    <tr>\n",
       "      <th>3</th>\n",
       "      <td>0</td>\n",
       "      <td>5998</td>\n",
       "      <td>7123</td>\n",
       "      <td>1</td>\n",
       "      <td>1</td>\n",
       "      <td>0train</td>\n",
       "      <td>0</td>\n",
       "    </tr>\n",
       "    <tr>\n",
       "      <th>4</th>\n",
       "      <td>0</td>\n",
       "      <td>8006</td>\n",
       "      <td>9131</td>\n",
       "      <td>1</td>\n",
       "      <td>1</td>\n",
       "      <td>0train</td>\n",
       "      <td>0</td>\n",
       "    </tr>\n",
       "    <tr>\n",
       "      <th>...</th>\n",
       "      <td>...</td>\n",
       "      <td>...</td>\n",
       "      <td>...</td>\n",
       "      <td>...</td>\n",
       "      <td>...</td>\n",
       "      <td>...</td>\n",
       "      <td>...</td>\n",
       "    </tr>\n",
       "    <tr>\n",
       "      <th>43</th>\n",
       "      <td>0</td>\n",
       "      <td>86625</td>\n",
       "      <td>87750</td>\n",
       "      <td>0</td>\n",
       "      <td>9</td>\n",
       "      <td>1test</td>\n",
       "      <td>5</td>\n",
       "    </tr>\n",
       "    <tr>\n",
       "      <th>44</th>\n",
       "      <td>0</td>\n",
       "      <td>88531</td>\n",
       "      <td>89656</td>\n",
       "      <td>3</td>\n",
       "      <td>9</td>\n",
       "      <td>1test</td>\n",
       "      <td>5</td>\n",
       "    </tr>\n",
       "    <tr>\n",
       "      <th>45</th>\n",
       "      <td>0</td>\n",
       "      <td>90459</td>\n",
       "      <td>91584</td>\n",
       "      <td>0</td>\n",
       "      <td>9</td>\n",
       "      <td>1test</td>\n",
       "      <td>5</td>\n",
       "    </tr>\n",
       "    <tr>\n",
       "      <th>46</th>\n",
       "      <td>0</td>\n",
       "      <td>92573</td>\n",
       "      <td>93698</td>\n",
       "      <td>1</td>\n",
       "      <td>9</td>\n",
       "      <td>1test</td>\n",
       "      <td>5</td>\n",
       "    </tr>\n",
       "    <tr>\n",
       "      <th>47</th>\n",
       "      <td>0</td>\n",
       "      <td>94632</td>\n",
       "      <td>95757</td>\n",
       "      <td>0</td>\n",
       "      <td>9</td>\n",
       "      <td>1test</td>\n",
       "      <td>5</td>\n",
       "    </tr>\n",
       "  </tbody>\n",
       "</table>\n",
       "<p>5184 rows × 7 columns</p>\n",
       "</div>"
      ],
      "text/plain": [
       "    i_window_in_trial  i_start_in_trial  i_stop_in_trial  target  subject  \\\n",
       "0                   0               125             1250       3        1   \n",
       "1                   0              2128             3253       0        1   \n",
       "2                   0              4046             5171       2        1   \n",
       "3                   0              5998             7123       1        1   \n",
       "4                   0              8006             9131       1        1   \n",
       "..                ...               ...              ...     ...      ...   \n",
       "43                  0             86625            87750       0        9   \n",
       "44                  0             88531            89656       3        9   \n",
       "45                  0             90459            91584       0        9   \n",
       "46                  0             92573            93698       1        9   \n",
       "47                  0             94632            95757       0        9   \n",
       "\n",
       "   session run  \n",
       "0   0train   0  \n",
       "1   0train   0  \n",
       "2   0train   0  \n",
       "3   0train   0  \n",
       "4   0train   0  \n",
       "..     ...  ..  \n",
       "43   1test   5  \n",
       "44   1test   5  \n",
       "45   1test   5  \n",
       "46   1test   5  \n",
       "47   1test   5  \n",
       "\n",
       "[5184 rows x 7 columns]"
      ]
     },
     "execution_count": 10,
     "metadata": {},
     "output_type": "execute_result"
    }
   ],
   "source": [
    "import pandas as pd\n",
    "df = pd.DataFrame(windows_dataset.get_metadata())\n",
    "df.to_csv('windows_dataset.csv')\n",
    "windows_dataset.get_metadata()"
   ]
  },
  {
   "cell_type": "code",
   "execution_count": 11,
   "metadata": {},
   "outputs": [],
   "source": [
    "import numpy as np"
   ]
  },
  {
   "cell_type": "code",
   "execution_count": 12,
   "metadata": {},
   "outputs": [
    {
     "data": {
      "text/plain": [
       "(array(['0train', '1test'], dtype=object), array([2592, 2592], dtype=int64))"
      ]
     },
     "execution_count": 12,
     "metadata": {},
     "output_type": "execute_result"
    }
   ],
   "source": [
    "meta_windows = windows_dataset.get_metadata()\n",
    "np.unique(meta_windows['session'], return_counts = True)"
   ]
  },
  {
   "cell_type": "markdown",
   "metadata": {},
   "source": [
    "Get additional dataset details and set model configuration"
   ]
  },
  {
   "cell_type": "code",
   "execution_count": 13,
   "metadata": {},
   "outputs": [],
   "source": [
    "n_channels = raw_dataset[0][0].shape[0]\n",
    "n_times = windows_dataset[0][0].shape[1]\n",
    "n_classes = 4 # number of classes in the dataset used\n",
    "\n",
    "n_epochs = 6\n",
    "lr = 0.001\n",
    "batch_size = 64\n",
    "\n",
    "# variables to save the model\n",
    "save = 'store_true'\n",
    "save_dir = 'models/'\n",
    "strategy = 'within-subject' # 'within-subject' or 'cross-subject'\n",
    "model_name = 'EEGNet' # 'EEGNet', 'EEGConformer', 'ATCNet', 'EEGITNet', 'EEGInception'\n",
    "verbose = 2"
   ]
  },
  {
   "cell_type": "markdown",
   "metadata": {},
   "source": [
    "Split data  into test and train based on window subset"
   ]
  },
  {
   "cell_type": "code",
   "execution_count": 14,
   "metadata": {},
   "outputs": [],
   "source": [
    "from skorch.helper import SliceDataset\n",
    "from skorch.callbacks import LRScheduler, TrainEndCheckpoint\n",
    "from skorch import NeuralNetClassifier\n",
    "\n",
    "cuda = torch.cuda.is_available()\n"
   ]
  },
  {
   "cell_type": "code",
   "execution_count": 15,
   "metadata": {},
   "outputs": [],
   "source": [
    "X = []\n",
    "y = []\n",
    "for i in range(len(windows_dataset)):\n",
    "    x, target, window_ind = windows_dataset[i]\n",
    "    # print(f\"Shape of window {i}: {x.shape}, Label: {target}\")\n",
    "    X.append(x)\n",
    "    y.append(target)"
   ]
  },
  {
   "cell_type": "code",
   "execution_count": 16,
   "metadata": {},
   "outputs": [],
   "source": [
    "from sklearn.preprocessing import OneHotEncoder\n",
    "from sklearn.model_selection import train_test_split\n"
   ]
  },
  {
   "cell_type": "code",
   "execution_count": 17,
   "metadata": {},
   "outputs": [],
   "source": [
    "X = np.array(X)\n",
    "enc = OneHotEncoder()\n",
    "y = enc.fit_transform(np.array(y).reshape(-1,1)).toarray()"
   ]
  },
  {
   "cell_type": "code",
   "execution_count": 18,
   "metadata": {},
   "outputs": [],
   "source": [
    "X_train, X_test, y_train, y_test = train_test_split(X, y, test_size=0.3, random_state=16)"
   ]
  },
  {
   "cell_type": "code",
   "execution_count": 19,
   "metadata": {},
   "outputs": [
    {
     "data": {
      "text/plain": [
       "(3628, 22, 1125)"
      ]
     },
     "execution_count": 19,
     "metadata": {},
     "output_type": "execute_result"
    }
   ],
   "source": [
    "X_train.shape"
   ]
  },
  {
   "cell_type": "code",
   "execution_count": 20,
   "metadata": {},
   "outputs": [
    {
     "data": {
      "text/plain": [
       "(3628, 4)"
      ]
     },
     "execution_count": 20,
     "metadata": {},
     "output_type": "execute_result"
    }
   ],
   "source": [
    "y_train.shape"
   ]
  },
  {
   "cell_type": "code",
   "execution_count": 18,
   "metadata": {},
   "outputs": [
    {
     "data": {
      "text/plain": [
       "(array([0, 1, 2, 3], dtype=int64), array([404, 359, 390, 403], dtype=int64))"
      ]
     },
     "execution_count": 18,
     "metadata": {},
     "output_type": "execute_result"
    }
   ],
   "source": [
    "np.unique(np.argmax(y_test, axis=1),return_counts=True)"
   ]
  },
  {
   "cell_type": "code",
   "execution_count": 19,
   "metadata": {},
   "outputs": [
    {
     "data": {
      "text/plain": [
       "(array([0, 1, 2, 3], dtype=int64), array([892, 937, 906, 893], dtype=int64))"
      ]
     },
     "execution_count": 19,
     "metadata": {},
     "output_type": "execute_result"
    }
   ],
   "source": [
    "np.unique(np.argmax(y_train, axis=1),return_counts=True)"
   ]
  },
  {
   "cell_type": "code",
   "execution_count": 21,
   "metadata": {},
   "outputs": [],
   "source": [
    "from sklearn.metrics import *\n",
    "from sklearn.model_selection import ShuffleSplit\n",
    "import matplotlib.pyplot as plt"
   ]
  },
  {
   "cell_type": "code",
   "execution_count": 23,
   "metadata": {},
   "outputs": [],
   "source": [
    "cv = ShuffleSplit(n_splits = 1, test_size = 0.2, random_state = 16)"
   ]
  },
  {
   "cell_type": "code",
   "execution_count": 22,
   "metadata": {},
   "outputs": [],
   "source": [
    "def CV_train(model, X, X_test, cnn = False, convlstm = False, batch_size = 32, n_epochs = 50, y_out = y_train, y_out_test = y_test):\n",
    "    acc = []\n",
    "    f1 = []\n",
    "    prec = []\n",
    "    recall = []\n",
    "    results = {}\n",
    "    best_model = model\n",
    "    prev_metric = 0\n",
    "    best_hist = []\n",
    "    for train_idx, val_idx in cv.split(y_out):\n",
    "\n",
    "        nn = [] \n",
    "\n",
    "        label_train, _ = y_out[train_idx], y_out[val_idx]\n",
    "        y_train, y_val = y_out[train_idx], y_out[val_idx] \n",
    "\n",
    "        X_train = X[train_idx] \n",
    "        X_val = X[val_idx] \n",
    "        \n",
    "        if cnn:\n",
    "            X_train = np.expand_dims(X_train,-1)\n",
    "        elif convlstm:\n",
    "            X_train = np.expand_dims(np.expand_dims(X_train, -1),-1)\n",
    "\n",
    "        nn = model\n",
    "\n",
    "        history = nn.fit(X_train, y_train, validation_data = (X_val, y_val), batch_size = batch_size, epochs = n_epochs)\n",
    "\n",
    "        y_pred = nn.predict(X_val)\n",
    "        pred = (y_pred == y_pred.max(axis=1)[:,None]).astype(int)\n",
    "\n",
    "        acc_score = accuracy_score(y_val.argmax(axis=1), pred.argmax(axis=1))\n",
    "        acc.append(acc_score)\n",
    "        f1_val = (f1_score(y_val.argmax(axis=1), pred.argmax(axis=1), average='weighted'))\n",
    "        f1.append(f1_val)\n",
    "        prec.append(precision_score(y_val.argmax(axis=1), pred.argmax(axis=1),average='weighted'))\n",
    "        recall.append(recall_score(y_val.argmax(axis=1), pred.argmax(axis=1),average='weighted'))\n",
    "        if f1_val > prev_metric: \n",
    "            prev_metric = f1_val\n",
    "            best_model = model\n",
    "            best_hist = history\n",
    "    \n",
    "    test_pred = best_model.predict(X_test)\n",
    "    pred = (test_pred == test_pred.max(axis=1)[:,None]).astype(int)\n",
    "    acc.append(accuracy_score(y_out_test.argmax(axis=1), pred.argmax(axis=1)))\n",
    "    f1.append(f1_score(y_out_test.argmax(axis=1), pred.argmax(axis=1), average='weighted'))\n",
    "    prec.append(precision_score(y_out_test.argmax(axis=1), pred.argmax(axis=1),average='weighted'))\n",
    "    recall.append(recall_score(y_out_test.argmax(axis=1), pred.argmax(axis=1),average='weighted'))\n",
    "    \n",
    "    results['Accuracy'] = acc\n",
    "    results['F1'] = f1\n",
    "    results['Precision'] = prec\n",
    "    results['Recall'] = recall\n",
    "\n",
    "    plt.plot(best_hist.history['loss'], label='Training Loss')\n",
    "    plt.plot(best_hist.history['val_loss'], label='Validation Loss', color = 'b')\n",
    "    plt.xlabel('Epoch')\n",
    "    plt.legend()\n",
    "    plt.show()\n",
    "    plt.plot(best_hist.history['accuracy'], label='Training Accuracy')\n",
    "    plt.plot(best_hist.history['val_accuracy'], label='Validation Accuracy', color = 'b')\n",
    "    plt.xlabel('Epoch')\n",
    "    plt.legend()\n",
    "    plt.show()\n",
    "\n",
    "    return best_model, results"
   ]
  },
  {
   "cell_type": "code",
   "execution_count": 24,
   "metadata": {},
   "outputs": [],
   "source": [
    "import mne \n",
    "import numpy as np\n",
    "import pandas as pd\n",
    "import torch\n",
    "import os\n",
    "import braindecode\n",
    "import matplotlib.pyplot as plt\n",
    "from braindecode.models import EEGNetv4, EEGConformer, ATCNet, EEGITNet, EEGInception\n",
    "from braindecode.datasets import MOABBDataset\n",
    "from braindecode.preprocessing import create_windows_from_events\n",
    "from braindecode.preprocessing import exponential_moving_standardize, preprocess, Preprocessor\n",
    "\n",
    "import scipy.io\n",
    "import pywt\n",
    "from mne.decoding import CSP # Common Spatial Pattern Filtering\n",
    "from sklearn.preprocessing import OneHotEncoder\n",
    "import keras\n",
    "from keras.models import Sequential\n",
    "from keras.layers import Dense, Dropout, Conv1D, MaxPooling1D, Flatten, Reshape, ConvLSTM1D, Conv2D\n",
    "from keras import regularizers\n",
    "from sklearn import preprocessing\n",
    "from sklearn.metrics import *\n",
    "from sklearn.model_selection import ShuffleSplit"
   ]
  },
  {
   "cell_type": "code",
   "execution_count": 25,
   "metadata": {},
   "outputs": [],
   "source": [
    "def build_mlp_classifier(num_layers = 1, lr = 0.01):\n",
    "    classifier = Sequential()\n",
    "    classifier.add(Flatten())\n",
    "    #First Layer\n",
    "    classifier.add(Dense(units = 256, kernel_initializer = 'uniform', activation = 'relu', \n",
    "                         kernel_regularizer=regularizers.l2(0.01))) # L2 regularization\n",
    "    classifier.add(Dropout(0.4))\n",
    "    # Intermediate Layers\n",
    "    for itr in range(num_layers):\n",
    "        classifier.add(Dense(units = 128, kernel_initializer = 'uniform', activation = 'relu', \n",
    "                             kernel_regularizer=regularizers.l2(0.01))) # L2 regularization\n",
    "        classifier.add(Dropout(0.4))   \n",
    "    # Last Layer\n",
    "    classifier.add(Dense(units = 4, kernel_initializer = 'uniform', activation = 'softmax'))\n",
    "    classifier.compile(optimizer = keras.optimizers.Adam(lr=lr) , loss = 'categorical_crossentropy', metrics = ['accuracy'])\n",
    "    return classifier"
   ]
  },
  {
   "cell_type": "code",
   "execution_count": 26,
   "metadata": {},
   "outputs": [
    {
     "name": "stderr",
     "output_type": "stream",
     "text": [
      "c:\\Users\\Sam\\miniconda3\\envs\\pytgpu\\lib\\site-packages\\keras\\optimizers\\optimizer_v2\\adam.py:114: UserWarning: The `lr` argument is deprecated, use `learning_rate` instead.\n",
      "  super().__init__(name, **kwargs)\n"
     ]
    },
    {
     "name": "stdout",
     "output_type": "stream",
     "text": [
      "Epoch 1/2\n",
      "91/91 [==============================] - 4s 30ms/step - loss: 42.5893 - accuracy: 0.2588 - val_loss: 31.7857 - val_accuracy: 0.2713\n",
      "Epoch 2/2\n",
      "91/91 [==============================] - 2s 27ms/step - loss: 24.4249 - accuracy: 0.2502 - val_loss: 18.1002 - val_accuracy: 0.2713\n",
      "23/23 [==============================] - 0s 4ms/step\n",
      "25/49 [==============>...............] - ETA: 0s"
     ]
    },
    {
     "name": "stderr",
     "output_type": "stream",
     "text": [
      "c:\\Users\\Sam\\miniconda3\\envs\\pytgpu\\lib\\site-packages\\sklearn\\metrics\\_classification.py:1471: UndefinedMetricWarning: Precision is ill-defined and being set to 0.0 in labels with no predicted samples. Use `zero_division` parameter to control this behavior.\n",
      "  _warn_prf(average, modifier, msg_start, len(result))\n"
     ]
    },
    {
     "name": "stdout",
     "output_type": "stream",
     "text": [
      "49/49 [==============================] - 0s 5ms/step\n"
     ]
    },
    {
     "name": "stderr",
     "output_type": "stream",
     "text": [
      "c:\\Users\\Sam\\miniconda3\\envs\\pytgpu\\lib\\site-packages\\sklearn\\metrics\\_classification.py:1471: UndefinedMetricWarning: Precision is ill-defined and being set to 0.0 in labels with no predicted samples. Use `zero_division` parameter to control this behavior.\n",
      "  _warn_prf(average, modifier, msg_start, len(result))\n"
     ]
    },
    {
     "data": {
      "image/png": "[encoded data removed]",
      "text/plain": [
       "<Figure size 640x480 with 1 Axes>"
      ]
     },
     "metadata": {},
     "output_type": "display_data"
    },
    {
     "data": {
      "image/png": "[encoded data removed]",
      "text/plain": [
       "<Figure size 640x480 with 1 Axes>"
      ]
     },
     "metadata": {},
     "output_type": "display_data"
    }
   ],
   "source": [
    "mlp = build_mlp_classifier(5, 0.0001)\n",
    "mlp, mlp_results = CV_train(mlp, X_train, X_test, n_epochs=2)"
   ]
  },
  {
   "cell_type": "code",
   "execution_count": 27,
   "metadata": {},
   "outputs": [],
   "source": [
    "from tensorflow.keras.models import Model\n",
    "from tensorflow.keras.layers import Dense, Activation, Permute, Dropout\n",
    "from tensorflow.keras.layers import Conv2D, MaxPooling2D, AveragePooling2D\n",
    "from tensorflow.keras.layers import SeparableConv2D, DepthwiseConv2D\n",
    "from tensorflow.keras.layers import BatchNormalization\n",
    "from tensorflow.keras.layers import SpatialDropout2D\n",
    "from tensorflow.keras.regularizers import l1_l2\n",
    "from tensorflow.keras.layers import Input, Flatten\n",
    "from tensorflow.keras.constraints import max_norm\n",
    "from tensorflow.keras import backend as K"
   ]
  },
  {
   "cell_type": "code",
   "execution_count": 28,
   "metadata": {},
   "outputs": [],
   "source": [
    "def build_eegnet_classifier(nb_classes=4, Chans = 22, Samples = 1125, \n",
    "             dropoutRate = 0.3, kernLength = 64, F1 = 8, \n",
    "             D = 2, F2 = 16, norm_rate = 0.25, dropoutType = 'Dropout'):\n",
    "    \n",
    "    if dropoutType == 'SpatialDropout2D':\n",
    "        dropoutType = SpatialDropout2D\n",
    "    elif dropoutType == 'Dropout':\n",
    "        dropoutType = Dropout\n",
    "    else:\n",
    "        raise ValueError('dropoutType must be one of SpatialDropout2D '\n",
    "                         'or Dropout, passed as a string.')\n",
    "    \n",
    "    input1   = Input(shape = (Chans, Samples, 1))\n",
    "\n",
    "    ##################################################################\n",
    "    block1       = Conv2D(F1, (1, kernLength), padding = 'same',\n",
    "                                   input_shape = (Chans, Samples, 1),\n",
    "                                   use_bias = False)(input1)\n",
    "    block1       = BatchNormalization()(block1)\n",
    "    block1       = DepthwiseConv2D((Chans, 1), use_bias = False, \n",
    "                                   depth_multiplier = D,\n",
    "                                   depthwise_constraint = max_norm(1.))(block1)\n",
    "    block1       = BatchNormalization()(block1)\n",
    "    block1       = Activation('elu')(block1)\n",
    "    block1       = AveragePooling2D((1, 4))(block1)\n",
    "    block1       = dropoutType(dropoutRate)(block1)\n",
    "    \n",
    "    block2       = SeparableConv2D(F2, (1, 16),\n",
    "                                   use_bias = False, padding = 'same')(block1)\n",
    "    block2       = BatchNormalization()(block2)\n",
    "    block2       = Activation('elu')(block2)\n",
    "    block2       = AveragePooling2D((1, 8))(block2)\n",
    "    block2       = dropoutType(dropoutRate)(block2)\n",
    "        \n",
    "    flatten      = Flatten(name = 'flatten')(block2)\n",
    "    \n",
    "    dense        = Dense(nb_classes, name = 'dense', \n",
    "                         kernel_constraint = max_norm(norm_rate))(flatten)\n",
    "    softmax      = Activation('softmax', name = 'softmax')(dense)\n",
    "    classifier = Model(inputs=input1, outputs=softmax)\n",
    "    classifier.compile(optimizer='rmsprop', loss='categorical_crossentropy', metrics=['accuracy'])\n",
    "    return classifier"
   ]
  },
  {
   "cell_type": "code",
   "execution_count": 29,
   "metadata": {},
   "outputs": [
    {
     "data": {
      "text/plain": [
       "(3628, 22, 1125)"
      ]
     },
     "execution_count": 29,
     "metadata": {},
     "output_type": "execute_result"
    }
   ],
   "source": [
    "X_train.shape"
   ]
  },
  {
   "cell_type": "code",
   "execution_count": 30,
   "metadata": {},
   "outputs": [
    {
     "name": "stdout",
     "output_type": "stream",
     "text": [
      "Epoch 1/2\n",
      "91/91 [==============================] - 17s 156ms/step - loss: 1.3700 - accuracy: 0.2981 - val_loss: 1.3770 - val_accuracy: 0.2851\n",
      "Epoch 2/2\n",
      "91/91 [==============================] - 14s 153ms/step - loss: 1.2879 - accuracy: 0.3925 - val_loss: 1.3338 - val_accuracy: 0.3499\n",
      "23/23 [==============================] - 1s 18ms/step\n",
      "49/49 [==============================] - 1s 18ms/step\n"
     ]
    },
    {
     "data": {
      "image/png": "[encoded data removed]",
      "text/plain": [
       "<Figure size 640x480 with 1 Axes>"
      ]
     },
     "metadata": {},
     "output_type": "display_data"
    },
    {
     "data": {
      "image/png": "[encoded data removed]",
      "text/plain": [
       "<Figure size 640x480 with 1 Axes>"
      ]
     },
     "metadata": {},
     "output_type": "display_data"
    }
   ],
   "source": [
    "eegnet = build_eegnet_classifier()\n",
    "eegnet, eegnet_results = CV_train(eegnet, np.expand_dims(X_train,-1), np.expand_dims(X_test,-1), n_epochs=2)"
   ]
  },
  {
   "cell_type": "code",
   "execution_count": 31,
   "metadata": {},
   "outputs": [],
   "source": [
    "def square(x):\n",
    "    return K.square(x)\n",
    "\n",
    "def log(x):\n",
    "    return K.log(K.clip(x, min_value = 1e-7, max_value = 10000)) \n"
   ]
  },
  {
   "cell_type": "code",
   "execution_count": 32,
   "metadata": {},
   "outputs": [],
   "source": [
    "def build_shallow_conv_net(nb_classes=4, Chans = 22, Samples = 1125, dropoutRate = 0.5):\n",
    "    # start the model\n",
    "    input_main   = Input((Chans, Samples, 1))\n",
    "    block1       = Conv2D(40, (1, 13), \n",
    "                        input_shape=(Chans, Samples, 1),\n",
    "                        kernel_constraint = max_norm(2., axis=(0,1,2)))(input_main)\n",
    "    block1       = Conv2D(40, (Chans, 1), use_bias=False, \n",
    "                          kernel_constraint = max_norm(2., axis=(0,1,2)))(block1)\n",
    "    block1       = BatchNormalization(epsilon=1e-05, momentum=0.9)(block1)\n",
    "    block1       = Activation(square)(block1)\n",
    "    block1       = AveragePooling2D(pool_size=(1, 35), strides=(1, 7))(block1)\n",
    "    block1       = Activation(log)(block1)\n",
    "    block1       = Dropout(dropoutRate)(block1)\n",
    "    flatten      = Flatten()(block1)\n",
    "    dense        = Dense(nb_classes, kernel_constraint = max_norm(0.5))(flatten)\n",
    "    softmax      = Activation('softmax')(dense)\n",
    "    return Model(inputs=input_main, outputs=softmax)"
   ]
  },
  {
   "cell_type": "code",
   "execution_count": 33,
   "metadata": {},
   "outputs": [
    {
     "name": "stderr",
     "output_type": "stream",
     "text": [
      "c:\\Users\\Sam\\miniconda3\\envs\\pytgpu\\lib\\site-packages\\keras\\optimizers\\optimizer_v2\\adam.py:114: UserWarning: The `lr` argument is deprecated, use `learning_rate` instead.\n",
      "  super().__init__(name, **kwargs)\n"
     ]
    },
    {
     "name": "stdout",
     "output_type": "stream",
     "text": [
      "91/91 [==============================] - 13s 142ms/step - loss: 1.5355 - accuracy: 0.3022 - val_loss: 1.3872 - val_accuracy: 0.3623\n",
      "23/23 [==============================] - 1s 30ms/step\n",
      "49/49 [==============================] - 2s 33ms/step\n"
     ]
    },
    {
     "data": {
      "image/png": "[encoded data removed]",
      "text/plain": [
       "<Figure size 640x480 with 1 Axes>"
      ]
     },
     "metadata": {},
     "output_type": "display_data"
    },
    {
     "data": {
      "image/png": "[encoded data removed]",
      "text/plain": [
       "<Figure size 640x480 with 1 Axes>"
      ]
     },
     "metadata": {},
     "output_type": "display_data"
    }
   ],
   "source": [
    "scn = build_shallow_conv_net()\n",
    "scn.compile(optimizer=keras.optimizers.Adam(lr=0.001), loss='categorical_crossentropy', metrics=['accuracy'])\n",
    "scn, scn_results = CV_train(scn, np.expand_dims(X_train,-1), np.expand_dims(X_test,-1), n_epochs=1)"
   ]
  },
  {
   "cell_type": "code",
   "execution_count": 34,
   "metadata": {},
   "outputs": [],
   "source": [
    "def build_deep_conv_net(nb_classes=4, Chans = 22, Samples = 1125, dropoutRate = 0.5):\n",
    "    # start the model\n",
    "    input_main   = Input((Chans, Samples, 1))\n",
    "    block1       = Conv2D(25, (1, 5), \n",
    "                                 input_shape=(Chans, Samples, 1),\n",
    "                                 kernel_constraint = max_norm(2., axis=(0,1,2)))(input_main)\n",
    "    block1       = Conv2D(25, (Chans, 1),\n",
    "                                 kernel_constraint = max_norm(2., axis=(0,1,2)))(block1)\n",
    "    block1       = BatchNormalization(epsilon=1e-05, momentum=0.9)(block1)\n",
    "    block1       = Activation('elu')(block1)\n",
    "    block1       = MaxPooling2D(pool_size=(1, 2), strides=(1, 2))(block1)\n",
    "    block1       = Dropout(dropoutRate)(block1)\n",
    "  \n",
    "    block2       = Conv2D(50, (1, 5),\n",
    "                                 kernel_constraint = max_norm(2., axis=(0,1,2)))(block1)\n",
    "    block2       = BatchNormalization(epsilon=1e-05, momentum=0.9)(block2)\n",
    "    block2       = Activation('elu')(block2)\n",
    "    block2       = MaxPooling2D(pool_size=(1, 2), strides=(1, 2))(block2)\n",
    "    block2       = Dropout(dropoutRate)(block2)\n",
    "    \n",
    "    block3       = Conv2D(100, (1, 5),\n",
    "                                 kernel_constraint = max_norm(2., axis=(0,1,2)))(block2)\n",
    "    block3       = BatchNormalization(epsilon=1e-05, momentum=0.9)(block3)\n",
    "    block3       = Activation('elu')(block3)\n",
    "    block3       = MaxPooling2D(pool_size=(1, 2), strides=(1, 2))(block3)\n",
    "    block3       = Dropout(dropoutRate)(block3)\n",
    "    \n",
    "    block4       = Conv2D(200, (1, 5),\n",
    "                                 kernel_constraint = max_norm(2., axis=(0,1,2)))(block3)\n",
    "    block4       = BatchNormalization(epsilon=1e-05, momentum=0.9)(block4)\n",
    "    block4       = Activation('elu')(block4)\n",
    "    block4       = MaxPooling2D(pool_size=(1, 2), strides=(1, 2))(block4)\n",
    "    block4       = Dropout(dropoutRate)(block4)\n",
    "    \n",
    "    flatten      = Flatten()(block4)\n",
    "    \n",
    "    dense        = Dense(nb_classes, kernel_constraint = max_norm(0.5))(flatten)\n",
    "    softmax      = Activation('softmax')(dense)\n",
    "    \n",
    "    return Model(inputs=input_main, outputs=softmax)"
   ]
  },
  {
   "cell_type": "code",
   "execution_count": 35,
   "metadata": {},
   "outputs": [
    {
     "name": "stderr",
     "output_type": "stream",
     "text": [
      "c:\\Users\\Sam\\miniconda3\\envs\\pytgpu\\lib\\site-packages\\keras\\optimizers\\optimizer_v2\\adam.py:114: UserWarning: The `lr` argument is deprecated, use `learning_rate` instead.\n",
      "  super().__init__(name, **kwargs)\n"
     ]
    },
    {
     "name": "stdout",
     "output_type": "stream",
     "text": [
      "91/91 [==============================] - 17s 179ms/step - loss: 1.8776 - accuracy: 0.2684 - val_loss: 1.6367 - val_accuracy: 0.2424\n",
      "23/23 [==============================] - 1s 35ms/step\n",
      " 3/49 [>.............................] - ETA: 1s"
     ]
    },
    {
     "name": "stderr",
     "output_type": "stream",
     "text": [
      "c:\\Users\\Sam\\miniconda3\\envs\\pytgpu\\lib\\site-packages\\sklearn\\metrics\\_classification.py:1471: UndefinedMetricWarning: Precision is ill-defined and being set to 0.0 in labels with no predicted samples. Use `zero_division` parameter to control this behavior.\n",
      "  _warn_prf(average, modifier, msg_start, len(result))\n"
     ]
    },
    {
     "name": "stdout",
     "output_type": "stream",
     "text": [
      "49/49 [==============================] - 2s 38ms/step\n"
     ]
    },
    {
     "data": {
      "image/png": "[encoded data removed]",
      "text/plain": [
       "<Figure size 640x480 with 1 Axes>"
      ]
     },
     "metadata": {},
     "output_type": "display_data"
    },
    {
     "data": {
      "image/png": "[encoded data removed]",
      "text/plain": [
       "<Figure size 640x480 with 1 Axes>"
      ]
     },
     "metadata": {},
     "output_type": "display_data"
    }
   ],
   "source": [
    "dcn = build_deep_conv_net()\n",
    "dcn.compile(optimizer=keras.optimizers.Adam(lr=0.001), loss='categorical_crossentropy', metrics=['accuracy'])\n",
    "dcn, dcn_results = CV_train(dcn, np.expand_dims(X_train,-1), np.expand_dims(X_test,-1), n_epochs=1)"
   ]
  },
  {
   "cell_type": "code",
   "execution_count": 36,
   "metadata": {},
   "outputs": [
    {
     "data": {
      "text/plain": [
       "(3628, 22, 1125)"
      ]
     },
     "execution_count": 36,
     "metadata": {},
     "output_type": "execute_result"
    }
   ],
   "source": [
    "X_train.shape"
   ]
  },
  {
   "cell_type": "code",
   "execution_count": 37,
   "metadata": {},
   "outputs": [
    {
     "name": "stdout",
     "output_type": "stream",
     "text": [
      "  epoch    train_loss      lr     dur\n",
      "-------  ------------  ------  ------\n",
      "      1        \u001b[36m1.4250\u001b[0m  0.0010  2.4488\n"
     ]
    },
    {
     "data": {
      "text/plain": [
       "<class 'skorch.classifier.NeuralNetClassifier'>[initialized](\n",
       "  module_=======================================================================================================================================================\n",
       "  Layer (type (var_name):depth-idx)                  Input Shape               Output Shape              Param #                   Kernel Shape\n",
       "  ======================================================================================================================================================\n",
       "  EEGNetv4 (EEGNetv4)                                [1, 22, 1125]             [1, 4]                    --                        --\n",
       "  ├─Ensure4d (ensuredims): 1-1                       [1, 22, 1125]             [1, 22, 1125, 1]          --                        --\n",
       "  ├─Rearrange (dimshuffle): 1-2                      [1, 22, 1125, 1]          [1, 1, 22, 1125]          --                        --\n",
       "  ├─Conv2d (conv_temporal): 1-3                      [1, 1, 22, 1125]          [1, 8, 22, 1126]          256                       [1, 32]\n",
       "  ├─BatchNorm2d (bnorm_temporal): 1-4                [1, 8, 22, 1126]          [1, 8, 22, 1126]          16                        --\n",
       "  ├─Conv2dWithConstraint (conv_spatial): 1-5         [1, 8, 22, 1126]          [1, 16, 1, 1126]          352                       [22, 1]\n",
       "  ├─BatchNorm2d (bnorm_1): 1-6                       [1, 16, 1, 1126]          [1, 16, 1, 1126]          32                        --\n",
       "  ├─Expression (elu_1): 1-7                          [1, 16, 1, 1126]          [1, 16, 1, 1126]          --                        --\n",
       "  ├─AvgPool2d (pool_1): 1-8                          [1, 16, 1, 1126]          [1, 16, 1, 281]           --                        [1, 4]\n",
       "  ├─Dropout (drop_1): 1-9                            [1, 16, 1, 281]           [1, 16, 1, 281]           --                        --\n",
       "  ├─Conv2d (conv_separable_depth): 1-10              [1, 16, 1, 281]           [1, 16, 1, 282]           256                       [1, 16]\n",
       "  ├─Conv2d (conv_separable_point): 1-11              [1, 16, 1, 282]           [1, 16, 1, 282]           256                       [1, 1]\n",
       "  ├─BatchNorm2d (bnorm_2): 1-12                      [1, 16, 1, 282]           [1, 16, 1, 282]           32                        --\n",
       "  ├─Expression (elu_2): 1-13                         [1, 16, 1, 282]           [1, 16, 1, 282]           --                        --\n",
       "  ├─AvgPool2d (pool_2): 1-14                         [1, 16, 1, 282]           [1, 16, 1, 35]            --                        [1, 8]\n",
       "  ├─Dropout (drop_2): 1-15                           [1, 16, 1, 35]            [1, 16, 1, 35]            --                        --\n",
       "  ├─Sequential (final_layer): 1-16                   [1, 16, 1, 35]            [1, 4]                    --                        --\n",
       "  │    └─Conv2d (conv_classifier): 2-1               [1, 16, 1, 35]            [1, 4, 1, 1]              2,244                     [1, 35]\n",
       "  │    └─Rearrange (permute_back): 2-2               [1, 4, 1, 1]              [1, 4, 1, 1]              --                        --\n",
       "  │    └─Expression (squeeze): 2-3                   [1, 4, 1, 1]              [1, 4]                    --                        --\n",
       "  ======================================================================================================================================================\n",
       "  Total params: 3,444\n",
       "  Trainable params: 3,444\n",
       "  Non-trainable params: 0\n",
       "  Total mult-adds (M): 6.88\n",
       "  ======================================================================================================================================================\n",
       "  Input size (MB): 0.10\n",
       "  Forward/backward pass size (MB): 3.57\n",
       "  Params size (MB): 0.01\n",
       "  Estimated Total Size (MB): 3.68\n",
       "  ======================================================================================================================================================,\n",
       ")"
      ]
     },
     "execution_count": 37,
     "metadata": {},
     "output_type": "execute_result"
    }
   ],
   "source": [
    "callbacks = [(\"lr_scheduler\", LRScheduler('CosineAnnealingLR', T_max=n_epochs - 1)),]\n",
    "eegv4 = NeuralNetClassifier(module=EEGNetv4,\n",
    "        module__n_chans=22,\n",
    "        module__n_outputs=4,\n",
    "        module__n_times=1125,\n",
    "        module__kernel_length=32,\n",
    "        module__drop_prob=0.5,\n",
    "        criterion=torch.nn.CrossEntropyLoss,\n",
    "        optimizer=torch.optim.Adam,\n",
    "        optimizer__lr=0.001,\n",
    "        train_split=None,\n",
    "        iterator_train__shuffle=True,\n",
    "        batch_size=32,\n",
    "        callbacks=callbacks,\n",
    "        device='cuda' if cuda else 'cpu',\n",
    "        verbose=verbose\n",
    "        )\n",
    "\n",
    "eegv4.fit(X_train, y_train, epochs=1)"
   ]
  },
  {
   "cell_type": "code",
   "execution_count": 104,
   "metadata": {},
   "outputs": [
    {
     "data": {
      "image/png": "[encoded data removed]",
      "text/plain": [
       "<Figure size 1000x500 with 1 Axes>"
      ]
     },
     "metadata": {},
     "output_type": "display_data"
    }
   ],
   "source": [
    "print(\"Train Accuracy: \", eegv4.score(X_train, np.argmax(y_train, axis=1)))\n",
    "print(\"Test Accuracy: \", eegv4.score(X_test, np.argmax(y_test, axis=1)))\n",
    "\n",
    "train_loss = eegv4.history[:, 'train_loss']\n",
    "plt.figure(figsize=(10, 5))\n",
    "plt.plot(train_loss, label='Train Loss')\n",
    "plt.xlabel('Epoch')\n",
    "plt.ylabel('Loss')\n",
    "plt.title('Train Loss over Epochs')\n",
    "plt.legend()\n",
    "plt.grid(True)\n",
    "plt.show()"
   ]
  },
  {
   "cell_type": "code",
   "execution_count": 38,
   "metadata": {},
   "outputs": [],
   "source": [
    "from braindecode.models import *"
   ]
  },
  {
   "cell_type": "code",
   "execution_count": 31,
   "metadata": {},
   "outputs": [
    {
     "name": "stdout",
     "output_type": "stream",
     "text": [
      "  epoch    train_loss      lr     dur\n",
      "-------  ------------  ------  ------\n",
      "      1        \u001b[36m1.3630\u001b[0m  0.0010  5.8597\n",
      "      2        \u001b[36m1.2295\u001b[0m  0.0009  5.8231\n"
     ]
    },
    {
     "data": {
      "text/plain": [
       "<class 'skorch.classifier.NeuralNetClassifier'>[initialized](\n",
       "  module_============================================================================================================================================================\n",
       "  Layer (type (var_name):depth-idx)                       Input Shape               Output Shape              Param #                   Kernel Shape\n",
       "  ===========================================================================================================================================================\n",
       "  ATCNet (ATCNet)                                         [1, 22, 1125]             [1, 4]                    --                        --\n",
       "  ├─Ensure4d (ensuredims): 1-1                            [1, 22, 1125]             [1, 22, 1125, 1]          --                        --\n",
       "  ├─Rearrange (dimshuffle): 1-2                           [1, 22, 1125, 1]          [1, 1, 1125, 22]          --                        --\n",
       "  ├─_ConvBlock (conv_block): 1-3                          [1, 1, 1125, 22]          [1, 32, 20, 1]            --                        --\n",
       "  │    └─Conv2d (conv1): 2-1                              [1, 1, 1125, 22]          [1, 16, 1125, 22]         1,024                     [64, 1]\n",
       "  │    └─BatchNorm2d (bn1): 2-2                           [1, 16, 1125, 22]         [1, 16, 1125, 22]         32                        --\n",
       "  │    └─Conv2d (conv2): 2-3                              [1, 16, 1125, 22]         [1, 32, 1125, 1]          704                       [1, 22]\n",
       "  │    └─BatchNorm2d (bn2): 2-4                           [1, 32, 1125, 1]          [1, 32, 1125, 1]          64                        --\n",
       "  │    └─ELU (activation2): 2-5                           [1, 32, 1125, 1]          [1, 32, 1125, 1]          --                        --\n",
       "  │    └─AvgPool2d (pool2): 2-6                           [1, 32, 1125, 1]          [1, 32, 140, 1]           --                        [8, 1]\n",
       "  │    └─Dropout2d (drop2): 2-7                           [1, 32, 140, 1]           [1, 32, 140, 1]           --                        --\n",
       "  │    └─Conv2d (conv3): 2-8                              [1, 32, 140, 1]           [1, 32, 140, 1]           16,384                    [16, 1]\n",
       "  │    └─BatchNorm2d (bn3): 2-9                           [1, 32, 140, 1]           [1, 32, 140, 1]           64                        --\n",
       "  │    └─ELU (activation3): 2-10                          [1, 32, 140, 1]           [1, 32, 140, 1]           --                        --\n",
       "  │    └─AvgPool2d (pool3): 2-11                          [1, 32, 140, 1]           [1, 32, 20, 1]            --                        [7, 1]\n",
       "  │    └─Dropout2d (drop3): 2-12                          [1, 32, 20, 1]            [1, 32, 20, 1]            --                        --\n",
       "  ├─ModuleList (attention_blocks): 1-16                   --                        --                        (recursive)               --\n",
       "  │    └─_AttentionBlock (0): 2-13                        [1, 32, 16]               [1, 32, 16]               --                        --\n",
       "  │    │    └─Rearrange (dimshuffle): 3-1                 [1, 32, 16]               [1, 16, 32]               --                        --\n",
       "  │    │    └─LayerNorm (ln): 3-2                         [1, 16, 32]               [1, 16, 32]               64                        --\n",
       "  │    │    └─_MHA (mha): 3-3                             [1, 16, 32]               [1, 16, 32]               2,128                     --\n",
       "  │    │    └─Dropout (drop): 3-4                         [1, 16, 32]               [1, 16, 32]               --                        --\n",
       "  │    │    └─Rearrange (dimshuffle): 3-5                 [1, 16, 32]               [1, 32, 16]               --                        --\n",
       "  ├─ModuleList (temporal_conv_nets): 1-17                 --                        --                        (recursive)               --\n",
       "  │    └─Sequential (0): 2-14                             [1, 32, 16]               [1, 32, 16]               8,384                     --\n",
       "  │    │    └─_TCNResidualBlock (0): 3-6                  [1, 32, 16]               [1, 32, 16]               8,384                     4\n",
       "  │    └─Sequential (4): 2-67                             --                        --                        (recursive)               --\n",
       "  │    │    └─_TCNResidualBlock (1): 3-79                 --                        --                        (recursive)               4\n",
       "  │    └─Sequential (0): 2-24                             --                        --                        (recursive)               --\n",
       "  │    │    └─_TCNResidualBlock (0): 3-10                 --                        --                        (recursive)               4\n",
       "  │    └─Sequential (4): 2-67                             --                        --                        (recursive)               --\n",
       "  │    │    └─_TCNResidualBlock (1): 3-79                 --                        --                        (recursive)               4\n",
       "  │    └─Sequential (0): 2-24                             --                        --                        (recursive)               --\n",
       "  │    │    └─_TCNResidualBlock (0): 3-10                 --                        --                        (recursive)               4\n",
       "  │    └─Sequential (4): 2-67                             --                        --                        (recursive)               --\n",
       "  │    │    └─_TCNResidualBlock (1): 3-79                 --                        --                        (recursive)               4\n",
       "  │    └─Sequential (0): 2-24                             --                        --                        (recursive)               --\n",
       "  │    │    └─_TCNResidualBlock (1): 3-12                 [1, 32, 16]               [1, 32, 16]               8,384                     4\n",
       "  │    └─Sequential (4): 2-67                             --                        --                        (recursive)               --\n",
       "  │    │    └─_TCNResidualBlock (1): 3-79                 --                        --                        (recursive)               4\n",
       "  │    └─Sequential (0): 2-24                             --                        --                        (recursive)               --\n",
       "  │    │    └─_TCNResidualBlock (1): 3-16                 --                        --                        (recursive)               4\n",
       "  │    └─Sequential (4): 2-67                             --                        --                        (recursive)               --\n",
       "  │    │    └─_TCNResidualBlock (1): 3-79                 --                        --                        (recursive)               4\n",
       "  │    └─Sequential (0): 2-24                             --                        --                        (recursive)               --\n",
       "  │    │    └─_TCNResidualBlock (1): 3-16                 --                        --                        (recursive)               4\n",
       "  │    └─Sequential (4): 2-67                             --                        --                        (recursive)               --\n",
       "  │    │    └─_TCNResidualBlock (1): 3-79                 --                        --                        (recursive)               4\n",
       "  ├─ModuleList (final_layer): 1-18                        --                        --                        (recursive)               --\n",
       "  │    └─MaxNormLinear (0): 2-26                          [1, 32]                   [1, 4]                    132                       --\n",
       "  ├─ModuleList (attention_blocks): 1-16                   --                        --                        (recursive)               --\n",
       "  │    └─_AttentionBlock (1): 2-27                        [1, 32, 16]               [1, 32, 16]               --                        --\n",
       "  │    │    └─Rearrange (dimshuffle): 3-18                [1, 32, 16]               [1, 16, 32]               --                        --\n",
       "  │    │    └─LayerNorm (ln): 3-19                        [1, 16, 32]               [1, 16, 32]               64                        --\n",
       "  │    │    └─_MHA (mha): 3-20                            [1, 16, 32]               [1, 16, 32]               2,128                     --\n",
       "  │    │    └─Dropout (drop): 3-21                        [1, 16, 32]               [1, 16, 32]               --                        --\n",
       "  │    │    └─Rearrange (dimshuffle): 3-22                [1, 16, 32]               [1, 32, 16]               --                        --\n",
       "  ├─ModuleList (temporal_conv_nets): 1-17                 --                        --                        (recursive)               --\n",
       "  │    └─Sequential (1): 2-28                             [1, 32, 16]               [1, 32, 16]               8,384                     --\n",
       "  │    │    └─_TCNResidualBlock (0): 3-23                 [1, 32, 16]               [1, 32, 16]               8,384                     4\n",
       "  │    └─Sequential (4): 2-67                             --                        --                        (recursive)               --\n",
       "  │    │    └─_TCNResidualBlock (1): 3-79                 --                        --                        (recursive)               4\n",
       "  │    └─Sequential (1): 2-38                             --                        --                        (recursive)               --\n",
       "  │    │    └─_TCNResidualBlock (0): 3-27                 --                        --                        (recursive)               4\n",
       "  │    └─Sequential (4): 2-67                             --                        --                        (recursive)               --\n",
       "  │    │    └─_TCNResidualBlock (1): 3-79                 --                        --                        (recursive)               4\n",
       "  │    └─Sequential (1): 2-38                             --                        --                        (recursive)               --\n",
       "  │    │    └─_TCNResidualBlock (0): 3-27                 --                        --                        (recursive)               4\n",
       "  │    └─Sequential (4): 2-67                             --                        --                        (recursive)               --\n",
       "  │    │    └─_TCNResidualBlock (1): 3-79                 --                        --                        (recursive)               4\n",
       "  │    └─Sequential (1): 2-38                             --                        --                        (recursive)               --\n",
       "  │    │    └─_TCNResidualBlock (1): 3-29                 [1, 32, 16]               [1, 32, 16]               8,384                     4\n",
       "  │    └─Sequential (4): 2-67                             --                        --                        (recursive)               --\n",
       "  │    │    └─_TCNResidualBlock (1): 3-79                 --                        --                        (recursive)               4\n",
       "  │    └─Sequential (1): 2-38                             --                        --                        (recursive)               --\n",
       "  │    │    └─_TCNResidualBlock (1): 3-33                 --                        --                        (recursive)               4\n",
       "  │    └─Sequential (4): 2-67                             --                        --                        (recursive)               --\n",
       "  │    │    └─_TCNResidualBlock (1): 3-79                 --                        --                        (recursive)               4\n",
       "  │    └─Sequential (1): 2-38                             --                        --                        (recursive)               --\n",
       "  │    │    └─_TCNResidualBlock (1): 3-33                 --                        --                        (recursive)               4\n",
       "  │    └─Sequential (4): 2-67                             --                        --                        (recursive)               --\n",
       "  │    │    └─_TCNResidualBlock (1): 3-79                 --                        --                        (recursive)               4\n",
       "  ├─ModuleList (final_layer): 1-18                        --                        --                        (recursive)               --\n",
       "  │    └─MaxNormLinear (1): 2-40                          [1, 32]                   [1, 4]                    132                       --\n",
       "  ├─ModuleList (attention_blocks): 1-16                   --                        --                        (recursive)               --\n",
       "  │    └─_AttentionBlock (2): 2-41                        [1, 32, 16]               [1, 32, 16]               --                        --\n",
       "  │    │    └─Rearrange (dimshuffle): 3-35                [1, 32, 16]               [1, 16, 32]               --                        --\n",
       "  │    │    └─LayerNorm (ln): 3-36                        [1, 16, 32]               [1, 16, 32]               64                        --\n",
       "  │    │    └─_MHA (mha): 3-37                            [1, 16, 32]               [1, 16, 32]               2,128                     --\n",
       "  │    │    └─Dropout (drop): 3-38                        [1, 16, 32]               [1, 16, 32]               --                        --\n",
       "  │    │    └─Rearrange (dimshuffle): 3-39                [1, 16, 32]               [1, 32, 16]               --                        --\n",
       "  ├─ModuleList (temporal_conv_nets): 1-17                 --                        --                        (recursive)               --\n",
       "  │    └─Sequential (2): 2-42                             [1, 32, 16]               [1, 32, 16]               8,384                     --\n",
       "  │    │    └─_TCNResidualBlock (0): 3-40                 [1, 32, 16]               [1, 32, 16]               8,384                     4\n",
       "  │    └─Sequential (4): 2-67                             --                        --                        (recursive)               --\n",
       "  │    │    └─_TCNResidualBlock (1): 3-79                 --                        --                        (recursive)               4\n",
       "  │    └─Sequential (2): 2-52                             --                        --                        (recursive)               --\n",
       "  │    │    └─_TCNResidualBlock (0): 3-44                 --                        --                        (recursive)               4\n",
       "  │    └─Sequential (4): 2-67                             --                        --                        (recursive)               --\n",
       "  │    │    └─_TCNResidualBlock (1): 3-79                 --                        --                        (recursive)               4\n",
       "  │    └─Sequential (2): 2-52                             --                        --                        (recursive)               --\n",
       "  │    │    └─_TCNResidualBlock (0): 3-44                 --                        --                        (recursive)               4\n",
       "  │    └─Sequential (4): 2-67                             --                        --                        (recursive)               --\n",
       "  │    │    └─_TCNResidualBlock (1): 3-79                 --                        --                        (recursive)               4\n",
       "  │    └─Sequential (2): 2-52                             --                        --                        (recursive)               --\n",
       "  │    │    └─_TCNResidualBlock (1): 3-46                 [1, 32, 16]               [1, 32, 16]               8,384                     4\n",
       "  │    └─Sequential (4): 2-67                             --                        --                        (recursive)               --\n",
       "  │    │    └─_TCNResidualBlock (1): 3-79                 --                        --                        (recursive)               4\n",
       "  │    └─Sequential (2): 2-52                             --                        --                        (recursive)               --\n",
       "  │    │    └─_TCNResidualBlock (1): 3-50                 --                        --                        (recursive)               4\n",
       "  │    └─Sequential (4): 2-67                             --                        --                        (recursive)               --\n",
       "  │    │    └─_TCNResidualBlock (1): 3-79                 --                        --                        (recursive)               4\n",
       "  │    └─Sequential (2): 2-52                             --                        --                        (recursive)               --\n",
       "  │    │    └─_TCNResidualBlock (1): 3-50                 --                        --                        (recursive)               4\n",
       "  │    └─Sequential (4): 2-67                             --                        --                        (recursive)               --\n",
       "  │    │    └─_TCNResidualBlock (1): 3-79                 --                        --                        (recursive)               4\n",
       "  ├─ModuleList (final_layer): 1-18                        --                        --                        (recursive)               --\n",
       "  │    └─MaxNormLinear (2): 2-54                          [1, 32]                   [1, 4]                    132                       --\n",
       "  ├─ModuleList (attention_blocks): 1-16                   --                        --                        (recursive)               --\n",
       "  │    └─_AttentionBlock (3): 2-55                        [1, 32, 16]               [1, 32, 16]               --                        --\n",
       "  │    │    └─Rearrange (dimshuffle): 3-52                [1, 32, 16]               [1, 16, 32]               --                        --\n",
       "  │    │    └─LayerNorm (ln): 3-53                        [1, 16, 32]               [1, 16, 32]               64                        --\n",
       "  │    │    └─_MHA (mha): 3-54                            [1, 16, 32]               [1, 16, 32]               2,128                     --\n",
       "  │    │    └─Dropout (drop): 3-55                        [1, 16, 32]               [1, 16, 32]               --                        --\n",
       "  │    │    └─Rearrange (dimshuffle): 3-56                [1, 16, 32]               [1, 32, 16]               --                        --\n",
       "  ├─ModuleList (temporal_conv_nets): 1-17                 --                        --                        (recursive)               --\n",
       "  │    └─Sequential (3): 2-56                             [1, 32, 16]               [1, 32, 16]               8,384                     --\n",
       "  │    │    └─_TCNResidualBlock (0): 3-57                 [1, 32, 16]               [1, 32, 16]               8,384                     4\n",
       "  │    └─Sequential (4): 2-67                             --                        --                        (recursive)               --\n",
       "  │    │    └─_TCNResidualBlock (1): 3-79                 --                        --                        (recursive)               4\n",
       "  │    └─Sequential (3): 2-66                             --                        --                        (recursive)               --\n",
       "  │    │    └─_TCNResidualBlock (0): 3-61                 --                        --                        (recursive)               4\n",
       "  │    └─Sequential (4): 2-67                             --                        --                        (recursive)               --\n",
       "  │    │    └─_TCNResidualBlock (1): 3-79                 --                        --                        (recursive)               4\n",
       "  │    └─Sequential (3): 2-66                             --                        --                        (recursive)               --\n",
       "  │    │    └─_TCNResidualBlock (0): 3-61                 --                        --                        (recursive)               4\n",
       "  │    └─Sequential (4): 2-67                             --                        --                        (recursive)               --\n",
       "  │    │    └─_TCNResidualBlock (1): 3-79                 --                        --                        (recursive)               4\n",
       "  │    └─Sequential (3): 2-66                             --                        --                        (recursive)               --\n",
       "  │    │    └─_TCNResidualBlock (1): 3-63                 [1, 32, 16]               [1, 32, 16]               8,384                     4\n",
       "  │    └─Sequential (4): 2-67                             --                        --                        (recursive)               --\n",
       "  │    │    └─_TCNResidualBlock (1): 3-79                 --                        --                        (recursive)               4\n",
       "  │    └─Sequential (3): 2-66                             --                        --                        (recursive)               --\n",
       "  │    │    └─_TCNResidualBlock (1): 3-67                 --                        --                        (recursive)               4\n",
       "  │    └─Sequential (4): 2-67                             --                        --                        (recursive)               --\n",
       "  │    │    └─_TCNResidualBlock (1): 3-79                 --                        --                        (recursive)               4\n",
       "  │    └─Sequential (3): 2-66                             --                        --                        (recursive)               --\n",
       "  │    │    └─_TCNResidualBlock (1): 3-67                 --                        --                        (recursive)               4\n",
       "  │    └─Sequential (4): 2-67                             --                        --                        (recursive)               --\n",
       "  │    │    └─_TCNResidualBlock (1): 3-79                 --                        --                        (recursive)               4\n",
       "  ├─ModuleList (final_layer): 1-18                        --                        --                        (recursive)               --\n",
       "  │    └─MaxNormLinear (3): 2-68                          [1, 32]                   [1, 4]                    132                       --\n",
       "  ├─ModuleList (attention_blocks): 1-16                   --                        --                        (recursive)               --\n",
       "  │    └─_AttentionBlock (4): 2-69                        [1, 32, 16]               [1, 32, 16]               --                        --\n",
       "  │    │    └─Rearrange (dimshuffle): 3-69                [1, 32, 16]               [1, 16, 32]               --                        --\n",
       "  │    │    └─LayerNorm (ln): 3-70                        [1, 16, 32]               [1, 16, 32]               64                        --\n",
       "  │    │    └─_MHA (mha): 3-71                            [1, 16, 32]               [1, 16, 32]               2,128                     --\n",
       "  │    │    └─Dropout (drop): 3-72                        [1, 16, 32]               [1, 16, 32]               --                        --\n",
       "  │    │    └─Rearrange (dimshuffle): 3-73                [1, 16, 32]               [1, 32, 16]               --                        --\n",
       "  ├─ModuleList (temporal_conv_nets): 1-17                 --                        --                        (recursive)               --\n",
       "  │    └─Sequential (4): 2-70                             [1, 32, 16]               [1, 32, 16]               --                        --\n",
       "  │    │    └─_TCNResidualBlock (0): 3-74                 [1, 32, 16]               [1, 32, 16]               8,384                     4\n",
       "  │    │    └─_TCNResidualBlock (1): 3-79                 --                        --                        (recursive)               4\n",
       "  │    │    └─_TCNResidualBlock (0): 3-78                 --                        --                        (recursive)               4\n",
       "  │    │    └─_TCNResidualBlock (1): 3-79                 --                        --                        (recursive)               4\n",
       "  │    │    └─_TCNResidualBlock (0): 3-78                 --                        --                        (recursive)               4\n",
       "  │    │    └─_TCNResidualBlock (1): 3-79                 --                        --                        (recursive)               4\n",
       "  │    │    └─_TCNResidualBlock (1): 3-80                 [1, 32, 16]               [1, 32, 16]               8,384                     4\n",
       "  ├─ModuleList (final_layer): 1-18                        --                        --                        (recursive)               --\n",
       "  │    └─MaxNormLinear (4): 2-71                          [1, 32]                   [1, 4]                    132                       --\n",
       "  ├─Identity (out_fun): 1-19                              [1, 4]                    [1, 4]                    --                        --\n",
       "  ===========================================================================================================================================================\n",
       "  Total params: 184,996\n",
       "  Trainable params: 184,996\n",
       "  Non-trainable params: 0\n",
       "  Total mult-adds (M): 29.76\n",
       "  ===========================================================================================================================================================\n",
       "  Input size (MB): 0.10\n",
       "  Forward/backward pass size (MB): 7.22\n",
       "  Params size (MB): 0.45\n",
       "  Estimated Total Size (MB): 7.77\n",
       "  ===========================================================================================================================================================,\n",
       ")"
      ]
     },
     "execution_count": 31,
     "metadata": {},
     "output_type": "execute_result"
    }
   ],
   "source": [
    "callbacks = [(\"lr_scheduler\", LRScheduler('CosineAnnealingLR', T_max=n_epochs - 1))]\n",
    "atcnet = NeuralNetClassifier(module=ATCNet,\n",
    "        module__n_chans=22,\n",
    "        module__n_outputs=4,\n",
    "        module__n_times=1125,\n",
    "        module__add_log_softmax=False,\n",
    "        # module__kernel_length=32,\n",
    "        # module__drop_prob=0.5,\n",
    "        criterion=torch.nn.CrossEntropyLoss,\n",
    "        optimizer=torch.optim.Adam,\n",
    "        optimizer__lr=0.001,\n",
    "        train_split=None,\n",
    "        iterator_train__shuffle=True,\n",
    "        batch_size=32,\n",
    "        callbacks=callbacks,\n",
    "        device='cuda' if cuda else 'cpu',\n",
    "        verbose=verbose\n",
    "        )\n",
    "# clf.callbacks.append(TrainEndCheckpoint(dirname=save_dir + f'\\\\S{subject}'))\n",
    "atcnet.fit(X_train, y_train, epochs=1)"
   ]
  },
  {
   "cell_type": "code",
   "execution_count": 99,
   "metadata": {},
   "outputs": [],
   "source": [
    "import matplotlib.pyplot as plt"
   ]
  },
  {
   "cell_type": "code",
   "execution_count": 100,
   "metadata": {},
   "outputs": [
    {
     "name": "stdout",
     "output_type": "stream",
     "text": [
      "Train Accuracy:  0.8051267916207276\n",
      "Test Accuracy:  0.5880462724935732\n"
     ]
    },
    {
     "data": {
      "image/png": "[encoded data removed]",
      "text/plain": [
       "<Figure size 1000x500 with 1 Axes>"
      ]
     },
     "metadata": {},
     "output_type": "display_data"
    }
   ],
   "source": [
    "print(\"Train Accuracy: \", atcnet.score(X_train, np.argmax(y_train, axis=1)))\n",
    "print(\"Test Accuracy: \", atcnet.score(X_test, np.argmax(y_test, axis=1)))\n",
    "\n",
    "train_loss = atcnet.history[:, 'train_loss']\n",
    "plt.figure(figsize=(10, 5))\n",
    "plt.plot(train_loss, label='Train Loss')\n",
    "plt.xlabel('Epoch')\n",
    "plt.ylabel('Loss')\n",
    "plt.title('Train Loss over Epochs')\n",
    "plt.legend()\n",
    "plt.grid(True)\n",
    "plt.show()"
   ]
  },
  {
   "cell_type": "code",
   "execution_count": 32,
   "metadata": {},
   "outputs": [
    {
     "name": "stdout",
     "output_type": "stream",
     "text": [
      "  epoch    train_loss      lr     dur\n",
      "-------  ------------  ------  ------\n",
      "      1        \u001b[36m1.3895\u001b[0m  0.0010  6.5622\n",
      "      2        \u001b[36m1.3119\u001b[0m  0.0009  6.2430\n"
     ]
    },
    {
     "data": {
      "text/plain": [
       "<class 'skorch.classifier.NeuralNetClassifier'>[initialized](\n",
       "  module_=================================================================================================================================================================\n",
       "  Layer (type (var_name):depth-idx)                            Input Shape               Output Shape              Param #                   Kernel Shape\n",
       "  ================================================================================================================================================================\n",
       "  EEGConformer (EEGConformer)                                  [1, 22, 1125]             [1, 4]                    --                        --\n",
       "  ├─_PatchEmbedding (patch_embedding): 1-1                     [1, 1, 22, 1125]          [1, 69, 40]               --                        --\n",
       "  │    └─Sequential (shallownet): 2-1                          [1, 1, 22, 1125]          [1, 40, 1, 69]            --                        --\n",
       "  │    │    └─Conv2d (0): 3-1                                  [1, 1, 22, 1125]          [1, 40, 22, 1101]         1,040                     [1, 25]\n",
       "  │    │    └─Conv2d (1): 3-2                                  [1, 40, 22, 1101]         [1, 40, 1, 1101]          35,240                    [22, 1]\n",
       "  │    │    └─BatchNorm2d (2): 3-3                             [1, 40, 1, 1101]          [1, 40, 1, 1101]          80                        --\n",
       "  │    │    └─ELU (3): 3-4                                     [1, 40, 1, 1101]          [1, 40, 1, 1101]          --                        --\n",
       "  │    │    └─AvgPool2d (4): 3-5                               [1, 40, 1, 1101]          [1, 40, 1, 69]            --                        [1, 75]\n",
       "  │    │    └─Dropout (5): 3-6                                 [1, 40, 1, 69]            [1, 40, 1, 69]            --                        --\n",
       "  │    └─Sequential (projection): 2-2                          [1, 40, 1, 69]            [1, 69, 40]               --                        --\n",
       "  │    │    └─Conv2d (0): 3-7                                  [1, 40, 1, 69]            [1, 40, 1, 69]            1,640                     [1, 1]\n",
       "  │    │    └─Rearrange (1): 3-8                               [1, 40, 1, 69]            [1, 69, 40]               --                        --\n",
       "  ├─_TransformerEncoder (transformer): 1-2                     [1, 69, 40]               [1, 69, 40]               --                        --\n",
       "  │    └─_TransformerEncoderBlock (0): 2-3                     [1, 69, 40]               [1, 69, 40]               --                        --\n",
       "  │    │    └─_ResidualAdd (0): 3-9                            [1, 69, 40]               [1, 69, 40]               6,640                     --\n",
       "  │    │    └─_ResidualAdd (1): 3-10                           [1, 69, 40]               [1, 69, 40]               13,080                    --\n",
       "  │    └─_TransformerEncoderBlock (1): 2-4                     [1, 69, 40]               [1, 69, 40]               --                        --\n",
       "  │    │    └─_ResidualAdd (0): 3-11                           [1, 69, 40]               [1, 69, 40]               6,640                     --\n",
       "  │    │    └─_ResidualAdd (1): 3-12                           [1, 69, 40]               [1, 69, 40]               13,080                    --\n",
       "  │    └─_TransformerEncoderBlock (2): 2-5                     [1, 69, 40]               [1, 69, 40]               --                        --\n",
       "  │    │    └─_ResidualAdd (0): 3-13                           [1, 69, 40]               [1, 69, 40]               6,640                     --\n",
       "  │    │    └─_ResidualAdd (1): 3-14                           [1, 69, 40]               [1, 69, 40]               13,080                    --\n",
       "  │    └─_TransformerEncoderBlock (3): 2-6                     [1, 69, 40]               [1, 69, 40]               --                        --\n",
       "  │    │    └─_ResidualAdd (0): 3-15                           [1, 69, 40]               [1, 69, 40]               6,640                     --\n",
       "  │    │    └─_ResidualAdd (1): 3-16                           [1, 69, 40]               [1, 69, 40]               13,080                    --\n",
       "  │    └─_TransformerEncoderBlock (4): 2-7                     [1, 69, 40]               [1, 69, 40]               --                        --\n",
       "  │    │    └─_ResidualAdd (0): 3-17                           [1, 69, 40]               [1, 69, 40]               6,640                     --\n",
       "  │    │    └─_ResidualAdd (1): 3-18                           [1, 69, 40]               [1, 69, 40]               13,080                    --\n",
       "  │    └─_TransformerEncoderBlock (5): 2-8                     [1, 69, 40]               [1, 69, 40]               --                        --\n",
       "  │    │    └─_ResidualAdd (0): 3-19                           [1, 69, 40]               [1, 69, 40]               6,640                     --\n",
       "  │    │    └─_ResidualAdd (1): 3-20                           [1, 69, 40]               [1, 69, 40]               13,080                    --\n",
       "  ├─_FullyConnected (fc): 1-3                                  [1, 69, 40]               [1, 32]                   --                        --\n",
       "  │    └─Sequential (fc): 2-9                                  [1, 2760]                 [1, 32]                   --                        --\n",
       "  │    │    └─Linear (0): 3-21                                 [1, 2760]                 [1, 256]                  706,816                   --\n",
       "  │    │    └─ELU (1): 3-22                                    [1, 256]                  [1, 256]                  --                        --\n",
       "  │    │    └─Dropout (2): 3-23                                [1, 256]                  [1, 256]                  --                        --\n",
       "  │    │    └─Linear (3): 3-24                                 [1, 256]                  [1, 32]                   8,224                     --\n",
       "  │    │    └─ELU (4): 3-25                                    [1, 32]                   [1, 32]                   --                        --\n",
       "  │    │    └─Dropout (5): 3-26                                [1, 32]                   [1, 32]                   --                        --\n",
       "  ├─_FinalLayer (final_layer): 1-4                             [1, 32]                   [1, 4]                    --                        --\n",
       "  │    └─Sequential (final_layer): 2-10                        [1, 32]                   [1, 4]                    --                        --\n",
       "  │    │    └─Linear (0): 3-27                                 [1, 32]                   [1, 4]                    132                       --\n",
       "  │    │    └─Identity (classification): 3-28                  [1, 4]                    [1, 4]                    --                        --\n",
       "  ================================================================================================================================================================\n",
       "  Total params: 871,492\n",
       "  Trainable params: 871,492\n",
       "  Non-trainable params: 0\n",
       "  Total mult-adds (M): 64.94\n",
       "  ================================================================================================================================================================\n",
       "  Input size (MB): 0.10\n",
       "  Forward/backward pass size (MB): 9.94\n",
       "  Params size (MB): 3.49\n",
       "  Estimated Total Size (MB): 13.52\n",
       "  ================================================================================================================================================================,\n",
       ")"
      ]
     },
     "execution_count": 32,
     "metadata": {},
     "output_type": "execute_result"
    }
   ],
   "source": [
    "callbacks = [(\"lr_scheduler\", LRScheduler('CosineAnnealingLR', T_max=n_epochs - 1))]\n",
    "conformer = NeuralNetClassifier(module=EEGConformer,\n",
    "        module__n_chans=22,\n",
    "        module__n_outputs=4,\n",
    "        module__n_times=1125,\n",
    "        module__final_fc_length='auto',\n",
    "        module__add_log_softmax=False,\n",
    "        criterion=torch.nn.CrossEntropyLoss,\n",
    "        optimizer=torch.optim.Adam,\n",
    "        optimizer__betas=(0.5, 0.999),\n",
    "        optimizer__lr=0.001,\n",
    "        train_split=None,\n",
    "        iterator_train__shuffle=True,\n",
    "        batch_size=32,\n",
    "        callbacks=callbacks,\n",
    "        device='cuda' if cuda else 'cpu',\n",
    "        verbose=verbose\n",
    "        )\n",
    "# clf.callbacks.append(TrainEndCheckpoint(dirname=save_dir + f'\\\\S{subject}'))\n",
    "conformer.fit(X_train, y_train, epochs=2)"
   ]
  },
  {
   "cell_type": "code",
   "execution_count": null,
   "metadata": {},
   "outputs": [],
   "source": [
    "print(\"Train Accuracy: \", conformer.score(X_train, np.argmax(y_train, axis=1)))\n",
    "print(\"Test Accuracy: \", conformer.score(X_test, np.argmax(y_test, axis=1)))\n",
    "\n",
    "train_loss = conformer.history[:, 'train_loss']\n",
    "plt.figure(figsize=(10, 5))\n",
    "plt.plot(train_loss, label='Train Loss')\n",
    "plt.xlabel('Epoch')\n",
    "plt.ylabel('Loss')\n",
    "plt.title('Train Loss over Epochs')\n",
    "plt.legend()\n",
    "plt.grid(True)\n",
    "plt.show()"
   ]
  },
  {
   "cell_type": "code",
   "execution_count": 39,
   "metadata": {},
   "outputs": [
    {
     "name": "stderr",
     "output_type": "stream",
     "text": [
      "c:\\Users\\Sam\\miniconda3\\envs\\pytgpu\\lib\\site-packages\\braindecode\\util.py:51: UserWarning: torch.backends.cudnn.benchmark was set to True which may results in lack of reproducibility. In some cases to ensure reproducibility you may need to set torch.backends.cudnn.benchmark to False.\n",
      "  warn(\n",
      "c:\\Users\\Sam\\miniconda3\\envs\\pytgpu\\lib\\site-packages\\braindecode\\models\\base.py:23: UserWarning: ShallowFBCSPNet: 'input_window_samples' is depreciated. Use 'n_times' instead.\n",
      "  warnings.warn(\n",
      "c:\\Users\\Sam\\miniconda3\\envs\\pytgpu\\lib\\site-packages\\braindecode\\models\\base.py:180: UserWarning: LogSoftmax final layer will be removed! Please adjust your loss function accordingly (e.g. CrossEntropyLoss)!\n",
      "  warnings.warn(\"LogSoftmax final layer will be removed! \" +\n"
     ]
    }
   ],
   "source": [
    "import torch\n",
    "from braindecode.util import set_random_seeds\n",
    "from braindecode.models import ShallowFBCSPNet\n",
    "\n",
    "cuda = torch.cuda.is_available()  # check if GPU is available, if True chooses to use it\n",
    "device = 'cuda' if cuda else 'cpu'\n",
    "if cuda:\n",
    "    torch.backends.cudnn.benchmark = True\n",
    "seed = 20200220  # random seed to make results reproducible\n",
    "# Set random seed to be able to reproduce results\n",
    "set_random_seeds(seed=seed, cuda=cuda)\n",
    "\n",
    "n_classes=4\n",
    "# Extract number of chans and time steps from dataset\n",
    "n_chans = 22\n",
    "input_window_samples = 1125\n",
    "\n",
    "model = ShallowFBCSPNet(\n",
    "    n_chans,\n",
    "    n_classes,\n",
    "    input_window_samples=input_window_samples,\n",
    "    final_conv_length='auto',\n",
    ")\n",
    "\n",
    "# Send model to GPU\n",
    "if cuda:\n",
    "    model.cuda()\n",
    "    "
   ]
  },
  {
   "cell_type": "code",
   "execution_count": 42,
   "metadata": {},
   "outputs": [
    {
     "name": "stdout",
     "output_type": "stream",
     "text": [
      "  epoch    train_accuracy    train_loss      lr     dur\n",
      "-------  ----------------  ------------  ------  ------\n",
      "      1            \u001b[36m0.4705\u001b[0m        \u001b[32m1.4304\u001b[0m  0.0006  0.7328\n",
      "      2            \u001b[36m0.5201\u001b[0m        \u001b[32m1.2960\u001b[0m  0.0006  0.5355\n",
      "      3            \u001b[36m0.5673\u001b[0m        \u001b[32m1.2346\u001b[0m  0.0006  0.5428\n",
      "      4            \u001b[36m0.5918\u001b[0m        \u001b[32m1.1808\u001b[0m  0.0005  0.5490\n",
      "      5            \u001b[36m0.6166\u001b[0m        \u001b[32m1.0994\u001b[0m  0.0004  0.5151\n",
      "      6            \u001b[36m0.6345\u001b[0m        \u001b[32m1.0605\u001b[0m  0.0003  0.4967\n",
      "      7            \u001b[36m0.6552\u001b[0m        \u001b[32m1.0357\u001b[0m  0.0002  0.5337\n",
      "      8            \u001b[36m0.6651\u001b[0m        \u001b[32m1.0101\u001b[0m  0.0001  0.5168\n",
      "      9            \u001b[36m0.6692\u001b[0m        \u001b[32m0.9874\u001b[0m  0.0000  0.5259\n",
      "     10            \u001b[36m0.6709\u001b[0m        0.9876  0.0000  0.5420\n"
     ]
    },
    {
     "data": {
      "text/plain": [
       "<class 'braindecode.classifier.EEGClassifier'>[initialized](\n",
       "  module_=============================================================================================================================================\n",
       "  Layer (type (var_name):depth-idx)        Input Shape               Output Shape              Param #                   Kernel Shape\n",
       "  ============================================================================================================================================\n",
       "  ShallowFBCSPNet (ShallowFBCSPNet)        [1, 22, 1125]             [1, 4]                    --                        --\n",
       "  ├─Ensure4d (ensuredims): 1-1             [1, 22, 1125]             [1, 22, 1125, 1]          --                        --\n",
       "  ├─Rearrange (dimshuffle): 1-2            [1, 22, 1125, 1]          [1, 1, 1125, 22]          --                        --\n",
       "  ├─CombinedConv (conv_time_spat): 1-3     [1, 1, 1125, 22]          [1, 40, 1101, 1]          36,240                    --\n",
       "  ├─BatchNorm2d (bnorm): 1-4               [1, 40, 1101, 1]          [1, 40, 1101, 1]          80                        --\n",
       "  ├─Expression (conv_nonlin_exp): 1-5      [1, 40, 1101, 1]          [1, 40, 1101, 1]          --                        --\n",
       "  ├─AvgPool2d (pool): 1-6                  [1, 40, 1101, 1]          [1, 40, 69, 1]            --                        [75, 1]\n",
       "  ├─Expression (pool_nonlin_exp): 1-7      [1, 40, 69, 1]            [1, 40, 69, 1]            --                        --\n",
       "  ├─Dropout (drop): 1-8                    [1, 40, 69, 1]            [1, 40, 69, 1]            --                        --\n",
       "  ├─Sequential (final_layer): 1-9          [1, 40, 69, 1]            [1, 4]                    --                        --\n",
       "  │    └─Conv2d (conv_classifier): 2-1     [1, 40, 69, 1]            [1, 4, 1, 1]              11,044                    [69, 1]\n",
       "  │    └─LogSoftmax (logsoftmax): 2-2      [1, 4, 1, 1]              [1, 4, 1, 1]              --                        --\n",
       "  │    └─Expression (squeeze): 2-3         [1, 4, 1, 1]              [1, 4]                    --                        --\n",
       "  ============================================================================================================================================\n",
       "  Total params: 47,364\n",
       "  Trainable params: 47,364\n",
       "  Non-trainable params: 0\n",
       "  Total mult-adds (M): 0.01\n",
       "  ============================================================================================================================================\n",
       "  Input size (MB): 0.10\n",
       "  Forward/backward pass size (MB): 0.35\n",
       "  Params size (MB): 0.04\n",
       "  Estimated Total Size (MB): 0.50\n",
       "  ============================================================================================================================================,\n",
       ")"
      ]
     },
     "execution_count": 42,
     "metadata": {},
     "output_type": "execute_result"
    }
   ],
   "source": [
    "from skorch.callbacks import LRScheduler\n",
    "from skorch.helper import predefined_split\n",
    "\n",
    "from braindecode import EEGClassifier\n",
    "\n",
    "# These values we found good for shallow network:\n",
    "lr = 0.0625 * 0.01\n",
    "weight_decay = 0\n",
    "\n",
    "# For deep4 they should be:\n",
    "# lr = 1 * 0.01\n",
    "# weight_decay = 0.5 * 0.001\n",
    "\n",
    "batch_size = 64\n",
    "n_epochs = 10\n",
    "\n",
    "clf = EEGClassifier(\n",
    "    model,\n",
    "    criterion=torch.nn.NLLLoss,\n",
    "    optimizer=torch.optim.AdamW,\n",
    "    train_split=None,  # using valid_set for validation\n",
    "    optimizer__lr=lr,\n",
    "    optimizer__weight_decay=weight_decay,\n",
    "    batch_size=batch_size,\n",
    "    callbacks=[\n",
    "        \"accuracy\", (\"lr_scheduler\", LRScheduler('CosineAnnealingLR', T_max=n_epochs - 1)),\n",
    "    ],\n",
    "    device=device,\n",
    ")\n",
    "# Model training for a specified number of epochs. `y` is None as it is already supplied\n",
    "# in the dataset.\n",
    "clf.fit(X_train, np.argmax(y_train, axis=1), epochs=n_epochs)"
   ]
  },
  {
   "cell_type": "code",
   "execution_count": 47,
   "metadata": {},
   "outputs": [
    {
     "name": "stderr",
     "output_type": "stream",
     "text": [
      "c:\\Users\\Sam\\miniconda3\\envs\\pytgpu\\lib\\site-packages\\braindecode\\models\\base.py:23: UserWarning: EEGNetv4: 'input_window_samples' is depreciated. Use 'n_times' instead.\n",
      "  warnings.warn(\n"
     ]
    },
    {
     "name": "stdout",
     "output_type": "stream",
     "text": [
      "  epoch    train_accuracy    train_loss      lr     dur\n",
      "-------  ----------------  ------------  ------  ------\n",
      "      1            \u001b[36m0.2585\u001b[0m        \u001b[32m1.4131\u001b[0m  0.0006  1.2933\n",
      "      2            \u001b[36m0.2605\u001b[0m        \u001b[32m1.3738\u001b[0m  0.0006  0.8957\n",
      "      3            \u001b[36m0.2660\u001b[0m        \u001b[32m1.3327\u001b[0m  0.0006  0.9030\n",
      "      4            \u001b[36m0.2817\u001b[0m        \u001b[32m1.3041\u001b[0m  0.0005  0.8793\n",
      "      5            \u001b[36m0.3415\u001b[0m        \u001b[32m1.2657\u001b[0m  0.0004  0.8811\n",
      "      6            \u001b[36m0.3950\u001b[0m        \u001b[32m1.2468\u001b[0m  0.0003  0.8904\n",
      "      7            \u001b[36m0.4438\u001b[0m        \u001b[32m1.2231\u001b[0m  0.0002  0.8908\n",
      "      8            \u001b[36m0.4713\u001b[0m        \u001b[32m1.2120\u001b[0m  0.0001  0.8951\n",
      "      9            \u001b[36m0.4791\u001b[0m        1.2195  0.0000  0.8983\n",
      "     10            \u001b[36m0.4848\u001b[0m        1.2170  0.0000  0.8877\n"
     ]
    },
    {
     "data": {
      "text/plain": [
       "<class 'braindecode.classifier.EEGClassifier'>[initialized](\n",
       "  module_=======================================================================================================================================================\n",
       "  Layer (type (var_name):depth-idx)                  Input Shape               Output Shape              Param #                   Kernel Shape\n",
       "  ======================================================================================================================================================\n",
       "  EEGNetv4 (EEGNetv4)                                [1, 22, 1125]             [1, 4]                    --                        --\n",
       "  ├─Ensure4d (ensuredims): 1-1                       [1, 22, 1125]             [1, 22, 1125, 1]          --                        --\n",
       "  ├─Rearrange (dimshuffle): 1-2                      [1, 22, 1125, 1]          [1, 1, 22, 1125]          --                        --\n",
       "  ├─Conv2d (conv_temporal): 1-3                      [1, 1, 22, 1125]          [1, 8, 22, 1126]          512                       [1, 64]\n",
       "  ├─BatchNorm2d (bnorm_temporal): 1-4                [1, 8, 22, 1126]          [1, 8, 22, 1126]          16                        --\n",
       "  ├─Conv2dWithConstraint (conv_spatial): 1-5         [1, 8, 22, 1126]          [1, 16, 1, 1126]          352                       [22, 1]\n",
       "  ├─BatchNorm2d (bnorm_1): 1-6                       [1, 16, 1, 1126]          [1, 16, 1, 1126]          32                        --\n",
       "  ├─Expression (elu_1): 1-7                          [1, 16, 1, 1126]          [1, 16, 1, 1126]          --                        --\n",
       "  ├─AvgPool2d (pool_1): 1-8                          [1, 16, 1, 1126]          [1, 16, 1, 281]           --                        [1, 4]\n",
       "  ├─Dropout (drop_1): 1-9                            [1, 16, 1, 281]           [1, 16, 1, 281]           --                        --\n",
       "  ├─Conv2d (conv_separable_depth): 1-10              [1, 16, 1, 281]           [1, 16, 1, 282]           256                       [1, 16]\n",
       "  ├─Conv2d (conv_separable_point): 1-11              [1, 16, 1, 282]           [1, 16, 1, 282]           256                       [1, 1]\n",
       "  ├─BatchNorm2d (bnorm_2): 1-12                      [1, 16, 1, 282]           [1, 16, 1, 282]           32                        --\n",
       "  ├─Expression (elu_2): 1-13                         [1, 16, 1, 282]           [1, 16, 1, 282]           --                        --\n",
       "  ├─AvgPool2d (pool_2): 1-14                         [1, 16, 1, 282]           [1, 16, 1, 35]            --                        [1, 8]\n",
       "  ├─Dropout (drop_2): 1-15                           [1, 16, 1, 35]            [1, 16, 1, 35]            --                        --\n",
       "  ├─Sequential (final_layer): 1-16                   [1, 16, 1, 35]            [1, 4]                    --                        --\n",
       "  │    └─Conv2d (conv_classifier): 2-1               [1, 16, 1, 35]            [1, 4, 1, 1]              2,244                     [1, 35]\n",
       "  │    └─Rearrange (permute_back): 2-2               [1, 4, 1, 1]              [1, 4, 1, 1]              --                        --\n",
       "  │    └─Expression (squeeze): 2-3                   [1, 4, 1, 1]              [1, 4]                    --                        --\n",
       "  ======================================================================================================================================================\n",
       "  Total params: 3,700\n",
       "  Trainable params: 3,700\n",
       "  Non-trainable params: 0\n",
       "  Total mult-adds (M): 13.23\n",
       "  ======================================================================================================================================================\n",
       "  Input size (MB): 0.10\n",
       "  Forward/backward pass size (MB): 3.57\n",
       "  Params size (MB): 0.01\n",
       "  Estimated Total Size (MB): 3.68\n",
       "  ======================================================================================================================================================,\n",
       ")"
      ]
     },
     "execution_count": 47,
     "metadata": {},
     "output_type": "execute_result"
    }
   ],
   "source": [
    "from skorch.callbacks import LRScheduler\n",
    "from skorch.helper import predefined_split\n",
    "\n",
    "from braindecode import EEGClassifier\n",
    "\n",
    "# These values we found good for shallow network:\n",
    "lr = 0.0625 * 0.01\n",
    "weight_decay = 0\n",
    "\n",
    "model = EEGNetv4(\n",
    "    n_chans,\n",
    "    n_classes,\n",
    "    input_window_samples=input_window_samples,\n",
    "    final_conv_length='auto',\n",
    ")\n",
    "\n",
    "# For deep4 they should be:\n",
    "# lr = 1 * 0.01\n",
    "# weight_decay = 0.5 * 0.001\n",
    "\n",
    "batch_size = 64\n",
    "n_epochs = 10\n",
    "\n",
    "clf = EEGClassifier(\n",
    "    model,\n",
    "    criterion=torch.nn.CrossEntropyLoss,\n",
    "    optimizer=torch.optim.AdamW,\n",
    "    train_split=None,  # using valid_set for validation\n",
    "    optimizer__lr=lr,\n",
    "    optimizer__weight_decay=weight_decay,\n",
    "    batch_size=batch_size,\n",
    "    callbacks=[\n",
    "        \"accuracy\", (\"lr_scheduler\", LRScheduler('CosineAnnealingLR', T_max=n_epochs - 1)),\n",
    "    ],\n",
    "    device=device,\n",
    ")\n",
    "# Model training for a specified number of epochs. `y` is None as it is already supplied\n",
    "# in the dataset.\n",
    "clf.fit(X_train, np.argmax(y_train, axis=1), epochs=n_epochs)"
   ]
  },
  {
   "cell_type": "code",
   "execution_count": 49,
   "metadata": {},
   "outputs": [
    {
     "name": "stderr",
     "output_type": "stream",
     "text": [
      "c:\\Users\\Sam\\miniconda3\\envs\\pytgpu\\lib\\site-packages\\braindecode\\models\\base.py:23: UserWarning: EEGNetv1: 'input_window_samples' is depreciated. Use 'n_times' instead.\n",
      "  warnings.warn(\n",
      "c:\\Users\\Sam\\miniconda3\\envs\\pytgpu\\lib\\site-packages\\braindecode\\models\\base.py:180: UserWarning: LogSoftmax final layer will be removed! Please adjust your loss function accordingly (e.g. CrossEntropyLoss)!\n",
      "  warnings.warn(\"LogSoftmax final layer will be removed! \" +\n"
     ]
    },
    {
     "name": "stdout",
     "output_type": "stream",
     "text": [
      "  epoch    train_accuracy    train_loss      lr     dur\n",
      "-------  ----------------  ------------  ------  ------\n",
      "      1            \u001b[36m0.2756\u001b[0m        \u001b[32m1.8264\u001b[0m  0.0006  2.4585\n",
      "      2            \u001b[36m0.2894\u001b[0m        \u001b[32m1.6001\u001b[0m  0.0006  1.6646\n",
      "      3            \u001b[36m0.2958\u001b[0m        \u001b[32m1.5036\u001b[0m  0.0006  1.6534\n",
      "      4            \u001b[36m0.3236\u001b[0m        \u001b[32m1.4524\u001b[0m  0.0005  1.6517\n",
      "      5            \u001b[36m0.3360\u001b[0m        \u001b[32m1.4386\u001b[0m  0.0004  1.6585\n",
      "      6            \u001b[36m0.3465\u001b[0m        \u001b[32m1.4104\u001b[0m  0.0003  1.6472\n",
      "      7            \u001b[36m0.3569\u001b[0m        \u001b[32m1.3946\u001b[0m  0.0002  1.6756\n",
      "      8            0.3569        1.4064  0.0001  1.6787\n",
      "      9            \u001b[36m0.3580\u001b[0m        \u001b[32m1.3777\u001b[0m  0.0000  1.7095\n",
      "     10            0.3567        1.4018  0.0000  1.6443\n"
     ]
    },
    {
     "data": {
      "text/plain": [
       "<class 'braindecode.classifier.EEGClassifier'>[initialized](\n",
       "  module_=============================================================================================================================================\n",
       "  Layer (type (var_name):depth-idx)        Input Shape               Output Shape              Param #                   Kernel Shape\n",
       "  ============================================================================================================================================\n",
       "  EEGNetv1 (EEGNetv1)                      [1, 22, 1125]             [1, 4]                    --                        --\n",
       "  ├─Ensure4d (ensuredims): 1-1             [1, 22, 1125]             [1, 22, 1125, 1]          --                        --\n",
       "  ├─Conv2d (conv_1): 1-2                   [1, 22, 1125, 1]          [1, 16, 1125, 1]          368                       [1, 1]\n",
       "  ├─BatchNorm2d (bnorm_1): 1-3             [1, 16, 1125, 1]          [1, 16, 1125, 1]          32                        --\n",
       "  ├─Expression (elu_1): 1-4                [1, 16, 1125, 1]          [1, 16, 1125, 1]          --                        --\n",
       "  ├─Expression (permute_1): 1-5            [1, 16, 1125, 1]          [1, 1, 16, 1125]          --                        --\n",
       "  ├─Dropout (drop_1): 1-6                  [1, 1, 16, 1125]          [1, 1, 16, 1125]          --                        --\n",
       "  ├─Conv2d (conv_2): 1-7                   [1, 1, 16, 1125]          [1, 4, 17, 1094]          260                       [2, 32]\n",
       "  ├─BatchNorm2d (bnorm_2): 1-8             [1, 4, 17, 1094]          [1, 4, 17, 1094]          8                         --\n",
       "  ├─Expression (elu_2): 1-9                [1, 4, 17, 1094]          [1, 4, 17, 1094]          --                        --\n",
       "  ├─MaxPool2d (pool_2): 1-10               [1, 4, 17, 1094]          [1, 4, 8, 273]            --                        [2, 4]\n",
       "  ├─Dropout (drop_2): 1-11                 [1, 4, 8, 273]            [1, 4, 8, 273]            --                        --\n",
       "  ├─Conv2d (conv_3): 1-12                  [1, 4, 8, 273]            [1, 4, 9, 270]            516                       [8, 4]\n",
       "  ├─BatchNorm2d (bnorm_3): 1-13            [1, 4, 9, 270]            [1, 4, 9, 270]            8                         --\n",
       "  ├─Expression (elu_3): 1-14               [1, 4, 9, 270]            [1, 4, 9, 270]            --                        --\n",
       "  ├─MaxPool2d (pool_3): 1-15               [1, 4, 9, 270]            [1, 4, 4, 67]             --                        [2, 4]\n",
       "  ├─Dropout (drop_3): 1-16                 [1, 4, 4, 67]             [1, 4, 4, 67]             --                        --\n",
       "  ├─Sequential (final_layer): 1-17         [1, 4, 4, 67]             [1, 4]                    --                        --\n",
       "  │    └─Conv2d (conv_classifier): 2-1     [1, 4, 4, 67]             [1, 4, 1, 1]              4,292                     [4, 67]\n",
       "  │    └─LogSoftmax (softmax): 2-2         [1, 4, 1, 1]              [1, 4, 1, 1]              --                        --\n",
       "  │    └─Rearrange (permute_2): 2-3        [1, 4, 1, 1]              [1, 4, 1, 1]              --                        --\n",
       "  │    └─Expression (squeeze): 2-4         [1, 4, 1, 1]              [1, 4]                    --                        --\n",
       "  ============================================================================================================================================\n",
       "  Total params: 5,484\n",
       "  Trainable params: 5,484\n",
       "  Non-trainable params: 0\n",
       "  Total mult-adds (M): 6.51\n",
       "  ============================================================================================================================================\n",
       "  Input size (MB): 0.10\n",
       "  Forward/backward pass size (MB): 1.63\n",
       "  Params size (MB): 0.02\n",
       "  Estimated Total Size (MB): 1.75\n",
       "  ============================================================================================================================================,\n",
       ")"
      ]
     },
     "execution_count": 49,
     "metadata": {},
     "output_type": "execute_result"
    }
   ],
   "source": [
    "from skorch.callbacks import LRScheduler\n",
    "from skorch.helper import predefined_split\n",
    "\n",
    "from braindecode import EEGClassifier\n",
    "\n",
    "# These values we found good for shallow network:\n",
    "lr = 0.0625 * 0.01\n",
    "weight_decay = 0\n",
    "\n",
    "model = EEGNetv1(\n",
    "    n_chans,\n",
    "    n_classes,\n",
    "    input_window_samples=input_window_samples,\n",
    "    final_conv_length='auto',\n",
    ")\n",
    "\n",
    "# For deep4 they should be:\n",
    "# lr = 1 * 0.01\n",
    "# weight_decay = 0.5 * 0.001\n",
    "\n",
    "batch_size = 64\n",
    "n_epochs = 10\n",
    "\n",
    "clf = EEGClassifier(\n",
    "    model,\n",
    "    criterion=torch.nn.CrossEntropyLoss,\n",
    "    optimizer=torch.optim.AdamW,\n",
    "    train_split=None,  # using valid_set for validation\n",
    "    optimizer__lr=lr,\n",
    "    optimizer__weight_decay=weight_decay,\n",
    "    batch_size=batch_size,\n",
    "    callbacks=[\n",
    "        \"accuracy\", (\"lr_scheduler\", LRScheduler('CosineAnnealingLR', T_max=n_epochs - 1)),\n",
    "    ],\n",
    "    device=device,\n",
    ")\n",
    "# Model training for a specified number of epochs. `y` is None as it is already supplied\n",
    "# in the dataset.\n",
    "clf.fit(X_train, np.argmax(y_train, axis=1), epochs=n_epochs)"
   ]
  },
  {
   "cell_type": "code",
   "execution_count": 50,
   "metadata": {},
   "outputs": [
    {
     "name": "stderr",
     "output_type": "stream",
     "text": [
      "c:\\Users\\Sam\\miniconda3\\envs\\pytgpu\\lib\\site-packages\\braindecode\\models\\base.py:23: UserWarning: Deep4Net: 'input_window_samples' is depreciated. Use 'n_times' instead.\n",
      "  warnings.warn(\n",
      "c:\\Users\\Sam\\miniconda3\\envs\\pytgpu\\lib\\site-packages\\braindecode\\models\\base.py:180: UserWarning: LogSoftmax final layer will be removed! Please adjust your loss function accordingly (e.g. CrossEntropyLoss)!\n",
      "  warnings.warn(\"LogSoftmax final layer will be removed! \" +\n"
     ]
    },
    {
     "name": "stdout",
     "output_type": "stream",
     "text": [
      "  epoch    train_accuracy    train_loss      lr     dur\n",
      "-------  ----------------  ------------  ------  ------\n",
      "      1            \u001b[36m0.2500\u001b[0m        \u001b[32m1.7962\u001b[0m  0.0006  1.0800\n",
      "      2            \u001b[36m0.2729\u001b[0m        \u001b[32m1.6900\u001b[0m  0.0006  0.6149\n",
      "      3            0.2726        \u001b[32m1.6404\u001b[0m  0.0006  0.6008\n",
      "      4            \u001b[36m0.2947\u001b[0m        \u001b[32m1.5644\u001b[0m  0.0005  0.5750\n",
      "      5            0.2718        \u001b[32m1.5405\u001b[0m  0.0004  0.5942\n",
      "      6            \u001b[36m0.2966\u001b[0m        \u001b[32m1.4835\u001b[0m  0.0003  0.5547\n",
      "      7            0.2878        \u001b[32m1.4548\u001b[0m  0.0002  0.5731\n",
      "      8            \u001b[36m0.3139\u001b[0m        \u001b[32m1.4383\u001b[0m  0.0001  0.5606\n",
      "      9            0.3134        \u001b[32m1.4353\u001b[0m  0.0000  0.5667\n",
      "     10            0.3120        \u001b[32m1.4336\u001b[0m  0.0000  0.5864\n"
     ]
    },
    {
     "data": {
      "text/plain": [
       "<class 'braindecode.classifier.EEGClassifier'>[initialized](\n",
       "  module_=============================================================================================================================================\n",
       "  Layer (type (var_name):depth-idx)        Input Shape               Output Shape              Param #                   Kernel Shape\n",
       "  ============================================================================================================================================\n",
       "  Deep4Net (Deep4Net)                      [1, 22, 1125]             [1, 4]                    --                        --\n",
       "  ├─Ensure4d (ensuredims): 1-1             [1, 22, 1125]             [1, 22, 1125, 1]          --                        --\n",
       "  ├─Rearrange (dimshuffle): 1-2            [1, 22, 1125, 1]          [1, 1, 1125, 22]          --                        --\n",
       "  ├─CombinedConv (conv_time_spat): 1-3     [1, 1, 1125, 22]          [1, 25, 1116, 1]          14,025                    --\n",
       "  ├─BatchNorm2d (bnorm): 1-4               [1, 25, 1116, 1]          [1, 25, 1116, 1]          50                        --\n",
       "  ├─Expression (conv_nonlin): 1-5          [1, 25, 1116, 1]          [1, 25, 1116, 1]          --                        --\n",
       "  ├─MaxPool2d (pool): 1-6                  [1, 25, 1116, 1]          [1, 25, 372, 1]           --                        [3, 1]\n",
       "  ├─Expression (pool_nonlin): 1-7          [1, 25, 372, 1]           [1, 25, 372, 1]           --                        --\n",
       "  ├─Dropout (drop_2): 1-8                  [1, 25, 372, 1]           [1, 25, 372, 1]           --                        --\n",
       "  ├─Conv2d (conv_2): 1-9                   [1, 25, 372, 1]           [1, 50, 363, 1]           12,500                    [10, 1]\n",
       "  ├─BatchNorm2d (bnorm_2): 1-10            [1, 50, 363, 1]           [1, 50, 363, 1]           100                       --\n",
       "  ├─Expression (nonlin_2): 1-11            [1, 50, 363, 1]           [1, 50, 363, 1]           --                        --\n",
       "  ├─MaxPool2d (pool_2): 1-12               [1, 50, 363, 1]           [1, 50, 121, 1]           --                        [3, 1]\n",
       "  ├─Expression (pool_nonlin_2): 1-13       [1, 50, 121, 1]           [1, 50, 121, 1]           --                        --\n",
       "  ├─Dropout (drop_3): 1-14                 [1, 50, 121, 1]           [1, 50, 121, 1]           --                        --\n",
       "  ├─Conv2d (conv_3): 1-15                  [1, 50, 121, 1]           [1, 100, 112, 1]          50,000                    [10, 1]\n",
       "  ├─BatchNorm2d (bnorm_3): 1-16            [1, 100, 112, 1]          [1, 100, 112, 1]          200                       --\n",
       "  ├─Expression (nonlin_3): 1-17            [1, 100, 112, 1]          [1, 100, 112, 1]          --                        --\n",
       "  ├─MaxPool2d (pool_3): 1-18               [1, 100, 112, 1]          [1, 100, 37, 1]           --                        [3, 1]\n",
       "  ├─Expression (pool_nonlin_3): 1-19       [1, 100, 37, 1]           [1, 100, 37, 1]           --                        --\n",
       "  ├─Dropout (drop_4): 1-20                 [1, 100, 37, 1]           [1, 100, 37, 1]           --                        --\n",
       "  ├─Conv2d (conv_4): 1-21                  [1, 100, 37, 1]           [1, 200, 28, 1]           200,000                   [10, 1]\n",
       "  ├─BatchNorm2d (bnorm_4): 1-22            [1, 200, 28, 1]           [1, 200, 28, 1]           400                       --\n",
       "  ├─Expression (nonlin_4): 1-23            [1, 200, 28, 1]           [1, 200, 28, 1]           --                        --\n",
       "  ├─MaxPool2d (pool_4): 1-24               [1, 200, 28, 1]           [1, 200, 9, 1]            --                        [3, 1]\n",
       "  ├─Expression (pool_nonlin_4): 1-25       [1, 200, 9, 1]            [1, 200, 9, 1]            --                        --\n",
       "  ├─Sequential (final_layer): 1-26         [1, 200, 9, 1]            [1, 4]                    --                        --\n",
       "  │    └─Conv2d (conv_classifier): 2-1     [1, 200, 9, 1]            [1, 4, 1, 1]              7,204                     [9, 1]\n",
       "  │    └─LogSoftmax (logsoftmax): 2-2      [1, 4, 1, 1]              [1, 4, 1, 1]              --                        --\n",
       "  │    └─Expression (squeeze): 2-3         [1, 4, 1, 1]              [1, 4]                    --                        --\n",
       "  ============================================================================================================================================\n",
       "  Total params: 284,479\n",
       "  Trainable params: 284,479\n",
       "  Non-trainable params: 0\n",
       "  Total mult-adds (M): 15.75\n",
       "  ============================================================================================================================================\n",
       "  Input size (MB): 0.10\n",
       "  Forward/backward pass size (MB): 0.78\n",
       "  Params size (MB): 1.08\n",
       "  Estimated Total Size (MB): 1.96\n",
       "  ============================================================================================================================================,\n",
       ")"
      ]
     },
     "execution_count": 50,
     "metadata": {},
     "output_type": "execute_result"
    }
   ],
   "source": [
    "from skorch.callbacks import LRScheduler\n",
    "from skorch.helper import predefined_split\n",
    "\n",
    "from braindecode import EEGClassifier\n",
    "\n",
    "# These values we found good for shallow network:\n",
    "lr = 0.0625 * 0.01\n",
    "weight_decay = 0\n",
    "\n",
    "model = Deep4Net(\n",
    "    n_chans,\n",
    "    n_classes,\n",
    "    input_window_samples=input_window_samples,\n",
    "    final_conv_length='auto',\n",
    ")\n",
    "\n",
    "# For deep4 they should be:\n",
    "# lr = 1 * 0.01\n",
    "# weight_decay = 0.5 * 0.001\n",
    "\n",
    "batch_size = 64\n",
    "n_epochs = 10\n",
    "\n",
    "clf = EEGClassifier(\n",
    "    model,\n",
    "    criterion=torch.nn.CrossEntropyLoss,\n",
    "    optimizer=torch.optim.AdamW,\n",
    "    train_split=None,  # using valid_set for validation\n",
    "    optimizer__lr=lr,\n",
    "    optimizer__weight_decay=weight_decay,\n",
    "    batch_size=batch_size,\n",
    "    callbacks=[\n",
    "        \"accuracy\", (\"lr_scheduler\", LRScheduler('CosineAnnealingLR', T_max=n_epochs - 1)),\n",
    "    ],\n",
    "    device=device,\n",
    ")\n",
    "# Model training for a specified number of epochs. `y` is None as it is already supplied\n",
    "# in the dataset.\n",
    "clf.fit(X_train, np.argmax(y_train, axis=1), epochs=n_epochs)"
   ]
  },
  {
   "cell_type": "code",
   "execution_count": 72,
   "metadata": {},
   "outputs": [
    {
     "name": "stderr",
     "output_type": "stream",
     "text": [
      "c:\\Users\\Sam\\miniconda3\\envs\\pytgpu\\lib\\site-packages\\braindecode\\models\\base.py:23: UserWarning: EEGITNet: 'input_window_samples' is depreciated. Use 'n_times' instead.\n",
      "  warnings.warn(\n",
      "c:\\Users\\Sam\\miniconda3\\envs\\pytgpu\\lib\\site-packages\\braindecode\\models\\base.py:180: UserWarning: LogSoftmax final layer will be removed! Please adjust your loss function accordingly (e.g. CrossEntropyLoss)!\n",
      "  warnings.warn(\"LogSoftmax final layer will be removed! \" +\n"
     ]
    },
    {
     "name": "stdout",
     "output_type": "stream",
     "text": [
      "  epoch    train_accuracy    train_loss      lr     dur\n",
      "-------  ----------------  ------------  ------  ------\n",
      "      1            \u001b[36m0.3170\u001b[0m        \u001b[32m1.4066\u001b[0m  0.0006  1.7924\n",
      "      2            \u001b[36m0.3327\u001b[0m        \u001b[32m1.3478\u001b[0m  0.0006  1.5226\n",
      "      3            \u001b[36m0.3578\u001b[0m        \u001b[32m1.3083\u001b[0m  0.0006  1.5658\n",
      "      4            \u001b[36m0.3784\u001b[0m        \u001b[32m1.2867\u001b[0m  0.0005  1.5178\n",
      "      5            \u001b[36m0.3875\u001b[0m        \u001b[32m1.2661\u001b[0m  0.0004  1.5270\n",
      "      6            \u001b[36m0.4049\u001b[0m        \u001b[32m1.2603\u001b[0m  0.0003  1.5235\n",
      "      7            0.4008        \u001b[32m1.2277\u001b[0m  0.0002  1.5432\n",
      "      8            0.4033        1.2295  0.0001  1.5351\n",
      "      9            0.4033        \u001b[32m1.2265\u001b[0m  0.0000  1.5414\n",
      "     10            0.4021        \u001b[32m1.2216\u001b[0m  0.0000  1.5379\n"
     ]
    },
    {
     "data": {
      "text/plain": [
       "<class 'braindecode.classifier.EEGClassifier'>[initialized](\n",
       "  module_=======================================================================================================================================================\n",
       "  Layer (type (var_name):depth-idx)                  Input Shape               Output Shape              Param #                   Kernel Shape\n",
       "  ======================================================================================================================================================\n",
       "  EEGITNet (EEGITNet)                                [1, 22, 1125]             [1, 4]                    --                        --\n",
       "  ├─Sequential (input_preprocess): 1-1               [1, 22, 1125]             [1, 1, 22, 1125]          --                        --\n",
       "  │    └─Ensure4d (0): 2-1                           [1, 22, 1125]             [1, 22, 1125, 1]          --                        --\n",
       "  │    └─Rearrange (1): 2-2                          [1, 22, 1125, 1]          [1, 1, 22, 1125]          --                        --\n",
       "  ├─_InceptionBlock (inception_block): 1-2           [1, 1, 22, 1125]          [1, 14, 1, 1125]          --                        --\n",
       "  │    └─ModuleList (branches): 2-3                  --                        --                        --                        --\n",
       "  │    │    └─Sequential (0): 3-1                    [1, 1, 22, 1125]          [1, 2, 1, 1125]           84                        --\n",
       "  │    │    └─Sequential (1): 3-2                    [1, 1, 22, 1125]          [1, 4, 1, 1125]           232                       --\n",
       "  │    │    └─Sequential (2): 3-3                    [1, 1, 22, 1125]          [1, 8, 1, 1125]           720                       --\n",
       "  ├─Sequential (pooling): 1-3                        [1, 14, 1, 1125]          [1, 14, 1, 281]           --                        --\n",
       "  │    └─AvgPool2d (0): 2-4                          [1, 14, 1, 1125]          [1, 14, 1, 281]           --                        [1, 4]\n",
       "  │    └─Dropout (1): 2-5                            [1, 14, 1, 281]           [1, 14, 1, 281]           --                        --\n",
       "  ├─_TCBlock (TC_block1): 1-4                        [1, 14, 1, 281]           [1, 14, 1, 281]           --                        --\n",
       "  │    └─Sequential (tc1): 2-6                       [1, 14, 1, 284]           [1, 14, 1, 281]           --                        --\n",
       "  │    │    └─_DepthwiseConv2d (0): 3-4              [1, 14, 1, 284]           [1, 14, 1, 281]           56                        [1, 4]\n",
       "  │    │    └─BatchNorm2d (1): 3-5                   [1, 14, 1, 281]           [1, 14, 1, 281]           28                        --\n",
       "  │    │    └─ELU (2): 3-6                           [1, 14, 1, 281]           [1, 14, 1, 281]           --                        --\n",
       "  │    │    └─Dropout (3): 3-7                       [1, 14, 1, 281]           [1, 14, 1, 281]           --                        --\n",
       "  │    └─Sequential (tc2): 2-7                       [1, 14, 1, 284]           [1, 14, 1, 281]           --                        --\n",
       "  │    │    └─_DepthwiseConv2d (0): 3-8              [1, 14, 1, 284]           [1, 14, 1, 281]           56                        [1, 4]\n",
       "  │    │    └─BatchNorm2d (1): 3-9                   [1, 14, 1, 281]           [1, 14, 1, 281]           28                        --\n",
       "  │    │    └─ELU (2): 3-10                          [1, 14, 1, 281]           [1, 14, 1, 281]           --                        --\n",
       "  │    │    └─Dropout (3): 3-11                      [1, 14, 1, 281]           [1, 14, 1, 281]           --                        --\n",
       "  ├─_TCBlock (TC_block2): 1-5                        [1, 14, 1, 281]           [1, 14, 1, 281]           --                        --\n",
       "  │    └─Sequential (tc1): 2-8                       [1, 14, 1, 287]           [1, 14, 1, 281]           --                        --\n",
       "  │    │    └─_DepthwiseConv2d (0): 3-12             [1, 14, 1, 287]           [1, 14, 1, 281]           56                        [1, 4]\n",
       "  │    │    └─BatchNorm2d (1): 3-13                  [1, 14, 1, 281]           [1, 14, 1, 281]           28                        --\n",
       "  │    │    └─ELU (2): 3-14                          [1, 14, 1, 281]           [1, 14, 1, 281]           --                        --\n",
       "  │    │    └─Dropout (3): 3-15                      [1, 14, 1, 281]           [1, 14, 1, 281]           --                        --\n",
       "  │    └─Sequential (tc2): 2-9                       [1, 14, 1, 287]           [1, 14, 1, 281]           --                        --\n",
       "  │    │    └─_DepthwiseConv2d (0): 3-16             [1, 14, 1, 287]           [1, 14, 1, 281]           56                        [1, 4]\n",
       "  │    │    └─BatchNorm2d (1): 3-17                  [1, 14, 1, 281]           [1, 14, 1, 281]           28                        --\n",
       "  │    │    └─ELU (2): 3-18                          [1, 14, 1, 281]           [1, 14, 1, 281]           --                        --\n",
       "  │    │    └─Dropout (3): 3-19                      [1, 14, 1, 281]           [1, 14, 1, 281]           --                        --\n",
       "  ├─_TCBlock (TC_block3): 1-6                        [1, 14, 1, 281]           [1, 14, 1, 281]           --                        --\n",
       "  │    └─Sequential (tc1): 2-10                      [1, 14, 1, 293]           [1, 14, 1, 281]           --                        --\n",
       "  │    │    └─_DepthwiseConv2d (0): 3-20             [1, 14, 1, 293]           [1, 14, 1, 281]           56                        [1, 4]\n",
       "  │    │    └─BatchNorm2d (1): 3-21                  [1, 14, 1, 281]           [1, 14, 1, 281]           28                        --\n",
       "  │    │    └─ELU (2): 3-22                          [1, 14, 1, 281]           [1, 14, 1, 281]           --                        --\n",
       "  │    │    └─Dropout (3): 3-23                      [1, 14, 1, 281]           [1, 14, 1, 281]           --                        --\n",
       "  │    └─Sequential (tc2): 2-11                      [1, 14, 1, 293]           [1, 14, 1, 281]           --                        --\n",
       "  │    │    └─_DepthwiseConv2d (0): 3-24             [1, 14, 1, 293]           [1, 14, 1, 281]           56                        [1, 4]\n",
       "  │    │    └─BatchNorm2d (1): 3-25                  [1, 14, 1, 281]           [1, 14, 1, 281]           28                        --\n",
       "  │    │    └─ELU (2): 3-26                          [1, 14, 1, 281]           [1, 14, 1, 281]           --                        --\n",
       "  │    │    └─Dropout (3): 3-27                      [1, 14, 1, 281]           [1, 14, 1, 281]           --                        --\n",
       "  ├─_TCBlock (TC_block4): 1-7                        [1, 14, 1, 281]           [1, 14, 1, 281]           --                        --\n",
       "  │    └─Sequential (tc1): 2-12                      [1, 14, 1, 305]           [1, 14, 1, 281]           --                        --\n",
       "  │    │    └─_DepthwiseConv2d (0): 3-28             [1, 14, 1, 305]           [1, 14, 1, 281]           56                        [1, 4]\n",
       "  │    │    └─BatchNorm2d (1): 3-29                  [1, 14, 1, 281]           [1, 14, 1, 281]           28                        --\n",
       "  │    │    └─ELU (2): 3-30                          [1, 14, 1, 281]           [1, 14, 1, 281]           --                        --\n",
       "  │    │    └─Dropout (3): 3-31                      [1, 14, 1, 281]           [1, 14, 1, 281]           --                        --\n",
       "  │    └─Sequential (tc2): 2-13                      [1, 14, 1, 305]           [1, 14, 1, 281]           --                        --\n",
       "  │    │    └─_DepthwiseConv2d (0): 3-32             [1, 14, 1, 305]           [1, 14, 1, 281]           56                        [1, 4]\n",
       "  │    │    └─BatchNorm2d (1): 3-33                  [1, 14, 1, 281]           [1, 14, 1, 281]           28                        --\n",
       "  │    │    └─ELU (2): 3-34                          [1, 14, 1, 281]           [1, 14, 1, 281]           --                        --\n",
       "  │    │    └─Dropout (3): 3-35                      [1, 14, 1, 281]           [1, 14, 1, 281]           --                        --\n",
       "  ├─Sequential (dim_reduction): 1-8                  [1, 14, 1, 281]           [1, 28, 1, 70]            --                        --\n",
       "  │    └─Conv2d (0): 2-14                            [1, 14, 1, 281]           [1, 28, 1, 281]           420                       [1, 1]\n",
       "  │    └─BatchNorm2d (1): 2-15                       [1, 28, 1, 281]           [1, 28, 1, 281]           56                        --\n",
       "  │    └─ELU (2): 2-16                               [1, 28, 1, 281]           [1, 28, 1, 281]           --                        --\n",
       "  │    └─AvgPool2d (3): 2-17                         [1, 28, 1, 281]           [1, 28, 1, 70]            --                        [1, 4]\n",
       "  │    └─Dropout (4): 2-18                           [1, 28, 1, 70]            [1, 28, 1, 70]            --                        --\n",
       "  ├─Flatten (flatten): 1-9                           [1, 28, 1, 70]            [1, 1960]                 --                        --\n",
       "  ├─Sequential (final_layer): 1-10                   [1, 1960]                 [1, 4]                    --                        --\n",
       "  │    └─Linear (clf): 2-19                          [1, 1960]                 [1, 4]                    7,844                     --\n",
       "  │    └─LogSoftmax (out_fun): 2-20                  [1, 4]                    [1, 4]                    --                        --\n",
       "  ======================================================================================================================================================\n",
       "  Total params: 10,028\n",
       "  Trainable params: 10,028\n",
       "  Non-trainable params: 0\n",
       "  Total mult-adds (M): 17.23\n",
       "  ======================================================================================================================================================\n",
       "  Input size (MB): 0.10\n",
       "  Forward/backward pass size (MB): 6.43\n",
       "  Params size (MB): 0.04\n",
       "  Estimated Total Size (MB): 6.56\n",
       "  ======================================================================================================================================================,\n",
       ")"
      ]
     },
     "execution_count": 72,
     "metadata": {},
     "output_type": "execute_result"
    }
   ],
   "source": [
    "from skorch.callbacks import LRScheduler\n",
    "from skorch.helper import predefined_split\n",
    "\n",
    "from braindecode import EEGClassifier\n",
    "\n",
    "# These values we found good for shallow network:\n",
    "lr = 0.0625 * 0.01\n",
    "weight_decay = 0\n",
    "\n",
    "model = EEGITNet(\n",
    "\n",
    "    n_classes,\n",
    "        n_chans,\n",
    "    input_window_samples=input_window_samples,\n",
    ")\n",
    "\n",
    "# For deep4 they should be:\n",
    "# lr = 1 * 0.01\n",
    "# weight_decay = 0.5 * 0.001\n",
    "\n",
    "batch_size = 64\n",
    "n_epochs = 10\n",
    "\n",
    "clf = EEGClassifier(\n",
    "    model,\n",
    "    criterion=torch.nn.CrossEntropyLoss,\n",
    "    optimizer=torch.optim.AdamW,\n",
    "    train_split=None,  # using valid_set for validation\n",
    "    optimizer__lr=lr,\n",
    "    optimizer__weight_decay=weight_decay,\n",
    "    batch_size=batch_size,\n",
    "    callbacks=[\n",
    "        \"accuracy\", (\"lr_scheduler\", LRScheduler('CosineAnnealingLR', T_max=n_epochs - 1)),\n",
    "    ],\n",
    "    device=device,\n",
    ")\n",
    "# Model training for a specified number of epochs. `y` is None as it is already supplied\n",
    "# in the dataset.\n",
    "clf.fit(X_train, np.argmax(y_train, axis=1), epochs=n_epochs)"
   ]
  },
  {
   "cell_type": "code",
   "execution_count": 80,
   "metadata": {},
   "outputs": [],
   "source": [
    "loss = []\n",
    "acc = []\n",
    "for a in clf.history:\n",
    "    loss.append(a['train_loss'])    \n",
    "    acc.append(a['train_accuracy'])"
   ]
  },
  {
   "cell_type": "code",
   "execution_count": 81,
   "metadata": {},
   "outputs": [
    {
     "data": {
      "image/png": "[encoded data removed]",
      "text/plain": [
       "<Figure size 640x480 with 1 Axes>"
      ]
     },
     "metadata": {},
     "output_type": "display_data"
    },
    {
     "data": {
      "image/png": "[encoded data removed]",
      "text/plain": [
       "<Figure size 640x480 with 1 Axes>"
      ]
     },
     "metadata": {},
     "output_type": "display_data"
    }
   ],
   "source": [
    "plt.plot(loss, label='Training Loss')\n",
    "plt.xlabel('Epoch')\n",
    "plt.legend()\n",
    "plt.show()\n",
    "plt.plot(acc, label='Training Accuracy')\n",
    "plt.xlabel('Epoch')\n",
    "plt.legend()\n",
    "plt.show()"
   ]
  },
  {
   "cell_type": "code",
   "execution_count": 83,
   "metadata": {},
   "outputs": [
    {
     "data": {
      "text/plain": [
       "0.3232647814910026"
      ]
     },
     "execution_count": 83,
     "metadata": {},
     "output_type": "execute_result"
    }
   ],
   "source": [
    "clf.score(X_test, np.argmax(y_test, axis=1))"
   ]
  },
  {
   "cell_type": "code",
   "execution_count": 30,
   "metadata": {},
   "outputs": [
    {
     "name": "stdout",
     "output_type": "stream",
     "text": [
      "  epoch    train_loss      lr     dur\n",
      "-------  ------------  ------  ------\n",
      "      1        \u001b[36m1.4392\u001b[0m  0.0010  1.4764\n",
      "      2        \u001b[36m1.3972\u001b[0m  0.0009  1.0143\n",
      "      3        \u001b[36m1.3840\u001b[0m  0.0007  1.0089\n",
      "      4        \u001b[36m1.3505\u001b[0m  0.0003  1.0462\n",
      "      5        \u001b[36m1.3401\u001b[0m  0.0001  1.0468\n",
      "      6        \u001b[36m1.3344\u001b[0m  0.0000  1.0407\n",
      "Subject1 test accuracy: 27.4691%\n",
      "  epoch    train_loss      lr     dur\n",
      "-------  ------------  ------  ------\n",
      "      1        \u001b[36m1.4503\u001b[0m  0.0010  1.0222\n",
      "      2        \u001b[36m1.3869\u001b[0m  0.0009  1.0487\n",
      "      3        \u001b[36m1.3628\u001b[0m  0.0007  1.0566\n",
      "      4        \u001b[36m1.3417\u001b[0m  0.0003  1.0457\n",
      "      5        \u001b[36m1.3414\u001b[0m  0.0001  1.0546\n",
      "      6        \u001b[36m1.3285\u001b[0m  0.0000  1.0124\n",
      "Subject2 test accuracy: 25.2701%\n",
      "  epoch    train_loss      lr     dur\n",
      "-------  ------------  ------  ------\n",
      "      1        \u001b[36m1.4802\u001b[0m  0.0010  1.0435\n",
      "      2        \u001b[36m1.4096\u001b[0m  0.0009  1.0270\n",
      "      3        \u001b[36m1.3810\u001b[0m  0.0007  1.0492\n",
      "      4        \u001b[36m1.3518\u001b[0m  0.0003  1.0592\n",
      "      5        1.3569  0.0001  1.0346\n",
      "      6        1.3532  0.0000  1.0044\n",
      "Subject3 test accuracy: 27.0833%\n",
      "  epoch    train_loss      lr     dur\n",
      "-------  ------------  ------  ------\n",
      "      1        \u001b[36m1.4676\u001b[0m  0.0010  1.0029\n",
      "      2        \u001b[36m1.4035\u001b[0m  0.0009  1.0132\n",
      "      3        \u001b[36m1.3799\u001b[0m  0.0007  1.0221\n",
      "      4        \u001b[36m1.3562\u001b[0m  0.0003  1.0392\n",
      "      5        \u001b[36m1.3346\u001b[0m  0.0001  1.0183\n",
      "      6        \u001b[36m1.3321\u001b[0m  0.0000  1.0240\n",
      "Subject4 test accuracy: 26.3503%\n",
      "  epoch    train_loss      lr     dur\n",
      "-------  ------------  ------  ------\n",
      "      1        \u001b[36m1.4837\u001b[0m  0.0010  1.0131\n",
      "      2        \u001b[36m1.4108\u001b[0m  0.0009  1.0264\n",
      "      3        \u001b[36m1.3704\u001b[0m  0.0007  1.0030\n",
      "      4        \u001b[36m1.3583\u001b[0m  0.0003  1.0204\n",
      "      5        \u001b[36m1.3430\u001b[0m  0.0001  1.0504\n",
      "      6        \u001b[36m1.3395\u001b[0m  0.0000  0.9969\n",
      "Subject5 test accuracy: 26.6204%\n",
      "  epoch    train_loss      lr     dur\n",
      "-------  ------------  ------  ------\n",
      "      1        \u001b[36m1.4657\u001b[0m  0.0010  0.9971\n",
      "      2        \u001b[36m1.4059\u001b[0m  0.0009  1.0162\n",
      "      3        \u001b[36m1.3786\u001b[0m  0.0007  0.9942\n",
      "      4        \u001b[36m1.3427\u001b[0m  0.0003  1.0060\n",
      "      5        \u001b[36m1.3174\u001b[0m  0.0001  1.0250\n",
      "      6        \u001b[36m1.3079\u001b[0m  0.0000  1.0204\n",
      "Subject6 test accuracy: 25.1157%\n",
      "  epoch    train_loss      lr     dur\n",
      "-------  ------------  ------  ------\n",
      "      1        \u001b[36m1.5040\u001b[0m  0.0010  1.0123\n",
      "      2        \u001b[36m1.4019\u001b[0m  0.0009  1.0363\n",
      "      3        \u001b[36m1.3722\u001b[0m  0.0007  1.0407\n",
      "      4        \u001b[36m1.3542\u001b[0m  0.0003  1.1261\n",
      "      5        \u001b[36m1.3271\u001b[0m  0.0001  1.0607\n",
      "      6        1.3327  0.0000  1.1159\n",
      "Subject7 test accuracy: 27.4306%\n",
      "  epoch    train_loss      lr     dur\n",
      "-------  ------------  ------  ------\n",
      "      1        \u001b[36m1.4725\u001b[0m  0.0010  1.0500\n",
      "      2        \u001b[36m1.4226\u001b[0m  0.0009  1.0037\n",
      "      3        \u001b[36m1.3719\u001b[0m  0.0007  1.0123\n",
      "      4        \u001b[36m1.3380\u001b[0m  0.0003  1.0328\n",
      "      5        \u001b[36m1.3072\u001b[0m  0.0001  1.0099\n",
      "      6        1.3083  0.0000  1.0269\n",
      "Subject8 test accuracy: 34.4522%\n",
      "  epoch    train_loss      lr     dur\n",
      "-------  ------------  ------  ------\n",
      "      1        \u001b[36m1.4750\u001b[0m  0.0010  1.0610\n",
      "      2        \u001b[36m1.4121\u001b[0m  0.0009  1.0243\n",
      "      3        \u001b[36m1.3760\u001b[0m  0.0007  1.0496\n",
      "      4        \u001b[36m1.3413\u001b[0m  0.0003  1.0195\n",
      "      5        \u001b[36m1.3263\u001b[0m  0.0001  1.0281\n",
      "      6        \u001b[36m1.3196\u001b[0m  0.0000  1.0315\n",
      "Subject9 test accuracy: 25.1929%\n",
      "Average test accuracy: 27.2205%\n"
     ]
    }
   ],
   "source": [
    "# subjects_windows_dataset = windows_dataset.split('subject')\n",
    "# n_subjects = len(subjects_windows_dataset.items())\n",
    "# avg_accuracy = 0\n",
    "\n",
    "# # iterate over each subject (9 subjects)\n",
    "# for subject, window_dataset in subjects_windows_dataset.items():\n",
    "#         # evaluate the model by test accuracy for \"Hold-Out\" strategy\n",
    "#         train_dataset = windows_dataset.split('session')['0train']\n",
    "#         test_dataset = windows_dataset.split('session')['1test']\n",
    "\n",
    "#         train_X = SliceDataset(train_dataset, idx=0)\n",
    "#         train_y = SliceDataset(train_dataset, idx=1)\n",
    "#         test_X = SliceDataset(test_dataset, idx=0)\n",
    "#         test_y = SliceDataset(test_dataset, idx=1)\n",
    "\n",
    "#         # create the classifier\n",
    "#         callbacks = [(\"lr_scheduler\", LRScheduler('CosineAnnealingLR', T_max=n_epochs - 1))]\n",
    "#         clf = NeuralNetClassifier(module=EEGNetv4,\n",
    "#                 module__n_chans=n_channels,\n",
    "#                 module__n_outputs=n_classes,\n",
    "#                 module__n_times=n_times,\n",
    "#                 module__kernel_length=32,\n",
    "#                 module__drop_prob=0.5,\n",
    "#                 criterion=torch.nn.CrossEntropyLoss,\n",
    "#                 optimizer=torch.optim.Adam,\n",
    "#                 optimizer__lr=lr,\n",
    "#                 train_split=None,\n",
    "#                 iterator_train__shuffle=True,\n",
    "#                 batch_size=batch_size,\n",
    "#                 callbacks=callbacks,\n",
    "#                 device='cuda' if cuda else 'cpu',\n",
    "#                 verbose=verbose\n",
    "#                 )\n",
    "#         clf.callbacks.append(TrainEndCheckpoint(dirname=save_dir + f'\\\\S{subject}'))\n",
    "#         clf.fit(train_X, y=train_y, epochs=n_epochs)\n",
    "        \n",
    "#         # calculate test accuracy for subject\n",
    "#         test_accuracy = clf.score(test_X, y=test_y)\n",
    "#         avg_accuracy += test_accuracy\n",
    "\n",
    "#         print(f\"Subject{subject} test accuracy: {(test_accuracy * 100):.4f}%\")\n",
    "# print(f\"Average test accuracy: {(avg_accuracy / n_subjects * 100):.4f}%\")"
   ]
  },
  {
   "cell_type": "code",
   "execution_count": null,
   "metadata": {},
   "outputs": [],
   "source": []
  },
  {
   "cell_type": "code",
   "execution_count": null,
   "metadata": {},
   "outputs": [],
   "source": []
  }
 ],
 "metadata": {
  "kernelspec": {
   "display_name": "Python 3",
   "language": "python",
   "name": "python3"
  },
  "language_info": {
   "codemirror_mode": {
    "name": "ipython",
    "version": 3
   },
   "file_extension": ".py",
   "mimetype": "text/x-python",
   "name": "python",
   "nbconvert_exporter": "python",
   "pygments_lexer": "ipython3",
   "version": "3.8.18"
  }
 },
 "nbformat": 4,
 "nbformat_minor": 2
}
